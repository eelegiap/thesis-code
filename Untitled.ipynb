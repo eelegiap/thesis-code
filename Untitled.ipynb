{
 "cells": [
  {
   "cell_type": "code",
   "execution_count": 1,
   "id": "1365892c-269e-484d-8f16-30ea97021691",
   "metadata": {},
   "outputs": [],
   "source": [
    "import random\n",
    "import numpy as np\n",
    "import pandas as pd\n",
    "import time\n",
    "import re\n",
    "import datetime\n",
    "import os\n",
    "import matplotlib.pyplot as plt\n",
    "# import gensim\n",
    "# import spacy"
   ]
  },
  {
   "cell_type": "code",
   "execution_count": 9,
   "id": "f9b8d16d-a246-4b86-86c3-0ca486105363",
   "metadata": {
    "tags": []
   },
   "outputs": [
    {
     "name": "stdout",
     "output_type": "stream",
     "text": [
      "2158\n"
     ]
    },
    {
     "data": {
      "text/html": [
       "<div>\n",
       "<style scoped>\n",
       "    .dataframe tbody tr th:only-of-type {\n",
       "        vertical-align: middle;\n",
       "    }\n",
       "\n",
       "    .dataframe tbody tr th {\n",
       "        vertical-align: top;\n",
       "    }\n",
       "\n",
       "    .dataframe thead th {\n",
       "        text-align: right;\n",
       "    }\n",
       "</style>\n",
       "<table border=\"1\" class=\"dataframe\">\n",
       "  <thead>\n",
       "    <tr style=\"text-align: right;\">\n",
       "      <th></th>\n",
       "      <th>Text</th>\n",
       "      <th>Author</th>\n",
       "      <th>Before or after</th>\n",
       "      <th>Source</th>\n",
       "    </tr>\n",
       "  </thead>\n",
       "  <tbody>\n",
       "    <tr>\n",
       "      <th>0</th>\n",
       "      <td>Стихи о постсоветском человеке\\n\\n1.\\nДесять з...</td>\n",
       "      <td>Александр Бараш</td>\n",
       "      <td>After</td>\n",
       "      <td>ROAR</td>\n",
       "    </tr>\n",
       "    <tr>\n",
       "      <th>1</th>\n",
       "      <td>2.\\nПо капле выдавливать из себя \\nсоветского ...</td>\n",
       "      <td>Александр Бараш</td>\n",
       "      <td>After</td>\n",
       "      <td>ROAR</td>\n",
       "    </tr>\n",
       "    <tr>\n",
       "      <th>2</th>\n",
       "      <td>Дети\\n\\nСто шесть человек прибыли, тридцать че...</td>\n",
       "      <td>Александр Ланин</td>\n",
       "      <td>After</td>\n",
       "      <td>ROAR</td>\n",
       "    </tr>\n",
       "    <tr>\n",
       "      <th>3</th>\n",
       "      <td>Развод\\n\\nОднажды моя любимая дала пощёчину ре...</td>\n",
       "      <td>Александр Ланин</td>\n",
       "      <td>After</td>\n",
       "      <td>ROAR</td>\n",
       "    </tr>\n",
       "    <tr>\n",
       "      <th>4</th>\n",
       "      <td>Круциатус\\n\\nНевилл Лонгботтом стоит и смотрит...</td>\n",
       "      <td>Александр Ланин</td>\n",
       "      <td>After</td>\n",
       "      <td>ROAR</td>\n",
       "    </tr>\n",
       "  </tbody>\n",
       "</table>\n",
       "</div>"
      ],
      "text/plain": [
       "                                                Text           Author  \\\n",
       "0  Стихи о постсоветском человеке\\n\\n1.\\nДесять з...  Александр Бараш   \n",
       "1  2.\\nПо капле выдавливать из себя \\nсоветского ...  Александр Бараш   \n",
       "2  Дети\\n\\nСто шесть человек прибыли, тридцать че...  Александр Ланин   \n",
       "3  Развод\\n\\nОднажды моя любимая дала пощёчину ре...  Александр Ланин   \n",
       "4  Круциатус\\n\\nНевилл Лонгботтом стоит и смотрит...  Александр Ланин   \n",
       "\n",
       "  Before or after Source  \n",
       "0           After   ROAR  \n",
       "1           After   ROAR  \n",
       "2           After   ROAR  \n",
       "3           After   ROAR  \n",
       "4           After   ROAR  "
      ]
     },
     "execution_count": 9,
     "metadata": {},
     "output_type": "execute_result"
    }
   ],
   "source": [
    "df = pd.read_excel('Excel_files/Full_Poem_Dataset_9-18_0.xlsx')\n",
    "df = df.drop('Unnamed: 0',axis=1)\n",
    "records = df.to_dict('records')\n",
    "\n",
    "print(len(df))\n",
    "df.head()"
   ]
  },
  {
   "cell_type": "markdown",
   "id": "779b83df-8d12-4a8f-b2aa-05bba0e80df3",
   "metadata": {},
   "source": [
    "## Testing out the NLP capabilities"
   ]
  },
  {
   "cell_type": "code",
   "execution_count": 5,
   "id": "cf900143-1a42-4798-8503-821dbff6a2b9",
   "metadata": {},
   "outputs": [],
   "source": [
    "import spacy\n",
    "# pip install -U spacy\n",
    "# !python -m spacy download ru_core_news_md\n",
    "nlp = spacy.load('ru_core_news_md')"
   ]
  },
  {
   "cell_type": "code",
   "execution_count": 26,
   "id": "f42b74eb-f875-45cd-bcd4-232e3b94dc0a",
   "metadata": {},
   "outputs": [
    {
     "name": "stdout",
     "output_type": "stream",
     "text": [
      "{'PER': {'кирилл': 2, 'женя': 1}, 'LOC': {'йоган': 1}}\n",
      "**ОБЫКНОВЕННЫЙ РЕЖИМ**\n",
      "\n",
      "Евгений, почему ты сотрудничаешь \n",
      "с этим режимом? \n",
      "Они жгут книги, они вводят цензуру, \n",
      "они проповедуют ксенофобию.\n",
      "Они платят пропагандистам, чтобы сеять вражду и ненависть.\n",
      "\n",
      "Кирилл, я думаю не только о себе. \n",
      "У меня большой коллектив. \n",
      "Людям нужна работа, нам нужно кормить семью.\n",
      "\n",
      "Они преследуют за слова,\n",
      "хватают людей по надуманным основаниям.\n",
      "Они превратили правосудие в фарс. \n",
      "\n",
      "Я законопослушный гражданин. \n",
      "Пусть беспокоятся те, кто нарушает закон. \n",
      "\n",
      "Они настроили против себя весь цивилизованный мир. \n",
      "Они агрессивны, они стремительно вооружаются.\n",
      "\n",
      "Чтобы нас уважали, требуется быть сильными и решительными.  \n",
      "\n",
      "Как же ты можешь, Женя?\n",
      "Они же, они травят, они убивают людей, в том числе наших с тобой \n",
      "соотечественников.\n",
      "\n",
      "Где доказательства, Кирилл? Все это происки наших недругов.\n",
      "Наши недруги хотят нас опорочить. \n",
      "\n",
      "Но послушай, послушай, \n",
      "сегодня они аннексируют соседние территории, \n",
      "а завтра они объявят войну всему миру, Йоган. \n",
      "\n",
      "Хельмут, я не интересуюсь политикой.\n"
     ]
    }
   ],
   "source": [
    "\n",
    "rec = random.choice(records)\n",
    "txt = rec['Text']\n",
    "# for txt in lines:\n",
    "doc = nlp(txt)\n",
    "\n",
    "NERcounter = dict()\n",
    "for ent in doc.ents:\n",
    "    lemma = ent.lemma_\n",
    "    entType = ent.label_\n",
    "    NERcounter.setdefault(entType, dict())\n",
    "    NERcounter[entType].setdefault(lemma, 0)\n",
    "    NERcounter[entType][lemma] += 1\n",
    "    \n",
    "print(NERcounter)\n",
    "print(txt)"
   ]
  },
  {
   "cell_type": "code",
   "execution_count": null,
   "id": "cf223f88-1746-48fb-a954-48feaebb6fb8",
   "metadata": {},
   "outputs": [],
   "source": [
    "%%time\n",
    "\n",
    "# NERcounter = dict()\n",
    "# for rec in records:\n",
    "#     lines = rec['Text'].split('\\n')\n",
    "#     for txt in lines:\n",
    "#         doc = nlp(txt)\n",
    "#         for ent in doc.ents:\n",
    "#             lemma = ent.lemma_\n",
    "#             entType = ent.label_\n",
    "#             NERcounter.setdefault(entType, dict())\n",
    "#             NERcounter[entType].setdefault(lemma, 0)\n",
    "#             NERcounter[entType][lemma] += 1\n",
    "            \n",
    "# lst = []\n",
    "# for key in NERcounter['LOC']:\n",
    "#     lst.append((NERcounter['LOC'][key], key))\n",
    "# sortedlst = sorted(lst, reverse=True)\n",
    "# sortedlst[:20]"
   ]
  }
 ],
 "metadata": {
  "kernelspec": {
   "display_name": "Python 3 (ipykernel)",
   "language": "python",
   "name": "python3"
  },
  "language_info": {
   "codemirror_mode": {
    "name": "ipython",
    "version": 3
   },
   "file_extension": ".py",
   "mimetype": "text/x-python",
   "name": "python",
   "nbconvert_exporter": "python",
   "pygments_lexer": "ipython3",
   "version": "3.9.7"
  }
 },
 "nbformat": 4,
 "nbformat_minor": 5
}
