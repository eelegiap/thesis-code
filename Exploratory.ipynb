{
 "cells": [
  {
   "cell_type": "code",
   "execution_count": 1,
   "id": "1365892c-269e-484d-8f16-30ea97021691",
   "metadata": {},
   "outputs": [],
   "source": [
    "import random\n",
    "import numpy as np\n",
    "import pandas as pd\n",
    "import time\n",
    "import re\n",
    "import datetime\n",
    "import os\n",
    "# import matplotlib.pyplot as plt\n",
    "# import gensim\n",
    "# import spacy"
   ]
  },
  {
   "cell_type": "code",
   "execution_count": 2,
   "id": "4d19ac77-e0b4-4ba9-8e42-de8c59807dcb",
   "metadata": {},
   "outputs": [],
   "source": [
    "import spacy\n",
    "# pip install -U spacy\n",
    "# !python -m spacy download ru_core_news_md\n",
    "nlp = spacy.load('ru_core_news_lg')"
   ]
  },
  {
   "cell_type": "code",
   "execution_count": 3,
   "id": "f9b8d16d-a246-4b86-86c3-0ca486105363",
   "metadata": {
    "tags": []
   },
   "outputs": [
    {
     "name": "stdout",
     "output_type": "stream",
     "text": [
      "2158\n"
     ]
    },
    {
     "data": {
      "text/html": [
       "<div>\n",
       "<style scoped>\n",
       "    .dataframe tbody tr th:only-of-type {\n",
       "        vertical-align: middle;\n",
       "    }\n",
       "\n",
       "    .dataframe tbody tr th {\n",
       "        vertical-align: top;\n",
       "    }\n",
       "\n",
       "    .dataframe thead th {\n",
       "        text-align: right;\n",
       "    }\n",
       "</style>\n",
       "<table border=\"1\" class=\"dataframe\">\n",
       "  <thead>\n",
       "    <tr style=\"text-align: right;\">\n",
       "      <th></th>\n",
       "      <th>Text</th>\n",
       "      <th>Author</th>\n",
       "      <th>Before or after</th>\n",
       "      <th>Source</th>\n",
       "    </tr>\n",
       "  </thead>\n",
       "  <tbody>\n",
       "    <tr>\n",
       "      <th>0</th>\n",
       "      <td>Стихи о постсоветском человеке\\n\\n1.\\nДесять з...</td>\n",
       "      <td>Александр Бараш</td>\n",
       "      <td>After</td>\n",
       "      <td>ROAR</td>\n",
       "    </tr>\n",
       "    <tr>\n",
       "      <th>1</th>\n",
       "      <td>2.\\nПо капле выдавливать из себя \\nсоветского ...</td>\n",
       "      <td>Александр Бараш</td>\n",
       "      <td>After</td>\n",
       "      <td>ROAR</td>\n",
       "    </tr>\n",
       "    <tr>\n",
       "      <th>2</th>\n",
       "      <td>Дети\\n\\nСто шесть человек прибыли, тридцать че...</td>\n",
       "      <td>Александр Ланин</td>\n",
       "      <td>After</td>\n",
       "      <td>ROAR</td>\n",
       "    </tr>\n",
       "    <tr>\n",
       "      <th>3</th>\n",
       "      <td>Развод\\n\\nОднажды моя любимая дала пощёчину ре...</td>\n",
       "      <td>Александр Ланин</td>\n",
       "      <td>After</td>\n",
       "      <td>ROAR</td>\n",
       "    </tr>\n",
       "    <tr>\n",
       "      <th>4</th>\n",
       "      <td>Круциатус\\n\\nНевилл Лонгботтом стоит и смотрит...</td>\n",
       "      <td>Александр Ланин</td>\n",
       "      <td>After</td>\n",
       "      <td>ROAR</td>\n",
       "    </tr>\n",
       "  </tbody>\n",
       "</table>\n",
       "</div>"
      ],
      "text/plain": [
       "                                                Text           Author  \\\n",
       "0  Стихи о постсоветском человеке\\n\\n1.\\nДесять з...  Александр Бараш   \n",
       "1  2.\\nПо капле выдавливать из себя \\nсоветского ...  Александр Бараш   \n",
       "2  Дети\\n\\nСто шесть человек прибыли, тридцать че...  Александр Ланин   \n",
       "3  Развод\\n\\nОднажды моя любимая дала пощёчину ре...  Александр Ланин   \n",
       "4  Круциатус\\n\\nНевилл Лонгботтом стоит и смотрит...  Александр Ланин   \n",
       "\n",
       "  Before or after Source  \n",
       "0           After   ROAR  \n",
       "1           After   ROAR  \n",
       "2           After   ROAR  \n",
       "3           After   ROAR  \n",
       "4           After   ROAR  "
      ]
     },
     "execution_count": 3,
     "metadata": {},
     "output_type": "execute_result"
    }
   ],
   "source": [
    "df = pd.read_excel('Excel_files/Full_Poem_Dataset_9-18_0.xlsx')\n",
    "df = df.drop('Unnamed: 0',axis=1)\n",
    "records = df.to_dict('records')\n",
    "\n",
    "print(len(df))\n",
    "df.head()"
   ]
  },
  {
   "cell_type": "markdown",
   "id": "a05dd6bb-5b4a-41d5-b5a6-3f6535f22f5b",
   "metadata": {},
   "source": [
    "## Run Spacy"
   ]
  },
  {
   "cell_type": "code",
   "execution_count": 4,
   "id": "5fd1ee96-bb41-406d-918a-75378878bedb",
   "metadata": {},
   "outputs": [
    {
     "name": "stdout",
     "output_type": "stream",
     "text": [
      "0/2158 parsed by Spacy.\n",
      "100/2158 parsed by Spacy.\n",
      "200/2158 parsed by Spacy.\n",
      "300/2158 parsed by Spacy.\n",
      "400/2158 parsed by Spacy.\n",
      "500/2158 parsed by Spacy.\n",
      "600/2158 parsed by Spacy.\n",
      "700/2158 parsed by Spacy.\n",
      "800/2158 parsed by Spacy.\n",
      "900/2158 parsed by Spacy.\n",
      "1000/2158 parsed by Spacy.\n",
      "1100/2158 parsed by Spacy.\n",
      "1200/2158 parsed by Spacy.\n",
      "1300/2158 parsed by Spacy.\n",
      "1400/2158 parsed by Spacy.\n",
      "1500/2158 parsed by Spacy.\n",
      "1600/2158 parsed by Spacy.\n",
      "1700/2158 parsed by Spacy.\n",
      "1800/2158 parsed by Spacy.\n",
      "1900/2158 parsed by Spacy.\n",
      "2000/2158 parsed by Spacy.\n",
      "2100/2158 parsed by Spacy.\n",
      "CPU times: user 4min 9s, sys: 17.4 s, total: 4min 27s\n",
      "Wall time: 4min 39s\n"
     ]
    }
   ],
   "source": [
    "%%time\n",
    "badIdxs = []\n",
    "for i, rec in enumerate(records):\n",
    "    if i % 100 == 0:\n",
    "        print(f'{i}/{len(records)} parsed by Spacy.')\n",
    "    \n",
    "    try:\n",
    "        rec['doc'] = nlp(rec['Text'])\n",
    "    except:\n",
    "        badIdxs.append(i)\n",
    "for i in badIdxs:\n",
    "    records.pop(i)"
   ]
  },
  {
   "cell_type": "markdown",
   "id": "590e0c6a-df3a-4717-939b-29f5446b222a",
   "metadata": {},
   "source": [
    "## Text cleaning"
   ]
  },
  {
   "cell_type": "code",
   "execution_count": 124,
   "id": "59a6da6e-9be1-4645-bcb8-e3b8e482d4e7",
   "metadata": {},
   "outputs": [],
   "source": [
    "\n",
    "def initializeRec(recText):\n",
    "    if isinstance(recText, str):\n",
    "        return recText.strip()\n",
    "    else:\n",
    "        return False\n",
    "\n",
    "def skipLine(line, idx):\n",
    "    if len(line.strip()) == 0:\n",
    "        return False\n",
    "    \n",
    "    # throw hashtag line\n",
    "    if line.strip()[0] == '#':\n",
    "        return True\n",
    "    \n",
    "    # throw attribution line\n",
    "    for attr in ['из личного','личный блог','источник:','авторский блог']:\n",
    "        if attr in line.lower():\n",
    "            return True\n",
    "        \n",
    "    # dots at the beginning\n",
    "    matches = re.search(\"[\\*\\+\\^-_][*+^-_= ]+\", line.strip()) \n",
    "    if matches:\n",
    "        return True\n",
    "    \n",
    "    # is none of it alphanumeric\n",
    "    containsAlpha = False\n",
    "    for char in line:\n",
    "        if char.isalpha():\n",
    "            containsAlpha = True\n",
    "            break\n",
    "    if not containsAlpha:\n",
    "        return True\n",
    "    \n",
    "    return False\n",
    "\n",
    "\n",
    "def processRec(rec):\n",
    "    recText = initializeRec(rec['Text'])\n",
    "    cleanLines = []\n",
    "    if recText:\n",
    "        # decide which lines to keep\n",
    "        lines = recText.split('\\n')\n",
    "        for i, line in enumerate(lines):\n",
    "            if skipLine(line, i):\n",
    "                continue\n",
    "            cleanLines.append(line)\n",
    "    return '\\n'.join(cleanLines)"
   ]
  },
  {
   "cell_type": "code",
   "execution_count": 128,
   "id": "23658e5c-0c32-4f1c-94bd-140eb3c26011",
   "metadata": {},
   "outputs": [],
   "source": [
    "# r = random.choice(records)\n",
    "# print(r['Text'])\n",
    "# print()\n",
    "# print(processRec(r))"
   ]
  },
  {
   "cell_type": "markdown",
   "id": "779b83df-8d12-4a8f-b2aa-05bba0e80df3",
   "metadata": {
    "tags": []
   },
   "source": [
    "## Testing out the NLP capabilities"
   ]
  },
  {
   "cell_type": "code",
   "execution_count": 3,
   "id": "cf900143-1a42-4798-8503-821dbff6a2b9",
   "metadata": {},
   "outputs": [],
   "source": []
  },
  {
   "cell_type": "code",
   "execution_count": 5,
   "id": "f42b74eb-f875-45cd-bcd4-232e3b94dc0a",
   "metadata": {},
   "outputs": [
    {
     "name": "stdout",
     "output_type": "stream",
     "text": [
      "{'PER': {'дева': 1}}\n",
      "Когда ты вся впадаешь в ступор\n",
      " \n",
      " когда ты в ступор вся впадаешь\n",
      " \n",
      " когда ты вся сама и штопор\n",
      " \n",
      " и пробки горестный затор\n",
      " \n",
      " когда ты вся одновременна\n",
      " \n",
      " какой предмет тебя ни встретит\n",
      " \n",
      " он тут же просится в двойняшки\n",
      " \n",
      " твоей добытой весовой породе\n",
      " \n",
      " вызванной наружу\n",
      " \n",
      " то с объяснением то с признаньем –\n",
      " \n",
      " стоишь автобусом закрытым\n",
      " \n",
      " или площадкой смотровой\n",
      " \n",
      " а справа жизнь идёт и слева\n",
      " \n",
      " ещё с утра кипела дева\n",
      " \n",
      " и в остальных стеклопакетах клубится дымчатый озон\n",
      " \n",
      " но всё меняется когда ты\n",
      " \n",
      " становишься\n",
      " \n",
      " невиновата\n",
      " \n",
      " и каменеющая снизу\n",
      " \n",
      " смотри же мне в последний раз\n",
      " \n",
      " \n",
      " Из книги «Сейчас пройдёт» (2021)\n",
      " \n",
      " #выбор_Леты_Югай\n"
     ]
    }
   ],
   "source": [
    "\n",
    "rec = random.choice(records)\n",
    "txt = rec['Text']\n",
    "# for txt in lines:\n",
    "doc = nlp(txt)\n",
    "\n",
    "NERcounter = dict()\n",
    "for ent in doc.ents:\n",
    "    lemma = ent.lemma_\n",
    "    entType = ent.label_\n",
    "    NERcounter.setdefault(entType, dict())\n",
    "    NERcounter[entType].setdefault(lemma, 0)\n",
    "    NERcounter[entType][lemma] += 1\n",
    "    \n",
    "print(NERcounter)\n",
    "print(txt)"
   ]
  },
  {
   "cell_type": "code",
   "execution_count": 6,
   "id": "cf223f88-1746-48fb-a954-48feaebb6fb8",
   "metadata": {},
   "outputs": [
    {
     "name": "stdout",
     "output_type": "stream",
     "text": [
      "CPU times: user 36 µs, sys: 28 µs, total: 64 µs\n",
      "Wall time: 143 µs\n"
     ]
    }
   ],
   "source": [
    "%%time\n",
    "\n",
    "# NERcounter = dict()\n",
    "# for rec in records:\n",
    "#     lines = rec['Text'].split('\\n')\n",
    "#     for txt in lines:\n",
    "#         doc = nlp(txt)\n",
    "#         for ent in doc.ents:\n",
    "#             lemma = ent.lemma_\n",
    "#             entType = ent.label_\n",
    "#             NERcounter.setdefault(entType, dict())\n",
    "#             NERcounter[entType].setdefault(lemma, 0)\n",
    "#             NERcounter[entType][lemma] += 1\n",
    "            \n",
    "# lst = []\n",
    "# for key in NERcounter['LOC']:\n",
    "#     lst.append((NERcounter['LOC'][key], key))\n",
    "# sortedlst = sorted(lst, reverse=True)\n",
    "# sortedlst[:20]"
   ]
  },
  {
   "cell_type": "code",
   "execution_count": null,
   "id": "5a2212e3-23be-4631-9bb4-3f2cd1577f44",
   "metadata": {},
   "outputs": [],
   "source": []
  }
 ],
 "metadata": {
  "kernelspec": {
   "display_name": "Python 3 (ipykernel)",
   "language": "python",
   "name": "python3"
  },
  "language_info": {
   "codemirror_mode": {
    "name": "ipython",
    "version": 3
   },
   "file_extension": ".py",
   "mimetype": "text/x-python",
   "name": "python",
   "nbconvert_exporter": "python",
   "pygments_lexer": "ipython3",
   "version": "3.10.4"
  }
 },
 "nbformat": 4,
 "nbformat_minor": 5
}
