{
 "cells": [
  {
   "cell_type": "code",
   "execution_count": 1,
   "id": "1365892c-269e-484d-8f16-30ea97021691",
   "metadata": {},
   "outputs": [],
   "source": [
    "import random\n",
    "import numpy as np\n",
    "import pandas as pd\n",
    "import time\n",
    "import re\n",
    "import datetime\n",
    "import os\n",
    "# import matplotlib.pyplot as plt\n",
    "# import gensim\n",
    "# import spacy"
   ]
  },
  {
   "cell_type": "code",
   "execution_count": 2,
   "id": "4d19ac77-e0b4-4ba9-8e42-de8c59807dcb",
   "metadata": {
    "collapsed": true,
    "jupyter": {
     "outputs_hidden": true
    },
    "tags": []
   },
   "outputs": [
    {
     "name": "stdout",
     "output_type": "stream",
     "text": [
      "Collecting ru-core-news-lg==3.4.0\n",
      "  Downloading https://github.com/explosion/spacy-models/releases/download/ru_core_news_lg-3.4.0/ru_core_news_lg-3.4.0-py3-none-any.whl (513.4 MB)\n",
      "\u001b[2K     \u001b[90m━━━━━━━━━━━━━━━━━━━━━━━━━━━━━━━━━━━━━━━\u001b[0m \u001b[32m513.4/513.4 MB\u001b[0m \u001b[31m3.1 MB/s\u001b[0m eta \u001b[36m0:00:00\u001b[0m00:01\u001b[0m00:01\u001b[0m\n",
      "\u001b[?25hRequirement already satisfied: spacy<3.5.0,>=3.4.0 in /Users/paigelee/opt/anaconda3/lib/python3.9/site-packages (from ru-core-news-lg==3.4.0) (3.4.1)\n",
      "Requirement already satisfied: pymorphy2>=0.9 in /Users/paigelee/opt/anaconda3/lib/python3.9/site-packages (from ru-core-news-lg==3.4.0) (0.9.1)\n",
      "Requirement already satisfied: docopt>=0.6 in /Users/paigelee/opt/anaconda3/lib/python3.9/site-packages (from pymorphy2>=0.9->ru-core-news-lg==3.4.0) (0.6.2)\n",
      "Requirement already satisfied: dawg-python>=0.7.1 in /Users/paigelee/opt/anaconda3/lib/python3.9/site-packages (from pymorphy2>=0.9->ru-core-news-lg==3.4.0) (0.7.2)\n",
      "Requirement already satisfied: pymorphy2-dicts-ru<3.0,>=2.4 in /Users/paigelee/opt/anaconda3/lib/python3.9/site-packages (from pymorphy2>=0.9->ru-core-news-lg==3.4.0) (2.4.417127.4579844)\n",
      "Requirement already satisfied: spacy-legacy<3.1.0,>=3.0.9 in /Users/paigelee/opt/anaconda3/lib/python3.9/site-packages (from spacy<3.5.0,>=3.4.0->ru-core-news-lg==3.4.0) (3.0.9)\n",
      "Requirement already satisfied: setuptools in /Users/paigelee/opt/anaconda3/lib/python3.9/site-packages (from spacy<3.5.0,>=3.4.0->ru-core-news-lg==3.4.0) (58.0.4)\n",
      "Requirement already satisfied: cymem<2.1.0,>=2.0.2 in /Users/paigelee/opt/anaconda3/lib/python3.9/site-packages (from spacy<3.5.0,>=3.4.0->ru-core-news-lg==3.4.0) (2.0.6)\n",
      "Requirement already satisfied: murmurhash<1.1.0,>=0.28.0 in /Users/paigelee/opt/anaconda3/lib/python3.9/site-packages (from spacy<3.5.0,>=3.4.0->ru-core-news-lg==3.4.0) (1.0.6)\n",
      "Requirement already satisfied: spacy-loggers<2.0.0,>=1.0.0 in /Users/paigelee/opt/anaconda3/lib/python3.9/site-packages (from spacy<3.5.0,>=3.4.0->ru-core-news-lg==3.4.0) (1.0.1)\n",
      "Requirement already satisfied: tqdm<5.0.0,>=4.38.0 in /Users/paigelee/opt/anaconda3/lib/python3.9/site-packages (from spacy<3.5.0,>=3.4.0->ru-core-news-lg==3.4.0) (4.62.3)\n",
      "Requirement already satisfied: langcodes<4.0.0,>=3.2.0 in /Users/paigelee/opt/anaconda3/lib/python3.9/site-packages (from spacy<3.5.0,>=3.4.0->ru-core-news-lg==3.4.0) (3.3.0)\n",
      "Requirement already satisfied: catalogue<2.1.0,>=2.0.6 in /Users/paigelee/opt/anaconda3/lib/python3.9/site-packages (from spacy<3.5.0,>=3.4.0->ru-core-news-lg==3.4.0) (2.0.8)\n",
      "Requirement already satisfied: srsly<3.0.0,>=2.4.3 in /Users/paigelee/opt/anaconda3/lib/python3.9/site-packages (from spacy<3.5.0,>=3.4.0->ru-core-news-lg==3.4.0) (2.4.4)\n",
      "Requirement already satisfied: preshed<3.1.0,>=3.0.2 in /Users/paigelee/opt/anaconda3/lib/python3.9/site-packages (from spacy<3.5.0,>=3.4.0->ru-core-news-lg==3.4.0) (3.0.6)\n",
      "Requirement already satisfied: thinc<8.2.0,>=8.1.0 in /Users/paigelee/opt/anaconda3/lib/python3.9/site-packages (from spacy<3.5.0,>=3.4.0->ru-core-news-lg==3.4.0) (8.1.1)\n",
      "Requirement already satisfied: requests<3.0.0,>=2.13.0 in /Users/paigelee/opt/anaconda3/lib/python3.9/site-packages (from spacy<3.5.0,>=3.4.0->ru-core-news-lg==3.4.0) (2.28.1)\n",
      "Requirement already satisfied: wasabi<1.1.0,>=0.9.1 in /Users/paigelee/opt/anaconda3/lib/python3.9/site-packages (from spacy<3.5.0,>=3.4.0->ru-core-news-lg==3.4.0) (0.9.1)\n",
      "Requirement already satisfied: pathy>=0.3.5 in /Users/paigelee/opt/anaconda3/lib/python3.9/site-packages (from spacy<3.5.0,>=3.4.0->ru-core-news-lg==3.4.0) (0.6.1)\n",
      "Requirement already satisfied: packaging>=20.0 in /Users/paigelee/opt/anaconda3/lib/python3.9/site-packages (from spacy<3.5.0,>=3.4.0->ru-core-news-lg==3.4.0) (21.0)\n",
      "Requirement already satisfied: jinja2 in /Users/paigelee/opt/anaconda3/lib/python3.9/site-packages (from spacy<3.5.0,>=3.4.0->ru-core-news-lg==3.4.0) (2.11.3)\n",
      "Requirement already satisfied: pydantic!=1.8,!=1.8.1,<1.10.0,>=1.7.4 in /Users/paigelee/opt/anaconda3/lib/python3.9/site-packages (from spacy<3.5.0,>=3.4.0->ru-core-news-lg==3.4.0) (1.8.2)\n",
      "Requirement already satisfied: numpy>=1.15.0 in /Users/paigelee/opt/anaconda3/lib/python3.9/site-packages (from spacy<3.5.0,>=3.4.0->ru-core-news-lg==3.4.0) (1.22.4)\n",
      "Requirement already satisfied: typer<0.5.0,>=0.3.0 in /Users/paigelee/opt/anaconda3/lib/python3.9/site-packages (from spacy<3.5.0,>=3.4.0->ru-core-news-lg==3.4.0) (0.4.0)\n",
      "Requirement already satisfied: pyparsing>=2.0.2 in /Users/paigelee/opt/anaconda3/lib/python3.9/site-packages (from packaging>=20.0->spacy<3.5.0,>=3.4.0->ru-core-news-lg==3.4.0) (3.0.4)\n",
      "Requirement already satisfied: smart-open<6.0.0,>=5.0.0 in /Users/paigelee/opt/anaconda3/lib/python3.9/site-packages (from pathy>=0.3.5->spacy<3.5.0,>=3.4.0->ru-core-news-lg==3.4.0) (5.2.1)\n",
      "Requirement already satisfied: typing-extensions>=3.7.4.3 in /Users/paigelee/opt/anaconda3/lib/python3.9/site-packages (from pydantic!=1.8,!=1.8.1,<1.10.0,>=1.7.4->spacy<3.5.0,>=3.4.0->ru-core-news-lg==3.4.0) (3.10.0.2)\n",
      "Requirement already satisfied: charset-normalizer<3,>=2 in /Users/paigelee/opt/anaconda3/lib/python3.9/site-packages (from requests<3.0.0,>=2.13.0->spacy<3.5.0,>=3.4.0->ru-core-news-lg==3.4.0) (2.0.4)\n",
      "Requirement already satisfied: urllib3<1.27,>=1.21.1 in /Users/paigelee/opt/anaconda3/lib/python3.9/site-packages (from requests<3.0.0,>=2.13.0->spacy<3.5.0,>=3.4.0->ru-core-news-lg==3.4.0) (1.26.10)\n",
      "Requirement already satisfied: certifi>=2017.4.17 in /Users/paigelee/opt/anaconda3/lib/python3.9/site-packages (from requests<3.0.0,>=2.13.0->spacy<3.5.0,>=3.4.0->ru-core-news-lg==3.4.0) (2021.10.8)\n",
      "Requirement already satisfied: idna<4,>=2.5 in /Users/paigelee/opt/anaconda3/lib/python3.9/site-packages (from requests<3.0.0,>=2.13.0->spacy<3.5.0,>=3.4.0->ru-core-news-lg==3.4.0) (2.8)\n",
      "Requirement already satisfied: confection<1.0.0,>=0.0.1 in /Users/paigelee/opt/anaconda3/lib/python3.9/site-packages (from thinc<8.2.0,>=8.1.0->spacy<3.5.0,>=3.4.0->ru-core-news-lg==3.4.0) (0.0.1)\n",
      "Requirement already satisfied: blis<0.10.0,>=0.7.8 in /Users/paigelee/opt/anaconda3/lib/python3.9/site-packages (from thinc<8.2.0,>=8.1.0->spacy<3.5.0,>=3.4.0->ru-core-news-lg==3.4.0) (0.7.8)\n",
      "Requirement already satisfied: click<9.0.0,>=7.1.1 in /Users/paigelee/opt/anaconda3/lib/python3.9/site-packages (from typer<0.5.0,>=0.3.0->spacy<3.5.0,>=3.4.0->ru-core-news-lg==3.4.0) (8.0.3)\n",
      "Requirement already satisfied: MarkupSafe>=0.23 in /Users/paigelee/opt/anaconda3/lib/python3.9/site-packages (from jinja2->spacy<3.5.0,>=3.4.0->ru-core-news-lg==3.4.0) (1.1.1)\n",
      "--- Logging error ---\n",
      "Traceback (most recent call last):\n",
      "  File \"/Users/paigelee/opt/anaconda3/lib/python3.9/site-packages/pip/_internal/utils/logging.py\", line 177, in emit\n",
      "    self.console.print(renderable, overflow=\"ignore\", crop=False, style=style)\n",
      "  File \"/Users/paigelee/opt/anaconda3/lib/python3.9/site-packages/pip/_vendor/rich/console.py\", line 1752, in print\n",
      "    extend(render(renderable, render_options))\n",
      "  File \"/Users/paigelee/opt/anaconda3/lib/python3.9/site-packages/pip/_vendor/rich/console.py\", line 1390, in render\n",
      "    for render_output in iter_render:\n",
      "  File \"/Users/paigelee/opt/anaconda3/lib/python3.9/site-packages/pip/_internal/utils/logging.py\", line 134, in __rich_console__\n",
      "    for line in lines:\n",
      "  File \"/Users/paigelee/opt/anaconda3/lib/python3.9/site-packages/pip/_vendor/rich/segment.py\", line 245, in split_lines\n",
      "    for segment in segments:\n",
      "  File \"/Users/paigelee/opt/anaconda3/lib/python3.9/site-packages/pip/_vendor/rich/console.py\", line 1368, in render\n",
      "    renderable = rich_cast(renderable)\n",
      "  File \"/Users/paigelee/opt/anaconda3/lib/python3.9/site-packages/pip/_vendor/rich/protocol.py\", line 36, in rich_cast\n",
      "    renderable = cast_method()\n",
      "  File \"/Users/paigelee/opt/anaconda3/lib/python3.9/site-packages/pip/_internal/self_outdated_check.py\", line 130, in __rich__\n",
      "    pip_cmd = get_best_invocation_for_this_pip()\n",
      "  File \"/Users/paigelee/opt/anaconda3/lib/python3.9/site-packages/pip/_internal/utils/entrypoints.py\", line 58, in get_best_invocation_for_this_pip\n",
      "    if found_executable and os.path.samefile(\n",
      "  File \"/Users/paigelee/opt/anaconda3/lib/python3.9/genericpath.py\", line 101, in samefile\n",
      "    s2 = os.stat(f2)\n",
      "FileNotFoundError: [Errno 2] No such file or directory: '/Users/paigelee/opt/anaconda3/bin/pip3'\n",
      "Call stack:\n",
      "  File \"/Users/paigelee/opt/anaconda3/lib/python3.9/runpy.py\", line 197, in _run_module_as_main\n",
      "    return _run_code(code, main_globals, None,\n",
      "  File \"/Users/paigelee/opt/anaconda3/lib/python3.9/runpy.py\", line 87, in _run_code\n",
      "    exec(code, run_globals)\n",
      "  File \"/Users/paigelee/opt/anaconda3/lib/python3.9/site-packages/pip/__main__.py\", line 31, in <module>\n",
      "    sys.exit(_main())\n",
      "  File \"/Users/paigelee/opt/anaconda3/lib/python3.9/site-packages/pip/_internal/cli/main.py\", line 70, in main\n",
      "    return command.main(cmd_args)\n",
      "  File \"/Users/paigelee/opt/anaconda3/lib/python3.9/site-packages/pip/_internal/cli/base_command.py\", line 101, in main\n",
      "    return self._main(args)\n",
      "  File \"/Users/paigelee/opt/anaconda3/lib/python3.9/site-packages/pip/_internal/cli/base_command.py\", line 223, in _main\n",
      "    self.handle_pip_version_check(options)\n",
      "  File \"/Users/paigelee/opt/anaconda3/lib/python3.9/site-packages/pip/_internal/cli/req_command.py\", line 148, in handle_pip_version_check\n",
      "    pip_self_version_check(session, options)\n",
      "  File \"/Users/paigelee/opt/anaconda3/lib/python3.9/site-packages/pip/_internal/self_outdated_check.py\", line 237, in pip_self_version_check\n",
      "    logger.info(\"[present-rich] %s\", upgrade_prompt)\n",
      "  File \"/Users/paigelee/opt/anaconda3/lib/python3.9/logging/__init__.py\", line 1446, in info\n",
      "    self._log(INFO, msg, args, **kwargs)\n",
      "  File \"/Users/paigelee/opt/anaconda3/lib/python3.9/logging/__init__.py\", line 1589, in _log\n",
      "    self.handle(record)\n",
      "  File \"/Users/paigelee/opt/anaconda3/lib/python3.9/logging/__init__.py\", line 1599, in handle\n",
      "    self.callHandlers(record)\n",
      "  File \"/Users/paigelee/opt/anaconda3/lib/python3.9/logging/__init__.py\", line 1661, in callHandlers\n",
      "    hdlr.handle(record)\n",
      "  File \"/Users/paigelee/opt/anaconda3/lib/python3.9/logging/__init__.py\", line 952, in handle\n",
      "    self.emit(record)\n",
      "  File \"/Users/paigelee/opt/anaconda3/lib/python3.9/site-packages/pip/_internal/utils/logging.py\", line 179, in emit\n",
      "    self.handleError(record)\n",
      "Message: '[present-rich] %s'\n",
      "Arguments: (UpgradePrompt(old='22.1.2', new='22.2.2'),)\n",
      "\u001b[38;5;2m✔ Download and installation successful\u001b[0m\n",
      "You can now load the package via spacy.load('ru_core_news_lg')\n"
     ]
    }
   ],
   "source": [
    "import spacy\n",
    "# pip install -U spacy\n",
    "# !python -m spacy download ru_core_news_lg\n",
    "nlp = spacy.load('ru_core_news_lg')"
   ]
  },
  {
   "cell_type": "code",
   "execution_count": 23,
   "id": "f9b8d16d-a246-4b86-86c3-0ca486105363",
   "metadata": {
    "tags": []
   },
   "outputs": [
    {
     "name": "stdout",
     "output_type": "stream",
     "text": [
      "2156\n"
     ]
    },
    {
     "data": {
      "text/html": [
       "<div>\n",
       "<style scoped>\n",
       "    .dataframe tbody tr th:only-of-type {\n",
       "        vertical-align: middle;\n",
       "    }\n",
       "\n",
       "    .dataframe tbody tr th {\n",
       "        vertical-align: top;\n",
       "    }\n",
       "\n",
       "    .dataframe thead th {\n",
       "        text-align: right;\n",
       "    }\n",
       "</style>\n",
       "<table border=\"1\" class=\"dataframe\">\n",
       "  <thead>\n",
       "    <tr style=\"text-align: right;\">\n",
       "      <th></th>\n",
       "      <th>Text</th>\n",
       "      <th>Author</th>\n",
       "      <th>Before or after</th>\n",
       "      <th>Source</th>\n",
       "    </tr>\n",
       "  </thead>\n",
       "  <tbody>\n",
       "    <tr>\n",
       "      <th>0</th>\n",
       "      <td>Стихи о постсоветском человеке\\n\\n1.\\nДесять з...</td>\n",
       "      <td>Александр Бараш</td>\n",
       "      <td>After</td>\n",
       "      <td>ROAR</td>\n",
       "    </tr>\n",
       "    <tr>\n",
       "      <th>1</th>\n",
       "      <td>2.\\nПо капле выдавливать из себя \\nсоветского ...</td>\n",
       "      <td>Александр Бараш</td>\n",
       "      <td>After</td>\n",
       "      <td>ROAR</td>\n",
       "    </tr>\n",
       "    <tr>\n",
       "      <th>2</th>\n",
       "      <td>Дети\\n\\nСто шесть человек прибыли, тридцать че...</td>\n",
       "      <td>Александр Ланин</td>\n",
       "      <td>After</td>\n",
       "      <td>ROAR</td>\n",
       "    </tr>\n",
       "    <tr>\n",
       "      <th>3</th>\n",
       "      <td>Развод\\n\\nОднажды моя любимая дала пощёчину ре...</td>\n",
       "      <td>Александр Ланин</td>\n",
       "      <td>After</td>\n",
       "      <td>ROAR</td>\n",
       "    </tr>\n",
       "    <tr>\n",
       "      <th>4</th>\n",
       "      <td>Круциатус\\n\\nНевилл Лонгботтом стоит и смотрит...</td>\n",
       "      <td>Александр Ланин</td>\n",
       "      <td>After</td>\n",
       "      <td>ROAR</td>\n",
       "    </tr>\n",
       "  </tbody>\n",
       "</table>\n",
       "</div>"
      ],
      "text/plain": [
       "                                                Text           Author  \\\n",
       "0  Стихи о постсоветском человеке\\n\\n1.\\nДесять з...  Александр Бараш   \n",
       "1  2.\\nПо капле выдавливать из себя \\nсоветского ...  Александр Бараш   \n",
       "2  Дети\\n\\nСто шесть человек прибыли, тридцать че...  Александр Ланин   \n",
       "3  Развод\\n\\nОднажды моя любимая дала пощёчину ре...  Александр Ланин   \n",
       "4  Круциатус\\n\\nНевилл Лонгботтом стоит и смотрит...  Александр Ланин   \n",
       "\n",
       "  Before or after Source  \n",
       "0           After   ROAR  \n",
       "1           After   ROAR  \n",
       "2           After   ROAR  \n",
       "3           After   ROAR  \n",
       "4           After   ROAR  "
      ]
     },
     "execution_count": 23,
     "metadata": {},
     "output_type": "execute_result"
    }
   ],
   "source": [
    "df = pd.read_excel('Excel_files/Full_Poem_Dataset_9-22_0.xlsx')\n",
    "df = df.drop('Unnamed: 0',axis=1)\n",
    "records = df.to_dict('records')\n",
    "\n",
    "print(len(df))\n",
    "df.head()"
   ]
  },
  {
   "cell_type": "markdown",
   "id": "a05dd6bb-5b4a-41d5-b5a6-3f6535f22f5b",
   "metadata": {},
   "source": [
    "## Run Spacy"
   ]
  },
  {
   "cell_type": "code",
   "execution_count": 33,
   "id": "5fd1ee96-bb41-406d-918a-75378878bedb",
   "metadata": {},
   "outputs": [
    {
     "name": "stdout",
     "output_type": "stream",
     "text": [
      "0/2154 parsed by Spacy.\n",
      "100/2154 parsed by Spacy.\n",
      "200/2154 parsed by Spacy.\n",
      "300/2154 parsed by Spacy.\n",
      "400/2154 parsed by Spacy.\n",
      "500/2154 parsed by Spacy.\n",
      "600/2154 parsed by Spacy.\n",
      "700/2154 parsed by Spacy.\n",
      "800/2154 parsed by Spacy.\n",
      "900/2154 parsed by Spacy.\n",
      "1000/2154 parsed by Spacy.\n",
      "1100/2154 parsed by Spacy.\n",
      "1200/2154 parsed by Spacy.\n",
      "1300/2154 parsed by Spacy.\n",
      "1400/2154 parsed by Spacy.\n",
      "1500/2154 parsed by Spacy.\n",
      "1600/2154 parsed by Spacy.\n",
      "1700/2154 parsed by Spacy.\n",
      "1800/2154 parsed by Spacy.\n",
      "1900/2154 parsed by Spacy.\n",
      "2000/2154 parsed by Spacy.\n",
      "2100/2154 parsed by Spacy.\n",
      "CPU times: user 4min 17s, sys: 2.84 s, total: 4min 20s\n",
      "Wall time: 4min 22s\n"
     ]
    }
   ],
   "source": [
    "%%time\n",
    "badIdxs = []\n",
    "for i, rec in enumerate(records):\n",
    "    if i % 100 == 0:\n",
    "        print(f'{i}/{len(records)} parsed by Spacy.')\n",
    "    try:\n",
    "        lines = rec['Text'].split('\\n')\n",
    "        docLines = []\n",
    "        for line in lines:\n",
    "            docLines.append(nlp(line))\n",
    "        rec['docLines'] = docLines\n",
    "        # rec['doc'] = nlp(rec['Text'])\n",
    "    except:\n",
    "        badIdxs.append(i)\n",
    "for i in badIdxs:\n",
    "    records.pop(i)"
   ]
  },
  {
   "cell_type": "code",
   "execution_count": 26,
   "id": "bd7b15cf-8623-42da-a668-0c0933f96544",
   "metadata": {},
   "outputs": [
    {
     "data": {
      "text/plain": [
       "(191971, 230421)"
      ]
     },
     "execution_count": 26,
     "metadata": {},
     "output_type": "execute_result"
    }
   ],
   "source": [
    "# how many tokens?\n",
    "bTotalTokens = 0\n",
    "aTotalTokens = 0\n",
    "for rec in records:\n",
    "    if 'doc' not in rec:\n",
    "        rec['doc'] = nlp(' ')\n",
    "    if rec['Before or after'] == 'Before':\n",
    "        bTotalTokens += len(rec['doc'])\n",
    "    else:\n",
    "        aTotalTokens += len(rec['doc'])\n",
    "bTotalTokens, aTotalTokens"
   ]
  },
  {
   "cell_type": "markdown",
   "id": "590e0c6a-df3a-4717-939b-29f5446b222a",
   "metadata": {},
   "source": [
    "## Text cleaning"
   ]
  },
  {
   "cell_type": "code",
   "execution_count": 27,
   "id": "59a6da6e-9be1-4645-bcb8-e3b8e482d4e7",
   "metadata": {},
   "outputs": [],
   "source": [
    "def initializeRec(recText):\n",
    "    if isinstance(recText, str):\n",
    "        return recText.strip()\n",
    "    else:\n",
    "        return False\n",
    "\n",
    "def skipLine(line, idx):\n",
    "    if len(line.strip()) == 0:\n",
    "        return False\n",
    "    \n",
    "    # throw hashtag line\n",
    "    if line.strip()[0] == '#':\n",
    "        return True\n",
    "    \n",
    "    # throw attribution line\n",
    "    for attr in ['из личного','личный блог','источник:','авторский блог']:\n",
    "        if attr in line.lower():\n",
    "            return True\n",
    "        \n",
    "    # dots at the beginning\n",
    "    matches = re.search(\"[\\*\\+\\^-_][*+^-_= ]+\", line.strip()) \n",
    "    if matches:\n",
    "        return True\n",
    "    \n",
    "    # is none of it alphanumeric\n",
    "    containsAlpha = False\n",
    "    for char in line:\n",
    "        if char.isalpha():\n",
    "            containsAlpha = True\n",
    "            break\n",
    "    if not containsAlpha:\n",
    "        return True\n",
    "    \n",
    "    return False\n",
    "\n",
    "\n",
    "def processRec(rec):\n",
    "    recText = initializeRec(rec['Text'])\n",
    "    cleanLines = []\n",
    "    if recText:\n",
    "        # decide which lines to keep\n",
    "        lines = recText.split('\\n')\n",
    "        for i, line in enumerate(lines):\n",
    "            if skipLine(line, i):\n",
    "                continue\n",
    "            cleanLines.append(line)\n",
    "    return '\\n'.join(cleanLines)"
   ]
  },
  {
   "cell_type": "markdown",
   "id": "779b83df-8d12-4a8f-b2aa-05bba0e80df3",
   "metadata": {
    "tags": []
   },
   "source": [
    "## Testing out the NLP capabilities"
   ]
  },
  {
   "cell_type": "code",
   "execution_count": 32,
   "id": "f42b74eb-f875-45cd-bcd4-232e3b94dc0a",
   "metadata": {},
   "outputs": [
    {
     "name": "stdout",
     "output_type": "stream",
     "text": [
      "{'PER': {'мол': 1, 'вова': 1, 'потрошитель вова\\nсамый': 1, 'нюрнберг': 1}, 'ORG': {'оон': 2, 'омон': 1}}\n",
      "\n",
      "После дождичка в четверг\n",
      "Русский представитель\n",
      "Обвинения отверг:\n",
      "Вова-потрошитель\n",
      " \n",
      "Мол не мог быть мясником\n",
      "Вова мол не изверг –\n",
      "По столу стучал в ООН\n",
      "И слюною брызгал\n",
      " \n",
      "Мол ни в чем не виноват\n",
      "Потрошитель Вова\n",
      "Самый лучший друг сирот\n",
      "Муж примерный вдовам\n",
      " \n",
      "Если в помыслах он чист\n",
      "Это все детали\n",
      "Ведь не может же чекист\n",
      "Убивать в подвале\n",
      " \n",
      "Из застенков до ООН\n",
      "Не доходят крики\n",
      "Если это все ОМОН\n",
      "Мы к тому привыкли\n",
      " \n",
      "Вам приносит русский мир\n",
      "Вова-портошитель\n",
      "Этот мир — большой сортир\n",
      "Там вот и мочите\n",
      " \n",
      "В перспективе Нюрнберг\n",
      "И петля затянется\n",
      "После дождичка в четверг\n",
      "И в сухую пятницу\n"
     ]
    }
   ],
   "source": [
    "rec = random.choice(records)\n",
    "txt = rec['Text']\n",
    "doc = rec['doc']\n",
    "\n",
    "NERcounter = dict()\n",
    "for ent in doc.ents:\n",
    "    lemma = ent.lemma_\n",
    "    entType = ent.label_\n",
    "    NERcounter.setdefault(entType, dict())\n",
    "    NERcounter[entType].setdefault(lemma, 0)\n",
    "    NERcounter[entType][lemma] += 1\n",
    "    \n",
    "print(NERcounter)\n",
    "print() \n",
    "print(txt)"
   ]
  },
  {
   "cell_type": "code",
   "execution_count": 6,
   "id": "cf223f88-1746-48fb-a954-48feaebb6fb8",
   "metadata": {},
   "outputs": [
    {
     "name": "stdout",
     "output_type": "stream",
     "text": [
      "CPU times: user 36 µs, sys: 28 µs, total: 64 µs\n",
      "Wall time: 143 µs\n"
     ]
    }
   ],
   "source": [
    "%%time\n",
    "\n",
    "# NERcounter = dict()\n",
    "# for rec in records:\n",
    "#     lines = rec['Text'].split('\\n')\n",
    "#     for txt in lines:\n",
    "#         doc = nlp(txt)\n",
    "#         for ent in doc.ents:\n",
    "#             lemma = ent.lemma_\n",
    "#             entType = ent.label_\n",
    "#             NERcounter.setdefault(entType, dict())\n",
    "#             NERcounter[entType].setdefault(lemma, 0)\n",
    "#             NERcounter[entType][lemma] += 1\n",
    "            \n",
    "# lst = []\n",
    "# for key in NERcounter['LOC']:\n",
    "#     lst.append((NERcounter['LOC'][key], key))\n",
    "# sortedlst = sorted(lst, reverse=True)\n",
    "# sortedlst[:20]"
   ]
  },
  {
   "cell_type": "code",
   "execution_count": null,
   "id": "5a2212e3-23be-4631-9bb4-3f2cd1577f44",
   "metadata": {},
   "outputs": [],
   "source": []
  }
 ],
 "metadata": {
  "kernelspec": {
   "display_name": "Python 3 (ipykernel)",
   "language": "python",
   "name": "python3"
  },
  "language_info": {
   "codemirror_mode": {
    "name": "ipython",
    "version": 3
   },
   "file_extension": ".py",
   "mimetype": "text/x-python",
   "name": "python",
   "nbconvert_exporter": "python",
   "pygments_lexer": "ipython3",
   "version": "3.9.7"
  }
 },
 "nbformat": 4,
 "nbformat_minor": 5
}
