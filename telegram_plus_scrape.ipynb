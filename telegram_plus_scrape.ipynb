{
 "cells": [
  {
   "cell_type": "code",
   "execution_count": 23,
   "id": "2433dac6-6515-435a-96be-8eb14872de6a",
   "metadata": {},
   "outputs": [],
   "source": [
    "import pandas as pd\n",
    "import random"
   ]
  },
  {
   "cell_type": "markdown",
   "id": "d5e7d4cd-c942-4978-850e-2d6afddd24ba",
   "metadata": {},
   "source": [
    "## Telegram"
   ]
  },
  {
   "cell_type": "code",
   "execution_count": 5,
   "id": "15b59636-c4b2-496a-be6e-e74ddf08d954",
   "metadata": {},
   "outputs": [],
   "source": [
    "# pip install telethon"
   ]
  },
  {
   "cell_type": "code",
   "execution_count": 42,
   "id": "3892e53a-fa14-4757-b1b4-4b38a3e16181",
   "metadata": {},
   "outputs": [],
   "source": [
    "\n",
    "from telethon.sync import TelegramClient\n",
    "\n",
    "name = 'Paige Lee' \n",
    "api_id = '13544320' \n",
    "api_hash = '1029298096dbdcfc04c3c027a33c5eae' \n",
    "chat = 'kabanov_slovo'\n",
    "\n",
    "data = [] # stores all our data in the format SENDER_ID, MSG\n",
    "\n",
    "async with TelegramClient(name, api_id, api_hash) as client:\n",
    "    async for message in client.iter_messages(chat):\n",
    "        data.append({\n",
    "            'senderUsername' : message.sender.username,\n",
    "            'date' : message.date,\n",
    "            'text' : message.text})"
   ]
  },
  {
   "cell_type": "code",
   "execution_count": 43,
   "id": "7c304d72-09fd-4a46-96ef-1b0881c7434e",
   "metadata": {},
   "outputs": [
    {
     "data": {
      "text/plain": [
       "263"
      ]
     },
     "execution_count": 43,
     "metadata": {},
     "output_type": "execute_result"
    }
   ],
   "source": [
    "len(data)"
   ]
  },
  {
   "cell_type": "code",
   "execution_count": 49,
   "id": "8574afd4-e615-4944-b94f-094aa42e8ab7",
   "metadata": {},
   "outputs": [
    {
     "name": "stdout",
     "output_type": "stream",
     "text": [
      "2021-10-19 18:11:23+00:00\n",
      "****\n",
      "Я помню крым: закат, забор —\n",
      "забор густой, октябрьской\n",
      "крови,\n",
      "гомер по кличке лабрадор —\n",
      "ослеп, но всё же хмурит брови.\n",
      "\n",
      "Над ним звучит созвездье дыр,\n",
      "горит листвы библиотека,\n",
      "гомер — последний поводырь,\n",
      "который ищет человека.\n",
      "\n",
      "А человек сидит в саду\n",
      "и пьет вино из белой чаши,\n",
      "и верит в общую беду,\n",
      "и пробует молитвы наши.\n",
      "\n",
      "Мы с человеком заодно,\n",
      "какое слово с ним не делай:\n",
      "да будет красным — всё вино,\n",
      "да будет эта чаша — белой.\n",
      "\n",
      "И листопадный окулист,\n",
      "как падший ангел отрезвленья —\n",
      "пропишет нам собачий свист\n",
      "с таблицей для проверки зренья.\n",
      "\n",
      "Гербарий крыма прошлых лет\n",
      "и то, целебное, осенье —\n",
      "предчувствие любви, и свет —\n",
      "свет, как погибель во спасенье.\n",
      "\n",
      "Ты вспоминай его в бреду,\n",
      "по возвращенью из итаки,\n",
      "как в незлопамятном году —\n",
      "о доброкачественном раке.\n",
      "\n",
      "\n",
      "2021\n"
     ]
    }
   ],
   "source": [
    "t = random.choice(data)\n",
    "print(t['date'])\n",
    "print(t['text'])"
   ]
  },
  {
   "cell_type": "code",
   "execution_count": 68,
   "id": "0f84f995-945f-4b30-9d74-1e50c73a87f0",
   "metadata": {},
   "outputs": [
    {
     "name": "stdout",
     "output_type": "stream",
     "text": [
      "263\n"
     ]
    },
    {
     "data": {
      "text/html": [
       "<div>\n",
       "<style scoped>\n",
       "    .dataframe tbody tr th:only-of-type {\n",
       "        vertical-align: middle;\n",
       "    }\n",
       "\n",
       "    .dataframe tbody tr th {\n",
       "        vertical-align: top;\n",
       "    }\n",
       "\n",
       "    .dataframe thead th {\n",
       "        text-align: right;\n",
       "    }\n",
       "</style>\n",
       "<table border=\"1\" class=\"dataframe\">\n",
       "  <thead>\n",
       "    <tr style=\"text-align: right;\">\n",
       "      <th></th>\n",
       "      <th>senderUsername</th>\n",
       "      <th>date</th>\n",
       "      <th>text</th>\n",
       "    </tr>\n",
       "  </thead>\n",
       "  <tbody>\n",
       "    <tr>\n",
       "      <th>0</th>\n",
       "      <td>kabanov_slovo</td>\n",
       "      <td>2022-09-10 18:48:26+00:00</td>\n",
       "      <td></td>\n",
       "    </tr>\n",
       "    <tr>\n",
       "      <th>1</th>\n",
       "      <td>kabanov_slovo</td>\n",
       "      <td>2022-09-10 18:48:23+00:00</td>\n",
       "      <td></td>\n",
       "    </tr>\n",
       "    <tr>\n",
       "      <th>2</th>\n",
       "      <td>kabanov_slovo</td>\n",
       "      <td>2022-08-25 15:25:35+00:00</td>\n",
       "      <td>Моя новая книга \"Исходник\". (Израиль. Издатель...</td>\n",
       "    </tr>\n",
       "    <tr>\n",
       "      <th>3</th>\n",
       "      <td>kabanov_slovo</td>\n",
       "      <td>2022-08-25 15:23:15+00:00</td>\n",
       "      <td></td>\n",
       "    </tr>\n",
       "    <tr>\n",
       "      <th>4</th>\n",
       "      <td>kabanov_slovo</td>\n",
       "      <td>2022-07-12 12:25:22+00:00</td>\n",
       "      <td>Заказать с доставкой здесь:\\nhttps://m.faceboo...</td>\n",
       "    </tr>\n",
       "  </tbody>\n",
       "</table>\n",
       "</div>"
      ],
      "text/plain": [
       "  senderUsername                      date  \\\n",
       "0  kabanov_slovo 2022-09-10 18:48:26+00:00   \n",
       "1  kabanov_slovo 2022-09-10 18:48:23+00:00   \n",
       "2  kabanov_slovo 2022-08-25 15:25:35+00:00   \n",
       "3  kabanov_slovo 2022-08-25 15:23:15+00:00   \n",
       "4  kabanov_slovo 2022-07-12 12:25:22+00:00   \n",
       "\n",
       "                                                text  \n",
       "0                                                     \n",
       "1                                                     \n",
       "2  Моя новая книга \"Исходник\". (Израиль. Издатель...  \n",
       "3                                                     \n",
       "4  Заказать с доставкой здесь:\\nhttps://m.faceboo...  "
      ]
     },
     "execution_count": 68,
     "metadata": {},
     "output_type": "execute_result"
    }
   ],
   "source": [
    "df = pd.DataFrame.from_records(data)\n",
    "print(len(df))\n",
    "df.head()"
   ]
  },
  {
   "cell_type": "code",
   "execution_count": 69,
   "id": "e7039a3b-bb58-41fd-a139-7c0282b342bf",
   "metadata": {},
   "outputs": [
    {
     "data": {
      "text/plain": [
       "<AxesSubplot:xlabel='date,date'>"
      ]
     },
     "execution_count": 69,
     "metadata": {},
     "output_type": "execute_result"
    },
    {
     "data": {
      "image/png": "[encoded data removed]",
      "text/plain": [
       "<Figure size 432x288 with 1 Axes>"
      ]
     },
     "metadata": {
      "needs_background": "light"
     },
     "output_type": "display_data"
    }
   ],
   "source": [
    "df['date'].groupby([df[\"date\"].dt.year, df[\"date\"].dt.month]).count().plot(kind=\"bar\")"
   ]
  },
  {
   "cell_type": "markdown",
   "id": "b18e991b-6e13-4bae-b1ed-c73ec18a00eb",
   "metadata": {},
   "source": [
    "## No War Poetry"
   ]
  },
  {
   "cell_type": "code",
   "execution_count": 64,
   "id": "55d97601-9ebc-4e2b-ac89-a0ce9d39cc9a",
   "metadata": {},
   "outputs": [],
   "source": [
    "url = 'https://nowarpoetry.com/authors/alexander-amchislavsky/'\n",
    "import requests\n",
    "from bs4 import BeautifulSoup\n",
    "\n",
    "\n",
    "soup = BeautifulSoup(requests.get(url).content, \"html.parser\")\n",
    "for br in soup.find_all(\"br\"):\n",
    "    br.replace_with(\"\\n\")"
   ]
  },
  {
   "cell_type": "code",
   "execution_count": 65,
   "id": "dc03bc10-9309-40b6-a9a4-5060870e08d0",
   "metadata": {},
   "outputs": [],
   "source": [
    "ps = soup.find_all('p')"
   ]
  },
  {
   "cell_type": "code",
   "execution_count": 67,
   "id": "9013daed-44b1-48f4-8aa1-3114b54f7b09",
   "metadata": {},
   "outputs": [
    {
     "name": "stdout",
     "output_type": "stream",
     "text": [
      "АЛЕКСАНДР АМЧИСЛАВСКИЙ\n",
      "СОЛДАТСКАЯ ПРОЩАЛЬНАЯ\n",
      "Во сне а будто бы в бреду\n",
      "среди других в одном ряду\n",
      "штурмую чёртову гряду\n",
      "а там за нею\n",
      "гляжу – ни войска ни знамён\n",
      "и каждый в каждого влюблён\n",
      "там бурундук и тот умён\n",
      "любить умея.\n",
      "Там всё иначе снится мне —\n",
      "смеётся женщина в окне\n",
      "и пепел кружится в огне\n",
      "волос тяжёлых\n",
      "пусть автомат в песке в земле\n",
      "плевать совсем не стыдно мне\n",
      "я к той, которая во сне\n",
      "всё шёл и шёл бы.\n",
      "А сон летит и я за ним\n",
      "среди холмов среди низин\n",
      "закат горит неугасим\n",
      "сжигает спины\n",
      "летящим из последних снов\n",
      "кто был готов и не готов\n",
      "и свет идёт поверх голов\n",
      "невыносимый.\n",
      "\n",
      "/   /   /\n",
      "Серый лёд ни капли света\n",
      "грязная вода\n",
      "отработанное небо\n",
      "хлещет в города\n",
      "нам бы только тряпки выжать\n",
      "по́дпол просушить\n",
      "нам бы как-нибудь да выжить\n",
      "и ещё пожить\n",
      "только чтоб никто не видел\n",
      "нашей темноты\n",
      "подходи родной на выстрел\n",
      "отдохнёшь и ты\n",
      "мы устали мы продрогли\n",
      "но дадут приказ\n",
      "повернём на раз оглобли\n",
      "зацелуем вас\n",
      "колья топоры да вилы\n",
      "ты хоть лоб кропи\n",
      "руки длинные наш милый\n",
      "у большой любви.\n",
      "\n",
      "\n",
      "/   /   /\n",
      "Боишься, мальчик, сравнивать свой дом\n",
      "с могилой под ракитовым кустом,\n",
      "где тот же кот учёный, зэк верчёный\n",
      "откидывает карту на потом,\n",
      "банкует так, чтоб дальше, опосля,\n",
      "уж как убьют посла, нагнут козла,\n",
      "яичко не простое, заводное\n",
      "со зла рябая курочка снесла,\n",
      "и там не важно – осень ли, весна,\n",
      "сторонушка воспрянет ото сна,\n",
      "пойдёт писать губерния вприсядку,\n",
      "и мы начертим ваши имена\n",
      "и годы жизни. Господи еси,\n",
      "народ пасти подольше попусти!\n",
      "Яичко в красный день заполыхало,\n",
      "теперь за сотню лет не разгрести!\n",
      "Смеялся котик, усики торчком,\n",
      "кружилось блюдце с детским молочком,\n",
      "горел во лбу малиновый околыш,\n",
      "да так, что все как милые ничком\n",
      "землицу жрали, братики, за страх,\n",
      "пока наш паровоз на всех парах\n",
      "летел и комиссары в пыльных шлемах\n",
      "палили с вышек на семи ветрах.\n",
      "А сгинувшим – ни тризна, ни парча,\n",
      "лишь справка от тюремного врача,\n",
      "эх, отгорел восток зарёю новой,\n",
      "одна чадит лампада Ильича,\n",
      "заветная, и слабнет на ветру,\n",
      "я бедную в предбанник уберу,\n",
      "всё те же мы, нам целый мир – чужбина…\n",
      "Когда она погаснет, я умру.\n",
      "\n",
      "/   /  /\n",
      "Нас тьмы и тьмы. И чёрная зима\n",
      "лежит раскинулась, не дышит. И не надо\n",
      "ни плача для души, ни горя для ума,\n",
      "и с высохших небес беспомощного знака\n",
      "давно не ждём, а будет – наплевать,\n",
      "черно который век, и дело точно в снеге —\n",
      "он, видно, с головой засыпал однова́\n",
      "и жизнь, и смерть, и сани, и телеги,\n",
      "вдавил исподний грунт и сделал всё как есть –\n",
      "и тощими стада, и ржавыми орала,\n",
      "а память бедным нам оставил днесь,\n",
      "чтоб и она всё время умирала,\n",
      "под мерный тик сапог, не различая лет,\n",
      "тащилась в поводу и глаз поднять не смела.\n",
      "Мы – дети чёрных зим, где двери крестят мелом\n",
      "и отблик нашей тьмы у бога на челе.\n",
      "П О Э Т Ы\n",
      "П Р О Т И В\n",
      "В О Й Н Ы\n",
      "KRiK Publishing House\n",
      "Proudly Powered by WordPress\n"
     ]
    }
   ],
   "source": [
    "for p in ps:\n",
    "    print(p.text)"
   ]
  },
  {
   "cell_type": "code",
   "execution_count": 62,
   "id": "2a63d8d2-e62d-4f26-80f2-2b428d603d2d",
   "metadata": {},
   "outputs": [
    {
     "name": "stdout",
     "output_type": "stream",
     "text": [
      "['АЛЕКСАНДР АМЧИСЛАВСКИЙ']\n",
      "['СОЛДАТСКАЯ ПРОЩАЛЬНАЯ']\n",
      "['Во сне а будто бы в бредусреди других в одном рядуштурмую чёртову грядуа там за неюгляжу – ни войска ни знамёни каждый в каждого влюблёнтам бурундук и тот умёнлюбить умея.Там всё иначе снится мне —смеётся женщина в окнеи пепел кружится в огневолос тяжёлыхпусть автомат в песке в землеплевать совсем не стыдно мнея к той, которая во сневсё шёл и шёл бы.А сон летит и я за нимсреди холмов среди низинзакат горит неугасимсжигает спинылетящим из последних сновкто был готов и не готови свет идёт поверх головневыносимый.']\n",
      "['/   /   /']\n",
      "['Серый лёд ни капли светагрязная водаотработанное небохлещет в городанам бы только тряпки выжатьпо́дпол просушитьнам бы как-нибудь да выжитьи ещё пожитьтолько чтоб никто не виделнашей темнотыподходи родной на выстрелотдохнёшь и тымы устали мы продроглино дадут приказповернём на раз оглоблизацелуем васколья топоры да вилыты хоть лоб кропируки длинные наш милыйу большой любви.']\n",
      "['']\n",
      "['/   /   /']\n",
      "['Боишься, мальчик, сравнивать свой домс могилой под ракитовым кустом,где тот же кот учёный, зэк верчёныйоткидывает карту на потом,банкует так, чтоб дальше, опосля,уж как убьют посла, нагнут козла,яичко не простое, заводноесо зла рябая курочка снесла,и там не важно – осень ли, весна,сторонушка воспрянет ото сна,пойдёт писать губерния вприсядку,и мы начертим ваши именаи годы жизни. Господи еси,народ пасти подольше попусти!Яичко в красный день заполыхало,теперь за сотню лет не разгрести!Смеялся котик, усики торчком,кружилось блюдце с детским молочком,горел во лбу малиновый околыш,да так, что все как милые ничкомземлицу жрали, братики, за страх,пока наш паровоз на всех парахлетел и комиссары в пыльных шлемахпалили с вышек на семи ветрах.А сгинувшим – ни тризна, ни парча,лишь справка от тюремного врача,эх, отгорел восток зарёю новой,одна чадит лампада Ильича,заветная, и слабнет на ветру,я бедную в предбанник уберу,всё те же мы, нам целый мир – чужбина…Когда она погаснет, я умру.']\n",
      "['/   /  /']\n",
      "['Нас тьмы и тьмы. И чёрная зималежит раскинулась, не дышит. И не надони плача для души, ни горя для ума,и с высохших небес беспомощного знакадавно не ждём, а будет – наплевать,черно который век, и дело точно в снеге —он, видно, с головой засыпал однова́и жизнь, и смерть, и сани, и телеги,вдавил исподний грунт и сделал всё как есть –и тощими стада, и ржавыми орала,а память бедным нам оставил днесь,чтоб и она всё время умирала,под мерный тик сапог, не различая лет,тащилась в поводу и глаз поднять не смела.Мы – дети чёрных зим, где двери крестят меломи отблик нашей тьмы у бога на челе.']\n",
      "['П О Э Т Ы']\n",
      "['П Р О Т И В']\n",
      "['В О Й Н Ы']\n",
      "['KRiK Publishing House']\n",
      "['Proudly Powered by WordPress']\n"
     ]
    }
   ],
   "source": [
    "for p in ps:\n"
   ]
  },
  {
   "cell_type": "code",
   "execution_count": null,
   "id": "1aeb6c4a-bd75-432c-96c7-b7058aa061d1",
   "metadata": {},
   "outputs": [],
   "source": []
  }
 ],
 "metadata": {
  "kernelspec": {
   "display_name": "Python 3 (ipykernel)",
   "language": "python",
   "name": "python3"
  },
  "language_info": {
   "codemirror_mode": {
    "name": "ipython",
    "version": 3
   },
   "file_extension": ".py",
   "mimetype": "text/x-python",
   "name": "python",
   "nbconvert_exporter": "python",
   "pygments_lexer": "ipython3",
   "version": "3.9.7"
  }
 },
 "nbformat": 4,
 "nbformat_minor": 5
}
