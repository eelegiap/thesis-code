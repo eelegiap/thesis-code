{
 "cells": [
  {
   "cell_type": "code",
   "execution_count": 1,
   "id": "2433dac6-6515-435a-96be-8eb14872de6a",
   "metadata": {},
   "outputs": [],
   "source": [
    "import pandas as pd\n",
    "import random"
   ]
  },
  {
   "cell_type": "code",
   "execution_count": 2,
   "id": "e8d866b2-9ffc-4ed7-884a-b1f5b4ac4b32",
   "metadata": {},
   "outputs": [],
   "source": [
    "import requests\n",
    "from bs4 import BeautifulSoup"
   ]
  },
  {
   "cell_type": "markdown",
   "id": "d5e7d4cd-c942-4978-850e-2d6afddd24ba",
   "metadata": {},
   "source": [
    "## Telegram"
   ]
  },
  {
   "cell_type": "code",
   "execution_count": 3,
   "id": "15b59636-c4b2-496a-be6e-e74ddf08d954",
   "metadata": {},
   "outputs": [],
   "source": [
    "# pip install telethon"
   ]
  },
  {
   "cell_type": "code",
   "execution_count": 23,
   "id": "3892e53a-fa14-4757-b1b4-4b38a3e16181",
   "metadata": {},
   "outputs": [],
   "source": [
    "from telethon.sync import TelegramClient\n",
    "\n",
    "name = 'Paige Lee' \n",
    "api_id = '13544320' \n",
    "api_hash = '1029298096dbdcfc04c3c027a33c5eae' \n",
    "chat = '@metajournal'\n",
    "\n",
    "data = [] # stores all our data in the format SENDER_ID, MSG\n",
    "\n",
    "async with TelegramClient(name, api_id, api_hash) as client:\n",
    "    async for message in client.iter_messages(chat):\n",
    "        data.append({\n",
    "            'senderUsername' : message.sender.username,\n",
    "            'date' : message.date,\n",
    "            'text' : message.text})"
   ]
  },
  {
   "cell_type": "code",
   "execution_count": 24,
   "id": "0f84f995-945f-4b30-9d74-1e50c73a87f0",
   "metadata": {},
   "outputs": [
    {
     "name": "stdout",
     "output_type": "stream",
     "text": [
      "2264\n"
     ]
    },
    {
     "data": {
      "text/html": [
       "<div>\n",
       "<style scoped>\n",
       "    .dataframe tbody tr th:only-of-type {\n",
       "        vertical-align: middle;\n",
       "    }\n",
       "\n",
       "    .dataframe tbody tr th {\n",
       "        vertical-align: top;\n",
       "    }\n",
       "\n",
       "    .dataframe thead th {\n",
       "        text-align: right;\n",
       "    }\n",
       "</style>\n",
       "<table border=\"1\" class=\"dataframe\">\n",
       "  <thead>\n",
       "    <tr style=\"text-align: right;\">\n",
       "      <th></th>\n",
       "      <th>senderUsername</th>\n",
       "      <th>date</th>\n",
       "      <th>text</th>\n",
       "    </tr>\n",
       "  </thead>\n",
       "  <tbody>\n",
       "    <tr>\n",
       "      <th>0</th>\n",
       "      <td>metajournal</td>\n",
       "      <td>2022-09-16 14:05:10+00:00</td>\n",
       "      <td>#переводы \\nСергей Жадан\\n\\n+ + +\\n\\nЗапомнить...</td>\n",
       "    </tr>\n",
       "    <tr>\n",
       "      <th>1</th>\n",
       "      <td>metajournal</td>\n",
       "      <td>2022-09-15 19:57:48+00:00</td>\n",
       "      <td>Стихотворение Лизы Смирновой - одно из тех, ко...</td>\n",
       "    </tr>\n",
       "    <tr>\n",
       "      <th>2</th>\n",
       "      <td>metajournal</td>\n",
       "      <td>2022-09-15 15:34:36+00:00</td>\n",
       "      <td>Лиза Смирнова\\n\\n* * *\\n\\nоднажды в ваших жизн...</td>\n",
       "    </tr>\n",
       "    <tr>\n",
       "      <th>3</th>\n",
       "      <td>metajournal</td>\n",
       "      <td>2022-09-15 13:58:55+00:00</td>\n",
       "      <td>Визуальный комментарий к стихотворению Андрея ...</td>\n",
       "    </tr>\n",
       "    <tr>\n",
       "      <th>4</th>\n",
       "      <td>metajournal</td>\n",
       "      <td>2022-09-14 13:50:29+00:00</td>\n",
       "      <td>В стихах, написанных этой весной и летом, Андр...</td>\n",
       "    </tr>\n",
       "  </tbody>\n",
       "</table>\n",
       "</div>"
      ],
      "text/plain": [
       "  senderUsername                      date  \\\n",
       "0    metajournal 2022-09-16 14:05:10+00:00   \n",
       "1    metajournal 2022-09-15 19:57:48+00:00   \n",
       "2    metajournal 2022-09-15 15:34:36+00:00   \n",
       "3    metajournal 2022-09-15 13:58:55+00:00   \n",
       "4    metajournal 2022-09-14 13:50:29+00:00   \n",
       "\n",
       "                                                text  \n",
       "0  #переводы \\nСергей Жадан\\n\\n+ + +\\n\\nЗапомнить...  \n",
       "1  Стихотворение Лизы Смирновой - одно из тех, ко...  \n",
       "2  Лиза Смирнова\\n\\n* * *\\n\\nоднажды в ваших жизн...  \n",
       "3  Визуальный комментарий к стихотворению Андрея ...  \n",
       "4  В стихах, написанных этой весной и летом, Андр...  "
      ]
     },
     "execution_count": 24,
     "metadata": {},
     "output_type": "execute_result"
    }
   ],
   "source": [
    "df = pd.DataFrame.from_records(data)\n",
    "print(len(df))\n",
    "df.head()"
   ]
  },
  {
   "cell_type": "code",
   "execution_count": 25,
   "id": "26f9d032-496a-4b2c-a60b-f26e5be6849c",
   "metadata": {},
   "outputs": [],
   "source": [
    "df['date'] = df['date'].apply(lambda t : t.tz_convert(None))"
   ]
  },
  {
   "cell_type": "code",
   "execution_count": 27,
   "id": "0098d345-5a0d-4a97-a0ac-912d6c418095",
   "metadata": {},
   "outputs": [],
   "source": [
    "mzRecs = df.to_dict('records')"
   ]
  },
  {
   "cell_type": "code",
   "execution_count": 91,
   "id": "5ed747ba-a499-45d5-a7be-ec3b05c94957",
   "metadata": {},
   "outputs": [
    {
     "name": "stdout",
     "output_type": "stream",
     "text": [
      "1158\n",
      "116\n"
     ]
    }
   ],
   "source": [
    "texts = []\n",
    "authors = []\n",
    "perevods = []\n",
    "\n",
    "newRecs = []\n",
    "for r in mzRecs:\n",
    "    if r['text'] == None:\n",
    "        continue\n",
    "    if r['text'].strip() == '':\n",
    "        continue\n",
    "    if r['text'].count('\\n') < 2:\n",
    "        continue\n",
    "    if '#комментарий' in r['text']:\n",
    "        continue\n",
    "    if '#перевод' in r['text']:\n",
    "        perevods.append(r)\n",
    "        continue\n",
    "    txt = r['text']\n",
    "    a = txt.split('\\n')[0]\n",
    "    t = '\\n'.join(txt.split('\\n')[1:])\n",
    "    newRecs.append({\n",
    "        'date' : f\"{r['date'].month}-{r['date'].day}-{r['date'].year}\",\n",
    "        'sender' : r['senderUsername'],\n",
    "        'author' : a.replace('*',''),\n",
    "        'text' : t\n",
    "    })\n",
    "\n",
    "print(len(whatsleft))\n",
    "print(len(perevods))"
   ]
  },
  {
   "cell_type": "code",
   "execution_count": 92,
   "id": "dba0e4fc-d42a-4551-ad48-3000c24e7ba3",
   "metadata": {},
   "outputs": [
    {
     "name": "stdout",
     "output_type": "stream",
     "text": [
      "1158\n"
     ]
    },
    {
     "data": {
      "text/html": [
       "<div>\n",
       "<style scoped>\n",
       "    .dataframe tbody tr th:only-of-type {\n",
       "        vertical-align: middle;\n",
       "    }\n",
       "\n",
       "    .dataframe tbody tr th {\n",
       "        vertical-align: top;\n",
       "    }\n",
       "\n",
       "    .dataframe thead th {\n",
       "        text-align: right;\n",
       "    }\n",
       "</style>\n",
       "<table border=\"1\" class=\"dataframe\">\n",
       "  <thead>\n",
       "    <tr style=\"text-align: right;\">\n",
       "      <th></th>\n",
       "      <th>date</th>\n",
       "      <th>sender</th>\n",
       "      <th>author</th>\n",
       "      <th>text</th>\n",
       "    </tr>\n",
       "  </thead>\n",
       "  <tbody>\n",
       "    <tr>\n",
       "      <th>0</th>\n",
       "      <td>9-15-2022</td>\n",
       "      <td>metajournal</td>\n",
       "      <td>Лиза Смирнова</td>\n",
       "      <td>\\n* * *\\n\\nоднажды в ваших жизнях \\nничего не ...</td>\n",
       "    </tr>\n",
       "    <tr>\n",
       "      <th>1</th>\n",
       "      <td>9-14-2022</td>\n",
       "      <td>metajournal</td>\n",
       "      <td>Андрей Гришаев</td>\n",
       "      <td>\\n***\\n\\nЯ далеко зашёл, я шёл и далеко\\nЗашёл...</td>\n",
       "    </tr>\n",
       "    <tr>\n",
       "      <th>2</th>\n",
       "      <td>9-12-2022</td>\n",
       "      <td>metajournal</td>\n",
       "      <td>Дарья Андреева</td>\n",
       "      <td>\\n\\nМы выбрали школу с хорошим бомбоубежищем\\n...</td>\n",
       "    </tr>\n",
       "    <tr>\n",
       "      <th>3</th>\n",
       "      <td>9-11-2022</td>\n",
       "      <td>metajournal</td>\n",
       "      <td>Стихотворение украинского поэта, а также психо...</td>\n",
       "      <td>\\nПриведу в связи с этим пару исчерпывающих ци...</td>\n",
       "    </tr>\n",
       "    <tr>\n",
       "      <th>4</th>\n",
       "      <td>9-11-2022</td>\n",
       "      <td>metajournal</td>\n",
       "      <td>Борис Херсонский</td>\n",
       "      <td>\\n*****\\nОтец пожал плечами: хочешь курить — к...</td>\n",
       "    </tr>\n",
       "  </tbody>\n",
       "</table>\n",
       "</div>"
      ],
      "text/plain": [
       "        date       sender                                             author  \\\n",
       "0  9-15-2022  metajournal                                      Лиза Смирнова   \n",
       "1  9-14-2022  metajournal                                     Андрей Гришаев   \n",
       "2  9-12-2022  metajournal                                    Дарья Андреева    \n",
       "3  9-11-2022  metajournal  Стихотворение украинского поэта, а также психо...   \n",
       "4  9-11-2022  metajournal                                   Борис Херсонский   \n",
       "\n",
       "                                                text  \n",
       "0  \\n* * *\\n\\nоднажды в ваших жизнях \\nничего не ...  \n",
       "1  \\n***\\n\\nЯ далеко зашёл, я шёл и далеко\\nЗашёл...  \n",
       "2  \\n\\nМы выбрали школу с хорошим бомбоубежищем\\n...  \n",
       "3  \\nПриведу в связи с этим пару исчерпывающих ци...  \n",
       "4  \\n*****\\nОтец пожал плечами: хочешь курить — к...  "
      ]
     },
     "execution_count": 92,
     "metadata": {},
     "output_type": "execute_result"
    }
   ],
   "source": [
    "df = pd.DataFrame.from_records(newRecs)\n",
    "print(len(df))\n",
    "df.head()"
   ]
  },
  {
   "cell_type": "code",
   "execution_count": 94,
   "id": "e7039a3b-bb58-41fd-a139-7c0282b342bf",
   "metadata": {},
   "outputs": [],
   "source": [
    "df.to_excel('MetazhurnalTelegramPosts9-17-2022.xlsx')"
   ]
  },
  {
   "cell_type": "markdown",
   "id": "b18e991b-6e13-4bae-b1ed-c73ec18a00eb",
   "metadata": {},
   "source": [
    "## No War Poetry"
   ]
  },
  {
   "cell_type": "code",
   "execution_count": 114,
   "id": "fe4bbf16-f618-4970-8da4-451b218b364a",
   "metadata": {},
   "outputs": [],
   "source": [
    "site = 'https://nowarpoetry.com/authors/'\n",
    "\n",
    "soup = BeautifulSoup(requests.get(site).content, \"html.parser\")"
   ]
  },
  {
   "cell_type": "code",
   "execution_count": 121,
   "id": "b665c0ed-c525-441e-808c-76d30d204e96",
   "metadata": {},
   "outputs": [],
   "source": [
    "hrefs = []\n",
    "for a in soup.find_all('a')[4:]:\n",
    "    if a.text == 'WordPress':\n",
    "        break\n",
    "    hrefs.append(a['href'])"
   ]
  },
  {
   "cell_type": "code",
   "execution_count": 192,
   "id": "55d97601-9ebc-4e2b-ac89-a0ce9d39cc9a",
   "metadata": {},
   "outputs": [],
   "source": []
  },
  {
   "cell_type": "code",
   "execution_count": 216,
   "id": "9013daed-44b1-48f4-8aa1-3114b54f7b09",
   "metadata": {},
   "outputs": [
    {
     "name": "stdout",
     "output_type": "stream",
     "text": [
      "[1] Ab ovo — в буквальном переводе «с яйца». Устойчивый фразеологический оборот, обозначающий «с самого начала».\n",
      "[2] Плутон –в древнегреческой и римской мифологии\n",
      "одно из имён бога подземного царства и смерти.\n",
      "[3] Волока — единица измерения площади, равная 30 моргам или 20 десятинам (21,36 га), а также единица обложения в Великом княжестве Литовском.\n",
      "[4] Морг – единица измерения площади земли в средневековой Западной Европе и, в частности, в Речи Посполитой, равная приблизительно 0,56 гектара.\n",
      "[5] лат. Sero molunt deorum molae — «Поздно мелют мельницы богов» — крылатое выражение, означающее неотвратимость Судьбы.\n",
      "[6] «№ 5, 1948» — картина Джексона Поллока, завершённая в 1948 году. Одна из самых известных работ в стиле абстрактного экспрессионизма.\n",
      "[7] Отсылка к «Пушкин и Гоголь» Даниила Хармса.\n",
      "[1] Арад — город на юге Израиля\n",
      "[2] Один — верховный бог в германо-скандинавской мифологии\n",
      "[3] Па́род (др.-греч. πάροδος) – в древнегреческом театре (трагедии и комедии) хоровая песня, которая исполнялась хором во время выхода на сцену, при движении в орхестру. Слово «парод» также относится к самому проходу (открытому коридору), конструктивному элементу античного театра.\n",
      "[4] «Мы как мученики попадём в рай, а они просто сдохнут» – интернет-мем, оформившийся в результате переосмысления высказывания президента России Владимира Путина в отношении увеличения риска ядерной войны, которое прозвучало на ежегодном международном форуме «Валдай» в Сочи в октябре 2018 года.\n",
      "[5] Главный антагонист романа Стивена Кинга «Оно».\n",
      "[6] «Тварь ли я дрожащая или право имею?» (цитата из романа «Преступление и наказание» Ф.М. Достоевского и «Где у нас прокурор? – В шестой палате, где раньше Наполеон был» (цитата из к/ф. «Кавказская пленница, или Новые приключения Шурика»)\n",
      "[7] Виварий – помещение или здание, предназначенное для содержания лабораторных животных.\n",
      "[8] Оксен-шванцен-зуппе — суп из бычьих хвостов.\n"
     ]
    }
   ],
   "source": [
    "allPoems = []\n",
    "\n",
    "for url in hrefs:\n",
    "    soup = BeautifulSoup(requests.get(url).content, \"html.parser\")\n",
    "    for br in soup.find_all(\"br\"):\n",
    "        br.replace_with(\"\\n\")\n",
    "\n",
    "    poems = []\n",
    "    ps = soup.find_all('p')\n",
    "    newpoem = False\n",
    "    poemlines = []\n",
    "    for i, p in enumerate(ps):\n",
    "        text = p.text\n",
    "        if i == 0:\n",
    "            author = p.text\n",
    "            continue\n",
    "        if p.text.strip() == '':\n",
    "            continue\n",
    "        if p.text == 'П О Э Т Ы':\n",
    "            poems.append(('\\n').join(poemlines))\n",
    "            break\n",
    "        if p.text[0] == '[' and ']' in p.text:\n",
    "            print(p.text)\n",
    "            continue\n",
    "        if p.strong and poemlines != []:\n",
    "            poems.append(('\\n').join(poemlines))\n",
    "            newpoem = True\n",
    "            poemlines = []\n",
    "            continue\n",
    "        if ps[i-1].strong and ps[i-1].text.count('/') < 2 and i != 2:\n",
    "            text = ps[i-1].text + '\\n' + p.text\n",
    "        text = text.replace('/   /   /','')\n",
    "        poemlines.append(text + '\\n')\n",
    "    \n",
    "    for poem in poems:\n",
    "        allPoems.append({\n",
    "            'Author' : author,\n",
    "            'Text' : poem,\n",
    "            'URL' : url,\n",
    "            'Before or after' : 'After'\n",
    "        })"
   ]
  },
  {
   "cell_type": "code",
   "execution_count": 217,
   "id": "e47a6ab8-aa28-4f36-9894-74dace0f82c7",
   "metadata": {},
   "outputs": [
    {
     "data": {
      "text/plain": [
       "794"
      ]
     },
     "execution_count": 217,
     "metadata": {},
     "output_type": "execute_result"
    }
   ],
   "source": [
    "len(allPoems)"
   ]
  },
  {
   "cell_type": "code",
   "execution_count": 218,
   "id": "e68e427f-0ab1-4771-bf3f-966599edbd86",
   "metadata": {},
   "outputs": [
    {
     "data": {
      "text/plain": [
       "{'Author': 'АЛЕКСАНДР ДЕЛЬФИНОВ ',\n",
       " 'Text': 'Война\\n\\n«Как ни печально признавать, порой война необходима,\\nВедь после кризиса опять жизнь расцветёт, – сказал мне Дима. —\\nВолна огня очистит почву, начнётся новая весна,\\nНа всём плохом поставив точку – вот для чего нужна война!»\\nМы с ним в кафе сидели где-то, не помню, в Питере, в Москве,\\nНо это точно было лето, и ветерок шуршал в листве,\\nИ я представил, как внезапно сметает всё волна огня,\\nЗачистив землю поэтапно, и нет ни Димы, ни меня,\\nИ только в бункере бетонном на генераторном ходу\\nГигантский сервер «Амазона» гудит в густую пустоту.\\nПрошла лишь пара-тройка лет,\\nИ Димы правда больше нет.\\n\\nМы все в солдатики играли, мальчишки из СССР,\\nИ пленных – нет, не убивали, простите, благородный сэр,\\nПозвольте выйти с белым флагом навстречу вражеским войскам,\\nВедь честным и лихим воякам почёт и слава тут и там,\\nИ после битвы злой и страшной хотим, как водится в игре,\\nМы наших обменять на ваших за гаражом на пустыре.\\nХоть, помню, был один мальчишка, который бил всегда всерьёз,\\nИ часто набухала шишка, и подтекал кровавый нос\\nУ тех, кому не повезло так наткнуться на него в бою,\\nА он хихикает жестоко, высасывая боль твою —\\nТак повторялось много раз.\\nЕсть те, кто любит мучить нас.\\n\\nКак сны, в художественных фильмах мелькали образы войны,\\nКино такое в детстве сильно любили и смотрели мы,\\nВедь там в психической атаке на красных белые идут,\\nИ наши в рукопашной драке фашистов бьют и там, и тут,\\nАктёров был уютен мир лиц: вот лысый Мюллер-Броневой,\\nИ Тихонов, который Штирлиц, и тот старик, идущий в бой\\nС одними только стариками, и девушки из тихих зорь…\\nСерёжа машет кулаками, пират Салех, ты с ним не спорь…\\nВойна цветна и чёрно-бела, многосерийная порой,\\nА то уложит нам всё дело в один сеанс киногерой,\\nПопав не в глаз, а прямо в бровь,\\nИ воскресая вновь и вновь.\\n\\nНу, и конечно, вместе с нами взрослела и входила в толк\\nОдна война в Афганистане – «интернациональный долг»,\\nКак дикторы в программе «Время» сказали бы в те времена.\\nВлила отравленное семя в страну афганская война,\\nКак похороночка в конверте, как обожжённый прах земной,\\nИ поднимался призрак смерти над рассыпавшейся страной.\\nНо эта тема – вроде сказки: душман, и дух, и моджахед\\nНе вызывал большой опаски, такой Хоттабыч, вредный дед,\\nВсё это где-то далеко там, как Алладин с Али-Бабой,\\nА нам, весёлым идиотам, на рок-концерт пора гурьбой\\nСпешить, лишь в спины целил зрак\\nСозревший опиумный мак.\\n\\nНо дед мой был фронтовиком, серьёзным, хоть и не суровым,\\nОн побывал в бою таком, что не изобразят в кино вам,\\nГде ополченье под Москвой, как текст, мгновенно было стёрто,\\nА дед Савелий чуть живой вернулся к нам из царства мёртвых.\\nПрошло полвека. Как-то раз публиковал его стихи я,\\nИ сам об авторе рассказ такой составил: «В дни лихие\\nБыл ранен тяжело поэт, сражаясь за страну родную».\\nОн прочитал и молвил: «Нет, поставим запись мы иную,\\nТакую: “Был на фронте”». Так и написали мы в журнале,\\nНо я запомнил этот факт, и если вы ещё не знали,\\nСкажу: кто воевал, тот не\\nНачнёт болтать вам о войне.\\n\\nА может быть, война во мне? Как некий эндемичный вирус,\\nЧто вдруг окажется вовне, на волю из-под стражи вырвавшись?\\nДа как бы ни был Саша плох, за свой могу ответить выбор,\\nНо как мне выбрать из эпох? Как мне войну из лёгких выблевать?\\nИ государственная медь в тумане мысли жутко свистнет,\\nИ снова позовут на смерть, суля мираж счастливой жизни?\\nВы спросите: «А Дима твой? В пылу очередных сражений\\nУбит ли на передовой? В больнице умер от ранений?»\\nНет. Химсоставами губя свой дух мятущийся и гневный,\\nЗагнал в могилу сам себя, и не последний, и не первый,\\nОн так воинственно трубил,\\nЧто в мирной жизни лишним был.\\n\\nТот край не видно из-за грани, меж нами время как стена,\\nНо пойман в плен его словами: неужто впрямь нужна война?\\nНужны ракетные обстрелы и грохот танковых колонн?\\nНужны холодные подвалы и искалеченного стон?\\nНужны проверки на дорогах? Стекольная взрывная дрожь?\\nНужна, скажите ради Бога, главнокомандующих ложь?\\nИ самолёта обгорелый скелет, торчащий из земли,\\nИ снег внезапный белый-белый на тех телах, что полегли?\\nКак воодушевлён был Дима идеей встать на славный бой,\\nВедь пули все промчатся мимо, когда со знаменем герой\\nВ атаку увлечёт солдат,\\nКак в райский сад – куда-то в ад.\\n',\n",
       " 'URL': 'https://nowarpoetry.com/authors/alexander-smirnov-delphinov/',\n",
       " 'Before or after': 'After'}"
      ]
     },
     "execution_count": 218,
     "metadata": {},
     "output_type": "execute_result"
    }
   ],
   "source": [
    "random.choice(allPoems)"
   ]
  },
  {
   "cell_type": "code",
   "execution_count": 219,
   "id": "0c6bb46a-b3e8-419d-9651-011c6176686a",
   "metadata": {},
   "outputs": [
    {
     "data": {
      "text/html": [
       "<div>\n",
       "<style scoped>\n",
       "    .dataframe tbody tr th:only-of-type {\n",
       "        vertical-align: middle;\n",
       "    }\n",
       "\n",
       "    .dataframe tbody tr th {\n",
       "        vertical-align: top;\n",
       "    }\n",
       "\n",
       "    .dataframe thead th {\n",
       "        text-align: right;\n",
       "    }\n",
       "</style>\n",
       "<table border=\"1\" class=\"dataframe\">\n",
       "  <thead>\n",
       "    <tr style=\"text-align: right;\">\n",
       "      <th></th>\n",
       "      <th>Author</th>\n",
       "      <th>Text</th>\n",
       "      <th>URL</th>\n",
       "      <th>Before or after</th>\n",
       "    </tr>\n",
       "  </thead>\n",
       "  <tbody>\n",
       "    <tr>\n",
       "      <th>0</th>\n",
       "      <td>АЛЕКСАНДР АМЧИСЛАВСКИЙ</td>\n",
       "      <td>СОЛДАТСКАЯ ПРОЩАЛЬНАЯ\\n\\nВо сне а будто бы в б...</td>\n",
       "      <td>https://nowarpoetry.com/authors/alexander-amch...</td>\n",
       "      <td>After</td>\n",
       "    </tr>\n",
       "    <tr>\n",
       "      <th>1</th>\n",
       "      <td>АЛЕКСАНДР АМЧИСЛАВСКИЙ</td>\n",
       "      <td>Серый лёд ни капли света\\nгрязная вода\\nотрабо...</td>\n",
       "      <td>https://nowarpoetry.com/authors/alexander-amch...</td>\n",
       "      <td>After</td>\n",
       "    </tr>\n",
       "    <tr>\n",
       "      <th>2</th>\n",
       "      <td>АЛЕКСАНДР АМЧИСЛАВСКИЙ</td>\n",
       "      <td>Боишься, мальчик, сравнивать свой дом\\nс могил...</td>\n",
       "      <td>https://nowarpoetry.com/authors/alexander-amch...</td>\n",
       "      <td>After</td>\n",
       "    </tr>\n",
       "    <tr>\n",
       "      <th>3</th>\n",
       "      <td>АЛЕКСАНДР АМЧИСЛАВСКИЙ</td>\n",
       "      <td>Нас тьмы и тьмы. И чёрная зима\\nлежит раскинул...</td>\n",
       "      <td>https://nowarpoetry.com/authors/alexander-amch...</td>\n",
       "      <td>After</td>\n",
       "    </tr>\n",
       "    <tr>\n",
       "      <th>4</th>\n",
       "      <td>АНАСТАСИЯ АНДРЕЕВА</td>\n",
       "      <td>\\n\\nони не знали что их завтра ждет\\nвойна пол...</td>\n",
       "      <td>https://nowarpoetry.com/authors/anastasia-andr...</td>\n",
       "      <td>After</td>\n",
       "    </tr>\n",
       "  </tbody>\n",
       "</table>\n",
       "</div>"
      ],
      "text/plain": [
       "                   Author                                               Text  \\\n",
       "0  АЛЕКСАНДР АМЧИСЛАВСКИЙ  СОЛДАТСКАЯ ПРОЩАЛЬНАЯ\\n\\nВо сне а будто бы в б...   \n",
       "1  АЛЕКСАНДР АМЧИСЛАВСКИЙ  Серый лёд ни капли света\\nгрязная вода\\nотрабо...   \n",
       "2  АЛЕКСАНДР АМЧИСЛАВСКИЙ  Боишься, мальчик, сравнивать свой дом\\nс могил...   \n",
       "3  АЛЕКСАНДР АМЧИСЛАВСКИЙ  Нас тьмы и тьмы. И чёрная зима\\nлежит раскинул...   \n",
       "4      АНАСТАСИЯ АНДРЕЕВА  \\n\\nони не знали что их завтра ждет\\nвойна пол...   \n",
       "\n",
       "                                                 URL Before or after  \n",
       "0  https://nowarpoetry.com/authors/alexander-amch...           After  \n",
       "1  https://nowarpoetry.com/authors/alexander-amch...           After  \n",
       "2  https://nowarpoetry.com/authors/alexander-amch...           After  \n",
       "3  https://nowarpoetry.com/authors/alexander-amch...           After  \n",
       "4  https://nowarpoetry.com/authors/anastasia-andr...           After  "
      ]
     },
     "execution_count": 219,
     "metadata": {},
     "output_type": "execute_result"
    }
   ],
   "source": [
    "nwpDf = pd.DataFrame.from_records(allPoems)\n",
    "nwpDf.head()"
   ]
  },
  {
   "cell_type": "code",
   "execution_count": 220,
   "id": "872263d0-e3d3-46e1-98a6-912f52fea324",
   "metadata": {},
   "outputs": [],
   "source": [
    "nwpDf.to_excel('Excel_files/No_War_Poetry_9-19.xlsx')"
   ]
  },
  {
   "cell_type": "code",
   "execution_count": null,
   "id": "504c9f5c-34c8-4cab-99f9-bf3e3f986164",
   "metadata": {},
   "outputs": [],
   "source": []
  }
 ],
 "metadata": {
  "kernelspec": {
   "display_name": "Python 3 (ipykernel)",
   "language": "python",
   "name": "python3"
  },
  "language_info": {
   "codemirror_mode": {
    "name": "ipython",
    "version": 3
   },
   "file_extension": ".py",
   "mimetype": "text/x-python",
   "name": "python",
   "nbconvert_exporter": "python",
   "pygments_lexer": "ipython3",
   "version": "3.9.7"
  }
 },
 "nbformat": 4,
 "nbformat_minor": 5
}
