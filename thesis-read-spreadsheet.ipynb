{
 "cells": [
  {
   "cell_type": "markdown",
   "metadata": {},
   "source": [
    "### Read spreadsheet"
   ]
  },
  {
   "cell_type": "code",
   "execution_count": 3,
   "metadata": {},
   "outputs": [],
   "source": [
    "import pandas as pd\n",
    "import random\n",
    "import json\n",
    "import csv"
   ]
  },
  {
   "cell_type": "code",
   "execution_count": 4,
   "metadata": {},
   "outputs": [],
   "source": [
    "xls = pd.ExcelFile('Radcliffe Poetry Facebook Posts (Paige).xlsx')\n",
    "dfPosts = pd.read_excel(xls, 'Posts')\n",
    "dfAuthors = pd.read_excel(xls, 'Authors')\n",
    "dfCoords = pd.read_excel(xls, 'Location')"
   ]
  },
  {
   "cell_type": "code",
   "execution_count": 8,
   "metadata": {},
   "outputs": [
    {
     "data": {
      "text/html": [
       "<div>\n",
       "<style scoped>\n",
       "    .dataframe tbody tr th:only-of-type {\n",
       "        vertical-align: middle;\n",
       "    }\n",
       "\n",
       "    .dataframe tbody tr th {\n",
       "        vertical-align: top;\n",
       "    }\n",
       "\n",
       "    .dataframe thead th {\n",
       "        text-align: right;\n",
       "    }\n",
       "</style>\n",
       "<table border=\"1\" class=\"dataframe\">\n",
       "  <thead>\n",
       "    <tr style=\"text-align: right;\">\n",
       "      <th></th>\n",
       "      <th>Timestamp</th>\n",
       "      <th>Author of poem</th>\n",
       "      <th>Missing from Authors tab?</th>\n",
       "      <th>Author of post</th>\n",
       "      <th>Date posted</th>\n",
       "      <th>URL of facebook post</th>\n",
       "      <th>Private post or link not working?</th>\n",
       "      <th>Themes curated</th>\n",
       "      <th>Theme(s) (comma separated)</th>\n",
       "      <th>Theme 2 (blank)</th>\n",
       "      <th>...</th>\n",
       "      <th>Additional URL (if the post links to an external poem)</th>\n",
       "      <th>fulltext</th>\n",
       "      <th>Comments (copy and paste)</th>\n",
       "      <th>Number of likes</th>\n",
       "      <th>Number of comments</th>\n",
       "      <th>Number of shares</th>\n",
       "      <th>Other notes</th>\n",
       "      <th>Your name</th>\n",
       "      <th>Suggestion/correction in comment field?</th>\n",
       "      <th>Unnamed: 25</th>\n",
       "    </tr>\n",
       "  </thead>\n",
       "  <tbody>\n",
       "    <tr>\n",
       "      <th>0</th>\n",
       "      <td>87</td>\n",
       "      <td>Halyna Kruk</td>\n",
       "      <td>NaN</td>\n",
       "      <td>Halyna Kruk</td>\n",
       "      <td>2013-12-06</td>\n",
       "      <td>https://www.facebook.com/halyna.kruk/posts/101...</td>\n",
       "      <td>NaN</td>\n",
       "      <td>{'maidan', 'revolution', 'protest', 'ukraine'}</td>\n",
       "      <td>Maidan</td>\n",
       "      <td>Ukraine</td>\n",
       "      <td>...</td>\n",
       "      <td>NaN</td>\n",
       "      <td>9+\\n3\\n20+\\nEran\\nHalyna Kruk\\nDecember 6, 201...</td>\n",
       "      <td>NaN</td>\n",
       "      <td>251.0</td>\n",
       "      <td>27.0</td>\n",
       "      <td>68.0</td>\n",
       "      <td>Read by author at Lviv Euromaidan</td>\n",
       "      <td>NaN</td>\n",
       "      <td>NaN</td>\n",
       "      <td>NaN</td>\n",
       "    </tr>\n",
       "    <tr>\n",
       "      <th>1</th>\n",
       "      <td>2022-04-10 23:30:07</td>\n",
       "      <td>Ostap Slyvynsky</td>\n",
       "      <td>NaN</td>\n",
       "      <td>Ostap Slyvynsky</td>\n",
       "      <td>2013-12-26</td>\n",
       "      <td>https://www.facebook.com/ostap.slyvynsky/posts...</td>\n",
       "      <td>NaN</td>\n",
       "      <td>{'maidan', 'poetic form', 'haiku', 'revolution...</td>\n",
       "      <td>Haiku, Maidan</td>\n",
       "      <td>NaN</td>\n",
       "      <td>...</td>\n",
       "      <td>NaN</td>\n",
       "      <td>ХАЙКУ З МАЙДАНУ\\nДим у рукавах.\\nНіби йдеш з ц...</td>\n",
       "      <td>Yulia Tareieva\\nТак як є\\nSee Translation8y\\nS...</td>\n",
       "      <td>93.0</td>\n",
       "      <td>7.0</td>\n",
       "      <td>10.0</td>\n",
       "      <td>NaN</td>\n",
       "      <td>Amelia Glaser</td>\n",
       "      <td>NaN</td>\n",
       "      <td>NaN</td>\n",
       "    </tr>\n",
       "    <tr>\n",
       "      <th>2</th>\n",
       "      <td>53</td>\n",
       "      <td>Osip Mandelstam</td>\n",
       "      <td>NaN</td>\n",
       "      <td>Maria Stepanova</td>\n",
       "      <td>2013-12-27</td>\n",
       "      <td>https://www.facebook.com/maria.stepanova.372</td>\n",
       "      <td>NaN</td>\n",
       "      <td>{'time', 'war', 'twentieth century'}</td>\n",
       "      <td>war</td>\n",
       "      <td>twentieth century</td>\n",
       "      <td>...</td>\n",
       "      <td>NaN</td>\n",
       "      <td>9+\\n3\\n20+\\nEran\\nMaria Stepanova\\n3 mutual\\nA...</td>\n",
       "      <td>NaN</td>\n",
       "      <td>50.0</td>\n",
       "      <td>4.0</td>\n",
       "      <td>3.0</td>\n",
       "      <td>By Osip Mandelshtam (1935-36)</td>\n",
       "      <td>NaN</td>\n",
       "      <td>NaN</td>\n",
       "      <td>NaN</td>\n",
       "    </tr>\n",
       "    <tr>\n",
       "      <th>3</th>\n",
       "      <td>2022-08-02 13:10:06.549000</td>\n",
       "      <td>Boris Khersonsky</td>\n",
       "      <td>NaN</td>\n",
       "      <td>Boris Khersonsky</td>\n",
       "      <td>2013-12-31</td>\n",
       "      <td>https://www.facebook.com/borkhers/posts/pfbid0...</td>\n",
       "      <td>NaN</td>\n",
       "      <td>NaN</td>\n",
       "      <td>Soviet Union, food, morphine, anthem</td>\n",
       "      <td>NaN</td>\n",
       "      <td>...</td>\n",
       "      <td>NaN</td>\n",
       "      <td>NaN</td>\n",
       "      <td>Леонид Кучеренко\\nЯ сразу вспомнил ТУ жизнь\\n\\...</td>\n",
       "      <td>120.0</td>\n",
       "      <td>19.0</td>\n",
       "      <td>11.0</td>\n",
       "      <td>NaN</td>\n",
       "      <td>Amelia Glaser</td>\n",
       "      <td>No</td>\n",
       "      <td>NaN</td>\n",
       "    </tr>\n",
       "    <tr>\n",
       "      <th>4</th>\n",
       "      <td>2022-04-29 11:28:58.828000</td>\n",
       "      <td>Oleksandr Irvanets</td>\n",
       "      <td>NaN</td>\n",
       "      <td>Oleksandr Irvanets</td>\n",
       "      <td>2014-01-01</td>\n",
       "      <td>https://www.facebook.com/alekirvan/posts/10202...</td>\n",
       "      <td>NaN</td>\n",
       "      <td>{'seasons', 'time', 'new year'}</td>\n",
       "      <td>New year</td>\n",
       "      <td>NaN</td>\n",
       "      <td>...</td>\n",
       "      <td>NaN</td>\n",
       "      <td>NaN</td>\n",
       "      <td>Lusienna Maselska\\nПРЯМИЙ, ЯК КОЧЕРГА - БЛЄСК!...</td>\n",
       "      <td>111.0</td>\n",
       "      <td>7.0</td>\n",
       "      <td>4.0</td>\n",
       "      <td>NaN</td>\n",
       "      <td>Olga Kiyan</td>\n",
       "      <td>NaN</td>\n",
       "      <td>NaN</td>\n",
       "    </tr>\n",
       "  </tbody>\n",
       "</table>\n",
       "<p>5 rows × 26 columns</p>\n",
       "</div>"
      ],
      "text/plain": [
       "                    Timestamp      Author of poem Missing from Authors tab?  \\\n",
       "0                          87         Halyna Kruk                       NaN   \n",
       "1         2022-04-10 23:30:07     Ostap Slyvynsky                       NaN   \n",
       "2                          53     Osip Mandelstam                       NaN   \n",
       "3  2022-08-02 13:10:06.549000    Boris Khersonsky                       NaN   \n",
       "4  2022-04-29 11:28:58.828000  Oleksandr Irvanets                       NaN   \n",
       "\n",
       "       Author of post Date posted  \\\n",
       "0         Halyna Kruk  2013-12-06   \n",
       "1     Ostap Slyvynsky  2013-12-26   \n",
       "2     Maria Stepanova  2013-12-27   \n",
       "3    Boris Khersonsky  2013-12-31   \n",
       "4  Oleksandr Irvanets  2014-01-01   \n",
       "\n",
       "                                URL of facebook post  \\\n",
       "0  https://www.facebook.com/halyna.kruk/posts/101...   \n",
       "1  https://www.facebook.com/ostap.slyvynsky/posts...   \n",
       "2       https://www.facebook.com/maria.stepanova.372   \n",
       "3  https://www.facebook.com/borkhers/posts/pfbid0...   \n",
       "4  https://www.facebook.com/alekirvan/posts/10202...   \n",
       "\n",
       "   Private post or link not working?  \\\n",
       "0                                NaN   \n",
       "1                                NaN   \n",
       "2                                NaN   \n",
       "3                                NaN   \n",
       "4                                NaN   \n",
       "\n",
       "                                      Themes curated  \\\n",
       "0     {'maidan', 'revolution', 'protest', 'ukraine'}   \n",
       "1  {'maidan', 'poetic form', 'haiku', 'revolution...   \n",
       "2               {'time', 'war', 'twentieth century'}   \n",
       "3                                                NaN   \n",
       "4                    {'seasons', 'time', 'new year'}   \n",
       "\n",
       "             Theme(s) (comma separated)    Theme 2 (blank)  ...  \\\n",
       "0                                Maidan            Ukraine  ...   \n",
       "1                         Haiku, Maidan                NaN  ...   \n",
       "2                                   war  twentieth century  ...   \n",
       "3  Soviet Union, food, morphine, anthem                NaN  ...   \n",
       "4                              New year                NaN  ...   \n",
       "\n",
       "  Additional URL (if the post links to an external poem)  \\\n",
       "0                                                NaN       \n",
       "1                                                NaN       \n",
       "2                                                NaN       \n",
       "3                                                NaN       \n",
       "4                                                NaN       \n",
       "\n",
       "                                            fulltext  \\\n",
       "0  9+\\n3\\n20+\\nEran\\nHalyna Kruk\\nDecember 6, 201...   \n",
       "1  ХАЙКУ З МАЙДАНУ\\nДим у рукавах.\\nНіби йдеш з ц...   \n",
       "2  9+\\n3\\n20+\\nEran\\nMaria Stepanova\\n3 mutual\\nA...   \n",
       "3                                                NaN   \n",
       "4                                                NaN   \n",
       "\n",
       "                           Comments (copy and paste) Number of likes  \\\n",
       "0                                                NaN           251.0   \n",
       "1  Yulia Tareieva\\nТак як є\\nSee Translation8y\\nS...            93.0   \n",
       "2                                                NaN            50.0   \n",
       "3  Леонид Кучеренко\\nЯ сразу вспомнил ТУ жизнь\\n\\...           120.0   \n",
       "4  Lusienna Maselska\\nПРЯМИЙ, ЯК КОЧЕРГА - БЛЄСК!...           111.0   \n",
       "\n",
       "  Number of comments Number of shares                        Other notes  \\\n",
       "0               27.0             68.0  Read by author at Lviv Euromaidan   \n",
       "1                7.0             10.0                                NaN   \n",
       "2                4.0              3.0      By Osip Mandelshtam (1935-36)   \n",
       "3               19.0             11.0                                NaN   \n",
       "4                7.0              4.0                                NaN   \n",
       "\n",
       "       Your name Suggestion/correction in comment field?   Unnamed: 25  \n",
       "0            NaN                                      NaN          NaN  \n",
       "1  Amelia Glaser                                      NaN          NaN  \n",
       "2            NaN                                      NaN          NaN  \n",
       "3  Amelia Glaser                                       No          NaN  \n",
       "4     Olga Kiyan                                      NaN          NaN  \n",
       "\n",
       "[5 rows x 26 columns]"
      ]
     },
     "execution_count": 8,
     "metadata": {},
     "output_type": "execute_result"
    }
   ],
   "source": [
    "dfPosts.head()"
   ]
  },
  {
   "cell_type": "markdown",
   "metadata": {},
   "source": [
    "### Who are the Russian-language authors?"
   ]
  },
  {
   "cell_type": "code",
   "execution_count": 17,
   "metadata": {},
   "outputs": [
    {
     "data": {
      "text/plain": [
       "Index(['Timestamp', 'Author of poem', 'Missing from Authors tab?',\n",
       "       'Author of post', 'Date posted', 'URL of facebook post',\n",
       "       'Private post or link not working?', 'Themes curated',\n",
       "       'Theme(s) (comma separated)', 'Theme 2 (blank)', 'Theme 3 (blank)',\n",
       "       'Poem(s) in comment field?', 'Language', 'In translation?',\n",
       "       'Original language (if post is a translation)',\n",
       "       'Poem full text (copy and paste)',\n",
       "       'Additional URL (if the post links to an external poem)', 'fulltext',\n",
       "       'Comments (copy and paste)', 'Number of likes', 'Number of comments',\n",
       "       'Number of shares', 'Other notes', 'Your name',\n",
       "       'Suggestion/correction in comment field? ', 'Unnamed: 25'],\n",
       "      dtype='object')"
      ]
     },
     "execution_count": 17,
     "metadata": {},
     "output_type": "execute_result"
    }
   ],
   "source": [
    "dfPosts.columns"
   ]
  },
  {
   "cell_type": "code",
   "execution_count": 10,
   "metadata": {},
   "outputs": [
    {
     "data": {
      "text/plain": [
       "Ukrainian                                                                                      589\n",
       "Russian                                                                                        337\n",
       "English                                                                                         24\n",
       "Polish                                                                                          21\n",
       "Hebrew                                                                                           9\n",
       "Belorusian                                                                                       5\n",
       "Russian, Ukrainian                                                                               3\n",
       "Italian                                                                                          2\n",
       "Estonian                                                                                         2\n",
       "Croatian                                                                                         2\n",
       "Georgian                                                                                         1\n",
       "German                                                                                           1\n",
       "Tatar                                                                                            1\n",
       "Hungarian                                                                                        1\n",
       "Ukrainian, Belorusian                                                                            1\n",
       "Malayalam                                                                                        1\n",
       "English, Ukrainian                                                                               1\n",
       "English, Malayam                                                                                 1\n",
       "Lithuanian                                                                                       1\n",
       "Greek                                                                                            1\n",
       "English, Russian                                                                                 1\n",
       "Swedish                                                                                          1\n",
       "Russian, Polish                                                                                  1\n",
       "English, Russian, Ukrainian, Polish, Belorusian, original Russian with various translations      1\n",
       "Belarusian                                                                                       1\n",
       "Name: Language, dtype: int64"
      ]
     },
     "execution_count": 10,
     "metadata": {},
     "output_type": "execute_result"
    }
   ],
   "source": [
    "dfPosts['Language'].value_counts()"
   ]
  },
  {
   "cell_type": "markdown",
   "metadata": {},
   "source": [
    "### Create new df"
   ]
  },
  {
   "cell_type": "code",
   "execution_count": 11,
   "metadata": {},
   "outputs": [],
   "source": [
    "posts = dfPosts[dfPosts['Language'] == 'Russian']"
   ]
  },
  {
   "cell_type": "code",
   "execution_count": 12,
   "metadata": {},
   "outputs": [
    {
     "data": {
      "text/plain": [
       "Boris Khersonsky         113\n",
       "Dmitry Strotsev           35\n",
       "Maria Galina              27\n",
       "Nathalie Beltchenko       24\n",
       "Ludmila Khersonskaya      18\n",
       "Strotsev Dmitry           15\n",
       "Andrij Bondar             14\n",
       "Arkadii Shtypel           13\n",
       "Stanislav Belskiy         11\n",
       "Dmitry Kuzmin             10\n",
       "Iya Kiva                   8\n",
       "Vladislava Ilinska         7\n",
       "Maria Stepanova            6\n",
       "Julia Musakovska           5\n",
       "Liudmila Khersonskaya      4\n",
       "Oleksandr Irvanets         3\n",
       "Alex Averbuch              3\n",
       "Ilya Rissenberg            3\n",
       "Olga Bragina               3\n",
       "Elena Borishpolets         2\n",
       "Marianna Kijanowska        2\n",
       "Kateryna Kalytko           2\n",
       "Iryna Tsilyk               1\n",
       "Maria Galina               1\n",
       "Ostap Slyvynsky            1\n",
       "Gleb Morev                 1\n",
       "Halyna Kruk                1\n",
       "Lilia Burzhurova           1\n",
       "Nina Kossman               1\n",
       "Igor Karaulov              1\n",
       "Boris Khersonsky           1\n",
       "Name: Author of post, dtype: int64"
      ]
     },
     "execution_count": 12,
     "metadata": {},
     "output_type": "execute_result"
    }
   ],
   "source": [
    "posts['Author of post'].value_counts()"
   ]
  },
  {
   "cell_type": "code",
   "execution_count": 13,
   "metadata": {},
   "outputs": [],
   "source": [
    "df = posts[posts['Author of post'] == 'Boris Khersonsky']"
   ]
  },
  {
   "cell_type": "code",
   "execution_count": 16,
   "metadata": {},
   "outputs": [
    {
     "data": {
      "text/plain": [
       "<AxesSubplot:xlabel='Date posted,Date posted'>"
      ]
     },
     "execution_count": 16,
     "metadata": {},
     "output_type": "execute_result"
    },
    {
     "data": {
      "image/png": "[encoded data removed]",
      "text/plain": [
       "<Figure size 432x288 with 1 Axes>"
      ]
     },
     "metadata": {
      "needs_background": "light"
     },
     "output_type": "display_data"
    }
   ],
   "source": [
    "df['Date posted'].groupby([df[\"Date posted\"].dt.year, df[\"Date posted\"].dt.month]).count().plot(kind=\"bar\")"
   ]
  },
  {
   "cell_type": "code",
   "execution_count": null,
   "metadata": {},
   "outputs": [],
   "source": []
  }
 ],
 "metadata": {
  "kernelspec": {
   "display_name": "Python 3 (ipykernel)",
   "language": "python",
   "name": "python3"
  },
  "language_info": {
   "codemirror_mode": {
    "name": "ipython",
    "version": 3
   },
   "file_extension": ".py",
   "mimetype": "text/x-python",
   "name": "python",
   "nbconvert_exporter": "python",
   "pygments_lexer": "ipython3",
   "version": "3.9.7"
  }
 },
 "nbformat": 4,
 "nbformat_minor": 4
}
