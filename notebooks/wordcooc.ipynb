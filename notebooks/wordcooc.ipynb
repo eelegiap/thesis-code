{
 "cells": [
  {
   "cell_type": "code",
   "execution_count": 1,
   "id": "f5c1f973-8e3c-42fb-beb2-8eae75e46db6",
   "metadata": {},
   "outputs": [],
   "source": [
    "import pandas as pd\n",
    "import random\n",
    "import json\n",
    "import csv\n",
    "from tqdm import tqdm"
   ]
  },
  {
   "cell_type": "code",
   "execution_count": 2,
   "id": "2d9e97f2-a55b-4a46-98ba-f6dcdfd86baa",
   "metadata": {},
   "outputs": [
    {
     "data": {
      "text/plain": [
       "{'Text': 'А как выйдет младенец биясь и крича\\nтак сосед вызывает мента и врача\\nи склонившись над яслями оба \\nдержат тайный совет с ослецом и тельцом\\nоттесняя подальше Марию с отцом \\nне мелькайте мамаша я тут говорю с понятыми. \\n \\nИ пока ему мент указует козу \\nврач глядит ему в черные эти глаза\\nеврейчонка зайчонка сучонка\\nи жалеет соседа бессонного пса\\nи не знает какого тут сунуть упса \\nсамому бы принять и поспать до второго захода. \\n \\nИ пока ему врач отмеряет на вес, \\nмент успел обойти весь овин и завис\\nибо тоже не зверь но зверяче\\nозирает пеленки трусца пальтеца\\nпочерневших с лица ослеца и тельца \\nтут бы просто свалить но ведь сука опять дозвонится.\\n \\nИ пока ему каплют в развешенный рот\\nон орет арамейским орет и орет \\nбатя мнется Марию колбасит \\nи в запаре ослец не сказал ли чего\\nи как может телец утешает его \\nну сказал выпивают немножко живые же люди. \\n \\nА орет и орет он ногами суча\\nпро тельца ослеца и мента и врача\\nи соседа конечно соседа\\nнадрываясь и членик себе теребя\\nон орет \"я, зараза, достану тебя - \\nно не так, как ты мог бы себе скудоумно представить.\"\\n \\nИ соседа внезапно смертельная мгла\\nнакрывает и душит в кухонном углу\\nи становится страшным окошко\\nпотому как бы вроде и грязный расклад \\nпонаехали сквотят младенец орет\\nно вот прямо мента и врача психанул я чего-то. \\n \\nИ крадется ко хлеви во страхе ночном\\nи руками махает под хлипким окном\\nмол, не надо, валите, ребята,\\nтолько мент уже пишет чего-то в блокнот, \\nтолько врач уже пишет чего-то в блокнот,\\nзавтра в шесть на вокзале скажите спасибо не звали опеку. \\n \\nИ бежит он домой прошибая кусты\\nи впускает на кухню врача и мента\\nи мычит а они отвечают\\nи хотят говорить о себе и других\\nа выходит об этом засранце в яслях\\nпотому что собрались во имя его он сопит и смеется.\\n \\nА в хлеву тишина. В небесах тишина. \\nПять пятнадцать. Из хлева выходит она. \\nСпит младенец. Нагружен Иосиф.\\nИ у желтой звезды на его рукаве\\nочертания Иродовой головы\\nс бородой и в короне но это конечно случайно. \\n \\nА телятя ослятю бодает под дых\\nчто им будет за то что укрыли таких\\nа телятя мумучет и плачет \\nмент же думает молча слипая глаза\\nчто-то братьям в коринф я давно не писал\\nврач же думает молча слипая глаза \\nа хорошая вещь этот самый упса\\nкак не выпить-то весь пузырек расскажи мне парнишка.',\n",
       " 'Author': 'Линор Горалик',\n",
       " 'Before or after': 'Before',\n",
       " 'Source': 'essentialpoetry',\n",
       " 'Date posted': datetime.datetime(2020, 11, 7, 0, 0),\n",
       " 'UniqueIndex': 2539}"
      ]
     },
     "execution_count": 2,
     "metadata": {},
     "output_type": "execute_result"
    }
   ],
   "source": [
    "df = pd.read_excel('../Excel_files/Full_Poem_Dataset_12-17.xlsx')\n",
    "df = df.drop(columns=['Unnamed: 0'])\n",
    "records = df.to_dict('records')\n",
    "random.choice(records)"
   ]
  },
  {
   "cell_type": "markdown",
   "id": "ce3b9229-bc58-4f3e-a0ae-28a37789f49f",
   "metadata": {},
   "source": [
    "## Word Co-occurrence"
   ]
  },
  {
   "cell_type": "markdown",
   "id": "0b227b56-aeef-4944-aff5-1235b96ad4ec",
   "metadata": {},
   "source": [
    "### Initialize Spacy models"
   ]
  },
  {
   "cell_type": "code",
   "execution_count": 3,
   "id": "371f9312-6a74-41ee-aa5e-21f121b3be12",
   "metadata": {},
   "outputs": [],
   "source": [
    "import spacy"
   ]
  },
  {
   "cell_type": "code",
   "execution_count": 4,
   "id": "cc2dcde1-6e44-45a8-9608-4fab8aeafbcc",
   "metadata": {
    "tags": []
   },
   "outputs": [],
   "source": [
    "# !python -m spacy download uk_core_news_lg"
   ]
  },
  {
   "cell_type": "code",
   "execution_count": 5,
   "id": "52702e34-a4ff-4035-a28a-2d0c84216d42",
   "metadata": {
    "tags": []
   },
   "outputs": [],
   "source": [
    "# !python -m spacy download ru_core_news_lg"
   ]
  },
  {
   "cell_type": "code",
   "execution_count": 6,
   "id": "0b3b5557-9ce4-4537-8499-a02eda62f099",
   "metadata": {},
   "outputs": [],
   "source": [
    "nlp = spacy.load(\"ru_core_news_lg\", disable=['attribute_ruler','ner'])"
   ]
  },
  {
   "cell_type": "markdown",
   "id": "942516f5-328e-43c1-bbe7-7569aaafc87f",
   "metadata": {},
   "source": [
    "### Generate Docs"
   ]
  },
  {
   "cell_type": "code",
   "execution_count": 7,
   "id": "b1efa21f-a33d-4adb-9c00-b8f280d09221",
   "metadata": {
    "tags": []
   },
   "outputs": [
    {
     "name": "stderr",
     "output_type": "stream",
     "text": [
      "100%|███████████████████████████████████████| 3222/3222 [02:54<00:00, 18.43it/s]\n"
     ]
    }
   ],
   "source": [
    "for rec in tqdm(records):\n",
    "    recTxt = rec['Text']\n",
    "    # if not isinstance(recTxt,str):\n",
    "    #     recTxt = str(recTxt)\n",
    "    doc = nlp(recTxt)\n",
    "    rec['spacydoc'] = doc"
   ]
  },
  {
   "cell_type": "markdown",
   "id": "a64b179b-158c-4d4e-a97b-897dee35c264",
   "metadata": {},
   "source": [
    "### Run cooc parser"
   ]
  },
  {
   "cell_type": "code",
   "execution_count": 8,
   "id": "05b78a34-0444-4d3d-93a0-9a06e49006b0",
   "metadata": {},
   "outputs": [],
   "source": [
    "import itertools\n",
    "import string"
   ]
  },
  {
   "cell_type": "code",
   "execution_count": 9,
   "id": "140544ad-c44a-4e92-81e1-0da4761dfc55",
   "metadata": {},
   "outputs": [],
   "source": [
    "from spacy.lang.ru import stop_words\n",
    "ru_stops = stop_words.STOP_WORDS\n",
    "\n",
    "from spacy.lang.en import stop_words\n",
    "en_stops = stop_words.STOP_WORDS\n",
    "\n",
    "from spacy.lang.uk import stop_words\n",
    "uk_stops = stop_words.STOP_WORDS\n",
    "\n",
    "from spacy.lang.es import stop_words\n",
    "es_stops = stop_words.STOP_WORDS\n",
    "\n",
    "from spacy.lang.pl import stop_words\n",
    "pl_stops = stop_words.STOP_WORDS\n",
    "\n",
    "stopwords = list(ru_stops)+list(uk_stops)\n",
    "foreign_stops = list(en_stops)+list(es_stops)+list(pl_stops)\n",
    "short_stops = [s for s in stopwords if len(s) < 3]\n",
    "short_ru_stops = [s for s in ru_stops if len(s) < 3]"
   ]
  },
  {
   "cell_type": "code",
   "execution_count": 10,
   "id": "e983f2f6-8b37-4ea4-8973-2a4965df02e7",
   "metadata": {},
   "outputs": [],
   "source": [
    "def isLemma(txt):\n",
    "    for p in string.punctuation+'—'+'–':\n",
    "        if p in txt:\n",
    "            return False\n",
    "    if txt.isspace():\n",
    "        return False\n",
    "    if txt in foreign_stops:\n",
    "        return False\n",
    "    # if txt in short_stops:\n",
    "    #     return False\n",
    "    if txt in stopwords:\n",
    "        return False\n",
    "    return True"
   ]
  },
  {
   "cell_type": "code",
   "execution_count": 11,
   "id": "d8995008-9391-4d6c-96cd-28eee8c64428",
   "metadata": {},
   "outputs": [
    {
     "data": {
      "text/plain": [
       "False"
      ]
     },
     "execution_count": 11,
     "metadata": {},
     "output_type": "execute_result"
    }
   ],
   "source": [
    "isLemma('говорить')"
   ]
  },
  {
   "cell_type": "markdown",
   "id": "2202d39e-5e2f-44de-95d0-f0e0811d1b62",
   "metadata": {
    "tags": []
   },
   "source": [
    "## Before and after separate"
   ]
  },
  {
   "cell_type": "code",
   "execution_count": 21,
   "id": "ed635a2f-dc8d-4b57-b0d5-2fdea3c2ca6e",
   "metadata": {
    "jupyter": {
     "source_hidden": true
    },
    "tags": []
   },
   "outputs": [
    {
     "name": "stdout",
     "output_type": "stream",
     "text": [
      "finding sufficient nodes...\n"
     ]
    },
    {
     "name": "stderr",
     "output_type": "stream",
     "text": [
      "100%|█████████████████████████████████████| 3222/3222 [00:02<00:00, 1281.07it/s]\n"
     ]
    },
    {
     "name": "stdout",
     "output_type": "stream",
     "text": [
      "parsing links...\n"
     ]
    },
    {
     "name": "stderr",
     "output_type": "stream",
     "text": [
      "100%|██████████████████████████████████████| 3222/3222 [00:11<00:00, 291.66it/s]\n"
     ]
    },
    {
     "name": "stdout",
     "output_type": "stream",
     "text": [
      "[47, 33, 27, 26, 25, 24, 23, 23, 22, 22]\n",
      "162859\n",
      "wrote the jsons!\n"
     ]
    }
   ],
   "source": [
    "for period in ['Before','After'][1:]:\n",
    "    \n",
    "    lens=set()\n",
    "    lenCts = dict()\n",
    "\n",
    "    networkJson = dict()\n",
    "    networkJson['nodes'] = []\n",
    "    networkJson['links'] = []\n",
    "\n",
    "    curatedNodes = set()\n",
    "    linkCounter = dict()\n",
    "    lemmaCounter = dict()\n",
    "\n",
    "    print('finding sufficient nodes...')\n",
    "\n",
    "    for rec in tqdm(records):\n",
    "        # if rec['Before or after'] != period:\n",
    "            # continue\n",
    "            \n",
    "        recTxt = rec['Text']\n",
    "\n",
    "        doc = rec['spacydoc']\n",
    "        for t1 in doc:\n",
    "            l1 = t1.lemma_.lower()\n",
    "            lemmaCounter.setdefault(l1, 0)\n",
    "            lemmaCounter[l1] += 1\n",
    "\n",
    "    # find those nodes which occur enough times\n",
    "    sufficientNodes = set()\n",
    "    for lemma in lemmaCounter:\n",
    "        if lemmaCounter[lemma] >= 5 and isLemma(lemma):\n",
    "            sufficientNodes.add(lemma.lower())\n",
    "\n",
    "\n",
    "    label2lines = dict()\n",
    "    # label2recs = dict()\n",
    "    label2authors = dict()\n",
    "\n",
    "    print('parsing links...')\n",
    "    for rec in tqdm(records):\n",
    "        \n",
    "        if rec['Before or after'] != period:\n",
    "            continue\n",
    "        \n",
    "        doc = rec['spacydoc']\n",
    "        newdoc = [t for t in doc if (t.text.isalpha() or t.text == '\\n')]\n",
    "        doclen = len(newdoc)\n",
    "        # # line jumping\n",
    "        allLines = []\n",
    "        newLine = []\n",
    "        for i, t in enumerate(newdoc):\n",
    "            if t.text == '\\n':\n",
    "                allLines.append(newLine)\n",
    "                newLine = []\n",
    "            elif i == doclen-1:\n",
    "                allLines.append(newLine)\n",
    "            else:\n",
    "                newLine.append(t)\n",
    "        numLines = len(allLines)\n",
    "        windowlength = 2\n",
    "\n",
    "        labelFoundFromLine = dict()\n",
    "        for i1 in range(numLines-windowlength):\n",
    "            # all tokens in the desired range\n",
    "            tokensInWindow = []\n",
    "            excerptLines = []\n",
    "            for line in allLines[i1:i1+windowlength]:\n",
    "                excerptLines.append(' '.join([t.text for t in line]))\n",
    "                for token in line:\n",
    "                    tokensInWindow.append(token)\n",
    "            tiw = len(tokensInWindow)\n",
    "            lens.add(tiw)\n",
    "            lenCts.setdefault(tiw,0)\n",
    "            lenCts[tiw] += 1\n",
    "            if tiw > 50:\n",
    "                continue\n",
    "\n",
    "            for ic, (t1, t2) in enumerate(itertools.combinations(tokensInWindow,2)):\n",
    "                l1 = t1.lemma_.lower()\n",
    "                l2 = t2.lemma_.lower()\n",
    "                if l1 != l2 and l1 in sufficientNodes and l2 in sufficientNodes:\n",
    "                    label = 'AND'.join(sorted([l1, l2]))\n",
    "\n",
    "                    ### label already found in line?\n",
    "                    repeatedInstance = False\n",
    "                    for line in excerptLines:\n",
    "                        labelFoundFromLine.setdefault((label, line), False)\n",
    "                        if labelFoundFromLine[(label, line)]:\n",
    "                            repeatedInstance = True\n",
    "                        else:\n",
    "                            labelFoundFromLine[(label, line)] = True\n",
    "                    if repeatedInstance:\n",
    "                        continue\n",
    "\n",
    "                    label2authors.setdefault(label, set())\n",
    "                    label2authors[label].add(rec['Author'])\n",
    "#                     label2recs.setdefault(label, [])\n",
    "#                     if rec not in label2recs[label]:\n",
    "#                         label2recs[label].append(rec)\n",
    "\n",
    "                    excerpt = '\\n'.join(excerptLines)\n",
    "                    label2lines.setdefault(label, [])\n",
    "                    if excerpt not in [e['excerpt'] for e in label2lines[label]]:\n",
    "                        # increase link Ct\n",
    "                        linkCounter.setdefault(label, 0)\n",
    "                        linkCounter[label] += 1\n",
    "                        period = rec['Before or after']\n",
    "                        if pd.isna(period):\n",
    "                            period = ''\n",
    "                        author = rec['Author']\n",
    "                        if pd.isna(author):\n",
    "                            author = 'Unknown'\n",
    "                        label2lines[label].append({\n",
    "                            'excerpt' : excerpt,\n",
    "                            'author' : author,\n",
    "                            'period' : period,\n",
    "                            'uniqueIndex' : rec['UniqueIndex']\n",
    "                        })\n",
    "\n",
    "    node2id = dict()\n",
    "    for i, node in enumerate(sufficientNodes):\n",
    "        networkJson['nodes'].append({\n",
    "            'id' : node,\n",
    "            'totalinstances' : lemmaCounter[node]\n",
    "        })\n",
    "        node2id[node] = i\n",
    "\n",
    "    for label in linkCounter:\n",
    "        source = label.split('AND')[0]\n",
    "        target = label.split('AND')[1]\n",
    "        if lemmaCounter[source] > 9 and lemmaCounter[target] > 9:\n",
    "            networkJson['links'].append({\n",
    "                'source' : node2id[source],\n",
    "                'target' : node2id[target],\n",
    "                'sourceLemma' : source,\n",
    "                'targetLemma' : target,\n",
    "                'linkCt' : linkCounter[label],\n",
    "                'authorCt' : list(label2authors[label])\n",
    "            })\n",
    "    print(sorted([l['linkCt'] for l in networkJson['links']],reverse=True)[:10])\n",
    "    print(len(networkJson['links']))\n",
    "    with open(f'../wordnet/data/{period}-wordnet2lines_allstops_2-21.json', 'w') as json_file:\n",
    "        json.dump(networkJson, json_file, ensure_ascii = False, indent=4)\n",
    "    with open(f'../wordnet/data/{period}-label2lines_2-21.json', 'w') as json_file:\n",
    "        json.dump(label2lines, json_file, ensure_ascii=False, indent=4)\n",
    "    print('wrote the jsons!')"
   ]
  },
  {
   "cell_type": "markdown",
   "id": "5a7eea5d-5a9a-4791-9cbd-1f0341b0fa4f",
   "metadata": {},
   "source": [
    "## Before and After Together"
   ]
  },
  {
   "cell_type": "code",
   "execution_count": 22,
   "id": "dfc7f9c6-1b6a-446f-9e0d-683086b20ac8",
   "metadata": {},
   "outputs": [
    {
     "name": "stdout",
     "output_type": "stream",
     "text": [
      "finding sufficient nodes...\n"
     ]
    },
    {
     "name": "stderr",
     "output_type": "stream",
     "text": [
      "100%|██████████████████████████████████████| 3222/3222 [00:17<00:00, 181.42it/s]\n"
     ]
    },
    {
     "name": "stdout",
     "output_type": "stream",
     "text": [
      "parsing links...\n"
     ]
    },
    {
     "name": "stderr",
     "output_type": "stream",
     "text": [
      "100%|██████████████████████████████████████| 3222/3222 [00:20<00:00, 156.51it/s]\n"
     ]
    },
    {
     "name": "stdout",
     "output_type": "stream",
     "text": [
      "[37, 30, 26, 23, 21, 19, 19, 18, 18, 17]\n",
      "310725\n",
      "wrote the json!\n"
     ]
    }
   ],
   "source": [
    "lens=set()\n",
    "lenCts = dict()\n",
    "\n",
    "networkJson = dict()\n",
    "networkJson['nodes'] = []\n",
    "networkJson['links'] = []\n",
    "\n",
    "curatedNodes = set()\n",
    "linkCounter = {'Before' : dict(), 'After' : dict()}\n",
    "lemmaCounter = dict()\n",
    "\n",
    "print('finding sufficient nodes...')\n",
    "\n",
    "for rec in tqdm(records):\n",
    "    # if rec['Before or after'] != period:\n",
    "        # continue\n",
    "\n",
    "    recTxt = rec['Text']\n",
    "\n",
    "    doc = rec['spacydoc']\n",
    "    for t1 in doc:\n",
    "        l1 = t1.lemma_.lower()\n",
    "        lemmaCounter.setdefault(l1, 0)\n",
    "        lemmaCounter[l1] += 1\n",
    "\n",
    "# find those nodes which occur enough times\n",
    "sufficientNodes = set()\n",
    "for lemma in lemmaCounter:\n",
    "    if lemmaCounter[lemma] >= 5 and isLemma(lemma):\n",
    "        sufficientNodes.add(lemma.lower())\n",
    "\n",
    "\n",
    "label2lines = dict()\n",
    "# label2recs = dict()\n",
    "label2authors = dict()\n",
    "allLabels = set()\n",
    "\n",
    "print('parsing links...')\n",
    "for rec in tqdm(records):\n",
    "\n",
    "    period = rec['Before or after']\n",
    "\n",
    "    doc = rec['spacydoc']\n",
    "    newdoc = [t for t in doc if (t.text.isalpha() or t.text == '\\n')]\n",
    "    doclen = len(newdoc)\n",
    "    # # line jumping\n",
    "    allLines = []\n",
    "    newLine = []\n",
    "    for i, t in enumerate(newdoc):\n",
    "        if t.text == '\\n':\n",
    "            allLines.append(newLine)\n",
    "            newLine = []\n",
    "        elif i == doclen-1:\n",
    "            allLines.append(newLine)\n",
    "        else:\n",
    "            newLine.append(t)\n",
    "    numLines = len(allLines)\n",
    "    windowlength = 2\n",
    "\n",
    "    labelFoundFromLine = dict()\n",
    "    for i1 in range(numLines-windowlength):\n",
    "        # all tokens in the desired range\n",
    "        tokensInWindow = []\n",
    "        excerptLines = []\n",
    "        for line in allLines[i1:i1+windowlength]:\n",
    "            excerptLines.append(' '.join([t.text for t in line]))\n",
    "            for token in line:\n",
    "                tokensInWindow.append(token)\n",
    "        tiw = len(tokensInWindow)\n",
    "        lens.add(tiw)\n",
    "        lenCts.setdefault(tiw,0)\n",
    "        lenCts[tiw] += 1\n",
    "        if tiw > 50:\n",
    "            continue\n",
    "\n",
    "        for ic, (t1, t2) in enumerate(itertools.combinations(tokensInWindow,2)):\n",
    "            l1 = t1.lemma_.lower()\n",
    "            l2 = t2.lemma_.lower()\n",
    "            if l1 != l2 and l1 in sufficientNodes and l2 in sufficientNodes:\n",
    "                label = 'AND'.join(sorted([l1, l2]))\n",
    "\n",
    "                ### label already found in line?\n",
    "                repeatedInstance = False\n",
    "                for line in excerptLines:\n",
    "                    labelFoundFromLine.setdefault((label, line), False)\n",
    "                    if labelFoundFromLine[(label, line)]:\n",
    "                        repeatedInstance = True\n",
    "                    else:\n",
    "                        labelFoundFromLine[(label, line)] = True\n",
    "                if repeatedInstance:\n",
    "                    continue\n",
    "\n",
    "                label2authors.setdefault(label, {'Before' : set(), 'After' : set()})\n",
    "                label2authors[label][period].add(rec['Author'])\n",
    "\n",
    "\n",
    "                # label2recs.setdefault(label, [])\n",
    "                # if rec not in label2recs[label]:\n",
    "                #     label2recs[label].append(rec)\n",
    "\n",
    "                excerpt = '\\n'.join(excerptLines)\n",
    "                label2lines.setdefault(label, [])\n",
    "                if excerpt not in [e['excerpt'] for e in label2lines[label]]:\n",
    "                    # increase link Ct\n",
    "                    for p in ['Before','After']:\n",
    "                        linkCounter[p].setdefault(label, 0)\n",
    "                    linkCounter[period][label] += 1\n",
    "                    allLabels.add(label)\n",
    "\n",
    "                    if pd.isna(period):\n",
    "                        period = ''\n",
    "                    author = rec['Author']\n",
    "                    if pd.isna(author):\n",
    "                        author = 'Unknown'\n",
    "                    label2lines[label].append({\n",
    "                        'excerpt' : excerpt,\n",
    "                        'author' : author,\n",
    "                        'period' : period,\n",
    "                        'uniqueIndex' : rec['UniqueIndex']\n",
    "                    })\n",
    "\n",
    "node2id = dict()\n",
    "for i, node in enumerate(sufficientNodes):\n",
    "    networkJson['nodes'].append({\n",
    "        'id' : node,\n",
    "        'totalinstances' : lemmaCounter[node]\n",
    "    })\n",
    "    node2id[node] = i\n",
    "\n",
    "for label in allLabels:\n",
    "    source = label.split('AND')[0]\n",
    "    target = label.split('AND')[1]\n",
    "    if lemmaCounter[source] > 9 and lemmaCounter[target] > 9:\n",
    "        label2authors[label]['Before'] = list(label2authors[label]['Before'])\n",
    "        label2authors[label]['After'] = list(label2authors[label]['After'])\n",
    "        \n",
    "        networkJson['links'].append({\n",
    "            'source' : node2id[source],\n",
    "            'target' : node2id[target],\n",
    "            'sourceLemma' : source,\n",
    "            'targetLemma' : target,\n",
    "            'linkCtBefore' : linkCounter['Before'][label],\n",
    "            'linkCtAfter' : linkCounter['After'][label],\n",
    "            'authors' : label2authors[label],\n",
    "        })\n",
    "print(sorted([l['linkCtBefore'] for l in networkJson['links']],reverse=True)[:10])\n",
    "print(len(networkJson['links']))\n",
    "with open(f'../matrices/allLinkData3-3_2.json', 'w') as json_file:\n",
    "    json.dump(networkJson, json_file, ensure_ascii = False, indent=4)\n",
    "\n",
    "print('wrote the json!')"
   ]
  },
  {
   "cell_type": "code",
   "execution_count": 15,
   "id": "18144193-f4b2-4efa-8666-2f5ac6d34f8c",
   "metadata": {
    "collapsed": true,
    "jupyter": {
     "outputs_hidden": true
    },
    "tags": []
   },
   "outputs": [
    {
     "data": {
      "text/plain": [
       "dict_keys(['баварияANDзима', 'зимаANDпохожий', 'другуюANDзима', 'баварияANDпохожий', 'баварияANDдругую', 'другуюANDпохожий', 'блуждатьANDдругую', 'другуюANDодиночка', 'блуждатьANDзима', 'зимаANDодиночка', 'блуждатьANDодиночка', 'блуждатьANDискать', 'блуждатьANDрифма', 'искатьANDодиночка', 'одиночкаANDрифма', 'искатьANDрифма', 'искатьANDслабый', 'вестьANDискать', 'рифмаANDслабый', 'вестьANDрифма', 'вестьANDслабый', 'девицаANDслабый', 'пределANDслабый', 'вестьANDдевица', 'вестьANDпредел', 'девицаANDпредел', 'девицаANDпойти', 'пойтиANDпредел', 'зимаANDпойти', 'баварияANDпойти', 'известныйANDпойти', 'зимаANDизвестный', 'баварияANDизвестный', 'затягиватьANDзима', 'баварияANDзатягивать', 'затягиватьANDизвестный', 'затягиватьANDмелодия', 'дебилANDзатягивать', 'дебилANDмелодия', 'мелодияANDтерзать', 'душаANDмелодия', 'дебилANDтерзать', 'дебилANDдуша', 'душаANDтерзать', 'терзатьANDходить', 'паркANDтерзать', 'сокANDтерзать', 'душаANDходить', 'душаANDпарк', 'душаANDсок', 'паркANDходить', 'сокANDходить', 'паркANDсок', 'деревоANDходить', 'деревоANDпарк', 'деревоANDсок', 'деревоANDмир', 'мирANDтишина', 'дноANDмир', 'заливANDмир', 'дноANDтишина', 'заливANDтишина', 'дноANDзалив', 'рыжийANDтишина', 'дноANDрыжий', 'заливANDрыжий', 'зимаANDрыжий', 'баварияANDрыжий', 'душаANDзима', 'бессильныйANDзима', 'бессильныйANDдуша', 'душаANDсосна', 'бессильныйANDсосна', 'житьANDсосна', 'воспоминаниеANDсосна', 'воспоминаниеANDжить', 'думатьANDжить', 'грудьANDжить', 'воспоминаниеANDдумать', 'воспоминаниеANDгрудь', 'грудьANDдумать', 'полечьANDснег', 'гораANDснег', 'гораANDполечь', 'снегANDтьма', 'лунаANDснег', 'полечьANDтьма', 'лунаANDполечь', 'гораANDтьма', 'гораANDлуна', 'лунаANDтьма', 'зимаANDнежный', 'баварияANDнежный', 'зимаANDнепрочный', 'баварияANDнепрочный', 'нежныйANDнепрочный', 'душаANDнепрочный', 'гораANDнепрочный', 'ментальныйANDнепрочный', 'непрочныйANDтронуть', 'непрочныйANDпризрак', 'дальнийANDнепрочный', 'гораANDдуша', 'душаANDментальный', 'душаANDтронуть', 'душаANDпризрак', 'дальнийANDдуша', 'гораANDментальный', 'гораANDтронуть', 'гораANDпризрак', 'гораANDдальний', 'ментальныйANDтронуть', 'ментальныйANDпризрак', 'дальнийANDментальный', 'призракANDтронуть', 'дальнийANDтронуть', 'дальнийANDпризрак', 'душаANDдыра', 'гораANDдыра', 'дыраANDментальный', 'дыраANDтронуть', 'дыраANDпризрак', 'дальнийANDдыра', 'дыраANDпробел', 'дыраANDмир', 'душаANDпробел', 'душаANDмир', 'мирANDпробел', 'любимыйANDпробел', 'любимыйANDмир', 'любимыйANDтлен', 'любимыйANDтело', 'летоANDлюбимый', 'телоANDтлен', 'летоANDтлен', 'летоANDтело', 'зимаANDтлен', 'баварияANDтлен', 'необходимыйANDтлен', 'зимаANDтело', 'баварияANDтело', 'необходимыйANDтело', 'зимаANDлето', 'баварияANDлето', 'летоANDнеобходимый', 'зимаANDнеобходимый', 'баварияANDнеобходимый', 'зимаANDюг', 'зимаANDполоса', 'зимаANDсеребряный', 'баварияANDюг', 'баварияANDполоса', 'баварияANDсеребряный', 'необходимыйANDюг', 'необходимыйANDполоса', 'необходимыйANDсеребряный', 'полосаANDюг', 'серебряныйANDюг', 'полосаANDсеребряный', 'высокийANDюг', 'ставитьANDюг', 'высокийANDполоса', 'полосаANDставить', 'высокийANDсеребряный', 'серебряныйANDставить', 'высокийANDставить', 'высокийANDпредчувствие', 'высокийANDпесок', 'предчувствиеANDставить', 'песокANDставить', 'песокANDпредчувствие', 'песочныйANDпредчувствие', 'песокANDпесочный', 'песочныйANDполучить', 'отнынеANDпесочный', 'невесомыйANDпесочный', 'отнынеANDполучить', 'невесомыйANDполучить', 'невесомыйANDотныне', 'годANDналево', 'налевоANDходить', 'красныйANDходить', 'виноANDходить', 'виноANDкрасный', 'красныйANDнаправо', 'водитьANDкрасный', 'виноANDнаправо', 'виноANDводить', 'водитьANDнаправо', 'белыйANDнаправо', 'направоANDхлеб', 'бегатьANDнаправо', 'белыйANDводить', 'водитьANDхлеб', 'бегатьANDводить', 'белыйANDхлеб', 'бегатьANDбелый', 'бегатьANDхлеб', 'белыйANDсон', 'белыйANDтяжесть', 'сонANDхлеб', 'тяжестьANDхлеб', 'бегатьANDсон', 'бегатьANDтяжесть', 'сонANDтяжесть', 'влажныйANDсон', 'битьANDсон', 'влажныйANDтяжесть', 'битьANDтяжесть', 'битьANDвлажный', 'крепкийANDсвет', 'светANDспи', 'крепкийANDспи', 'крепкийANDпредстоять', 'предстоятьANDспи', 'остановкаANDпредстоять', 'предстоятьANDсолёный', 'предстоятьANDпуть', 'времяANDпредстоять', 'предстоятьANDразделить', 'глазANDпредстоять', 'остановкаANDсолёный', 'остановкаANDпуть', 'времяANDостановка', 'остановкаANDразделить', 'глазANDостановка', 'путьANDсолёный', 'времяANDсолёный', 'разделитьANDсолёный', 'глазANDсолёный', 'времяANDпуть', 'путьANDразделить', 'глазANDпуть', 'времяANDразделить', 'времяANDглаз', 'глазANDразделить', 'остановкаANDострый', 'остановкаANDстрелка', 'остановкаANDсердце', 'каменьANDостановка', 'острыйANDсолёный', 'солёныйANDстрелка', 'сердцеANDсолёный', 'каменьANDсолёный', 'острыйANDпуть', 'путьANDстрелка', 'путьANDсердце', 'каменьANDпуть', 'времяANDострый', 'времяANDстрелка', 'времяANDсердце', 'времяANDкамень', 'острыйANDразделить', 'разделитьANDстрелка', 'разделитьANDсердце', 'каменьANDразделить', 'глазANDострый', 'глазANDстрелка', 'глазANDсердце', 'глазANDкамень', 'острыйANDстрелка', 'острыйANDсердце', 'каменьANDострый', 'сердцеANDстрелка', 'каменьANDстрелка', 'каменьANDсердце', 'встатьANDострый', 'встатьANDстрелка', 'встатьANDсердце', 'встатьANDкамень', 'встатьANDсторона', 'встатьANDснег', 'снегANDсторона', 'крапиваANDсказка', 'озонANDсказка', 'сказкаANDчеловечий', 'перстANDсказка', 'крапиваANDозон', 'крапиваANDчеловечий', 'крапиваANDперст', 'озонANDчеловечий', 'озонANDперст', 'перстANDчеловечий', 'неверныйANDчеловечий', 'законANDчеловечий', 'неверныйANDперст', 'законANDперст', 'законANDневерный', 'неверныйANDроса', 'грязьANDневерный', 'законANDроса', 'грязьANDзакон', 'грязьANDроса', 'людскойANDроса', 'побегANDроса', 'грязьANDлюдской', 'грязьANDпобег', 'людскойANDпобег', 'людскойANDрод', 'людскойANDстена', 'побегANDрод', 'побегANDстена', 'родANDстена', 'лечьANDночь', 'крапиваANDночь', 'крапиваANDлечь', 'быватьANDлечь', 'кровьANDлечь', 'быватьANDкрапива', 'крапиваANDкровь', 'быватьANDкровь', 'быватьANDлюбить', 'быватьANDкрутой', 'быватьANDобрыв', 'кровьANDлюбить', 'кровьANDкрутой', 'кровьANDобрыв', 'крутойANDлюбить', 'любитьANDобрыв', 'крутойANDобрыв', 'благородныйANDлюбить', 'любитьANDлюдской', 'любитьANDсын', 'благородныйANDкрутой', 'крутойANDлюдской', 'крутойANDсын', 'благородныйANDобрыв', 'людскойANDобрыв', 'обрывANDсын', 'благородныйANDлюдской', 'благородныйANDсын', 'людскойANDсын', 'благородныйANDлоно', 'лоноANDлюдской', 'лоноANDсын', 'лоноANDстена', 'лобANDлоно', 'лобANDстена', 'скольANDстена', 'ниANDстена', 'оборонаANDстена', 'лобANDсколь', 'лобANDни', 'лобANDоборона', 'ниANDсколь', 'оборонаANDсколь', 'ниANDоборона', 'серпANDсколь', 'приходитьANDсколь', 'ниANDсерп', 'ниANDприходить', 'оборонаANDсерп', 'оборонаANDприходить', 'приходитьANDсерп', 'серпANDсолнце', 'полденьANDсерп', 'растиANDсерп', 'приходитьANDсолнце', 'полденьANDприходить', 'приходитьANDрасти', 'полденьANDсолнце', 'растиANDсолнце', 'полденьANDрасти', 'зеленьANDсолнце', 'мирANDсолнце', 'надеждаANDсолнце', 'солнцеANDчудо', 'зеленьANDполдень', 'мирANDполдень', 'надеждаANDполдень', 'полденьANDчудо', 'зеленьANDрасти', 'мирANDрасти', 'надеждаANDрасти', 'растиANDчудо', 'зеленьANDмир', 'зеленьANDнадежда', 'зеленьANDчудо', 'мирANDнадежда', 'мирANDчудо', 'надеждаANDчудо', 'зеленьANDшуметь', 'дождьANDзелень', 'зеленьANDнебосвод', 'мирANDшуметь', 'дождьANDмир', 'мирANDнебосвод', 'надеждаANDшуметь', 'дождьANDнадежда', 'надеждаANDнебосвод', 'чудоANDшуметь', 'дождьANDчудо', 'небосводANDчудо', 'дождьANDшуметь', 'небосводANDшуметь', 'дождьANDнебосвод', 'людскойANDшуметь', 'дождьANDлюдской', 'людскойANDнебосвод', 'людскойANDночной', 'дыханиеANDлюдской', 'людскойANDродство', 'дыханиеANDночной', 'ночнойANDродство', 'дыханиеANDродство', 'ночнойANDсемя', 'мужскойANDночной', 'дыханиеANDсемя', 'дыханиеANDмужской', 'родствоANDсемя', 'мужскойANDродство', 'мужскойANDсемя', 'выбиратьANDсемя', 'живойANDсемя', 'любовьANDсемя', 'жёлтыйANDсемя', 'глинаANDсемя', 'выбиратьANDмужской', 'живойANDмужской', 'любовьANDмужской', 'жёлтыйANDмужской', 'глинаANDмужской', 'выбиратьANDживой', 'выбиратьANDлюбовь', 'выбиратьANDжёлтый', 'выбиратьANDглина', 'живойANDлюбовь', 'живойANDжёлтый', 'глинаANDживой', 'жёлтыйANDлюбовь', 'глинаANDлюбовь', 'глинаANDжёлтый', 'выбиратьANDзлой', 'брызгиANDвыбирать', 'болотныйANDвыбирать', 'выбиратьANDмох', 'живойANDзлой', 'брызгиANDживой', 'болотныйANDживой', 'живойANDмох', 'злойANDлюбовь', 'брызгиANDлюбовь', 'болотныйANDлюбовь', 'любовьANDмох', 'жёлтыйANDзлой', 'брызгиANDжёлтый', 'болотныйANDжёлтый', 'жёлтыйANDмох', 'глинаANDзлой', 'брызгиANDглина', 'болотныйANDглина', 'глинаANDмох', 'брызгиANDзлой', 'болотныйANDзлой', 'злойANDмох', 'болотныйANDбрызги', 'брызгиANDмох', 'болотныйANDмох', 'злойANDтвердь', 'векANDзлой', 'злойANDневинный', 'брызгиANDтвердь', 'брызгиANDвек', 'брызгиANDневинный', 'болотныйANDтвердь', 'болотныйANDвек', 'болотныйANDневинный', 'мохANDтвердь', 'векANDмох', 'мохANDневинный', 'векANDтвердь', 'невинныйANDтвердь', 'векANDневинный', 'средьANDтвердь', 'вьюнокANDтвердь', 'лопухANDтвердь', 'векANDсредь', 'векANDвьюнок', 'векANDлопух', 'невинныйANDсредь', 'вьюнокANDневинный', 'лопухANDневинный', 'вьюнокANDсредь', 'лопухANDсредь', 'вьюнокANDлопух', 'веритьANDсредь', 'ниANDсредь', 'средьANDстёртый', 'веритьANDвьюнок', 'вьюнокANDни', 'вьюнокANDстёртый', 'веритьANDлопух', 'лопухANDни', 'лопухANDстёртый', 'веритьANDни', 'веритьANDстёртый', 'ниANDстёртый', 'веритьANDржавый', 'веритьANDломаный', 'веритьANDгрош', 'ниANDржавый', 'ломаныйANDни', 'грошANDни', 'ржавыйANDстёртый', 'ломаныйANDстёртый', 'грошANDстёртый', 'ломаныйANDржавый', 'грошANDржавый', 'грошANDломаный', 'ниANDтрава', 'мордаANDни', 'ржавыйANDтрава', 'мордаANDржавый', 'ломаныйANDтрава', 'ломаныйANDморда', 'грошANDтрава', 'грошANDморда', 'мордаANDтрава', 'сказатьANDтрава', 'ночьANDтрава', 'братьANDтрава', 'земляANDтрава', 'мордаANDсказать', 'мордаANDночь', 'братьANDморда', 'земляANDморда', 'ночьANDсказать', 'братьANDсказать', 'земляANDсказать', 'братьANDночь', 'земляANDночь', 'братьANDземля', 'вязкийANDсказать', 'сказатьANDсонм', 'сказатьANDчервь', 'вязкийANDночь', 'ночьANDсонм', 'ночьANDчервь', 'братьANDвязкий', 'братьANDсонм', 'братьANDчервь', 'вязкийANDземля', 'земляANDсонм', 'земляANDчервь', 'вязкийANDсонм', 'вязкийANDчервь', 'сонмANDчервь', 'вязкийANDсвет', 'вязкийANDокно', 'виноградныйANDвязкий', 'вязкийANDштора', 'светANDсонм', 'окноANDсонм', 'виноградныйANDсонм', 'сонмANDштора', 'светANDчервь', 'окноANDчервь', 'виноградныйANDчервь', 'червьANDштора', 'окноANDсвет', 'виноградныйANDсвет', 'светANDштора', 'виноградныйANDокно', 'окноANDштора', 'виноградныйANDштора', 'житьANDсвет', 'житьANDокно', 'виноградныйANDжить', 'житьANDштора', 'житьANDродник', 'житьANDпесня', 'житьANDстрекотать', 'песняANDродник', 'родникANDстрекотать', 'песняANDстрекотать', 'родникANDсверчок', 'повторятьANDродник', 'мотивANDродник', 'песняANDсверчок', 'песняANDповторять', 'мотивANDпесня', 'сверчокANDстрекотать', 'повторятьANDстрекотать', 'мотивANDстрекотать', 'повторятьANDсверчок', 'мотивANDсверчок', 'мотивANDповторять', 'выводитьANDсверчок', 'почеркANDсверчок', 'выводитьANDповторять', 'повторятьANDпочерк', 'выводитьANDмотив', 'мотивANDпочерк', 'выводитьANDпочерк', 'выводитьANDкружева', 'выводитьANDстена', 'выводитьANDтравяной', 'выводитьANDдревесный', 'кружеваANDпочерк', 'почеркANDстена', 'почеркANDтравяной', 'древесныйANDпочерк', 'кружеваANDстена', 'кружеваANDтравяной', 'древесныйANDкружева', 'стенаANDтравяной', 'древесныйANDстена', 'древесныйANDтравяной', 'кружеваANDобитель', 'кирпичANDкружева', 'обительANDстена', 'кирпичANDстена', 'обительANDтравяной', 'кирпичANDтравяной', 'древесныйANDобитель', 'древесныйANDкирпич', 'кирпичANDобитель', 'ищиANDобитель', 'обительANDутешение', 'обительANDтелесный', 'ищиANDкирпич', 'кирпичANDутешение', 'кирпичANDтелесный', 'ищиANDутешение', 'ищиANDтелесный', 'телесныйANDутешение', 'ищиANDрука', 'ищиANDпалач', 'рукаANDутешение', 'палачANDутешение', 'рукаANDтелесный', 'палачANDтелесный', 'палачANDрука', 'рукаANDхороший', 'плохойANDрука', 'палачANDхороший', 'палачANDплохой', 'плохойANDхороший', 'грехANDхороший', 'хорошийANDчужой', 'братьANDхороший', 'грехANDплохой', 'плохойANDчужой', 'братьANDплохой', 'грехANDчужой', 'братьANDгрех', 'братьANDчужой', 'бежатьANDгрех', 'грехANDснаружи', 'бежатьANDчужой', 'снаружиANDчужой', 'бежатьANDбрать', 'братьANDснаружи', 'бежатьANDснаружи', 'бежатьANDубивать', 'бежатьANDвнутри', 'бежатьANDтемень', 'снаружиANDубивать', 'внутриANDснаружи', 'снаружиANDтемень', 'внутриANDубивать', 'теменьANDубивать', 'внутриANDтемень', 'выходANDубивать', 'внутриANDвыход', 'выходANDтемень', 'белыйANDвыход', 'выходANDсвет', 'выходANDзатеять', 'белыйANDсвет', 'белыйANDзатеять', 'затеятьANDсвет', 'изранитьANDрот', 'черноANDчёрный', 'распускатьсяANDчёрный', 'дымокANDчёрный', 'слепотаANDчёрный', 'распускатьсяANDчерно', 'дымокANDчерно', 'слепотаANDчерно', 'дымокANDраспускаться', 'распускатьсяANDслепота', 'дымокANDслепота', 'ласковыйANDчёрный', 'небоANDчёрный', 'кусочекANDчёрный', 'ласковыйANDчерно', 'небоANDчерно', 'кусочекANDчерно', 'ласковыйANDраспускаться', 'небоANDраспускаться', 'кусочекANDраспускаться', 'дымокANDласковый', 'дымокANDнебо', 'дымокANDкусочек', 'ласковыйANDслепота', 'небоANDслепота', 'кусочекANDслепота', 'ласковыйANDнебо', 'кусочекANDласковый', 'кусочекANDнебо', 'дымокANDпасть', 'дымокANDистория', 'ласковыйANDпасть', 'историяANDласковый', 'небоANDпасть', 'историяANDнебо', 'кусочекANDпасть', 'историяANDкусочек', 'пастьANDчёрный', 'историяANDчёрный', 'историяANDпасть', 'векоANDстрашный', 'страшныйANDтяжёлый', 'векоANDтяжёлый', 'взрывANDстрашный', 'взрывANDразрыв', 'разрывANDстрашный', 'дрожатьANDразрыв', 'разрывANDтяжёлый', 'ветерANDразрыв', 'разрывANDтянуться', 'разрывANDсомнение', 'дрожатьANDстрашный', 'ветерANDстрашный', 'страшныйANDтянуться', 'сомнениеANDстрашный', 'дрожатьANDтяжёлый', 'ветерANDдрожать', 'дрожатьANDтянуться', 'дрожатьANDсомнение', 'ветерANDтяжёлый', 'тяжёлыйANDтянуться', 'сомнениеANDтяжёлый', 'ветерANDтянуться', 'ветерANDсомнение', 'сомнениеANDтянуться', 'знатьANDстрашный', 'дрожатьANDзнать', 'знатьANDтяжёлый', 'ветерANDзнать', 'знатьANDтянуться', 'знатьANDсомнение', 'знатьANDпомнить', 'знатьANDнеобходимый', 'ветерANDпомнить', 'ветерANDнеобходимый', 'необходимыйANDпомнить', 'помнитьANDстрашный', 'необходимыйANDстрашный', 'помнитьANDустать', 'необходимыйANDустать', 'страшныйANDустать', 'дымитьсяANDустать', 'рассветANDустать', 'бесконечныйANDустать', 'лучезарныйANDустать', 'дымитьсяANDрассвет', 'бесконечныйANDдымиться', 'дымитьсяANDлучезарный', 'бесконечныйANDрассвет', 'лучезарныйANDрассвет', 'бесконечныйANDлучезарный', 'дымитьсяANDпеть', 'дымитьсяANDтемнота', 'петьANDрассвет', 'рассветANDтемнота', 'бесконечныйANDпеть', 'бесконечныйANDтемнота', 'лучезарныйANDпеть', 'лучезарныйANDтемнота', 'петьANDтемнота', 'земляANDпеть', 'катитьANDпеть', 'каменныйANDпеть', 'петьANDтело', 'петьANDснежок', 'петьANDтихий', 'витьсяANDпеть', 'петьANDпопадаться', 'петьANDязык', 'земляANDтемнота', 'катитьANDтемнота', 'каменныйANDтемнота', 'телоANDтемнота', 'снежокANDтемнота', 'темнотаANDтихий', 'витьсяANDтемнота', 'попадатьсяANDтемнота', 'темнотаANDязык', 'земляANDкатить', 'земляANDкаменный', 'земляANDтело', 'земляANDснежок', 'земляANDтихий', 'витьсяANDземля', 'земляANDпопадаться', 'земляANDязык', 'каменныйANDкатить', 'катитьANDтело', 'катитьANDснежок', 'катитьANDтихий', 'витьсяANDкатить', 'катитьANDпопадаться', 'катитьANDязык', 'каменныйANDтело', 'каменныйANDснежок', 'каменныйANDтихий', 'витьсяANDкаменный', 'каменныйANDпопадаться', 'каменныйANDязык', 'снежокANDтело', 'телоANDтихий', 'витьсяANDтело', 'попадатьсяANDтело', 'телоANDязык', 'снежокANDтихий', 'витьсяANDснежок', 'попадатьсяANDснежок', 'снежокANDязык', 'витьсяANDтихий', 'попадатьсяANDтихий', 'тихийANDязык', 'витьсяANDпопадаться', 'витьсяANDязык', 'попадатьсяANDязык', 'земляANDчувствовать', 'земляANDнежный', 'земляANDхолод', 'катитьANDчувствовать', 'катитьANDнежный', 'катитьANDхолод', 'каменныйANDчувствовать', 'каменныйANDнежный', 'каменныйANDхолод', 'телоANDчувствовать', 'нежныйANDтело', 'телоANDхолод', 'снежокANDчувствовать', 'нежныйANDснежок', 'снежокANDхолод', 'тихийANDчувствовать', 'нежныйANDтихий', 'тихийANDхолод', 'витьсяANDчувствовать', 'витьсяANDнежный', 'витьсяANDхолод', 'попадатьсяANDчувствовать', 'нежныйANDпопадаться', 'попадатьсяANDхолод', 'чувствоватьANDязык', 'нежныйANDязык', 'холодANDязык', 'нежныйANDчувствовать', 'холодANDчувствовать', 'нежныйANDхолод', 'тёплыйANDчувствовать', 'близостьANDчувствовать', 'мирANDчувствовать', 'нежныйANDтёплый', 'близостьANDнежный', 'мирANDнежный', 'тёплыйANDхолод', 'близостьANDхолод', 'мирANDхолод', 'близостьANDтёплый', 'мирANDтёплый', 'близостьANDмир', 'пахнутьANDтёплый', 'вьюгаANDтёплый', 'белыйANDтёплый', 'близостьANDпахнуть', 'близостьANDвьюга', 'белыйANDблизость', 'мирANDпахнуть', 'вьюгаANDмир', 'белыйANDмир', 'вьюгаANDпахнуть', 'белыйANDпахнуть', 'белыйANDвьюга', 'луковицаANDпомидор', 'выдавитьANDпомидор', 'помидорANDчеснок', 'добавитьANDпомидор', 'помидорANDсахар', 'ниANDпомидор', 'помидорANDслучай', 'помидорANDсоль', 'помидорANDуксус', 'маслоANDпомидор', 'помидорANDпоставить', 'помидорANDхолодильник', 'подаватьANDпомидор', 'жареныйANDпомидор', 'помидорANDрыба', 'вкусныйANDпомидор', 'выдавитьANDлуковица', 'луковицаANDчеснок', 'добавитьANDлуковица', 'луковицаANDсахар', 'луковицаANDни', 'луковицаANDслучай', 'луковицаANDсоль', 'луковицаANDуксус', 'луковицаANDмасло', 'луковицаANDпоставить', 'луковицаANDхолодильник', 'луковицаANDподавать', 'жареныйANDлуковица', 'луковицаANDрыба', 'вкусныйANDлуковица', 'выдавитьANDчеснок', 'выдавитьANDдобавить', 'выдавитьANDсахар', 'выдавитьANDни', 'выдавитьANDслучай', 'выдавитьANDсоль', 'выдавитьANDуксус', 'выдавитьANDмасло', 'выдавитьANDпоставить', 'выдавитьANDхолодильник', 'выдавитьANDподавать', 'выдавитьANDжареный', 'выдавитьANDрыба', 'вкусныйANDвыдавить', 'добавитьANDчеснок', 'сахарANDчеснок', 'ниANDчеснок', 'случайANDчеснок', 'сольANDчеснок', 'уксусANDчеснок', 'маслоANDчеснок', 'поставитьANDчеснок', 'холодильникANDчеснок', 'подаватьANDчеснок', 'жареныйANDчеснок', 'рыбаANDчеснок', 'вкусныйANDчеснок', 'добавитьANDсахар', 'добавитьANDни', 'добавитьANDслучай', 'добавитьANDсоль', 'добавитьANDуксус', 'добавитьANDмасло', 'добавитьANDпоставить', 'добавитьANDхолодильник', 'добавитьANDподавать', 'добавитьANDжареный', 'добавитьANDрыба', 'вкусныйANDдобавить', 'ниANDсахар', 'сахарANDслучай', 'сахарANDсоль', 'сахарANDуксус', 'маслоANDсахар', 'поставитьANDсахар', 'сахарANDхолодильник', 'подаватьANDсахар', 'жареныйANDсахар', 'рыбаANDсахар', 'вкусныйANDсахар', 'ниANDслучай', 'ниANDсоль', 'ниANDуксус', 'маслоANDни', 'ниANDпоставить', 'ниANDхолодильник', 'ниANDподавать', 'жареныйANDни', 'ниANDрыба', 'вкусныйANDни', 'случайANDсоль', 'случайANDуксус', 'маслоANDслучай', 'поставитьANDслучай', 'случайANDхолодильник', 'подаватьANDслучай', 'жареныйANDслучай', 'рыбаANDслучай', 'вкусныйANDслучай', 'сольANDуксус', 'маслоANDсоль', 'поставитьANDсоль', 'сольANDхолодильник', 'подаватьANDсоль', 'жареныйANDсоль', 'рыбаANDсоль', 'вкусныйANDсоль', 'маслоANDуксус', 'поставитьANDуксус', 'уксусANDхолодильник', 'подаватьANDуксус', 'жареныйANDуксус', 'рыбаANDуксус', 'вкусныйANDуксус', 'маслоANDпоставить', 'маслоANDхолодильник', 'маслоANDподавать', 'жареныйANDмасло', 'маслоANDрыба', 'вкусныйANDмасло', 'поставитьANDхолодильник', 'подаватьANDпоставить', 'жареныйANDпоставить', 'поставитьANDрыба', 'вкусныйANDпоставить', 'подаватьANDхолодильник', 'жареныйANDхолодильник', 'рыбаANDхолодильник', 'вкусныйANDхолодильник', 'жареныйANDподавать', 'подаватьANDрыба', 'вкусныйANDподавать', 'жареныйANDрыба', 'вкусныйANDжареный', 'вкусныйANDрыба', 'вкусныйANDлетний', 'вкусныйANDеда', 'едаANDлетний', 'грустныйANDлетний', 'грустныйANDеда', 'грустныйANDоблако', 'грустныйANDтечь', 'водаANDгрустный', 'облакоANDтечь', 'водаANDоблако', 'водаANDтечь', 'заливANDоблако', 'зелёныйANDоблако', 'заливANDтечь', 'зелёныйANDтечь', 'водаANDзалив', 'водаANDзелёный', 'заливANDзелёный', 'гранатаANDлимон', 'военныйANDграната', 'гранатаANDплод', 'гранатаANDнебо', 'гранатаANDсиний', 'высокийANDграната', 'военныйANDлимон', 'лимонANDплод', 'лимонANDнебо', 'лимонANDсиний', 'высокийANDлимон', 'военныйANDплод', 'военныйANDнебо', 'военныйANDсиний', 'военныйANDвысокий', 'небоANDплод', 'плодANDсиний', 'высокийANDплод', 'небоANDсиний', 'высокийANDнебо', 'высокийANDсиний', 'военныйANDкружиться', 'военныйANDсокол', 'кружитьсяANDплод', 'плодANDсокол', 'кружитьсяANDнебо', 'небоANDсокол', 'кружитьсяANDсиний', 'синийANDсокол', 'высокийANDкружиться', 'высокийANDсокол', 'кружитьсяANDсокол', 'кружитьсяANDоблачный', 'батальонANDкружиться', 'облачныйANDсокол', 'батальонANDсокол', 'батальонANDоблачный', 'облачныйANDпахнуть', 'батальонANDпахнуть', 'пахнутьANDполдень', 'грядкаANDполдень', 'грядкаANDполезный', 'вкусныйANDгрядка', 'вкусныйANDполезный', 'летатьANDпчела', 'летатьANDмуха', 'божийANDлетать', 'летатьANDпеть', 'летатьANDюжный', 'летатьANDмужчина', 'мухаANDпчела', 'божийANDпчела', 'петьANDпчела', 'пчелаANDюжный', 'мужчинаANDпчела', 'божийANDмуха', 'мухаANDпеть', 'мухаANDюжный', 'мужчинаANDмуха', 'божийANDпеть', 'божийANDюжный', 'божийANDмужчина', 'петьANDюжный', 'мужчинаANDпеть', 'мужчинаANDюжный', 'овечийANDпчела', 'мухаANDовечий', 'божийANDовечий', 'овечийANDпеть', 'овечийANDюжный', 'мужчинаANDовечий', 'лизаANDовечий', 'мясоANDшипеть', 'мангалANDмясо', 'мангалANDшипеть', 'кушатьANDшипеть', 'дорогойANDшипеть', 'жалкоANDшипеть', 'кушатьANDмангал', 'дорогойANDмангал', 'жалкоANDмангал', 'дорогойANDкушать', 'жалкоANDкушать', 'дорогойANDжалко', 'кушатьANDпрекрасный', 'кушатьANDрыбка', 'дорогойANDпрекрасный', 'дорогойANDрыбка', 'жалкоANDпрекрасный', 'жалкоANDрыбка', 'прекрасныйANDрыбка', 'житьANDкамень', 'житьANDлюбить', 'каменьANDлюбить', 'долбитьANDзадний', 'долбитьANDсидение', 'заднийANDсидение', 'заднийANDмалиновый', 'заднийANDчлен', 'малиновыйANDсидение', 'сидениеANDчлен', 'малиновыйANDчлен', 'кусатьANDмалиновый', 'малиновыйANDшея', 'кусатьANDчлен', 'членANDшея', 'кусатьANDшея', 'братьANDволос', 'братьANDостаться', 'братьANDпроспект', 'братьANDмир', 'волосANDостаться', 'волосANDпроспект', 'волосANDмир', 'остатьсяANDпроспект', 'мирANDостаться', 'мирANDпроспект', 'веритьANDстрана', 'веритьANDкровь', 'веритьANDслюна', 'вдольANDверить', 'веритьANDполотно', 'кровьANDстрана', 'слюнаANDстрана', 'вдольANDстрана', 'полотноANDстрана', 'кровьANDслюна', 'вдольANDкровь', 'кровьANDполотно', 'вдольANDслюна', 'полотноANDслюна', 'вдольANDполотно', 'вечныйANDкровь', 'колеяANDкровь', 'вечныйANDслюна', 'колеяANDслюна', 'вдольANDвечный', 'вдольANDколея', 'вечныйANDполотно', 'колеяANDполотно', 'вечныйANDколея', 'вечныйANDосторожный', 'колеяANDосторожный', 'осторожныйANDприсесть', 'зимаANDосторожный', 'зимаANDприсесть', 'дорожкаANDприсесть', 'дорожкаANDзима', 'дорожкаANDмощь', 'дорожкаANDплоть', 'дорожкаANDтугой', 'мощьANDплоть', 'мощьANDтугой', 'плотьANDтугой', 'белыйANDмощь', 'выйтиANDмощь', 'изнутриANDмощь', 'белыйANDплоть', 'выйтиANDплоть', 'изнутриANDплоть', 'белыйANDтугой', 'выйтиANDтугой', 'изнутриANDтугой', 'белыйANDвыйти', 'белыйANDизнутри', 'выйтиANDизнутри', 'белыйANDмелкий', 'белыйANDполе', 'выйтиANDмелкий', 'выйтиANDполе', 'изнутриANDмелкий', 'изнутриANDполе', 'мелкийANDполе', 'жирныйANDмелкий', 'жирныйANDполе', 'горькийANDжирный', 'жирныйANDпредстоять', 'жирныйANDстылый', 'жирныйANDтьма', 'жирныйANDсгущаться', 'жирныйANDзима', 'горькийANDпредстоять', 'горькийANDстылый', 'горькийANDтьма', 'горькийANDсгущаться', 'горькийANDзима', 'предстоятьANDстылый', 'предстоятьANDтьма', 'предстоятьANDсгущаться', 'зимаANDпредстоять', 'стылыйANDтьма', 'сгущатьсяANDстылый', 'зимаANDстылый', 'сгущатьсяANDтьма', 'зимаANDтьма', 'зимаANDсгущаться', 'белыйANDгорький', 'горькийANDрука', 'горькийANDмыться', 'горькийANDдобела', 'белыйANDпредстоять', 'предстоятьANDрука', 'мытьсяANDпредстоять', 'добелаANDпредстоять', 'белыйANDстылый', 'рукаANDстылый', 'мытьсяANDстылый', 'добелаANDстылый', 'белыйANDтьма', 'рукаANDтьма', 'мытьсяANDтьма', 'добелаANDтьма', 'белыйANDсгущаться', 'рукаANDсгущаться', 'мытьсяANDсгущаться', 'добелаANDсгущаться', 'белыйANDзима', 'зимаANDрука', 'зимаANDмыться', 'добелаANDзима', 'белыйANDрука', 'белыйANDмыться', 'белыйANDдобела', 'мытьсяANDрука', 'добелаANDрука', 'добелаANDмыться', 'белыйANDчернил', 'белыйANDшкольный', 'белыйANDплохо', 'белыйANDвести', 'рукаANDчернил', 'рукаANDшкольный', 'плохоANDрука', 'вестиANDрука', 'мытьсяANDчернил', 'мытьсяANDшкольный', 'мытьсяANDплохо', 'вестиANDмыться', 'добелаANDчернил', 'добелаANDшкольный', 'добелаANDплохо', 'вестиANDдобела', 'чернилANDшкольный', 'плохоANDчернил', 'вестиANDчернил', 'плохоANDшкольный', 'вестиANDшкольный', 'вестиANDплохо', 'чернилANDчёрный', 'редкоANDчернил', 'чёрныйANDшкольный', 'редкоANDшкольный', 'плохоANDчёрный', 'плохоANDредко', 'вестиANDчёрный', 'вестиANDредко', 'редкоANDчёрный', 'столANDчёрный', 'редкоANDстол', 'вестиANDстол', 'болотныйANDстол', 'болотныйANDдело', 'болотныйANDогонь', 'делоANDогонь', 'делоANDрука', 'белыйANDдело', 'делоANDправда', 'делоANDразлиться', 'делоANDземля', 'огоньANDрука', 'белыйANDогонь', 'огоньANDправда', 'огоньANDразлиться', 'земляANDогонь', 'правдаANDрука', 'разлитьсяANDрука', 'земляANDрука', 'белыйANDправда', 'белыйANDразлиться', 'белыйANDземля', 'правдаANDразлиться', 'земляANDправда', 'земляANDразлиться', 'дорожкаANDрука', 'ноздряANDрука', 'белыйANDдорожка', 'белыйANDноздря', 'дорожкаANDправда', 'ноздряANDправда', 'дорожкаANDразлиться', 'ноздряANDразлиться', 'дорожкаANDземля', 'земляANDноздря', 'дорожкаANDноздря', 'белыйANDнемощь', 'белыйANDбледный', 'белыйANDгрудь', 'белыйANDпустой', 'дорожкаANDнемощь', 'бледныйANDдорожка', 'грудьANDдорожка', 'дорожкаANDпустой', 'немощьANDноздря', 'бледныйANDноздря', 'грудьANDноздря', 'ноздряANDпустой', 'бледныйANDнемощь', 'грудьANDнемощь', 'немощьANDпустой', 'бледныйANDгрудь', 'бледныйANDпустой', 'грудьANDпустой', 'немощьANDтряпка', 'немощьANDпарадный', 'немощьANDночной', 'адANDнемощь', 'головаANDнемощь', 'бледныйANDтряпка', 'бледныйANDпарадный', 'бледныйANDночной', 'адANDбледный', 'бледныйANDголова', 'грудьANDтряпка', 'грудьANDпарадный', 'грудьANDночной', 'адANDгрудь', 'головаANDгрудь', 'пустойANDтряпка', 'парадныйANDпустой', 'ночнойANDпустой', 'адANDпустой', 'головаANDпустой', 'парадныйANDтряпка', 'ночнойANDтряпка', 'адANDтряпка', 'головаANDтряпка', 'ночнойANDпарадный', 'адANDпарадный', 'головаANDпарадный', 'адANDночной', 'головаANDночной', 'адANDголова', 'ржавыйANDтряпка', 'колANDтряпка', 'пытатьсяANDтряпка', 'парадныйANDржавый', 'колANDпарадный', 'парадныйANDпытаться', 'ночнойANDржавый', 'колANDночной', 'ночнойANDпытаться', 'адANDржавый', 'адANDкол', 'адANDпытаться', 'головаANDржавый', 'головаANDкол', 'головаANDпытаться', 'колANDржавый', 'пытатьсяANDржавый', 'колANDпытаться', 'ржавыйANDсписать', 'ржавыйANDтрое', 'ржавыйANDсдать', 'пятьANDржавый', 'колANDсписать', 'колANDтрое', 'колANDсдать', 'колANDпять', 'пытатьсяANDсписать', 'пытатьсяANDтрое', 'пытатьсяANDсдать', 'пытатьсяANDпять', 'списатьANDтрое', 'сдатьANDсписать', 'пятьANDсписать', 'сдатьANDтрое', 'пятьANDтрое', 'пятьANDсдать', 'боятьсяANDсписать', 'огоньANDсписать', 'водаANDсписать', 'боятьсяANDтрое', 'огоньANDтрое', 'водаANDтрое', 'боятьсяANDсдать', 'огоньANDсдать', 'водаANDсдать', 'боятьсяANDпять', 'огоньANDпять', 'водаANDпять', 'боятьсяANDогонь', 'боятьсяANDвода', 'водаANDогонь', 'боятьсяANDподать', 'огоньANDподать', 'водаANDподать', 'неживойANDполный', 'водаANDполный', 'водаANDнеживой', 'животANDполный', 'полныйANDслабый', 'полныйANDрука', 'живойANDполный', 'полныйANDрот', 'животANDнеживой', 'неживойANDслабый', 'неживойANDрука', 'живойANDнеживой', 'неживойANDрот', 'водаANDживот', 'водаANDслабый', 'водаANDрука', 'водаANDживой', 'водаANDрот', 'животANDслабый', 'животANDрука', 'живойANDживот', 'животANDрот', 'рукаANDслабый', 'живойANDслабый', 'ротANDслабый', 'живойANDрука', 'ротANDрука', 'живойANDрот', 'животANDстрашный', 'животANDписьмо', 'животANDтемнота', 'слабыйANDстрашный', 'письмоANDслабый', 'слабыйANDтемнота', 'рукаANDстрашный', 'письмоANDрука', 'рукаANDтемнота', 'живойANDстрашный', 'живойANDписьмо', 'живойANDтемнота', 'ротANDстрашный', 'письмоANDрот', 'ротANDтемнота', 'письмоANDстрашный', 'страшныйANDтемнота', 'письмоANDтемнота', 'страшныйANDужас', 'письмоANDужас', 'темнотаANDужас', 'писатьANDужас', 'товарищANDужас', 'славныйANDужас', 'словоANDужас', 'полноANDужас', 'слушатьANDужас', 'писатьANDтемнота', 'темнотаANDтоварищ', 'славныйANDтемнота', 'словоANDтемнота', 'полноANDтемнота', 'слушатьANDтемнота', 'писатьANDтоварищ', 'писатьANDславный', 'писатьANDслово', 'писатьANDполно', 'писатьANDслушать', 'славныйANDтоварищ', 'словоANDтоварищ', 'полноANDтоварищ', 'слушатьANDтоварищ', 'славныйANDслово', 'полноANDславный', 'славныйANDслушать', 'полноANDслово', 'словоANDслушать', 'полноANDслушать', 'громкийANDписать', 'писатьANDтвердь', 'боевойANDписать', 'имяANDписать', 'громкийANDтоварищ', 'твердьANDтоварищ', 'боевойANDтоварищ', 'имяANDтоварищ', 'громкийANDславный', 'славныйANDтвердь', 'боевойANDславный', 'имяANDславный', 'громкийANDслово', 'словоANDтвердь', 'боевойANDслово', 'имяANDслово', 'громкийANDполно', 'полноANDтвердь', 'боевойANDполно', 'имяANDполно', 'громкийANDслушать', 'слушатьANDтвердь', 'боевойANDслушать', 'имяANDслушать', 'громкийANDтвердь', 'боевойANDгромкий', 'громкийANDимя', 'боевойANDтвердь', 'имяANDтвердь', 'боевойANDимя', 'громкийANDсуд', 'боятьсяANDгромкий', 'судANDтвердь', 'боятьсяANDтвердь', 'боевойANDсуд', 'боевойANDбояться', 'имяANDсуд', 'боятьсяANDимя', 'боятьсяANDсуд', 'праведныйANDсуд', 'судANDуголёк', 'боятьсяANDправедный', 'боятьсяANDуголёк', 'праведныйANDуголёк', 'ближнийANDправедный', 'праведныйANDшёпот', 'праведныйANDуголок', 'ближнийANDуголёк', 'уголёкANDшёпот', 'уголокANDуголёк', 'ближнийANDшёпот', 'ближнийANDуголок', 'уголокANDшёпот', 'ближнийANDкрошка', 'крошкаANDшёпот', 'крошкаANDуголок', 'имяANDкрошка', 'крошкаANDстена', 'крошкаANDслюна', 'имяANDстена', 'имяANDслюна', 'слюнаANDстена', 'времяANDимя', 'времяANDстена', 'времяANDслюна', 'времяANDогонь', 'водаANDплащ', 'вопросANDнавстречу', 'вопросANDэлектричка', 'навстречуANDэлектричка', 'возможностьANDостаться', 'остатьсяANDсуществование', 'остатьсяANDточка', 'остатьсяANDрисунок', 'вырезатьANDостаться', 'иллюзияANDостаться', 'возможностьANDсуществование', 'возможностьANDточка', 'возможностьANDрисунок', 'возможностьANDвырезать', 'возможностьANDмир', 'возможностьANDиллюзия', 'существованиеANDточка', 'рисунокANDсуществование', 'вырезатьANDсуществование', 'мирANDсуществование', 'иллюзияANDсуществование', 'рисунокANDточка', 'вырезатьANDточка', 'мирANDточка', 'иллюзияANDточка', 'вырезатьANDрисунок', 'мирANDрисунок', 'иллюзияANDрисунок', 'вырезатьANDмир', 'вырезатьANDиллюзия', 'иллюзияANDмир', 'несчастныйANDрисунок', 'волочитьANDрисунок', 'рисунокANDтелега', 'рисунокANDулица', 'рисунокANDродственник', 'гореANDрисунок', 'рисунокANDстарушка', 'рисунокANDсоседний', 'комнатаANDрисунок', 'ночьANDрисунок', 'вырезатьANDнесчастный', 'волочитьANDвырезать', 'вырезатьANDтелега', 'вырезатьANDулица', 'вырезатьANDродственник', 'вырезатьANDгоре', 'вырезатьANDстарушка', 'вырезатьANDсоседний', 'вырезатьANDкомната', 'вырезатьANDночь', 'мирANDнесчастный', 'волочитьANDмир', 'мирANDтелега', 'мирANDулица', 'мирANDродственник', 'гореANDмир', 'мирANDстарушка', 'мирANDсоседний', 'комнатаANDмир', 'мирANDночь', 'иллюзияANDнесчастный', 'волочитьANDиллюзия', 'иллюзияANDтелега', 'иллюзияANDулица', 'иллюзияANDродственник', 'гореANDиллюзия', 'иллюзияANDстарушка', 'иллюзияANDсоседний', 'иллюзияANDкомната', 'иллюзияANDночь', 'волочитьANDнесчастный', 'несчастныйANDтелега', 'несчастныйANDулица', 'несчастныйANDродственник', 'гореANDнесчастный', 'несчастныйANDстарушка', 'несчастныйANDсоседний', 'комнатаANDнесчастный', 'несчастныйANDночь', 'волочитьANDтелега', 'волочитьANDулица', 'волочитьANDродственник', 'волочитьANDгоре', 'волочитьANDстарушка', 'волочитьANDсоседний', 'волочитьANDкомната', 'волочитьANDночь', 'телегаANDулица', 'родственникANDтелега', 'гореANDтелега', 'старушкаANDтелега', 'соседнийANDтелега', 'комнатаANDтелега', 'ночьANDтелега', 'родственникANDулица', 'гореANDулица', 'старушкаANDулица', 'соседнийANDулица', 'комнатаANDулица', 'ночьANDулица', 'гореANDродственник', 'родственникANDстарушка', 'родственникANDсоседний', 'комнатаANDродственник', 'ночьANDродственник', 'гореANDстарушка', 'гореANDсоседний', 'гореANDкомната', 'гореANDночь', 'соседнийANDстарушка', 'комнатаANDстарушка', 'ночьANDстарушка', 'комнатаANDсоседний', 'ночьANDсоседний', 'комнатаANDночь', 'несчастныйANDоказываться', 'несчастныйANDправительство', 'несчастныйANDудалить', 'несчастныйANDсписок', 'квартираANDнесчастный', 'волочитьANDоказываться', 'волочитьANDправительство', 'волочитьANDудалить', 'волочитьANDсписок', 'волочитьANDквартира', 'оказыватьсяANDтелега', 'правительствоANDтелега', 'телегаANDудалить', 'списокANDтелега', 'квартираANDтелега', 'оказыватьсяANDулица', 'правительствоANDулица', 'удалитьANDулица', 'списокANDулица', 'квартираANDулица', 'оказыватьсяANDродственник', 'правительствоANDродственник', 'родственникANDудалить', 'родственникANDсписок', 'квартираANDродственник', 'гореANDоказываться', 'гореANDправительство', 'гореANDудалить', 'гореANDсписок', 'гореANDквартира', 'оказыватьсяANDстарушка', 'правительствоANDстарушка', 'старушкаANDудалить', 'списокANDстарушка', 'квартираANDстарушка', 'оказыватьсяANDсоседний', 'правительствоANDсоседний', 'соседнийANDудалить', 'соседнийANDсписок', 'квартираANDсоседний', 'комнатаANDоказываться', 'комнатаANDправительство', 'комнатаANDудалить', 'комнатаANDсписок', 'квартираANDкомната', 'ночьANDоказываться', 'ночьANDправительство', 'ночьANDудалить', 'ночьANDсписок', 'квартираANDночь', 'оказыватьсяANDправительство', 'оказыватьсяANDудалить', 'оказыватьсяANDсписок', 'квартираANDоказываться', 'правительствоANDудалить', 'правительствоANDсписок', 'квартираANDправительство', 'списокANDудалить', 'квартираANDудалить', 'квартираANDсписок', 'оказыватьсяANDхороший', 'делоANDоказываться', 'видетьANDоказываться', 'оказыватьсяANDптица', 'правительствоANDхороший', 'делоANDправительство', 'видетьANDправительство', 'правительствоANDптица', 'удалитьANDхороший', 'делоANDудалить', 'видетьANDудалить', 'птицаANDудалить', 'списокANDхороший', 'делоANDсписок', 'видетьANDсписок', 'птицаANDсписок', 'квартираANDхороший', 'делоANDквартира', 'видетьANDквартира', 'квартираANDптица', 'делоANDхороший', 'видетьANDхороший', 'птицаANDхороший', 'видетьANDдело', 'делоANDптица', 'видетьANDптица', 'большойANDхороший', 'счётANDхороший', 'времяANDхороший', 'событиеANDхороший', 'сравнениеANDхороший', 'большойANDдело', 'делоANDсчёт', 'времяANDдело', 'делоANDсобытие', 'делоANDсравнение', 'большойANDвидеть', 'видетьANDсчёт', 'видетьANDвремя', 'видетьANDсобытие', 'видетьANDсравнение', 'большойANDптица', 'птицаANDсчёт', 'времяANDптица', 'птицаANDсобытие', 'птицаANDсравнение', 'большойANDсчёт', 'большойANDвремя', 'большойANDсобытие', 'большойANDсравнение', 'времяANDсчёт', 'событиеANDсчёт', 'сравнениеANDсчёт', 'времяANDсобытие', 'времяANDсравнение', 'событиеANDсравнение', 'мирANDразрушить', 'мирANDрухнуть', 'мирANDсоветский', 'мирANDсоюз', 'разрушитьANDрухнуть', 'разрушитьANDсоветский', 'разрушитьANDсоюз', 'рухнутьANDсоветский', 'рухнутьANDсоюз', 'советскийANDсоюз', 'мирANDхороший', 'мирANDповторять', 'здравствоватьANDмир', 'мирANDпартия', 'мирANDсловно', 'гитлерANDмир', 'разрушитьANDхороший', 'повторятьANDразрушить', 'здравствоватьANDразрушить', 'партияANDразрушить', 'разрушитьANDсловно', 'гитлерANDразрушить', 'рухнутьANDхороший', 'повторятьANDрухнуть', 'здравствоватьANDрухнуть', 'партияANDрухнуть', 'рухнутьANDсловно', 'гитлерANDрухнуть', 'советскийANDхороший', 'повторятьANDсоветский', 'здравствоватьANDсоветский', 'партияANDсоветский', 'словноANDсоветский', 'гитлерANDсоветский', 'союзANDхороший', 'повторятьANDсоюз', 'здравствоватьANDсоюз', 'партияANDсоюз', 'словноANDсоюз', 'гитлерANDсоюз', 'повторятьANDхороший', 'здравствоватьANDхороший', 'партияANDхороший', 'словноANDхороший', 'гитлерANDхороший', 'здравствоватьANDповторять', 'партияANDповторять', 'повторятьANDсловно', 'гитлерANDповторять', 'здравствоватьANDпартия', 'здравствоватьANDсловно', 'гитлерANDздравствовать', 'партияANDсловно', 'гитлерANDпартия', 'гитлерANDсловно', 'неплохойANDсоветский', 'делатьANDсоветский', 'деньгаANDсоветский', 'житьANDсоветский', 'вчераANDсоветский', 'советскийANDулица', 'сказатьANDсоветский', 'идёмANDсоветский', 'неплохойANDсоюз', 'делатьANDсоюз', 'деньгаANDсоюз', 'житьANDсоюз', 'вчераANDсоюз', 'союзANDулица', 'сказатьANDсоюз', 'идёмANDсоюз', 'неплохойANDхороший', 'делатьANDхороший', 'деньгаANDхороший', 'житьANDхороший', 'вчераANDхороший', 'улицаANDхороший', 'сказатьANDхороший', 'идёмANDхороший', 'неплохойANDповторять', 'делатьANDповторять', 'деньгаANDповторять', 'житьANDповторять', 'вчераANDповторять', 'повторятьANDулица', 'повторятьANDсказать', 'идёмANDповторять', 'здравствоватьANDнеплохой', 'делатьANDздравствовать', 'деньгаANDздравствовать', 'житьANDздравствовать', 'вчераANDздравствовать', 'здравствоватьANDулица', 'здравствоватьANDсказать', 'здравствоватьANDидём', 'неплохойANDпартия', 'делатьANDпартия', 'деньгаANDпартия', 'житьANDпартия', 'вчераANDпартия', 'партияANDулица', 'партияANDсказать', 'идёмANDпартия', 'неплохойANDсловно', 'делатьANDсловно', 'деньгаANDсловно', 'житьANDсловно', 'вчераANDсловно', 'словноANDулица', 'сказатьANDсловно', 'идёмANDсловно', 'гитлерANDнеплохой', 'гитлерANDделать', 'гитлерANDденьга', 'гитлерANDжить', 'вчераANDгитлер', 'гитлерANDулица', 'гитлерANDсказать', 'гитлерANDидём', 'делатьANDнеплохой', 'деньгаANDнеплохой', 'житьANDнеплохой', 'вчераANDнеплохой', 'неплохойANDулица', 'неплохойANDсказать', 'идёмANDнеплохой', 'делатьANDденьга', 'делатьANDжить', 'вчераANDделать', 'делатьANDулица', 'делатьANDсказать', 'делатьANDидём', 'деньгаANDжить', 'вчераANDденьга', 'деньгаANDулица', 'деньгаANDсказать', 'деньгаANDидём', 'вчераANDжить', 'житьANDулица', 'житьANDсказать', 'житьANDидём', 'вчераANDулица', 'вчераANDсказать', 'вчераANDидём', 'сказатьANDулица', 'идёмANDулица', 'идёмANDсказать', 'неплохойANDсирия', 'неплохойANDплатить', 'долларANDнеплохой', 'месяцANDнеплохой', 'делатьANDсирия', 'делатьANDплатить', 'делатьANDдоллар', 'делатьANDмесяц', 'деньгаANDсирия', 'деньгаANDплатить', 'деньгаANDдоллар', 'деньгаANDмесяц', 'житьANDсирия', 'житьANDплатить', 'долларANDжить', 'житьANDмесяц', 'вчераANDсирия', 'вчераANDплатить', 'вчераANDдоллар', 'вчераANDмесяц', 'сирияANDулица', 'платитьANDулица', 'долларANDулица', 'месяцANDулица', 'сирияANDсказать', 'платитьANDсказать', 'долларANDсказать', 'месяцANDсказать', 'идёмANDсирия', 'идёмANDплатить', 'долларANDидём', 'идёмANDмесяц', 'платитьANDсирия', 'долларANDсирия', 'месяцANDсирия', 'долларANDплатить', 'месяцANDплатить', 'долларANDмесяц', 'отказатьсяANDсирия', 'отказатьсяANDплатить', 'долларANDотказаться', 'месяцANDотказаться', 'отказатьсяANDсказать', 'отказатьсяANDукраина', 'воеватьANDотказаться', 'готовыйANDотказаться', 'защищатьANDотказаться', 'отказатьсяANDрусский', 'мирANDотказаться', 'сказатьANDукраина', 'воеватьANDсказать', 'готовыйANDсказать', 'защищатьANDсказать', 'русскийANDсказать', 'мирANDсказать', 'воеватьANDукраина', 'готовыйANDукраина', 'защищатьANDукраина', 'русскийANDукраина', 'мирANDукраина', 'воеватьANDготовый', 'воеватьANDзащищать', 'воеватьANDрусский', 'воеватьANDмир', 'готовыйANDзащищать', 'готовыйANDрусский', 'готовыйANDмир', 'защищатьANDрусский', 'защищатьANDмир', 'мирANDрусский', 'россияANDсказать', 'отступатьANDсказать', 'позадиANDсказать', 'москваANDсказать', 'россияANDукраина', 'отступатьANDукраина', 'позадиANDукраина', 'москваANDукраина', 'воеватьANDроссия', 'воеватьANDотступать', 'воеватьANDпозади', 'воеватьANDмосква', 'готовыйANDроссия', 'готовыйANDотступать', 'готовыйANDпозади', 'готовыйANDмосква', 'защищатьANDроссия', 'защищатьANDотступать', 'защищатьANDпозади', 'защищатьANDмосква', 'россияANDрусский', 'отступатьANDрусский', 'позадиANDрусский', 'москваANDрусский', 'мирANDроссия', 'мирANDотступать', 'мирANDпозади', 'мирANDмосква', 'отступатьANDроссия', 'позадиANDроссия', 'москваANDроссия', 'отступатьANDпозади', 'москваANDотступать', 'москваANDпозади', 'прекрасныйANDроссия', 'выражениеANDроссия', 'отступатьANDпрекрасный', 'выражениеANDотступать', 'позадиANDпрекрасный', 'выражениеANDпозади', 'москваANDпрекрасный', 'выражениеANDмосква', 'выражениеANDпрекрасный', 'жальANDпрекрасный', 'повторятьANDпрекрасный', 'прекрасныйANDраспад', 'прекрасныйANDссср', 'выражениеANDжаль', 'выражениеANDповторять', 'выражениеANDраспад', 'выражениеANDссср', 'жальANDповторять', 'жальANDраспад', 'жальANDссср', 'повторятьANDраспад', 'повторятьANDссср', 'распадANDссср', 'жальANDрусские', 'жальANDуслышать', 'жальANDскрип', 'жальANDльдина', 'гладьANDжаль', 'жальANDсердце', 'боятьсяANDжаль', 'жальANDсмочь', 'повторятьANDрусские', 'повторятьANDуслышать', 'повторятьANDскрип', 'льдинаANDповторять', 'гладьANDповторять', 'повторятьANDсердце', 'боятьсяANDповторять', 'повторятьANDсмочь', 'распадANDрусские', 'распадANDуслышать', 'распадANDскрип', 'льдинаANDраспад', 'гладьANDраспад', 'распадANDсердце', 'боятьсяANDраспад', 'распадANDсмочь', 'русскиеANDссср', 'сссрANDуслышать', 'скрипANDссср', 'льдинаANDссср', 'гладьANDссср', 'сердцеANDссср', 'боятьсяANDссср', 'смочьANDссср', 'русскиеANDуслышать', 'русскиеANDскрип', 'льдинаANDрусские', 'гладьANDрусские', 'русскиеANDсердце', 'боятьсяANDрусские', 'русскиеANDсмочь', 'скрипANDуслышать', 'льдинаANDуслышать', 'гладьANDуслышать', 'сердцеANDуслышать', 'боятьсяANDуслышать', 'смочьANDуслышать', 'льдинаANDскрип', 'гладьANDскрип', 'сердцеANDскрип', 'боятьсяANDскрип', 'скрипANDсмочь', 'гладьANDльдина', 'льдинаANDсердце', 'боятьсяANDльдина', 'льдинаANDсмочь', 'гладьANDсердце', 'боятьсяANDгладь', 'гладьANDсмочь', 'боятьсяANDсердце', 'сердцеANDсмочь', 'боятьсяANDсмочь', 'женаANDрусские', 'русскиеANDслышать', 'русскиеANDслева', 'русскиеANDсправа', 'женаANDуслышать', 'слышатьANDуслышать', 'слеваANDуслышать', 'справаANDуслышать', 'женаANDскрип', 'скрипANDслышать', 'скрипANDслева', 'скрипANDсправа', 'женаANDльдина', 'льдинаANDслышать', 'льдинаANDслева', 'льдинаANDсправа', 'гладьANDжена', 'гладьANDслышать', 'гладьANDслева', 'гладьANDсправа', 'женаANDсердце', 'сердцеANDслышать', 'сердцеANDслева', 'сердцеANDсправа', 'боятьсяANDжена', 'боятьсяANDслышать', 'боятьсяANDслева', 'боятьсяANDсправа', 'женаANDсмочь', 'слышатьANDсмочь', 'слеваANDсмочь', 'смочьANDсправа', 'женаANDслышать', 'женаANDслева', 'женаANDсправа', 'слеваANDслышать', 'слышатьANDсправа', 'слеваANDсправа', 'быватьANDжена', 'женаANDчеловек', 'быватьANDслышать', 'слышатьANDчеловек', 'быватьANDсердце', 'сердцеANDчеловек', 'быватьANDслева', 'слеваANDчеловек', 'быватьANDсправа', 'справаANDчеловек', 'быватьANDчеловек', 'быватьANDнаписать', 'быватьANDказах', 'быватьANDумирать', 'быватьANDрождаться', 'быватьANDтысяча', 'написатьANDчеловек', 'казахANDчеловек', 'умиратьANDчеловек', 'рождатьсяANDчеловек', 'тысячаANDчеловек', 'написатьANDсердце', 'казахANDсердце', 'сердцеANDумирать', 'рождатьсяANDсердце', 'сердцеANDтысяча', 'казахANDнаписать', 'написатьANDумирать', 'написатьANDрождаться', 'написатьANDтысяча', 'казахANDумирать', 'казахANDрождаться', 'казахANDтысяча', 'рождатьсяANDумирать', 'тысячаANDумирать', 'рождатьсяANDтысяча', 'наверноеANDнаписать', 'головаANDнаписать', 'казахANDнаверное', 'головаANDказах', 'наверноеANDумирать', 'головаANDумирать', 'наверноеANDрождаться', 'головаANDрождаться', 'наверноеANDтысяча', 'головаANDтысяча', 'наверноеANDсердце', 'головаANDсердце', 'головаANDнаверное', 'визжатьANDсердце', 'глоткаANDсердце', 'визжатьANDнаверное', 'глоткаANDнаверное', 'визжатьANDголова', 'глоткаANDголова', 'визжатьANDглотка', 'визжатьANDчеловек', 'визжатьANDумирать', 'глоткаANDчеловек', 'глоткаANDумирать', 'писатьANDчеловек', 'несчастныйANDчеловек', 'писатьANDумирать', 'несчастныйANDумирать', 'несчастныйANDписать', 'писатьANDпонадобиться', 'написатьANDписать', 'несчастныйANDпонадобиться', 'написатьANDнесчастный', 'написатьANDпонадобиться', 'воронаANDназвать', 'имяANDназвать', 'воронаANDимя', 'назватьANDхороший', 'назватьANDптица', 'житьANDназвать', 'назватьANDтысяча', 'годANDназвать', 'воронаANDхороший', 'воронаANDптица', 'воронаANDжить', 'воронаANDтысяча', 'воронаANDгод', 'имяANDхороший', 'имяANDптица', 'житьANDимя', 'имяANDтысяча', 'годANDимя', 'тысячаANDхороший', 'годANDхороший', 'житьANDптица', 'птицаANDтысяча', 'годANDптица', 'житьANDтысяча', 'годANDжить', 'годANDтысяча', 'воронаANDзнать', 'воронаANDсталин', 'воронаANDдольше', 'воронаANDленин', 'воронаANDправда', 'знатьANDхороший', 'сталинANDхороший', 'дольшеANDхороший', 'ленинANDхороший', 'правдаANDхороший', 'знатьANDптица', 'птицаANDсталин', 'дольшеANDптица', 'ленинANDптица', 'правдаANDптица', 'житьANDзнать', 'житьANDсталин', 'дольшеANDжить', 'житьANDленин', 'житьANDправда', 'знатьANDтысяча', 'сталинANDтысяча', 'дольшеANDтысяча', 'ленинANDтысяча', 'правдаANDтысяча', 'годANDзнать', 'годANDсталин', 'годANDдольше', 'годANDленин', 'годANDправда', 'знатьANDсталин', 'дольшеANDзнать', 'знатьANDленин', 'знатьANDправда', 'дольшеANDсталин', 'ленинANDсталин', 'правдаANDсталин', 'дольшеANDленин', 'дольшеANDправда', 'ленинANDправда', 'бедаANDзнать', 'видетьANDзнать', 'вампирANDзнать', 'ведьмаANDзнать', 'знатьANDправильно', 'знатьANDстремиться', 'бедаANDсталин', 'видетьANDсталин', 'вампирANDсталин', 'ведьмаANDсталин', 'правильноANDсталин', 'сталинANDстремиться', 'бедаANDжить', 'видетьANDжить', 'вампирANDжить', 'ведьмаANDжить', 'житьANDправильно', 'житьANDстремиться', 'бедаANDдольше', 'видетьANDдольше', 'вампирANDдольше', 'ведьмаANDдольше', 'дольшеANDправильно', 'дольшеANDстремиться', 'бедаANDленин', 'видетьANDленин', 'вампирANDленин', 'ведьмаANDленин', 'ленинANDправильно', 'ленинANDстремиться', 'бедаANDправда', 'видетьANDправда', 'вампирANDправда', 'ведьмаANDправда', 'правдаANDправильно', 'правдаANDстремиться', 'бедаANDвидеть', 'бедаANDвампир', 'бедаANDведьма', 'бедаANDправильно', 'бедаANDстремиться', 'вампирANDвидеть', 'ведьмаANDвидеть', 'видетьANDправильно', 'видетьANDстремиться', 'вампирANDведьма', 'вампирANDправильно', 'вампирANDстремиться', 'ведьмаANDправильно', 'ведьмаANDстремиться', 'правильноANDстремиться', 'бедаANDсказать', 'бедаANDорёл', 'бедаANDвыходить', 'видетьANDсказать', 'видетьANDорёл', 'видетьANDвыходить', 'вампирANDсказать', 'вампирANDорёл', 'вампирANDвыходить', 'ведьмаANDсказать', 'ведьмаANDорёл', 'ведьмаANDвыходить', 'правильноANDсказать', 'орёлANDправильно', 'выходитьANDправильно', 'сказатьANDстремиться', 'орёлANDстремиться', 'выходитьANDстремиться', 'орёлANDсказать', 'выходитьANDсказать', 'выходитьANDорёл', 'местоANDсказать', 'переставатьANDсказать', 'местоANDорёл', 'орёлANDпереставать', 'выходитьANDместо', 'выходитьANDпереставать', 'местоANDпереставать', 'воронаANDместо', 'местоANDчёрный', 'мазатьANDместо', 'краскаANDместо', 'жалетьANDместо', 'воронаANDпереставать', 'переставатьANDчёрный', 'мазатьANDпереставать', 'краскаANDпереставать', 'жалетьANDпереставать', 'воронаANDчёрный', 'воронаANDмазать', 'воронаANDкраска', 'воронаANDжалеть', 'мазатьANDчёрный', 'краскаANDчёрный', 'жалетьANDчёрный', 'краскаANDмазать', 'жалетьANDмазать', 'жалетьANDкраска', 'воронаANDнебо', 'внутриANDворона', 'воронаANDпятно', 'внутриANDчёрный', 'пятноANDчёрный', 'мазатьANDнебо', 'внутриANDмазать', 'мазатьANDпятно', 'краскаANDнебо', 'внутриANDкраска', 'краскаANDпятно', 'жалетьANDнебо', 'внутриANDжалеть', 'жалетьANDпятно', 'внутриANDнебо', 'небоANDпятно', 'внутриANDпятно', 'небоANDни', 'виноватыйANDнебо', 'внутриANDни', 'виноватыйANDвнутри', 'ниANDчёрный', 'виноватыйANDчёрный', 'ниANDпятно', 'виноватыйANDпятно', 'воронаANDни', 'виноватыйANDворона', 'виноватыйANDни', 'вождьANDворона', 'воронаANDвчера', 'воронаANDсолнце', 'воронаANDсегодня', 'воронаANDнайти', 'воронаANDсравнить', 'вождьANDни', 'вчераANDни', 'ниANDсолнце', 'ниANDсегодня', 'найтиANDни', 'ниANDсравнить', 'виноватыйANDвождь', 'виноватыйANDвчера', 'виноватыйANDсолнце', 'виноватыйANDсегодня', 'виноватыйANDнайти', 'виноватыйANDсравнить', 'вождьANDвчера', 'вождьANDсолнце', 'вождьANDсегодня', 'вождьANDнайти', 'вождьANDсравнить', 'вчераANDсолнце', 'вчераANDсегодня', 'вчераANDнайти', 'вчераANDсравнить', 'сегодняANDсолнце', 'найтиANDсолнце', 'солнцеANDсравнить', 'найтиANDсегодня', 'сегодняANDсравнить', 'найтиANDсравнить', 'вождьANDназывать', 'вещьANDвождь', 'вождьANDимя', 'вождьANDназвать', 'вчераANDназывать', 'вещьANDвчера', 'вчераANDимя', 'вчераANDназвать', 'называтьANDсолнце', 'вещьANDсолнце', 'имяANDсолнце', 'назватьANDсолнце', 'называтьANDсегодня', 'вещьANDсегодня', 'имяANDсегодня', 'назватьANDсегодня', 'называтьANDнайти', 'вещьANDнайти', 'имяANDнайти', 'назватьANDнайти', 'называтьANDсравнить', 'вещьANDсравнить', 'имяANDсравнить', 'назватьANDсравнить', 'вещьANDназывать', 'имяANDназывать', 'назватьANDназывать', 'вещьANDимя', 'вещьANDназвать', 'называтьANDправильно', 'называтьANDобъяснить', 'называтьANDпонять', 'вещьANDправильно', 'вещьANDобъяснить', 'вещьANDпонять', 'имяANDправильно', 'имяANDобъяснить', 'имяANDпонять', 'назватьANDправильно', 'назватьANDобъяснить', 'назватьANDпонять', 'объяснитьANDправильно', 'вчераANDправильно', 'правильноANDсегодня', 'понятьANDправильно', 'вчераANDобъяснить', 'объяснитьANDсегодня', 'объяснитьANDпонять', 'вчераANDпонять', 'понятьANDсегодня', 'дедANDправильно', 'думатьANDправильно', 'правильноANDстоять', 'дворANDправильно', 'наблюдатьANDправильно', 'правильноANDребёнок', 'качатьсяANDправильно', 'дедANDобъяснить', 'думатьANDобъяснить', 'объяснитьANDстоять', 'дворANDобъяснить', 'наблюдатьANDобъяснить', 'объяснитьANDребёнок', 'качатьсяANDобъяснить', 'вчераANDдед', 'вчераANDдумать', 'вчераANDстоять', 'вчераANDдвор', 'вчераANDнаблюдать', 'вчераANDребёнок', 'вчераANDкачаться', 'дедANDсегодня', 'думатьANDсегодня', 'сегодняANDстоять', 'дворANDсегодня', 'наблюдатьANDсегодня', 'ребёнокANDсегодня', 'качатьсяANDсегодня', 'дедANDпонять', 'думатьANDпонять', 'понятьANDстоять', 'дворANDпонять', 'наблюдатьANDпонять', 'понятьANDребёнок', 'качатьсяANDпонять', 'дедANDдумать', 'дедANDстоять', 'дворANDдед', 'дедANDнаблюдать', 'дедANDребёнок', 'дедANDкачаться', 'думатьANDстоять', 'дворANDдумать', 'думатьANDнаблюдать', 'думатьANDребёнок', 'думатьANDкачаться', 'дворANDстоять', 'наблюдатьANDстоять', 'ребёнокANDстоять', 'качатьсяANDстоять', 'дворANDнаблюдать', 'дворANDребёнок', 'дворANDкачаться', 'наблюдатьANDребёнок', 'качатьсяANDнаблюдать', 'качатьсяANDребёнок', 'внезапноANDдед', 'дедANDначать', 'дедANDпадать', 'дедANDснег', 'дедANDписать', 'внезапноANDдумать', 'думатьANDначать', 'думатьANDпадать', 'думатьANDснег', 'думатьANDписать', 'внезапноANDобъяснить', 'начатьANDобъяснить', 'объяснитьANDпадать', 'объяснитьANDснег', 'объяснитьANDписать', 'внезапноANDстоять', 'начатьANDстоять', 'падатьANDстоять', 'снегANDстоять', 'писатьANDстоять', 'внезапноANDдвор', 'дворANDначать', 'дворANDпадать', 'дворANDснег', 'дворANDписать', 'внезапноANDнаблюдать', 'наблюдатьANDначать', 'наблюдатьANDпадать', 'наблюдатьANDснег', 'наблюдатьANDписать', 'внезапноANDребёнок', 'начатьANDребёнок', 'падатьANDребёнок', 'ребёнокANDснег', 'писатьANDребёнок', 'внезапноANDкачаться', 'качатьсяANDначать', 'качатьсяANDпадать', 'качатьсяANDснег', 'качатьсяANDписать', 'внезапноANDначать', 'внезапноANDпадать', 'внезапноANDснег', 'внезапноANDписать', 'начатьANDпадать', 'начатьANDснег', 'начатьANDписать', 'падатьANDснег', 'падатьANDписать', 'писатьANDснег', 'внезапноANDобыкновенный', 'бескрайнийANDвнезапно', 'внезапноANDнебо', 'внезапноANDвода', 'внезапноANDпар', 'начатьANDобыкновенный', 'бескрайнийANDначать', 'начатьANDнебо', 'водаANDначать', 'начатьANDпар', 'обыкновенныйANDпадать', 'бескрайнийANDпадать', 'небоANDпадать', 'водаANDпадать', 'падатьANDпар', 'обыкновенныйANDснег', 'бескрайнийANDснег', 'небоANDснег', 'водаANDснег', 'парANDснег', 'обыкновенныйANDписать', 'бескрайнийANDписать', 'небоANDписать', 'водаANDписать', 'парANDписать', 'бескрайнийANDобыкновенный', 'небоANDобыкновенный', 'водаANDобыкновенный', 'обыкновенныйANDпар', 'бескрайнийANDнебо', 'бескрайнийANDвода', 'бескрайнийANDпар', 'водаANDнебо', 'небоANDпар', 'водаANDпар'])"
      ]
     },
     "execution_count": 15,
     "metadata": {},
     "output_type": "execute_result"
    }
   ],
   "source": [
    "label2authors.keys()"
   ]
  },
  {
   "cell_type": "code",
   "execution_count": 36,
   "id": "b63d9fe4-a59b-442c-80aa-b94b8b079d51",
   "metadata": {},
   "outputs": [
    {
     "data": {
      "text/plain": [
       "[{'excerpt': 'Видимо когда что то привычное\\nменяет свою форму',\n",
       "  'author': 'Виктор Плавский',\n",
       "  'period': 'After',\n",
       "  'uniqueIndex': 172},\n",
       " {'excerpt': 'неразрывного одного объема\\nчуть меняющего форму когда в него бьют',\n",
       "  'author': 'Василий Бородин',\n",
       "  'period': 'Before',\n",
       "  'uniqueIndex': 2896}]"
      ]
     },
     "execution_count": 36,
     "metadata": {},
     "output_type": "execute_result"
    }
   ],
   "source": [
    "label2lines[a['sourceLemma']+'AND'+a['targetLemma']]"
   ]
  },
  {
   "cell_type": "code",
   "execution_count": null,
   "id": "cceca441-2d9b-4f2b-a372-0f4f573a97a2",
   "metadata": {},
   "outputs": [],
   "source": []
  }
 ],
 "metadata": {
  "kernelspec": {
   "display_name": "Python 3 (ipykernel)",
   "language": "python",
   "name": "python3"
  },
  "language_info": {
   "codemirror_mode": {
    "name": "ipython",
    "version": 3
   },
   "file_extension": ".py",
   "mimetype": "text/x-python",
   "name": "python",
   "nbconvert_exporter": "python",
   "pygments_lexer": "ipython3",
   "version": "3.9.7"
  }
 },
 "nbformat": 4,
 "nbformat_minor": 5
}
