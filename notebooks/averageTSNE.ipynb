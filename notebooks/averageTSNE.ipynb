{
 "cells": [
  {
   "cell_type": "code",
   "execution_count": 1,
   "id": "8234dfe8-8741-4f4e-aa53-a9b2712fa110",
   "metadata": {},
   "outputs": [],
   "source": [
    "# - calculate **w_n** samples of 728-D BERT for all **w** words\n",
    "# - find average 728-D BERT by dividing your sample by **w_n**\n",
    "# - now you have **w** 728-D vectors\n",
    "# - take your batch of *w* vectors and project them from 728-D to 2-D using PCA\n",
    "# - plot altogether on PCA"
   ]
  },
  {
   "cell_type": "code",
   "execution_count": 2,
   "id": "ae9a3528-38bc-4fca-8fe8-06eee3902e28",
   "metadata": {
    "tags": []
   },
   "outputs": [],
   "source": [
    "import tqdm\n",
    "from tqdm import tqdm\n",
    "import json\n",
    "import random\n",
    "import numpy as np"
   ]
  },
  {
   "cell_type": "code",
   "execution_count": 5,
   "id": "661ded5f-bc32-473f-ab84-344066181223",
   "metadata": {
    "tags": []
   },
   "outputs": [
    {
     "name": "stderr",
     "output_type": "stream",
     "text": [
      "100%|███████████████████████████████████████████| 16/16 [00:53<00:00,  3.35s/it]\n"
     ]
    },
    {
     "data": {
      "text/plain": [
       "798"
      ]
     },
     "execution_count": 5,
     "metadata": {},
     "output_type": "execute_result"
    }
   ],
   "source": [
    "# read file\n",
    "obj = dict()\n",
    "for i in tqdm(range(16)):\n",
    "    with open(f'../../files2big/bertVecsPCA/BERT_vecs_{i}.json', 'r') as myfile:\n",
    "        thisdata=myfile.read()\n",
    "        thisobj = json.loads(thisdata)\n",
    "        obj.update(thisobj)\n",
    "\n",
    "# parse file\n",
    "len(obj.keys())"
   ]
  },
  {
   "cell_type": "code",
   "execution_count": 71,
   "id": "3bf9f040-59a3-4c3c-b9b5-02b69719b576",
   "metadata": {},
   "outputs": [],
   "source": [
    "# with open('../../files2big/allBERTvecs(sig&above50)0', 'w', encoding='utf-8') as f:\n",
    "#     json.dump(obj, f, ensure_ascii=False, indent=4)"
   ]
  },
  {
   "cell_type": "code",
   "execution_count": 6,
   "id": "f01a2aea-4fe7-4890-9853-281b9bb8d64a",
   "metadata": {},
   "outputs": [],
   "source": [
    "import pandas as pd"
   ]
  },
  {
   "cell_type": "code",
   "execution_count": 7,
   "id": "1b559f64-bcc8-4e27-a587-9ef82f1078e9",
   "metadata": {},
   "outputs": [
    {
     "name": "stderr",
     "output_type": "stream",
     "text": [
      "  5%|█▉                                        | 36/798 [00:00<00:09, 78.93it/s]/var/folders/jj/_szc94p56q91q_7c209d1d9w0000gn/T/ipykernel_61387/2112306484.py:11: RuntimeWarning: invalid value encountered in double_scalars\n",
      "  vec = (np.sum((arr),axis=0)/arr.shape[0]).tolist()\n",
      "100%|█████████████████████████████████████████| 798/798 [00:12<00:00, 61.63it/s]\n"
     ]
    }
   ],
   "source": [
    "# calculate before and after average vecs\n",
    "\n",
    "# irrelevantWords = ['авторский', 'блог', 'личный', 'источник','автор']\n",
    "\n",
    "jsonData = dict()\n",
    "for key in tqdm(obj):\n",
    "    # if key in irrelevantWords:\n",
    "        # continue\n",
    "    for period in ['Before','After']:\n",
    "        arr = np.array(obj[key][period])\n",
    "        vec = (np.sum((arr),axis=0)/arr.shape[0]).tolist()\n",
    "        if type(vec) == float:\n",
    "            vec = np.zeros(768).tolist()\n",
    "        jsonData.setdefault(key, dict())\n",
    "        jsonData[key][period] = vec\n",
    "    arr = np.array(obj[key]['Before'] + obj[key]['After'])\n",
    "    vec = (np.sum((arr),axis=0)/arr.shape[0]).tolist()\n",
    "    jsonData[key]['Average'] = vec"
   ]
  },
  {
   "cell_type": "code",
   "execution_count": 11,
   "id": "9bac8454-eee0-4ef6-ac2f-cfa188a5ba3b",
   "metadata": {},
   "outputs": [],
   "source": [
    "\n",
    "# nlp = spacy.load(\"ru_core_news_lg\")\n",
    "# nlp('российский')[0].pos_"
   ]
  },
  {
   "cell_type": "code",
   "execution_count": 4,
   "id": "431ff701-e62b-429b-96ca-9a94863635bf",
   "metadata": {},
   "outputs": [],
   "source": [
    "# for j in jsonData:\n",
    "#     j['nlp'] = nlp(j['word'].split('_')[0])[0].pos_"
   ]
  },
  {
   "cell_type": "code",
   "execution_count": 8,
   "id": "20f32e5d-4811-44e5-8a91-ee715358d992",
   "metadata": {},
   "outputs": [],
   "source": [
    "with open(f'../../files2big/before-after-average-BERT-1.json', 'w', encoding='utf-8') as f:\n",
    "    json.dump(jsonData, f, ensure_ascii=False, indent=4)"
   ]
  },
  {
   "cell_type": "code",
   "execution_count": null,
   "id": "86b36e57-6e77-4234-a92a-e384f28cfcae",
   "metadata": {},
   "outputs": [],
   "source": []
  }
 ],
 "metadata": {
  "kernelspec": {
   "display_name": "Python 3 (ipykernel)",
   "language": "python",
   "name": "python3"
  },
  "language_info": {
   "codemirror_mode": {
    "name": "ipython",
    "version": 3
   },
   "file_extension": ".py",
   "mimetype": "text/x-python",
   "name": "python",
   "nbconvert_exporter": "python",
   "pygments_lexer": "ipython3",
   "version": "3.9.7"
  }
 },
 "nbformat": 4,
 "nbformat_minor": 5
}
