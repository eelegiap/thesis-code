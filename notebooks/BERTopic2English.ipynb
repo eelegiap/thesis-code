{
 "cells": [
  {
   "cell_type": "code",
   "execution_count": 1,
   "id": "99cc7367-6fae-492f-ba20-fb198907c14a",
   "metadata": {},
   "outputs": [],
   "source": [
    "import random\n",
    "import numpy as np\n",
    "import pandas as pd\n",
    "import time\n",
    "import re\n",
    "import datetime\n",
    "import os\n",
    "import matplotlib.pyplot as plt\n",
    "# import gensim\n",
    "# import spacy"
   ]
  },
  {
   "cell_type": "code",
   "execution_count": 2,
   "id": "42bbe2ac-a61e-43ea-ab4c-ed2b92e76257",
   "metadata": {},
   "outputs": [],
   "source": [
    "import os\n",
    "os.environ[\"TOKENIZERS_PARALLELISM\"] = \"false\""
   ]
  },
  {
   "cell_type": "code",
   "execution_count": 3,
   "id": "946a7408-f57d-49a6-92a5-52d9d03d523a",
   "metadata": {},
   "outputs": [],
   "source": [
    "# pip install bertopic"
   ]
  },
  {
   "cell_type": "code",
   "execution_count": 4,
   "id": "5ca0592c-d6be-4ee8-a6c4-e258a958fb30",
   "metadata": {},
   "outputs": [],
   "source": [
    "from bertopic import BERTopic\n",
    "from sentence_transformers import SentenceTransformer\n",
    "from sklearn.feature_extraction.text import CountVectorizer"
   ]
  },
  {
   "cell_type": "code",
   "execution_count": 5,
   "id": "8a473213-9dae-4887-af92-6897db52ae3f",
   "metadata": {
    "tags": []
   },
   "outputs": [],
   "source": [
    "# # import stanza\n",
    "# stanza.download('ru')      \n",
    "# stanza.download('uk')      \n",
    "# runlp = stanza.Pipeline('ru') \n",
    "# uknlp = stanza.Pipeline('uk')"
   ]
  },
  {
   "cell_type": "code",
   "execution_count": 6,
   "id": "c1e338a1-db42-4420-bce6-d0976bef5484",
   "metadata": {
    "tags": []
   },
   "outputs": [],
   "source": [
    "# import stanza"
   ]
  },
  {
   "cell_type": "code",
   "execution_count": 7,
   "id": "ca2fa86c-dfef-4477-9e80-9642c1260a4f",
   "metadata": {
    "tags": []
   },
   "outputs": [],
   "source": [
    "# stanza.download('en')      \n",
    "# nlp = stanza.Pipeline('en')"
   ]
  },
  {
   "cell_type": "markdown",
   "id": "7a9a2f54-a474-48c0-98e5-7a7bbf1e356a",
   "metadata": {
    "tags": []
   },
   "source": [
    "## Read data"
   ]
  },
  {
   "cell_type": "code",
   "execution_count": 8,
   "id": "47ea0b37-5805-409d-a27a-a40682f6a6e6",
   "metadata": {},
   "outputs": [
    {
     "name": "stdout",
     "output_type": "stream",
     "text": [
      "1012\n"
     ]
    },
    {
     "data": {
      "text/html": [
       "<div>\n",
       "<style scoped>\n",
       "    .dataframe tbody tr th:only-of-type {\n",
       "        vertical-align: middle;\n",
       "    }\n",
       "\n",
       "    .dataframe tbody tr th {\n",
       "        vertical-align: top;\n",
       "    }\n",
       "\n",
       "    .dataframe thead th {\n",
       "        text-align: right;\n",
       "    }\n",
       "</style>\n",
       "<table border=\"1\" class=\"dataframe\">\n",
       "  <thead>\n",
       "    <tr style=\"text-align: right;\">\n",
       "      <th></th>\n",
       "      <th>Author of poem</th>\n",
       "      <th>Missing from Authors tab?</th>\n",
       "      <th>Author of post</th>\n",
       "      <th>Date posted</th>\n",
       "      <th>URL of facebook post</th>\n",
       "      <th>Private post or link not working?</th>\n",
       "      <th>Themes curated</th>\n",
       "      <th>Theme(s) (comma separated)</th>\n",
       "      <th>Theme 2 (blank)</th>\n",
       "      <th>Theme 3 (blank)</th>\n",
       "      <th>...</th>\n",
       "      <th>Additional URL (if the post links to an external poem)</th>\n",
       "      <th>fulltext</th>\n",
       "      <th>Comments (copy and paste)</th>\n",
       "      <th>Number of likes</th>\n",
       "      <th>Number of comments</th>\n",
       "      <th>Number of shares</th>\n",
       "      <th>Other notes</th>\n",
       "      <th>Your name</th>\n",
       "      <th>Suggestion/correction in comment field?</th>\n",
       "      <th>Unnamed: 25</th>\n",
       "    </tr>\n",
       "    <tr>\n",
       "      <th>Timestamp</th>\n",
       "      <th></th>\n",
       "      <th></th>\n",
       "      <th></th>\n",
       "      <th></th>\n",
       "      <th></th>\n",
       "      <th></th>\n",
       "      <th></th>\n",
       "      <th></th>\n",
       "      <th></th>\n",
       "      <th></th>\n",
       "      <th></th>\n",
       "      <th></th>\n",
       "      <th></th>\n",
       "      <th></th>\n",
       "      <th></th>\n",
       "      <th></th>\n",
       "      <th></th>\n",
       "      <th></th>\n",
       "      <th></th>\n",
       "      <th></th>\n",
       "      <th></th>\n",
       "    </tr>\n",
       "  </thead>\n",
       "  <tbody>\n",
       "    <tr>\n",
       "      <th>87</th>\n",
       "      <td>Halyna Kruk</td>\n",
       "      <td>NaN</td>\n",
       "      <td>Halyna Kruk</td>\n",
       "      <td>2013-12-06</td>\n",
       "      <td>https://www.facebook.com/halyna.kruk/posts/101...</td>\n",
       "      <td>NaN</td>\n",
       "      <td>{'maidan', 'revolution', 'protest', 'ukraine'}</td>\n",
       "      <td>Maidan</td>\n",
       "      <td>Ukraine</td>\n",
       "      <td>NaN</td>\n",
       "      <td>...</td>\n",
       "      <td>NaN</td>\n",
       "      <td>9+\\n3\\n20+\\nEran\\nHalyna Kruk\\nDecember 6, 201...</td>\n",
       "      <td>NaN</td>\n",
       "      <td>251.0</td>\n",
       "      <td>27.0</td>\n",
       "      <td>68.0</td>\n",
       "      <td>Read by author at Lviv Euromaidan</td>\n",
       "      <td>NaN</td>\n",
       "      <td>NaN</td>\n",
       "      <td>NaN</td>\n",
       "    </tr>\n",
       "    <tr>\n",
       "      <th>2022-04-10 23:30:07</th>\n",
       "      <td>Ostap Slyvynsky</td>\n",
       "      <td>NaN</td>\n",
       "      <td>Ostap Slyvynsky</td>\n",
       "      <td>2013-12-26</td>\n",
       "      <td>https://www.facebook.com/ostap.slyvynsky/posts...</td>\n",
       "      <td>NaN</td>\n",
       "      <td>{'maidan', 'poetic form', 'haiku', 'revolution...</td>\n",
       "      <td>Haiku, Maidan</td>\n",
       "      <td>NaN</td>\n",
       "      <td>NaN</td>\n",
       "      <td>...</td>\n",
       "      <td>NaN</td>\n",
       "      <td>ХАЙКУ З МАЙДАНУ\\nДим у рукавах.\\nНіби йдеш з ц...</td>\n",
       "      <td>Yulia Tareieva\\nТак як є\\nSee Translation8y\\nS...</td>\n",
       "      <td>93.0</td>\n",
       "      <td>7.0</td>\n",
       "      <td>10.0</td>\n",
       "      <td>NaN</td>\n",
       "      <td>Amelia Glaser</td>\n",
       "      <td>NaN</td>\n",
       "      <td>NaN</td>\n",
       "    </tr>\n",
       "    <tr>\n",
       "      <th>53</th>\n",
       "      <td>Osip Mandelstam</td>\n",
       "      <td>NaN</td>\n",
       "      <td>Maria Stepanova</td>\n",
       "      <td>2013-12-27</td>\n",
       "      <td>https://www.facebook.com/maria.stepanova.372</td>\n",
       "      <td>NaN</td>\n",
       "      <td>{'time', 'war', 'twentieth century'}</td>\n",
       "      <td>war</td>\n",
       "      <td>twentieth century</td>\n",
       "      <td>NaN</td>\n",
       "      <td>...</td>\n",
       "      <td>NaN</td>\n",
       "      <td>9+\\n3\\n20+\\nEran\\nMaria Stepanova\\n3 mutual\\nA...</td>\n",
       "      <td>NaN</td>\n",
       "      <td>50.0</td>\n",
       "      <td>4.0</td>\n",
       "      <td>3.0</td>\n",
       "      <td>By Osip Mandelshtam (1935-36)</td>\n",
       "      <td>NaN</td>\n",
       "      <td>NaN</td>\n",
       "      <td>NaN</td>\n",
       "    </tr>\n",
       "    <tr>\n",
       "      <th>2022-08-02 13:10:06.549000</th>\n",
       "      <td>Boris Khersonsky</td>\n",
       "      <td>NaN</td>\n",
       "      <td>Boris Khersonsky</td>\n",
       "      <td>2013-12-31</td>\n",
       "      <td>https://www.facebook.com/borkhers/posts/pfbid0...</td>\n",
       "      <td>NaN</td>\n",
       "      <td>NaN</td>\n",
       "      <td>Soviet Union, food, morphine, anthem</td>\n",
       "      <td>NaN</td>\n",
       "      <td>NaN</td>\n",
       "      <td>...</td>\n",
       "      <td>NaN</td>\n",
       "      <td>NaN</td>\n",
       "      <td>Леонид Кучеренко\\nЯ сразу вспомнил ТУ жизнь\\n\\...</td>\n",
       "      <td>120.0</td>\n",
       "      <td>19.0</td>\n",
       "      <td>11.0</td>\n",
       "      <td>NaN</td>\n",
       "      <td>Amelia Glaser</td>\n",
       "      <td>No</td>\n",
       "      <td>NaN</td>\n",
       "    </tr>\n",
       "    <tr>\n",
       "      <th>2022-04-29 11:28:58.828000</th>\n",
       "      <td>Oleksandr Irvanets</td>\n",
       "      <td>NaN</td>\n",
       "      <td>Oleksandr Irvanets</td>\n",
       "      <td>2014-01-01</td>\n",
       "      <td>https://www.facebook.com/alekirvan/posts/10202...</td>\n",
       "      <td>NaN</td>\n",
       "      <td>{'seasons', 'time', 'new year'}</td>\n",
       "      <td>New year</td>\n",
       "      <td>NaN</td>\n",
       "      <td>NaN</td>\n",
       "      <td>...</td>\n",
       "      <td>NaN</td>\n",
       "      <td>NaN</td>\n",
       "      <td>Lusienna Maselska\\nПРЯМИЙ, ЯК КОЧЕРГА - БЛЄСК!...</td>\n",
       "      <td>111.0</td>\n",
       "      <td>7.0</td>\n",
       "      <td>4.0</td>\n",
       "      <td>NaN</td>\n",
       "      <td>Olga Kiyan</td>\n",
       "      <td>NaN</td>\n",
       "      <td>NaN</td>\n",
       "    </tr>\n",
       "  </tbody>\n",
       "</table>\n",
       "<p>5 rows × 25 columns</p>\n",
       "</div>"
      ],
      "text/plain": [
       "                                Author of poem Missing from Authors tab?  \\\n",
       "Timestamp                                                                  \n",
       "87                                 Halyna Kruk                       NaN   \n",
       "2022-04-10 23:30:07            Ostap Slyvynsky                       NaN   \n",
       "53                             Osip Mandelstam                       NaN   \n",
       "2022-08-02 13:10:06.549000    Boris Khersonsky                       NaN   \n",
       "2022-04-29 11:28:58.828000  Oleksandr Irvanets                       NaN   \n",
       "\n",
       "                                Author of post Date posted  \\\n",
       "Timestamp                                                    \n",
       "87                                 Halyna Kruk  2013-12-06   \n",
       "2022-04-10 23:30:07            Ostap Slyvynsky  2013-12-26   \n",
       "53                             Maria Stepanova  2013-12-27   \n",
       "2022-08-02 13:10:06.549000    Boris Khersonsky  2013-12-31   \n",
       "2022-04-29 11:28:58.828000  Oleksandr Irvanets  2014-01-01   \n",
       "\n",
       "                                                         URL of facebook post  \\\n",
       "Timestamp                                                                       \n",
       "87                          https://www.facebook.com/halyna.kruk/posts/101...   \n",
       "2022-04-10 23:30:07         https://www.facebook.com/ostap.slyvynsky/posts...   \n",
       "53                               https://www.facebook.com/maria.stepanova.372   \n",
       "2022-08-02 13:10:06.549000  https://www.facebook.com/borkhers/posts/pfbid0...   \n",
       "2022-04-29 11:28:58.828000  https://www.facebook.com/alekirvan/posts/10202...   \n",
       "\n",
       "                            Private post or link not working?  \\\n",
       "Timestamp                                                       \n",
       "87                                                        NaN   \n",
       "2022-04-10 23:30:07                                       NaN   \n",
       "53                                                        NaN   \n",
       "2022-08-02 13:10:06.549000                                NaN   \n",
       "2022-04-29 11:28:58.828000                                NaN   \n",
       "\n",
       "                                                               Themes curated  \\\n",
       "Timestamp                                                                       \n",
       "87                             {'maidan', 'revolution', 'protest', 'ukraine'}   \n",
       "2022-04-10 23:30:07         {'maidan', 'poetic form', 'haiku', 'revolution...   \n",
       "53                                       {'time', 'war', 'twentieth century'}   \n",
       "2022-08-02 13:10:06.549000                                                NaN   \n",
       "2022-04-29 11:28:58.828000                    {'seasons', 'time', 'new year'}   \n",
       "\n",
       "                                      Theme(s) (comma separated)  \\\n",
       "Timestamp                                                          \n",
       "87                                                        Maidan   \n",
       "2022-04-10 23:30:07                                Haiku, Maidan   \n",
       "53                                                           war   \n",
       "2022-08-02 13:10:06.549000  Soviet Union, food, morphine, anthem   \n",
       "2022-04-29 11:28:58.828000                              New year   \n",
       "\n",
       "                              Theme 2 (blank) Theme 3 (blank)  ...  \\\n",
       "Timestamp                                                      ...   \n",
       "87                                    Ukraine             NaN  ...   \n",
       "2022-04-10 23:30:07                       NaN             NaN  ...   \n",
       "53                          twentieth century             NaN  ...   \n",
       "2022-08-02 13:10:06.549000                NaN             NaN  ...   \n",
       "2022-04-29 11:28:58.828000                NaN             NaN  ...   \n",
       "\n",
       "                           Additional URL (if the post links to an external poem)  \\\n",
       "Timestamp                                                                           \n",
       "87                                                                        NaN       \n",
       "2022-04-10 23:30:07                                                       NaN       \n",
       "53                                                                        NaN       \n",
       "2022-08-02 13:10:06.549000                                                NaN       \n",
       "2022-04-29 11:28:58.828000                                                NaN       \n",
       "\n",
       "                                                                     fulltext  \\\n",
       "Timestamp                                                                       \n",
       "87                          9+\\n3\\n20+\\nEran\\nHalyna Kruk\\nDecember 6, 201...   \n",
       "2022-04-10 23:30:07         ХАЙКУ З МАЙДАНУ\\nДим у рукавах.\\nНіби йдеш з ц...   \n",
       "53                          9+\\n3\\n20+\\nEran\\nMaria Stepanova\\n3 mutual\\nA...   \n",
       "2022-08-02 13:10:06.549000                                                NaN   \n",
       "2022-04-29 11:28:58.828000                                                NaN   \n",
       "\n",
       "                                                    Comments (copy and paste)  \\\n",
       "Timestamp                                                                       \n",
       "87                                                                        NaN   \n",
       "2022-04-10 23:30:07         Yulia Tareieva\\nТак як є\\nSee Translation8y\\nS...   \n",
       "53                                                                        NaN   \n",
       "2022-08-02 13:10:06.549000  Леонид Кучеренко\\nЯ сразу вспомнил ТУ жизнь\\n\\...   \n",
       "2022-04-29 11:28:58.828000  Lusienna Maselska\\nПРЯМИЙ, ЯК КОЧЕРГА - БЛЄСК!...   \n",
       "\n",
       "                           Number of likes Number of comments  \\\n",
       "Timestamp                                                       \n",
       "87                                   251.0               27.0   \n",
       "2022-04-10 23:30:07                   93.0                7.0   \n",
       "53                                    50.0                4.0   \n",
       "2022-08-02 13:10:06.549000           120.0               19.0   \n",
       "2022-04-29 11:28:58.828000           111.0                7.0   \n",
       "\n",
       "                           Number of shares  \\\n",
       "Timestamp                                     \n",
       "87                                     68.0   \n",
       "2022-04-10 23:30:07                    10.0   \n",
       "53                                      3.0   \n",
       "2022-08-02 13:10:06.549000             11.0   \n",
       "2022-04-29 11:28:58.828000              4.0   \n",
       "\n",
       "                                                  Other notes      Your name  \\\n",
       "Timestamp                                                                      \n",
       "87                          Read by author at Lviv Euromaidan            NaN   \n",
       "2022-04-10 23:30:07                                       NaN  Amelia Glaser   \n",
       "53                              By Osip Mandelshtam (1935-36)            NaN   \n",
       "2022-08-02 13:10:06.549000                                NaN  Amelia Glaser   \n",
       "2022-04-29 11:28:58.828000                                NaN     Olga Kiyan   \n",
       "\n",
       "                            Suggestion/correction in comment field?   \\\n",
       "Timestamp                                                              \n",
       "87                                                               NaN   \n",
       "2022-04-10 23:30:07                                              NaN   \n",
       "53                                                               NaN   \n",
       "2022-08-02 13:10:06.549000                                        No   \n",
       "2022-04-29 11:28:58.828000                                       NaN   \n",
       "\n",
       "                            Unnamed: 25  \n",
       "Timestamp                                \n",
       "87                                  NaN  \n",
       "2022-04-10 23:30:07                 NaN  \n",
       "53                                  NaN  \n",
       "2022-08-02 13:10:06.549000          NaN  \n",
       "2022-04-29 11:28:58.828000          NaN  \n",
       "\n",
       "[5 rows x 25 columns]"
      ]
     },
     "execution_count": 8,
     "metadata": {},
     "output_type": "execute_result"
    }
   ],
   "source": [
    "df = pd.read_excel('Radcliffe Poetry Facebook Posts (Paige).xlsx',index_col=0)\n",
    "# df = df[df['Language'].isin(['Ukrainian','Russian'])]\n",
    "df.rename(columns = {'Poem full text (copy and paste)':'text'}, inplace = True)\n",
    "print(len(df))\n",
    "df.head()"
   ]
  },
  {
   "cell_type": "markdown",
   "id": "312d7601-4b73-4dc7-9afa-ea83decf92dc",
   "metadata": {
    "tags": []
   },
   "source": [
    "### Initialize documents"
   ]
  },
  {
   "cell_type": "code",
   "execution_count": 9,
   "id": "03479029-315d-4480-9d3f-928eb41ede39",
   "metadata": {},
   "outputs": [],
   "source": [
    "allrecords = df.to_dict('records')\n",
    "records = [rec for rec in allrecords if rec['Language'] in ['Ukrainian','Russian']]\n",
    "docs = [rec['text'] for rec in records]"
   ]
  },
  {
   "cell_type": "code",
   "execution_count": 10,
   "id": "7446f1ef-cd68-4873-a4fd-02baf3c016e2",
   "metadata": {},
   "outputs": [],
   "source": [
    "poemDf = pd.DataFrame.from_records(records)"
   ]
  },
  {
   "cell_type": "markdown",
   "id": "d481e033-abb2-4ff0-ae5f-219b8ec8b12f",
   "metadata": {
    "tags": []
   },
   "source": [
    "## Generate translated poems in English"
   ]
  },
  {
   "cell_type": "code",
   "execution_count": 15,
   "id": "1298906c-68ff-44e3-8982-c51c3f9b0e5c",
   "metadata": {
    "tags": []
   },
   "outputs": [],
   "source": [
    "# pip install spacy_fastlang"
   ]
  },
  {
   "cell_type": "code",
   "execution_count": 16,
   "id": "28bc29d4-f67f-4917-84c2-09a5746100b4",
   "metadata": {},
   "outputs": [
    {
     "data": {
      "text/plain": [
       "'en'"
      ]
     },
     "execution_count": 16,
     "metadata": {},
     "output_type": "execute_result"
    }
   ],
   "source": [
    "import spacy\n",
    "import spacy_fastlang\n",
    "\n",
    "nlp = spacy.load(\"en_core_web_sm\")\n",
    "nlp.add_pipe(\"language_detector\")\n",
    "doc = nlp('Life is like a box of chocolates. You never know what you are gonna get.')\n",
    "\n",
    "doc._.language"
   ]
  },
  {
   "cell_type": "code",
   "execution_count": 17,
   "id": "598cfac5-76fa-48fc-a2e4-840c367f5105",
   "metadata": {},
   "outputs": [
    {
     "data": {
      "text/plain": [
       "['Life is like a box of chocolates.', 'You never know what you are gonna get.']"
      ]
     },
     "execution_count": 17,
     "metadata": {},
     "output_type": "execute_result"
    }
   ],
   "source": [
    "from nltk.tokenize import sent_tokenize, word_tokenize\n",
    "sent_tokenize('Life is like a box of chocolates. You never know what you are gonna get.')"
   ]
  },
  {
   "cell_type": "code",
   "execution_count": 18,
   "id": "e50428ee-ad0e-459b-86cc-30c8a745a807",
   "metadata": {},
   "outputs": [
    {
     "name": "stderr",
     "output_type": "stream",
     "text": [
      "Using United States server backend.\n"
     ]
    }
   ],
   "source": [
    "# https://pypi.org/project/translate-api/\n",
    "# pip install translators --upgrade\n",
    "import translators as ts"
   ]
  },
  {
   "cell_type": "code",
   "execution_count": 21,
   "id": "a95ff820-8b46-47e3-a309-9a7a69dea61f",
   "metadata": {
    "tags": []
   },
   "outputs": [
    {
     "name": "stdout",
     "output_type": "stream",
     "text": [
      "CPU times: user 8 µs, sys: 2 µs, total: 10 µs\n",
      "Wall time: 16 µs\n"
     ]
    }
   ],
   "source": [
    "%%time\n",
    "def translate_text(text, langAbbrev):\n",
    "    doc = nlp(text) \n",
    "    if not doc._.language in ['uk','ru']:\n",
    "        return ''\n",
    "    try:\n",
    "        translatedText = ts.google(text, from_language=langAbbrev, to_language='en')\n",
    "    except:\n",
    "        halfIdx = len(text.split('\\n'))//2\n",
    "        firstHalf = '\\n'.join(text.split('\\n')[:halfIdx])\n",
    "        secondHalf = '\\n'.join(text.split('\\n')[halfIdx:])\n",
    "        try:\n",
    "            transText1 = ts.google(firstHalf, from_language=langAbbrev, to_language='en')\n",
    "            transText2 = ts.google(secondHalf, from_language=langAbbrev, to_language='en')\n",
    "            translatedText = transText1 +'\\n' + transText2\n",
    "        except:\n",
    "            translatedText = ts.google(text[:4000], from_language=langAbbrev, to_language='en')\n",
    "            \n",
    "    return translatedText"
   ]
  },
  {
   "cell_type": "code",
   "execution_count": 55,
   "id": "e059038f-bbce-41eb-86f3-1c487bd251c3",
   "metadata": {
    "tags": []
   },
   "outputs": [
    {
     "name": "stdout",
     "output_type": "stream",
     "text": [
      "370/926 parsed.\n",
      "{'original': 'Jeśli wysłałeś sobie list łykami.', 'en': ''}\n",
      "380/926 parsed.\n",
      "{'original': 'ледве дихає ', 'en': 'Barely breathes'}\n",
      "390/926 parsed.\n",
      "{'original': 'Погладжуючи живіт, у якім слово, що було спочатку.', 'en': 'Stroking the abdomen, in which the word that was originally.'}\n",
      "400/926 parsed.\n",
      "{'original': 'і зелені огірки дітей', 'en': 'and green cucumbers of children'}\n",
      "410/926 parsed.\n",
      "{'original': 'Схилявся день до західної брами ', 'en': 'Leaning day to the Western Gate'}\n",
      "420/926 parsed.\n",
      "{'original': 'стільки ниток заплетено у канат', 'en': 'so many threads are braided into a rope'}\n",
      "430/926 parsed.\n",
      "{'original': 'зималето', 'en': ''}\n",
      "440/926 parsed.\n",
      "{'original': 'Я хочу тебе відвести під краплак', 'en': 'I want to take you under a lap'}\n",
      "450/926 parsed.\n",
      "{'original': 'Добре, добре, знищуй листи,', 'en': 'Well, well, destroy the letters,'}\n",
      "460/926 parsed.\n",
      "{'original': 'стирай номери, пали мости,', 'en': 'ripen numbers, fuel bridges,'}\n",
      "470/926 parsed.\n",
      "{'original': 'Індиго і сепія вийдуть на світло,', 'en': 'Indigo and sepia will come to light,'}\n",
      "480/926 parsed.\n",
      "{'original': 'на идиш покойники со мной не разговаривают', 'en': 'on the goal of the so -so -so'}\n",
      "490/926 parsed.\n",
      "{'original': 'Хай випнеться вагітна глибина.', 'en': 'Let the pregnant depth come out.'}\n",
      "500/926 parsed.\n",
      "{'original': 'Тепер душа моя тяжіє За мис в тумані Меганом, І парус чорний бовваніє Тут після похорону знов.', 'en': 'Now my soul gravitates for the Cape in the fog megan, and the sail of black is here after the funeral again.'}\n",
      "510/926 parsed.\n",
      "{'original': '2015', 'en': ''}\n",
      "520/926 parsed.\n",
      "{'original': 'паутинкою чулочек', 'en': 'Web stocking'}\n",
      "530/926 parsed.\n",
      "{'original': 'Все выставлено на продажу. Но никто не делает ставок.', 'en': 'Everything is put up for sale. But no one is betting.'}\n",
      "540/926 parsed.\n",
      "{'original': 'я не дам тобі жити так,', 'en': 'I will not let you live so'}\n",
      "550/926 parsed.\n",
      "{'original': 'Язык тела тебя выдаёт, — утверждает подруга, —', 'en': 'The body language gives you out, ”the girlfriend claims,“'}\n",
      "560/926 parsed.\n",
      "{'original': 'В хімічну свободу, над-тварне єднання; ', 'en': 'In chemical freedom, superior unity;'}\n",
      "570/926 parsed.\n",
      "{'original': 'наприклад із мазди-кабріолета', 'en': 'For example, from Mazda-Kabriolet'}\n",
      "580/926 parsed.\n",
      "{'original': 'видає нам життя, як підручник.', 'en': 'Gives us life as a textbook.'}\n",
      "590/926 parsed.\n",
      "{'original': 'а сколько больных голов.', 'en': 'And how many sick heads.'}\n",
      "600/926 parsed.\n",
      "{'original': 'И конец придет вашей лисице, а то иначе, юноша, конец придет вам и весьма скоро.', 'en': 'And the end will come to your fox, otherwise, the young man, the end will come to you very soon.'}\n",
      "610/926 parsed.\n",
      "{'original': 'Мельче, мельче шажок.', 'en': 'Small, smaller step.'}\n",
      "620/926 parsed.\n",
      "{'original': 'откуда у парня донбасская грусть', 'en': 'Where did the guy get the Donbass sadness'}\n",
      "630/926 parsed.\n",
      "{'original': 'галдеть и злить худую смерть,', 'en': 'Galute and anger thin death,'}\n",
      "640/926 parsed.\n",
      "{'original': 'бо учора вночі', 'en': 'Because yesterday night'}\n",
      "650/926 parsed.\n",
      "{'original': 'Ось вона вже прийшла, і на хрест Твій пнеться,', 'en': 'Here she has come, and your cross will go on,'}\n",
      "660/926 parsed.\n",
      "{'original': 'роняет слюну на землю, скользко от песьей слюны,', 'en': 'drops saliva to the ground, slippery from the bundle of saliva,'}\n",
      "670/926 parsed.\n",
      "{'original': '23.01.2022', 'en': ''}\n",
      "680/926 parsed.\n",
      "{'original': 'Коли він розітне ходою зимовий ранок,', 'en': 'When he rolled up the winter morning,'}\n",
      "690/926 parsed.\n",
      "{'original': '* * *', 'en': ''}\n",
      "700/926 parsed.\n",
      "{'original': 'Невеличка валізка. ', 'en': 'A small suitcase.'}\n",
      "710/926 parsed.\n",
      "{'original': 'Десять тисяч загиблих слухають у землі.', 'en': 'Ten thousand dead listen to the ground.'}\n",
      "720/926 parsed.\n",
      "{'original': 'баба на лавочці одягнула на голову хустину', 'en': 'Baba on a bench wore a handkerchief on her head'}\n",
      "730/926 parsed.\n",
      "{'original': 'розріджено спливає вглиб небес-', 'en': 'sparsely floats deep into heaven-'}\n",
      "740/926 parsed.\n",
      "{'original': 'кто у тебя в животе округлом?', 'en': 'Who is rounded in your stomach?'}\n",
      "750/926 parsed.\n",
      "{'original': 'На нього сонце промінь ллє', 'en': 'On it the sun beam pours'}\n",
      "760/926 parsed.\n",
      "{'original': 'Дитино, тримай свою ляльку, тримай ведмедя, тримай кота.', 'en': 'Baby, hold your doll, hold the bear, hold the cat.'}\n",
      "770/926 parsed.\n",
      "{'original': 'Написано в 1972 году (мне 22). Но сегодня полвека спустя очень, очень актуально.', 'en': 'Written in 1972 (I am 22). But today half a century later very, very relevant.'}\n",
      "780/926 parsed.\n",
      "{'original': 'думай собі, ніби так і треба.', 'en': 'Think yourself, as if it is necessary.'}\n",
      "790/926 parsed.\n",
      "{'original': 'а еще был странный человек, который заходил иногда в архив, просил штопор, уходил на полчаса, и приходил счастливый', 'en': 'And there was also a strange man who sometimes entered the archive, asked for a corkscrew, left for half an hour, and came a happy'}\n",
      "800/926 parsed.\n",
      "{'original': 'но не отвадить треклятых чем им ни угрожай', 'en': 'but do not dump the damaged no matter how threaten them'}\n",
      "810/926 parsed.\n",
      "{'original': 'Он говорит, алеют черешни, вишни,', 'en': 'He says, Alyote Cherry, Cherry, Cherries,'}\n",
      "820/926 parsed.\n",
      "{'original': 'Запахи железа, воды, угля.', 'en': 'Smells of iron, water, coal.'}\n",
      "830/926 parsed.\n",
      "{'original': 'пнит лесостепная столешня и сонет', 'en': 'Forest -steppe tabletop and sonnet'}\n",
      "840/926 parsed.\n",
      "{'original': 'За это время у большинства одногодков умерли родители.', 'en': 'During this time, most of the one -year -old parents died.'}\n",
      "850/926 parsed.\n",
      "{'original': '* * *', 'en': ''}\n",
      "860/926 parsed.\n",
      "{'original': 'Затменье. ', 'en': 'Fork.'}\n",
      "870/926 parsed.\n",
      "{'original': ' ', 'en': ''}\n",
      "880/926 parsed.\n",
      "{'original': 'збирали з коханою', 'en': 'Collected with a loved one'}\n",
      "890/926 parsed.\n",
      "{'original': 'набряклі у ґрунтових водах', 'en': 'swollen in groundwater'}\n",
      "900/926 parsed.\n",
      "{'original': 'намагаючись вхопити пана смерть за яйця', 'en': 'trying to grasp the lord death by the eggs'}\n",
      "910/926 parsed.\n",
      "{'original': 'их горе без дна', 'en': 'their grief without a bottom'}\n",
      "920/926 parsed.\n",
      "{'original': '***', 'en': ''}\n",
      "CPU times: user 20min 25s, sys: 2min 34s, total: 23min\n",
      "Wall time: 5h 6min 16s\n"
     ]
    }
   ],
   "source": [
    "%%time\n",
    "line_sample = []\n",
    "for i, rec in enumerate(records):\n",
    "    if i in range(0,369):\n",
    "        continue\n",
    "    recTokens = []\n",
    "    if i % 10 == 0:\n",
    "        print(f'{i}/{len(records)} parsed.')\n",
    "        if line_sample != []:\n",
    "            print(random.choice(random.choice(line_sample)))\n",
    "    langAbbrev = rec['Language'].lower()[:2]\n",
    "    lines = rec['text'].split('\\n')\n",
    "    linesInPoem = []\n",
    "    for line in lines:\n",
    "        if len(line) > 100:\n",
    "            # split line by sentence\n",
    "            sentlines = sent_tokenize(line)\n",
    "            for newline in sentlines:\n",
    "                enLine = translate_text(newline, langAbbrev)\n",
    "                linesInPoem.append({\n",
    "                    'original' : newline,\n",
    "                    'en' : enLine\n",
    "                })\n",
    "        else:\n",
    "            enLine = translate_text(line, langAbbrev)\n",
    "            linesInPoem.append({\n",
    "                'original' : line,\n",
    "                'en' : enLine\n",
    "             })\n",
    "            \n",
    "    rec['translatedLines'] = linesInPoem\n",
    "    line_sample.append(linesInPoem)"
   ]
  },
  {
   "cell_type": "code",
   "execution_count": 56,
   "id": "59f4b47e-5fcd-48ab-b032-52607e0e06b5",
   "metadata": {},
   "outputs": [
    {
     "data": {
      "text/plain": [
       "[{'original': 'За вчора і сьогодні - кілька добрих новин:',\n",
       "  'en': 'For yesterday and today - a few good news:'},\n",
       " {'original': '1. Зробила спробу написати хокку під впливом Maya Studzinskaya, а темою завдячую Olaf Clemensen',\n",
       "  'en': '1. I attempted to write a hokku under the influence of Maya Studzinskaya, and the topic is olaf clamesen'},\n",
       " {'original': '* * *', 'en': ''},\n",
       " {'original': 'місячна ніч', 'en': 'monthly night'},\n",
       " {'original': 'мати дістала прикраси', 'en': 'The mother got jewelry'},\n",
       " {'original': 'час незворотній', 'en': 'Time is irreversible'},\n",
       " {'original': '* * *', 'en': ''},\n",
       " {'original': 'на шиї кольє', 'en': 'On the neck of the necklace'},\n",
       " {'original': 'пригадують руки', 'en': 'Remember their hands'},\n",
       " {'original': 'важкість перснів', 'en': 'The severity of the rings'},\n",
       " {'original': '* * *', 'en': ''},\n",
       " {'original': 'візерунки осені', 'en': 'Autumn patterns'},\n",
       " {'original': 'від камеї в долоні',\n",
       "  'en': 'from the cameo in the palm of your hand'},\n",
       " {'original': 'лишається слід', 'en': 'The trace remains'},\n",
       " {'original': '* * *', 'en': ''},\n",
       " {'original': 'мати чекає', 'en': 'The mother is waiting'},\n",
       " {'original': 'найкоштовніша тиша', 'en': 'The most precious silence'},\n",
       " {'original': 'син у вікні', 'en': 'Son in the window'},\n",
       " {'original': '2. Отримала від Paulina Zięba віртуозні переклади власних віршів, зокрема',\n",
       "  'en': '2. Received from Paulina zięba virtual translations of own poems, including'},\n",
       " {'original': 'CYKUTA', 'en': ''},\n",
       " {'original': 'Cykuto, dziewczynko, chodź prędzej do nas…', 'en': ''},\n",
       " {'original': 'W zielone kierpce jak zawsze obuta,', 'en': ''},\n",
       " {'original': 'Spoglądasz na wszystko spod długich rzęs,', 'en': ''},\n",
       " {'original': 'Pragniemy się poczęstować, Cykuto.', 'en': ''},\n",
       " {'original': 'Komu z języka podasz się na język,', 'en': ''},\n",
       " {'original': 'Nie spiesząc się, pociągniesz w nieśmiertelność?', 'en': ''},\n",
       " {'original': 'Cykuto, dziewczynko, napełnieni tobą', 'en': ''},\n",
       " {'original': 'Śnią uparci znawcy miłości.', 'en': ''},\n",
       " {'original': 'Nie pomoże Asklepios, ani Sokrates,', 'en': ''},\n",
       " {'original': 'Jeśli wysłałeś sobie list łykami.', 'en': ''},\n",
       " {'original': 'Bo jeszcze jeden – ostatni – adresat', 'en': ''},\n",
       " {'original': 'Wynurza się  z niemej, lustrzanej ramy.', 'en': ''},\n",
       " {'original': ' ЦИКУТА', 'en': 'Tsikuta'},\n",
       " {'original': 'Цикуто, дiвчинко, iди до нас мерщiй…',\n",
       "  'en': 'Tsikuto, girl, go to us dead ...'},\n",
       " {'original': 'В зеленi постоли як завжди взута,',\n",
       "  'en': 'In the green posts as always shot,'},\n",
       " {'original': 'Ти дивишся на все з-пiд довгих вiй,',\n",
       "  'en': 'You look at everything from under the long eyelashes,'},\n",
       " {'original': 'I тягне причаститися, Цикуто.',\n",
       "  'en': 'And it pulls to communicate, Tsikuto.'},\n",
       " {'original': 'Кому пройдешся язиком по язицi,',\n",
       "  'en': 'To whom you will pass tongue on the tongue,'},\n",
       " {'original': 'Аби спроквола затягти в своє безсмертя?',\n",
       "  'en': 'In order to tighten your immortality?'},\n",
       " {'original': 'Цикуто, дiвчинко, тобою снять знавцi',\n",
       "  'en': 'Tsikuto, girl, you dreamed of a connoisseur'},\n",
       " {'original': 'Любовi, а вони достоту впертi.',\n",
       "  'en': 'Love, and they are stubborn.'},\n",
       " {'original': 'Не допоможуть вже Асклепiй i Сократ,',\n",
       "  'en': 'Will not help asclepia and Socrates,'},\n",
       " {'original': 'Якщо ти надiслав собi листа ковтками.',\n",
       "  'en': 'If you gave your letter with sips.'},\n",
       " {'original': 'I дметься ще один – останнiй – адресат',\n",
       "  'en': 'And another one - the last - the addressee'},\n",
       " {'original': 'З дзеркальної нiмої амальгами.',\n",
       "  'en': 'From mirror immobilm amalgam.'},\n",
       " {'original': '3.', 'en': ''},\n",
       " {'original': 'Взяла на рецензію книгу, яку уклали Олег Коцарев та Юлія Стахівська - антологію \"Українська авангардна поезія.',\n",
       "  'en': 'She took a review of the book, which was made by Oleg Kotsarev and Yulia Stakhivska - an anthology \"Ukrainian avant -garde poetry.'},\n",
       " {'original': '1910-1930\"', 'en': ''},\n",
       " {'original': '4.', 'en': ''},\n",
       " {'original': 'Побувала на батьківських зборах у школі сина.',\n",
       "  'en': \"She visited her parents' meeting at her son's school.\"},\n",
       " {'original': 'Запишалася: хвалили його, бо вів лінійку першого дзвоника, а ще зробив класний презентаційний ролик про нашу країну.',\n",
       "  'en': 'She was writing out: they praised him because he led the first bell line, and also made a cool presentation video about our country.'},\n",
       " {'original': 'Пропоную взяти участь у флешмобі Maya Studzinskaya та Anna Chernenko.',\n",
       "  'en': 'I suggest to participate in the Maya Studzinskaya and Anna Chernenko flash mob.'},\n",
       " {'original': 'Треба писати по 3 хороші новини протягом 7 днів і залучати по 2 учасники кожен день',\n",
       "  'en': 'Need to write 3 good news for 7 days and attract 2 participants every day'}]"
      ]
     },
     "execution_count": 56,
     "metadata": {},
     "output_type": "execute_result"
    }
   ],
   "source": [
    "records[369]['translatedLines']"
   ]
  },
  {
   "cell_type": "code",
   "execution_count": 58,
   "id": "687f3e00-b507-42c8-80e0-9167ff927c9c",
   "metadata": {},
   "outputs": [],
   "source": [
    "# recsWT = pd.DataFrame.from_records(records)\n",
    "# recsWT.to_excel('recsEnglishTranslationWithLINES_9-2.xlsx')"
   ]
  },
  {
   "cell_type": "code",
   "execution_count": null,
   "id": "853702da-a461-44d0-81e2-dc2430a8fd48",
   "metadata": {},
   "outputs": [],
   "source": []
  },
  {
   "cell_type": "markdown",
   "id": "997a4977-b99e-4ced-a8a4-8b60fa9ecb17",
   "metadata": {
    "tags": []
   },
   "source": [
    "## Bert Topic Modeling"
   ]
  },
  {
   "cell_type": "code",
   "execution_count": 28,
   "id": "058d9280-adb1-4a62-9da2-71c724533f1e",
   "metadata": {},
   "outputs": [],
   "source": [
    "# pip install stopwordsiso"
   ]
  },
  {
   "cell_type": "code",
   "execution_count": 8,
   "id": "db4b8dc6-3fe7-49fa-8c01-9a2f86d3a95a",
   "metadata": {},
   "outputs": [
    {
     "data": {
      "text/plain": [
       "'!\"#$%&\\'()*+,-./:;<=>?@[\\\\]^_`{|}~'"
      ]
     },
     "execution_count": 8,
     "metadata": {},
     "output_type": "execute_result"
    }
   ],
   "source": [
    "import string\n",
    "string.punctuation"
   ]
  },
  {
   "cell_type": "code",
   "execution_count": 9,
   "id": "9d52cfd2-3dda-4e7c-b0e5-c9c5b9dd155c",
   "metadata": {},
   "outputs": [],
   "source": [
    "import stopwordsiso as stopwords\n",
    "# russian, ukrainian, and english\n",
    "iso_stopwords = list(stopwords.stopwords([\"ru\",\"uk\",\"en\"]))\n",
    "ukstops = ['а', 'аби', 'абиде', 'абиким', 'абикого', 'абиколи', 'абикому', 'абикуди', 'абихто', 'абичий', 'абичийого', 'абичийому', 'абичим', 'абичию', 'абичия', 'абичиє', 'абичиєму', 'абичиєю', 'абичиєї', 'абичиї', 'абичиїй', 'абичиїм', 'абичиїми', 'абичиїх', 'абичого', 'абичому', 'абищо', 'абияка', 'абияке', 'абиякий', 'абияким', 'абиякими', 'абияких', 'абиякого', 'абиякому', 'абиякою', 'абиякої', 'абияку', 'абиякі', 'абиякій', 'абиякім', 'або', 'абощо', 'авжеж', 'авось', 'ага', 'ад', 'адже', 'аж', 'ажень', 'аз', 'ай', 'але', 'ало', 'амінь', 'ант', 'ану', 'ані', 'аніде', 'аніж', 'анізащо', 'аніким', 'анікого', 'анікогісінько', 'аніколи', 'анікому', 'аніскільки', 'аніхто', 'анічим', 'анічого', 'анічогісінько', 'анічому', 'аніщо', 'аніяка', 'аніяке', 'аніякий', 'аніяким', 'аніякими', 'аніяких', 'аніякого', 'аніякому', 'аніякою', 'аніякої', 'аніяку', 'аніякі', 'аніякій', 'аніякім', 'аніякісенька', 'аніякісеньке', 'аніякісенький', 'аніякісеньким', 'аніякісенькими', 'аніякісеньких', 'аніякісенького', 'аніякісенькому', 'аніякісенькою', 'аніякісенької', 'аніякісеньку', 'аніякісенькі', 'аніякісенькій', 'аніякісенькім', 'аніякісінька', 'аніякісіньке', 'аніякісінький', 'аніякісіньким', 'аніякісінькими', 'аніякісіньких', 'аніякісінького', 'аніякісінькому', 'аніякісінькою', 'аніякісінької', 'аніякісіньку', 'аніякісінькі', 'аніякісінькій', 'аніякісінькім', 'ат', 'ато', 'атож', 'ау', 'ах', 'ач', 'ачей', 'аякже', 'б', 'ба', 'багато', 'багатьма', 'багатьом', 'багатьох', 'баз', 'бай', 'бат', 'бах', 'бац', 'баш', 'бе', 'беж', 'без', 'безперервно', 'бел', 'бер', 'би', 'бир', 'бич', 'близько', 'близько від', 'бо', 'бов', 'бод', 'бодай', 'боз', 'бош', 'був', 'буває', 'буде', 'будем', 'будемо', 'будете', 'будеш', 'буду', 'будуть', 'будь', 'будь ласка', 'будьмо', 'будьте', 'була', 'були', 'було', 'бути', 'бух', 'буц', 'буцім', 'буцімто', 'бі', 'біб', 'більш', 'більше', 'біля', 'в', 'в бік', 'в залежності від', 'в міру', 'в напрямі до', 'в порівнянні з', 'в процесі', 'в результаті', 'в ролі', 'в силу', 'в сторону', 'в супроводі', 'в ході', \"в ім'я\", 'в інтересах', 'вад', 'важлива', 'важливе', 'важливий', 'важливі', 'вак', 'вам', 'вами', 'ван', 'вас', 'ват', 'ваш', 'ваша', 'ваше', 'вашим', 'вашими', 'ваших', 'вашого', 'вашому', 'вашою', 'вашої', 'вашу', 'ваші', 'вашій', 'вашім', 'ввесь', 'вві', 'вгору', 'вдалині', 'вед', 'верх', 'весь', 'вех', 'вже', 'вздовж', 'ви', 'виз', 'вис', 'височині', 'вище ', 'вйо', 'власне', 'властиво', 'вміти', 'внаслідок', 'вниз', 'внизу', 'во', 'вон', 'вона', 'вони', 'воно', 'восьмий', 'вперед', 'вподовж', 'впоперек', 'впритиск', 'впритул', 'впродовж', 'впрост', 'все', 'всередині', 'всею', 'вслід', 'всупереч', 'всього', 'всьому', 'всю', 'всюди', 'вся', 'всяк', 'всяка', 'всяке', 'всякий', 'всяким', 'всякими', 'всяких', 'всякого', 'всякому', 'всякою', 'всякої', 'всяку', 'всякі', 'всякій', 'всякім', 'всі', 'всій', 'всіляка', 'всіляке', 'всілякий', 'всіляким', 'всілякими', 'всіляких', 'всілякого', 'всілякому', 'всілякою', 'всілякої', 'всіляку', 'всілякі', 'всілякій', 'всілякім', 'всім', 'всіма', 'всіх', 'всією', 'всієї', 'втім', 'ві', 'віг', 'від', 'від імені', 'віддалік від', 'відколи', 'відносно', 'відповідно', 'відповідно до', 'відсотків', 'відтепер', 'відтоді', 'він', 'вісім', 'вісімнадцятий', 'вісімнадцять', 'віт', 'віф', 'віх', 'віц', 'віщо', 'віщось', 'г', 'га', 'гав', 'гаразд', 'ге', 'гез', 'гем', 'геп', 'гет', 'геть', 'гех', 'ги', 'гик', 'гир', 'гич', 'гм', 'го', 'говорив', 'гог', 'гоп', 'гоц', 'гу', 'гуп', 'д', 'да', 'давай', 'давати', 'давно', 'далеко', 'далеко від', 'далі', 'даром', 'два', 'двадцятий', 'двадцять', 'дванадцятий', 'дванадцять', 'двох', 'дві', 'де', \"дев'ятий\", \"дев'ятнадцятий\", \"дев'ятнадцять\", \"дев'ять\", 'дедалі', 'деким', 'декого', 'деколи', 'декому', 'декотра', 'декотре', 'декотрий', 'декотрим', 'декотрими', 'декотрих', 'декотрого', 'декотрому', 'декотрою', 'декотрої', 'декотру', 'декотрі', 'декотрій', 'декотрім', 'декілька', 'декільком', 'декількома', 'декількох', 'декім', 'десь', 'десятий', 'десять', 'дехто', 'дечий', 'дечийого', 'дечийому', 'дечим', 'дечию', 'дечия', 'дечиє', 'дечиєму', 'дечиєю', 'дечиєї', 'дечиї', 'дечиїй', 'дечиїм', 'дечиїми', 'дечиїх', 'дечого', 'дечому', 'дечім', 'дещо', 'деяка', 'деяке', 'деякий', 'деяким', 'деякими', 'деяких', 'деякого', 'деякому', 'деякою', 'деякої', 'деяку', 'деякі', 'деякій', 'деякім', 'деінде', 'для', 'до', 'добре', 'довго', 'довкола', 'довкіл', 'дог', 'доки', 'допоки', 'допіру', 'досить', 'досі', 'дотепер', 'доти', 'другий', 'друго', 'дуже', 'дякую', 'дійсно', 'діл', 'е', 'еге', 'еж', 'ей', 'ерг', 'ест', 'ет', 'ех', 'еч', 'ж', 'же', 'жоден', 'жодна', 'жодне', 'жодний', 'жодним', 'жодними', 'жодних', 'жодного', 'жодному', 'жодною', 'жодної', 'жодну', 'жодні', 'жодній', 'жоднім', 'жоднісінька', 'жоднісіньке', 'жоднісінький', 'жоднісіньким', 'жоднісінькими', 'жоднісіньких', 'жоднісінького', 'жоднісінькому', 'жоднісінькою', 'жоднісінької', 'жоднісіньку', 'жоднісінькі', 'жоднісінькій', 'жоднісінькім', 'жуз', 'з', 'з метою', 'з нагоди', 'з приводу', 'з розрахунку на', 'з-за', 'з-над', 'з-перед', 'з-поза', 'з-поміж', 'з-понад', 'з-поперед', 'з-посеред', 'з-проміж', 'з-під', 'з-серед', 'за', 'за винятком', 'за допомогою', 'за посередництвом', 'за рахунок', 'завгодно', 'завдяки', 'завжди', 'завше', 'задля', 'зазвичай', 'зайнята', 'зайнятий', 'зайнято', 'зайняті', 'залежно', 'залежно від', 'замість', 'занадто', 'заради', 'зараз', 'зас', 'зате', 'збоку', 'збоку від', 'зважаючи на', 'зверх ', 'зверху', 'звичайно', 'звиш', 'звідки', 'звідкилясь', 'звідкись', 'звідкіль', 'звідкіля', 'звідкілясь', 'звідси', 'звідсіль', 'звідсіля', 'звідти', 'звідтіль', 'звідтіля', 'звідусюди', 'звідусіль', 'звідціля', 'згідно з', 'здається', 'здовж', 'зем', 'зет', 'ззаду', 'зиз', 'зик', 'значить', 'знову', 'зо', 'зовсім', 'зсередини', 'зух', 'зі', 'зіс', 'и', 'ич', 'й', 'ймовірно', 'йно', 'йо', 'його', 'йой', 'йол', 'йому', 'йор', 'йот', 'йох', 'к', 'каже', 'каз', 'кар', 'каф', 'ках', 'ке', 'кед', 'кет', 'кеш', 'кив', 'кий', 'кил', 'ким', 'кимось', 'кимсь', 'ких', 'киш', 'коб', 'коби', 'кого', 'когось', 'кожен', 'кожна', 'кожне', 'кожний', 'кожним', 'кожними', 'кожних', 'кожного', 'кожному', 'кожною', 'кожної', 'кожну', 'кожні', 'кожній', 'кожнім', 'кожнісінька', 'кожнісіньке', 'кожнісінький', 'кожнісіньким', 'кожнісінькими', 'кожнісіньких', 'кожнісінького', 'кожнісінькому', 'кожнісінькою', 'кожнісінької', 'кожнісіньку', 'кожнісінькі', 'кожнісінькій', 'кожнісінькім', 'коли', 'колись', 'коло', 'кому', 'комусь', 'котра', 'котрась', 'котре', 'котресь', 'котрий', 'котрийсь', 'котрим', 'котрими', 'котримись', 'котримось', 'котримсь', 'котрих', 'котрихось', 'котрихсь', 'котрого', 'котрогось', 'котрому', 'котромусь', 'котрою', 'котроюсь', 'котрої', 'котроїсь', 'котру', 'котрусь', 'котрі', 'котрій', 'котрійсь', 'котрім', 'котрімсь', 'котрісь', 'коц', 'коч', 'коштом', 'край', 'краще', 'кру', 'круг', 'кругом', 'крю', 'кря', 'крізь', 'крім', 'куди', 'кудись', 'кудою', 'кілька', 'кільком', 'кількома', 'кількох', 'кім', 'кімось', 'кімсь', 'кінець', 'л', 'лаж', 'лап', 'лас', 'лат', 'ле', 'ледве', 'ледь', 'лет', 'лиш', 'лише', 'лишень', 'лум', 'луп', 'лут', 'льє', 'люди', 'людина', 'ля', 'лі', 'ліворуч від', 'лік', 'лім', 'м', 'мабуть', 'майже', 'мало', 'мати', 'мац', 'ме', 'меж', 'мене', 'менше', 'мені', 'мерсі', 'мет', 'мжа', 'ми', 'мимо ', 'миру', 'мит', 'мною', 'мо', 'мов', 'мовби', 'мовбито', 'могла', 'могли', 'могло', 'мого', 'могти', 'мож', 'може', 'можем', 'можемо', 'можете', 'можеш', 'можна', 'можу', 'можуть', 'можіть', 'мой', 'мол', 'мою', 'моя', 'моє', 'моєму', 'моєю', 'моєї', 'мої', 'моїй', 'моїм', 'моїми', 'моїх', 'му', 'мі', 'міг', 'між', 'мій', 'мільйонів', 'н', 'на', 'на адресу', 'на базі', 'на благо', 'на випадок', 'на відміну від', 'на засадах', 'на знак', 'на зразок', 'на користь', 'на кшталт', 'на межі', 'на основі', 'на противагу', 'на підставі', 'на честь', 'на чолі', 'на ґрунті', 'навколо', 'навкруг', 'навкруги ', 'навкіл', 'навпаки', 'навперейми', 'навпроти', 'навіть', 'навіщо', 'навіщось', 'нагорі', 'над', 'надо', 'надовкола', 'надокола', 'наді', 'назавжди', 'назад', 'назустріч', 'най', 'найбільш', 'нам', 'нами', 'наоколо ', 'наокруг ', 'наокруги ', 'наокіл', 'наперед', 'напередодні', 'напереді', 'наперекір', 'напереріз', 'наприкінці', 'напроти', 'нарешті', 'нарівні з', 'нас', 'насеред', 'насподі', 'наспід', 'настрічу', 'насупроти', 'насупротив ', 'нате', 'наче', 'начеб', 'начебто', 'наш', 'наша', 'наше', 'нашим', 'нашими', 'наших', 'нашого', 'нашому', 'нашою', 'нашої', 'нашу', 'наші', 'нашій', 'нашім', 'не', 'не до', 'не можна', 'неабичим', 'неабичого', 'неабичому', 'неабищо', 'небагато', 'небагатьма', 'небагатьом', 'небагатьох', 'небудь', 'невважаючи', 'невже', 'недалеко', 'недалеко від', 'неж', 'незалежно від', 'незважаючи', 'незважаючи на', 'ней', 'немає', 'немов', 'немовби', 'немовбито', 'неначе', 'неначебто', 'неподалеку', 'неподалеку від', 'неподалечку', 'неподалечку від', 'неподалік', 'неподалік від', 'нерідко', 'нех', 'нехай', 'нещодавно', 'нею', 'неї', 'нижче', 'низько', 'ник', 'ним', 'ними', 'них', 'нич', 'но', 'ну', 'нуг', 'нуд', 'нум', 'нумо', 'нумте', 'ньо', 'нього', 'ньому', 'ню', 'нюх', 'ня', 'няв', 'ні', 'ніби', 'ніби-то', 'нібито', 'ніде', 'ніж', 'нізащо', 'нізвідки', 'нізвідкіля', 'ній', 'ніким', 'нікого', 'нікогісінько', 'ніколи', 'нікому', 'нікотра', 'нікотре', 'нікотрий', 'нікотрим', 'нікотрими', 'нікотрих', 'нікотрого', 'нікотрому', 'нікотрою', 'нікотрої', 'нікотру', 'нікотрі', 'нікотрій', 'нікотрім', 'нікуди', 'нім', 'нінащо', 'ніскільки', 'ніт', 'ніхто', 'нічий', 'нічийна', 'нічийне', 'нічийний', 'нічийним', 'нічийними', 'нічийних', 'нічийного', 'нічийному', 'нічийною', 'нічийної', 'нічийну', 'нічийні', 'нічийній', 'нічийнім', 'нічийого', 'нічийому', 'нічим', 'нічию', 'нічия', 'нічиє', 'нічиєму', 'нічиєю', 'нічиєї', 'нічиї', 'нічиїй', 'нічиїм', 'нічиїми', 'нічиїх', 'нічого', 'нічому', 'ніщо', 'ніяк', 'ніяка', 'ніяке', 'ніякий', 'ніяким', 'ніякими', 'ніяких', 'ніякого', 'ніякому', 'ніякою', 'ніякої', 'ніяку', 'ніякі', 'ніякій', 'ніякім', 'ніякісінька', 'ніякісіньке', 'ніякісінький', 'ніякісіньким', 'ніякісінькими', 'ніякісіньких', 'ніякісінького', 'ніякісінькому', 'ніякісінькою', 'ніякісінької', 'ніякісіньку', 'ніякісінькі', 'ніякісінькій', 'ніякісінькім', 'о', 'об', 'обабіч', 'обаполи', 'обидва', 'обр', 'обік', 'обіруч', 'обіч', 'ов', 'од', 'один', 'одинадцятий', 'одинадцять', 'одна', 'однак', 'одначе', 'одне', 'одним', 'одними', 'одних', 'одно', 'одного', 'одного разу', 'одному', 'одною', 'одної', 'одну', 'одні', 'одній', 'однім', 'однією', 'однієї', 'ож', 'ой', 'окрай', 'окроме', 'округ', 'округи', 'окрім', 'окіл', 'ом', 'он', 'онде', 'онно', 'оно', 'оподаль', 'оподаль від', 'оподалік', 'оподалік від', 'опостін', 'опостінь', 'опроче', 'опріч', 'опріче', 'опісля', 'осе', 'оскільки', 'особливо', 'осторонь', 'ось', 'осісьо', 'от', 'ота', 'отак', 'отака', 'отаке', 'отакий', 'отаким', 'отакими', 'отаких', 'отакого', 'отакому', 'отакою', 'отакої', 'отаку', 'отакі', 'отакій', 'отакім', 'отакісінька', 'отакісіньке', 'отакісінький', 'отакісіньким', 'отакісінькими', 'отакісіньких', 'отакісінького', 'отакісінькому', 'отакісінькою', 'отакісінької', 'отакісіньку', 'отакісінькі', 'отакісінькій', 'отакісінькім', 'отам', 'оте', 'отже', 'отим', 'отими', 'отих', 'ото', 'отого', 'отож', 'отой', 'отому', 'отою', 'отої', 'отсе', 'оттак', 'отто', 'оту', 'отут', 'оті', 'отій', 'отім', 'отією', 'отієї', 'ох', 'оце', 'оцей', 'оцим', 'оцими', 'оцих', 'оцього', 'оцьому', 'оцю', 'оця', 'оці', 'оцій', 'оцім', 'оцією', 'оцієї', 'п', \"п'я\", \"п'ятий\", \"п'ятнадцятий\", \"п'ятнадцять\", \"п'ять\", 'па', 'пад', 'пак', 'пек', 'перед', 'передо', 'переді', 'перетака', 'перетаке', 'перетакий', 'перетаким', 'перетакими', 'перетаких', 'перетакого', 'перетакому', 'перетакою', 'перетакої', 'перетаку', 'перетакі', 'перетакій', 'перетакім', 'перший', 'пиж', 'плі', 'по', 'поблизу', 'побік', 'побіля', 'побіч', 'поверх', 'повз', 'повздовж', 'повинно', 'повище', 'повсюди', 'повсюдно', 'подаль від', 'подалі від', 'подекуди', 'подеяка', 'подеяке', 'подеякий', 'подеяким', 'подеякими', 'подеяких', 'подеякого', 'подеякому', 'подеякою', 'подеякої', 'подеяку', 'подеякі', 'подеякій', 'подеякім', 'подовж', 'подібно до', 'поз', 'поза', 'позад', 'позаду', 'позата', 'позате', 'позатим', 'позатими', 'позатих', 'позатого', 'позатой', 'позатому', 'позатою', 'позатої', 'позату', 'позаті', 'позатій', 'позатім', 'позатією', 'позатієї', 'позаяк', 'поздовж', 'поки', 'покрай', 'покіль', 'помежи', 'помимо', 'поміж', 'помість', 'понад', 'понадо', 'понаді', 'понижче', 'пообіч', 'поодаль від', 'поодалік від', 'поперед', 'попереду', 'поперек', 'попліч', 'попри', 'попросту', 'попід', 'пора', 'поруч', 'поряд', 'поряд з', 'порівняно з', 'посеред', 'посередині', 'потрібно', 'потім', 'поуз', 'початку', 'почерез', 'праворуч від', 'пред', 'предо', 'преді', 'прекрасно', 'прецінь', 'при', 'притому', 'причому', 'причім', 'про', 'проз', 'промеж', 'проміж', 'просто', 'проте', 'проти', 'против', 'противно', 'протягом', 'пря', 'пріч', 'пхе', 'пху', 'пі', 'пів', 'півперек', 'під', 'під знаком', 'під приводом', 'під час', 'підо', 'пізніше', 'пім', 'пір', 'після', 'р', 'ради', 'раз', 'разом з', 'разу', 'рано', 'раніш', 'раніш від', 'раніше', 'раніше від', 'раптом', 'ре', 'рет', 'риж', 'рим', 'рип', 'роб', 'року', 'років', 'рос', 'рох', 'році', 'рус', 'рух', 'руч', 'рік', 'с', 'саж', 'саз', 'сак', 'сам', 'сама', 'саме', 'сами', 'самий', 'самим', 'самими', 'самих', 'само', 'самого', 'самому', 'самою', 'самої', 'саму', 'самі', 'самій', 'самім', 'сап', 'сас', 'свого', 'свою', 'своя', 'своє', 'своєму', 'своєю', 'своєї', 'свої', 'своїй', 'своїм', 'своїми', 'своїх', 'свій', 'се', 'себе', 'себто', 'сей', 'сен', 'серед', 'середи', 'середу', 'сеч', 'си', 'сив', 'сиг', 'сиз', 'сик', 'сиріч', 'сих', 'сказав', 'сказала', 'сказати', 'скрізь', 'скільки', 'скільки-то', 'скількись', 'скільком', 'скількома', 'скількомась', 'скількомось', 'скількомсь', 'скількох', 'скількохось', 'скількохсь', 'сли', 'слідом за', 'соб', 'собою', 'собі', 'соп', 'спасибі', 'спереду', 'спочатку', 'справ', 'справді', 'став', 'стосовно', 'стільки', 'стільком', 'стількома', 'стількох', 'су', 'судячи з', 'супроти', 'супротив', 'суть', 'суч', 'суш', 'сьогодні', 'сьомий', 'сюди', 'ся', 'сяг', 'сяк', 'сяка', 'сяке', 'сякий', 'сяким', 'сякими', 'сяких', 'сякого', 'сякому', 'сякою', 'сякої', 'сяку', 'сякі', 'сякій', 'сякім', 'сям', 'сі', 'сім', 'сімнадцятий', 'сімнадцять', 'сіп', 'т', 'та', 'таж', 'так', 'така', 'таке', 'такенна', 'такенне', 'такенний', 'такенним', 'такенними', 'такенних', 'такенного', 'такенному', 'такенною', 'такенної', 'такенну', 'такенні', 'такенній', 'такеннім', 'таки', 'такий', 'таким', 'такими', 'таких', 'такого', 'також', 'такому', 'такою', 'такої', 'таку', 'такі', 'такій', 'такім', 'такісінька', 'такісіньке', 'такісінький', 'такісіньким', 'такісінькими', 'такісіньких', 'такісінького', 'такісінькому', 'такісінькою', 'такісінької', 'такісіньку', 'такісінькі', 'такісінькій', 'такісінькім', 'тал', 'там', 'тамки', 'тамта', 'тамте', 'тамтим', 'тамтими', 'тамтих', 'тамтого', 'тамтой', 'тамтому', 'тамтою', 'тамтої', 'тамту', 'тамті', 'тамтій', 'тамтім', 'тамтією', 'тамтієї', 'тар', 'тат', 'таш', 'тва', 'твого', 'твою', 'твоя', 'твоє', 'твоєму', 'твоєю', 'твоєї', 'твої', 'твоїй', 'твоїм', 'твоїми', 'твоїх', 'твій', 'те', 'тебе', 'тег', 'теж', 'тем', 'тепер', 'теперечки', 'тес', 'теф', 'теє', 'ти', 'тик', 'тил', 'тим', 'тими', 'тисяч', 'тих', 'то', 'тобою', 'тобто', 'тобі', 'того', 'тоді', 'тож', 'той', 'тол', 'тому', 'тому що', 'тот', 'тощо', 'тою', 'тої', 'тра', 'тре', 'треба', 'третій', 'три', 'тринадцятий', 'тринадцять', 'трохи', 'тс', 'тсс', 'ту', 'туди', 'тудою', 'туп', 'тут', 'тутеньки', 'тутечки', 'тутки', 'туф', 'туц', 'тю', 'тюг', 'тюп', 'тяг', 'тяж', 'тям', 'тяп', 'ті', 'тій', 'тільки', 'тім', 'тією', 'у', 'у бік', 'у вигляді', 'у випадку', 'у відповідності до', 'у відповідь на', 'у залежності від', \"у зв'язку з\", 'у міру', 'у напрямі до', 'у порівнянні з', 'у процесі', 'у результаті', 'у ролі', 'у силу', 'у сторону', 'у супроводі', 'у ході', 'ув', 'увесь', 'уві', 'угу', 'уже', 'узбіч', 'уздовж', 'укр', 'ум', 'унаслідок', 'униз', 'унизу', 'унт', 'уперед', 'уподовж', 'упоперек', 'упритиск до', 'упритул до', 'упродовж', 'упрост', 'ус', 'усе', 'усередині', 'услід', 'услід за', 'усупереч', 'усього', 'усьому', 'усю', 'усюди', 'уся', 'усяк', 'усяка', 'усяке', 'усякий', 'усяким', 'усякими', 'усяких', 'усякого', 'усякому', 'усякою', 'усякої', 'усяку', 'усякі', 'усякій', 'усякім', 'усі', 'усій', 'усіляка', 'усіляке', 'усілякий', 'усіляким', 'усілякими', 'усіляких', 'усілякого', 'усілякому', 'усілякою', 'усілякої', 'усіляку', 'усілякі', 'усілякій', 'усілякім', 'усім', 'усіма', 'усіх', 'усією', 'усієї', 'утім', 'ух', 'ф', \"ф'ю\", 'фа', 'фаг', 'фай', 'фат', 'фе', 'фед', 'фез', 'фес', 'фет', 'фзн', 'фоб', 'фот', 'фра', 'фру', 'фу', 'фук', 'фур', 'фус', 'фіш', 'х', 'ха', 'хаз', 'хай', 'хап', 'хат', 'хащ', 'хе', 'хет', 'хи', 'хиб', 'хм', 'хо', 'хов', 'хол', 'хон', 'хоп', 'хор', 'хотіти', 'хоч', 'хоча', 'хочеш', 'хро', 'хрю', 'хто', 'хтось', 'ху', 'хуз', 'хук', 'хух', 'хху', 'хіба', 'ц', 'це', 'цебто', 'цей', 'цеп', 'ци', 'цим', 'цими', 'цир', 'цих', 'цло', 'цоб', 'цок', 'цоп', 'цор', 'цс', 'цсс', 'цуг', 'цур', 'цуц', 'цього', 'цьому', 'цю', 'цюк', 'ця', 'цяв', 'цяп', 'ці', 'цід', 'цій', 'цім', 'ціною', 'цією', 'цієї', 'ч', 'чал', 'чар', 'час', 'часто', 'частіше', 'часу', 'чах', 'чей', 'чень', 'через', 'четвертий', 'чи', 'чий', 'чийого', 'чийогось', 'чийому', 'чийомусь', 'чийсь', 'чик', 'чим', 'чимось', 'чимсь', 'чир', 'численна', 'численне', 'численний', 'численним', 'численними', 'численних', 'численні', 'чию', 'чиюсь', 'чия', 'чиясь', 'чиє', 'чиєму', 'чиємусь', 'чиєсь', 'чиєю', 'чиєюсь', 'чиєї', 'чиєїсь', 'чиї', 'чиїй', 'чиїйсь', 'чиїм', 'чиїми', 'чиїмись', 'чиїмось', 'чиїмсь', 'чиїсь', 'чиїх', 'чиїхось', 'чиїхсь', 'чля', 'чого', 'чогось', 'чом', 'чому', 'чомусь', 'чон', 'чоп', 'чортзна', 'чос', 'чотири', 'чотирнадцятий', 'чотирнадцять', 'чу', 'чум', 'чур', 'чш', 'чім', 'чімось', 'чімсь', 'чіт', 'ш', 'ша', 'шаг', 'шал', 'шам', 'шво', 'шед', 'шен', 'шиз', 'шир', 'шляхом', 'шостий', 'шістнадцятий', 'шістнадцять', 'шість', 'щ', 'ще', 'щем', 'щеп', 'щип', 'щир', 'що', 'щоб', 'щоби', 'щодо', 'щойно', 'щоправда', 'щось', 'щі', 'ь', 'ю', 'юз', 'юн', 'юнь', 'юс', 'ют', 'юхт', 'я', 'яв', 'яд', 'яз', 'язь', 'як', 'яка', 'якась', 'якби', 'яке', 'якесь', 'який', 'якийсь', 'яким', 'якими', 'якимись', 'якимось', 'якимсь', 'яких', 'якихось', 'якихсь', 'якого', 'якогось', 'якому', 'якомусь', 'якось', 'якою', 'якоюсь', 'якої', 'якоїсь', 'якраз', 'яку', 'якусь', 'якщо', 'які', 'якій', 'якійсь', 'якім', 'якімсь', 'якісь', 'ял', 'ям', 'ян', 'янь', 'яо', 'яп', 'ярл', 'ясь', 'ять', 'є', 'єр', 'єси', 'і', 'ібн', 'ід', 'із', 'із-за', 'із-під', 'іззаду', 'ізм', 'ізсередини', 'ік', 'ікс', 'ікт', \"ім'я\", 'імовірно', 'інакша', 'інакше', 'інакший', 'інакшим', 'інакшими', 'інакших', 'інакшого', 'інакшому', 'інакшою', 'інакшої', 'інакшу', 'інакші', 'інакшій', 'інакшім', 'інколи', 'іноді', 'інша', 'інше', 'інший', 'іншим', 'іншими', 'інших', 'іншого', 'іншому', 'іншою', 'іншої', 'іншу', 'інші', 'іншій', 'іншім', 'інь', 'іч', 'іще', 'ї', 'їдь', 'їй', 'їм', 'їх', 'їхнього', 'їхньому', 'їхньою', 'їхньої', 'їхню', 'їхня', 'їхнє', 'їхні', 'їхній', 'їхнім', 'їхніми', 'їхніх', 'її', 'ґ']\n",
    "all_stops = iso_stopwords + ukstops\n",
    "stops_and_punct = list(string.punctuation) + all_stops"
   ]
  },
  {
   "cell_type": "code",
   "execution_count": 59,
   "id": "28e7a13c-364d-4a59-9f0b-5b6bf920c1e4",
   "metadata": {},
   "outputs": [
    {
     "name": "stdout",
     "output_type": "stream",
     "text": [
      "[{'original': 'Конец света (сон)', 'en': 'The end of the world (sleep)'}, {'original': 'В сентябре в Коктебеле, накрытом страшной чернильной тучей,', 'en': 'In September in Koktebel, covered with a terrible ink cloud,'}, {'original': 'мне приснились шаги человека, который страдал падучей.', 'en': 'I dreamed about the steps of the man who suffered from Paduchi.'}, {'original': 'Он пытался уйти от берега, на губах – красная пена.', 'en': 'He tried to leave the shore, and red foam on his lips.'}, {'original': 'На языке глухонемых кричал, изображая геенну', 'en': 'In the language of the deaf -mute screaming, portraying Geenna'}, {'original': 'огненную. Я подумала, не запастись ли горем.', 'en': 'Fiery. I thought if you were wise.'}, {'original': 'Но пошла большая вода. Хлынула горлом, небом, морем.', 'en': 'But big water went. She poured with her throat, heaven, sea.'}, {'original': 'Я увидела горизонт без линии с красной рваной дырою.', 'en': 'I saw a horizon without a line with a red torn hole.'}, {'original': 'Поднималась вода, образуя воронку с рваным зубчатым краем.', 'en': 'Water rose, forming a funnel with a torn gear edge.'}, {'original': 'И я видела, как разверзся огненный небосвод,', 'en': 'And I saw how the fiery fiery opened,'}, {'original': 'и выпустил молнии, как петарды на Новый год.', 'en': 'And he released lightning like firecrackers for the New Year.'}, {'original': 'Вода выворачивала наизнанку деревья, выкорчевала пни.', 'en': 'Water turned the trees inside out, uprooted stumps.'}, {'original': 'От человека остался припадок. Мы с припадком остались одни.', 'en': 'There was a seizure from a person. We were left alone with a seizure.'}, {'original': 'И тогда я увидела, как дети, накрытые огромной волной,', 'en': 'And then I saw how children, covered with a huge wave,'}, {'original': 'осветились множеством нимбов в аквариуме между стеной', 'en': 'illuminated by many hairs in the aquarium between the wall'}, {'original': 'ливня и подглядывающим сатаной.', 'en': 'Livnia and peeping Satan.'}, {'original': '(2007)', 'en': ''}]\n"
     ]
    }
   ],
   "source": [
    "df = pd.read_excel('recsEnglishTranslationWithLINES_9-2.xlsx',index_col=0)\n",
    "records = df.to_dict('records')\n",
    "print(random.choice(records)['translatedLines'])"
   ]
  },
  {
   "cell_type": "markdown",
   "id": "9d8466d6-080d-4e70-8fe8-c9b1fc613460",
   "metadata": {},
   "source": [
    "#### get author names"
   ]
  },
  {
   "cell_type": "code",
   "execution_count": 41,
   "id": "3bd23b08-ca2f-45b6-b115-cc8c79a5baaa",
   "metadata": {},
   "outputs": [],
   "source": [
    "nameSet = set()\n",
    "for rec in records:\n",
    "    author1 = rec['Author of post']\n",
    "    if not isinstance(author1, str):\n",
    "        author1 = ''\n",
    "    author2 = rec['Author of poem']\n",
    "    if not isinstance(author2, str):\n",
    "        author2 = ''\n",
    "    names = author1.split(' ') + author2.split(' ')\n",
    "    for n in names:\n",
    "        if n.isalpha():\n",
    "            nameSet.add(n.lower())"
   ]
  },
  {
   "cell_type": "code",
   "execution_count": 42,
   "id": "0320c275-57b9-4e1c-8009-2382fa075ec0",
   "metadata": {},
   "outputs": [
    {
     "data": {
      "text/plain": [
       "222"
      ]
     },
     "execution_count": 42,
     "metadata": {},
     "output_type": "execute_result"
    }
   ],
   "source": [
    "len(nameSet)"
   ]
  },
  {
   "cell_type": "markdown",
   "id": "dfd62827-2372-4a56-af8f-6602fc75043f",
   "metadata": {},
   "source": [
    "#### Tokenizer"
   ]
  },
  {
   "cell_type": "code",
   "execution_count": 11,
   "id": "46da0f80-3102-4a3a-8c2f-ab15e2fd819f",
   "metadata": {},
   "outputs": [],
   "source": [
    "# import these modules\n",
    "import nltk\n",
    "from nltk.stem import WordNetLemmatizer\n",
    "from nltk.tokenize import word_tokenize\n",
    "\n",
    "lemmatizer = WordNetLemmatizer()"
   ]
  },
  {
   "cell_type": "code",
   "execution_count": 16,
   "id": "c3b9b099-4ea6-4cae-bc4c-2aa792c38330",
   "metadata": {},
   "outputs": [],
   "source": [
    "# nltk.download('wordnet')\n",
    "# nltk.download('omw-1.4')\n",
    "# nltk.download('punkt')"
   ]
  },
  {
   "cell_type": "code",
   "execution_count": 120,
   "id": "310693a5-465e-4018-92c4-4ba8484bb45f",
   "metadata": {},
   "outputs": [
    {
     "name": "stdout",
     "output_type": "stream",
     "text": [
      "though whispers, though by crying, though by howling \n",
      " the soul is looking for words - not enough \n",
      " When the Teresa of Human Life \n",
      " What makes sense and what loses it? \n",
      "\n",
      " everyone you have not saved now, \n",
      " kiss in light eyes finally \n",
      " Black snow fell on a black city \n",
      " and on the eyelids of white did not melt \n",
      "\n",
      " and though this night is a sticky like a resin \n",
      " and no mask hides evil \n",
      " and a shingle enters treacherously and subcutaneously\n"
     ]
    }
   ],
   "source": [
    "print(sample_text)"
   ]
  },
  {
   "cell_type": "markdown",
   "id": "67673fc1-3f2f-4105-a0c6-f7b01ba9dc55",
   "metadata": {
    "jp-MarkdownHeadingCollapsed": true,
    "tags": []
   },
   "source": [
    "### practice processing"
   ]
  },
  {
   "cell_type": "code",
   "execution_count": 119,
   "id": "352a679b-896d-400b-ad59-96812becb5de",
   "metadata": {
    "tags": []
   },
   "outputs": [
    {
     "data": {
      "text/plain": [
       "['whisper',\n",
       " 'cry',\n",
       " 'howling',\n",
       " 'soul',\n",
       " 'when',\n",
       " 'teresa',\n",
       " 'human',\n",
       " 'life',\n",
       " 'what',\n",
       " 'sense']"
      ]
     },
     "execution_count": 119,
     "metadata": {},
     "output_type": "execute_result"
    }
   ],
   "source": [
    "# practice tokenizing and lemmatizing\n",
    "sample_text = '''though whispers, though by crying, though by howling \\n the soul is looking for words - not enough \\n When the Teresa of Human Life \\n What makes sense and what loses it? \\n\\n everyone you have not saved now, \\n kiss in light eyes finally \\n Black snow fell on a black city \\n and on the eyelids of white did not melt \\n\\n and though this night is a sticky like a resin \\n and no mask hides evil \\n and a shingle enters treacherously and subcutaneously'''\n",
    "tokenized_text = [w for w in word_tokenize(sample_text) if w not in stops_and_punct]\n",
    "lemmatized_tokens = [lemmatizer.lemmatize(t).lower() for t in tokenized_text]\n",
    "lemmatized_tokens[:10]"
   ]
  },
  {
   "cell_type": "code",
   "execution_count": 54,
   "id": "a3ef9e12-82ae-4d43-847b-659dc1645209",
   "metadata": {},
   "outputs": [],
   "source": [
    "# def nlp_tokenizer(string):\n",
    "#     tokens = []\n",
    "#     parsedText = nlp(string)\n",
    "#     for token in parsedText.iter_words():\n",
    "#         if token.text.lower() in all_stops:\n",
    "#             continue\n",
    "#         if token.text.isalpha():\n",
    "#             tokens.append(token.lemma.lower())\n",
    "#     return tokens\n",
    "\n",
    "def tokenizer(text):\n",
    "    tokenized_text = [w for w in word_tokenize(text) if w not in stops_and_punct]\n",
    "    lemmatized_tokens = [lemmatizer.lemmatize(t).lower() for t in tokenized_text]\n",
    "    not_authors = [l for l in lemmatized_tokens if l not in nameSet]\n",
    "    tokens = [n for n in not_authors if n.isalpha()]\n",
    "    return tokens"
   ]
  },
  {
   "cell_type": "markdown",
   "id": "84f40fda-c30f-4db0-a503-193ade1e071a",
   "metadata": {},
   "source": [
    "### BERT model"
   ]
  },
  {
   "cell_type": "code",
   "execution_count": 106,
   "id": "5f66920e-4929-4476-8e90-a17e5e32550d",
   "metadata": {},
   "outputs": [],
   "source": [
    "doc_lines = [rec['translatedLines'] for rec in records]\n",
    "        \n",
    "doc_sample = []\n",
    "line2rec = dict()\n",
    "lineIdx = 0\n",
    "for i, doc in enumerate(doc_lines):\n",
    "    for line in doc:\n",
    "        doc_sample.append(line['en'].strip())\n",
    "        lineIdx += 1\n",
    "        line2rec[lineIdx] = i"
   ]
  },
  {
   "cell_type": "code",
   "execution_count": 108,
   "id": "25a03110-6b09-4a3a-86e7-321397b06460",
   "metadata": {},
   "outputs": [
    {
     "data": {
      "text/plain": [
       "'The house was passed by the beasts, to the live flesh of the cure,'"
      ]
     },
     "execution_count": 108,
     "metadata": {},
     "output_type": "execute_result"
    }
   ],
   "source": [
    "print(doc_sample[1009])\n",
    "recIdx = line2rec[1000]\n",
    "records[recIdx]"
   ]
  },
  {
   "cell_type": "code",
   "execution_count": 64,
   "id": "c7d1ee57-4bb6-4a28-b54e-e62e113f2e71",
   "metadata": {},
   "outputs": [
    {
     "name": "stderr",
     "output_type": "stream",
     "text": [
      "Batches: 100%|██████████| 656/656 [06:00<00:00,  1.82it/s]\n"
     ]
    },
    {
     "name": "stdout",
     "output_type": "stream",
     "text": [
      "CPU times: user 5min 15s, sys: 9.94 s, total: 5min 25s\n",
      "Wall time: 6min 4s\n"
     ]
    }
   ],
   "source": [
    "%%time\n",
    "\n",
    "sentence_model = SentenceTransformer(\"all-MiniLM-L6-v2\")\n",
    "embeddings = sentence_model.encode(doc_sample, show_progress_bar=True)\n",
    "vectorizer_model = CountVectorizer(ngram_range=(1, 1),lowercase=False,tokenizer=tokenizer)"
   ]
  },
  {
   "cell_type": "code",
   "execution_count": 84,
   "id": "339bb979-a138-4b27-adcf-ce1bc4f08398",
   "metadata": {
    "tags": []
   },
   "outputs": [
    {
     "name": "stderr",
     "output_type": "stream",
     "text": [
      "2022-09-02 12:46:52,009 - BERTopic - Reduced dimensionality\n",
      "2022-09-02 12:50:43,582 - BERTopic - Clustered reduced embeddings\n",
      "2022-09-02 12:51:12,626 - BERTopic - Reduced number of topics from 380 to 51\n"
     ]
    },
    {
     "name": "stdout",
     "output_type": "stream",
     "text": [
      "CPU times: user 4min 49s, sys: 15.4 s, total: 5min 5s\n",
      "Wall time: 4min 57s\n"
     ]
    }
   ],
   "source": [
    "%%time\n",
    "topic_model = BERTopic(language=\"english\",vectorizer_model=vectorizer_model,\n",
    "                            verbose=True,calculate_probabilities=True,nr_topics=50)\n",
    "                       # min_topic_size=10)\n",
    "\n",
    "topics, probs = topic_model.fit_transform(doc_sample, embeddings)"
   ]
  },
  {
   "cell_type": "markdown",
   "id": "3aedad95-6d53-4717-92cc-f7552bab9593",
   "metadata": {
    "tags": []
   },
   "source": [
    "# topic model results"
   ]
  },
  {
   "cell_type": "code",
   "execution_count": 90,
   "id": "8f1ab5de-d02f-4708-b03a-f4cfbb7da96f",
   "metadata": {},
   "outputs": [
    {
     "data": {
      "text/html": [
       "<div>\n",
       "<style scoped>\n",
       "    .dataframe tbody tr th:only-of-type {\n",
       "        vertical-align: middle;\n",
       "    }\n",
       "\n",
       "    .dataframe tbody tr th {\n",
       "        vertical-align: top;\n",
       "    }\n",
       "\n",
       "    .dataframe thead th {\n",
       "        text-align: right;\n",
       "    }\n",
       "</style>\n",
       "<table border=\"1\" class=\"dataframe\">\n",
       "  <thead>\n",
       "    <tr style=\"text-align: right;\">\n",
       "      <th></th>\n",
       "      <th>Topic</th>\n",
       "      <th>Count</th>\n",
       "      <th>Name</th>\n",
       "    </tr>\n",
       "  </thead>\n",
       "  <tbody>\n",
       "    <tr>\n",
       "      <th>0</th>\n",
       "      <td>-1</td>\n",
       "      <td>12506</td>\n",
       "      <td>-1_water_time_people_love</td>\n",
       "    </tr>\n",
       "    <tr>\n",
       "      <th>1</th>\n",
       "      <td>0</td>\n",
       "      <td>456</td>\n",
       "      <td>0_brother_meet_station_woman</td>\n",
       "    </tr>\n",
       "    <tr>\n",
       "      <th>2</th>\n",
       "      <td>1</td>\n",
       "      <td>400</td>\n",
       "      <td>1_god_church_prayer_forgive</td>\n",
       "    </tr>\n",
       "    <tr>\n",
       "      <th>3</th>\n",
       "      <td>2</td>\n",
       "      <td>316</td>\n",
       "      <td>2_letter_freedom_write_book</td>\n",
       "    </tr>\n",
       "    <tr>\n",
       "      <th>4</th>\n",
       "      <td>3</td>\n",
       "      <td>307</td>\n",
       "      <td>3_ukrainian_translation_kiev_crimea</td>\n",
       "    </tr>\n",
       "    <tr>\n",
       "      <th>5</th>\n",
       "      <td>4</td>\n",
       "      <td>271</td>\n",
       "      <td>4_kyiv_april_january_february</td>\n",
       "    </tr>\n",
       "    <tr>\n",
       "      <th>6</th>\n",
       "      <td>5</td>\n",
       "      <td>259</td>\n",
       "      <td>5_sleep_night_morning_sleeping</td>\n",
       "    </tr>\n",
       "    <tr>\n",
       "      <th>7</th>\n",
       "      <td>6</td>\n",
       "      <td>248</td>\n",
       "      <td>6_mother_mom_door_summer</td>\n",
       "    </tr>\n",
       "    <tr>\n",
       "      <th>8</th>\n",
       "      <td>7</td>\n",
       "      <td>230</td>\n",
       "      <td>7_suitcase_ash_sound_chicken</td>\n",
       "    </tr>\n",
       "    <tr>\n",
       "      <th>9</th>\n",
       "      <td>8</td>\n",
       "      <td>212</td>\n",
       "      <td>8_war_teacher_school_student</td>\n",
       "    </tr>\n",
       "    <tr>\n",
       "      <th>10</th>\n",
       "      <td>9</td>\n",
       "      <td>205</td>\n",
       "      <td>9_faith_peace_importantly_return</td>\n",
       "    </tr>\n",
       "    <tr>\n",
       "      <th>11</th>\n",
       "      <td>10</td>\n",
       "      <td>195</td>\n",
       "      <td>10_lie_mouth_lip_ice</td>\n",
       "    </tr>\n",
       "    <tr>\n",
       "      <th>12</th>\n",
       "      <td>11</td>\n",
       "      <td>187</td>\n",
       "      <td>11_dream_bell_laugh_dreamed</td>\n",
       "    </tr>\n",
       "    <tr>\n",
       "      <th>13</th>\n",
       "      <td>12</td>\n",
       "      <td>186</td>\n",
       "      <td>12_poem_poet_poetry_wrote</td>\n",
       "    </tr>\n",
       "    <tr>\n",
       "      <th>14</th>\n",
       "      <td>13</td>\n",
       "      <td>179</td>\n",
       "      <td>13_language_talk_deaf_phone</td>\n",
       "    </tr>\n",
       "    <tr>\n",
       "      <th>15</th>\n",
       "      <td>14</td>\n",
       "      <td>178</td>\n",
       "      <td>14_day_garden_expensive_news</td>\n",
       "    </tr>\n",
       "    <tr>\n",
       "      <th>16</th>\n",
       "      <td>15</td>\n",
       "      <td>177</td>\n",
       "      <td>15_alive_coffin_dead_fatigue</td>\n",
       "    </tr>\n",
       "    <tr>\n",
       "      <th>17</th>\n",
       "      <td>16</td>\n",
       "      <td>171</td>\n",
       "      <td>16_fear_afraid_criminal_height</td>\n",
       "    </tr>\n",
       "    <tr>\n",
       "      <th>18</th>\n",
       "      <td>17</td>\n",
       "      <td>170</td>\n",
       "      <td>17_hole_sun_dance_armor</td>\n",
       "    </tr>\n",
       "    <tr>\n",
       "      <th>19</th>\n",
       "      <td>18</td>\n",
       "      <td>164</td>\n",
       "      <td>18_sky_star_cloud_beam</td>\n",
       "    </tr>\n",
       "    <tr>\n",
       "      <th>20</th>\n",
       "      <td>19</td>\n",
       "      <td>163</td>\n",
       "      <td>19_power_time_happiness_weapon</td>\n",
       "    </tr>\n",
       "    <tr>\n",
       "      <th>21</th>\n",
       "      <td>20</td>\n",
       "      <td>161</td>\n",
       "      <td>20_russian_moscow_soviet_putin</td>\n",
       "    </tr>\n",
       "    <tr>\n",
       "      <th>22</th>\n",
       "      <td>21</td>\n",
       "      <td>159</td>\n",
       "      <td>21_bird_bread_pigeon_crumb</td>\n",
       "    </tr>\n",
       "    <tr>\n",
       "      <th>23</th>\n",
       "      <td>22</td>\n",
       "      <td>156</td>\n",
       "      <td>22_blood_flow_bandage_wound</td>\n",
       "    </tr>\n",
       "    <tr>\n",
       "      <th>24</th>\n",
       "      <td>23</td>\n",
       "      <td>154</td>\n",
       "      <td>23_flag_explosion_hetman_prince</td>\n",
       "    </tr>\n",
       "    <tr>\n",
       "      <th>25</th>\n",
       "      <td>24</td>\n",
       "      <td>151</td>\n",
       "      <td>24_tree_christmas_forest_branch</td>\n",
       "    </tr>\n",
       "    <tr>\n",
       "      <th>26</th>\n",
       "      <td>25</td>\n",
       "      <td>150</td>\n",
       "      <td>25_silence_silent_quietly_quiet</td>\n",
       "    </tr>\n",
       "    <tr>\n",
       "      <th>27</th>\n",
       "      <td>26</td>\n",
       "      <td>146</td>\n",
       "      <td>26_heart_ear_le_heartbeat</td>\n",
       "    </tr>\n",
       "    <tr>\n",
       "      <th>28</th>\n",
       "      <td>27</td>\n",
       "      <td>142</td>\n",
       "      <td>27_vasily_yuri_vayeny_pachovsky</td>\n",
       "    </tr>\n",
       "    <tr>\n",
       "      <th>29</th>\n",
       "      <td>28</td>\n",
       "      <td>141</td>\n",
       "      <td>28_rain_drink_drunk_drank</td>\n",
       "    </tr>\n",
       "    <tr>\n",
       "      <th>30</th>\n",
       "      <td>29</td>\n",
       "      <td>137</td>\n",
       "      <td>29_flower_abyss_cherry_bloom</td>\n",
       "    </tr>\n",
       "    <tr>\n",
       "      <th>31</th>\n",
       "      <td>30</td>\n",
       "      <td>130</td>\n",
       "      <td>30_apple_mouse_fruit_like</td>\n",
       "    </tr>\n",
       "    <tr>\n",
       "      <th>32</th>\n",
       "      <td>31</td>\n",
       "      <td>129</td>\n",
       "      <td>31_moon_horse_goat_horn</td>\n",
       "    </tr>\n",
       "    <tr>\n",
       "      <th>33</th>\n",
       "      <td>32</td>\n",
       "      <td>126</td>\n",
       "      <td>32_sea_ship_island_shore</td>\n",
       "    </tr>\n",
       "    <tr>\n",
       "      <th>34</th>\n",
       "      <td>33</td>\n",
       "      <td>124</td>\n",
       "      <td>33_gate_shouted_border_sand</td>\n",
       "    </tr>\n",
       "    <tr>\n",
       "      <th>35</th>\n",
       "      <td>34</td>\n",
       "      <td>122</td>\n",
       "      <td>34_warm_heat_blanket_step</td>\n",
       "    </tr>\n",
       "    <tr>\n",
       "      <th>36</th>\n",
       "      <td>35</td>\n",
       "      <td>121</td>\n",
       "      <td>35_wind_clothing_future_coming</td>\n",
       "    </tr>\n",
       "    <tr>\n",
       "      <th>37</th>\n",
       "      <td>36</td>\n",
       "      <td>120</td>\n",
       "      <td>36_fly_crawl_fighter_swallow</td>\n",
       "    </tr>\n",
       "    <tr>\n",
       "      <th>38</th>\n",
       "      <td>37</td>\n",
       "      <td>118</td>\n",
       "      <td>37_angel_cross_archangel_devil</td>\n",
       "    </tr>\n",
       "    <tr>\n",
       "      <th>39</th>\n",
       "      <td>38</td>\n",
       "      <td>116</td>\n",
       "      <td>38_cat_dog_ternopil_kitten</td>\n",
       "    </tr>\n",
       "    <tr>\n",
       "      <th>40</th>\n",
       "      <td>39</td>\n",
       "      <td>115</td>\n",
       "      <td>39_jest_nie_palcami_jak</td>\n",
       "    </tr>\n",
       "    <tr>\n",
       "      <th>41</th>\n",
       "      <td>40</td>\n",
       "      <td>114</td>\n",
       "      <td>40_breath_breathe_gas_air</td>\n",
       "    </tr>\n",
       "    <tr>\n",
       "      <th>42</th>\n",
       "      <td>41</td>\n",
       "      <td>113</td>\n",
       "      <td>41_hand_finger_palm_touch</td>\n",
       "    </tr>\n",
       "    <tr>\n",
       "      <th>43</th>\n",
       "      <td>42</td>\n",
       "      <td>113</td>\n",
       "      <td>42_burn_burned_flame_fiery</td>\n",
       "    </tr>\n",
       "    <tr>\n",
       "      <th>44</th>\n",
       "      <td>43</td>\n",
       "      <td>112</td>\n",
       "      <td>43_memory_remember_forget_remembers</td>\n",
       "    </tr>\n",
       "    <tr>\n",
       "      <th>45</th>\n",
       "      <td>44</td>\n",
       "      <td>110</td>\n",
       "      <td>44_eye_eyelid_vision_retina</td>\n",
       "    </tr>\n",
       "    <tr>\n",
       "      <th>46</th>\n",
       "      <td>45</td>\n",
       "      <td>108</td>\n",
       "      <td>45_earth_heaven_paradise_double</td>\n",
       "    </tr>\n",
       "    <tr>\n",
       "      <th>47</th>\n",
       "      <td>46</td>\n",
       "      <td>108</td>\n",
       "      <td>46_child_kid_toy_childrens</td>\n",
       "    </tr>\n",
       "    <tr>\n",
       "      <th>48</th>\n",
       "      <td>47</td>\n",
       "      <td>103</td>\n",
       "      <td>47_fish_fisherman_fishing_meat</td>\n",
       "    </tr>\n",
       "    <tr>\n",
       "      <th>49</th>\n",
       "      <td>48</td>\n",
       "      <td>102</td>\n",
       "      <td>48_field_table_sunflower_smiled</td>\n",
       "    </tr>\n",
       "    <tr>\n",
       "      <th>50</th>\n",
       "      <td>49</td>\n",
       "      <td>102</td>\n",
       "      <td>49_death_die_comment_someone</td>\n",
       "    </tr>\n",
       "  </tbody>\n",
       "</table>\n",
       "</div>"
      ],
      "text/plain": [
       "    Topic  Count                                 Name\n",
       "0      -1  12506            -1_water_time_people_love\n",
       "1       0    456         0_brother_meet_station_woman\n",
       "2       1    400          1_god_church_prayer_forgive\n",
       "3       2    316          2_letter_freedom_write_book\n",
       "4       3    307  3_ukrainian_translation_kiev_crimea\n",
       "5       4    271        4_kyiv_april_january_february\n",
       "6       5    259       5_sleep_night_morning_sleeping\n",
       "7       6    248             6_mother_mom_door_summer\n",
       "8       7    230         7_suitcase_ash_sound_chicken\n",
       "9       8    212         8_war_teacher_school_student\n",
       "10      9    205     9_faith_peace_importantly_return\n",
       "11     10    195                 10_lie_mouth_lip_ice\n",
       "12     11    187          11_dream_bell_laugh_dreamed\n",
       "13     12    186            12_poem_poet_poetry_wrote\n",
       "14     13    179          13_language_talk_deaf_phone\n",
       "15     14    178         14_day_garden_expensive_news\n",
       "16     15    177         15_alive_coffin_dead_fatigue\n",
       "17     16    171       16_fear_afraid_criminal_height\n",
       "18     17    170              17_hole_sun_dance_armor\n",
       "19     18    164               18_sky_star_cloud_beam\n",
       "20     19    163       19_power_time_happiness_weapon\n",
       "21     20    161       20_russian_moscow_soviet_putin\n",
       "22     21    159           21_bird_bread_pigeon_crumb\n",
       "23     22    156          22_blood_flow_bandage_wound\n",
       "24     23    154      23_flag_explosion_hetman_prince\n",
       "25     24    151      24_tree_christmas_forest_branch\n",
       "26     25    150      25_silence_silent_quietly_quiet\n",
       "27     26    146            26_heart_ear_le_heartbeat\n",
       "28     27    142      27_vasily_yuri_vayeny_pachovsky\n",
       "29     28    141            28_rain_drink_drunk_drank\n",
       "30     29    137         29_flower_abyss_cherry_bloom\n",
       "31     30    130            30_apple_mouse_fruit_like\n",
       "32     31    129              31_moon_horse_goat_horn\n",
       "33     32    126             32_sea_ship_island_shore\n",
       "34     33    124          33_gate_shouted_border_sand\n",
       "35     34    122            34_warm_heat_blanket_step\n",
       "36     35    121       35_wind_clothing_future_coming\n",
       "37     36    120         36_fly_crawl_fighter_swallow\n",
       "38     37    118       37_angel_cross_archangel_devil\n",
       "39     38    116           38_cat_dog_ternopil_kitten\n",
       "40     39    115              39_jest_nie_palcami_jak\n",
       "41     40    114            40_breath_breathe_gas_air\n",
       "42     41    113            41_hand_finger_palm_touch\n",
       "43     42    113           42_burn_burned_flame_fiery\n",
       "44     43    112  43_memory_remember_forget_remembers\n",
       "45     44    110          44_eye_eyelid_vision_retina\n",
       "46     45    108      45_earth_heaven_paradise_double\n",
       "47     46    108           46_child_kid_toy_childrens\n",
       "48     47    103       47_fish_fisherman_fishing_meat\n",
       "49     48    102      48_field_table_sunflower_smiled\n",
       "50     49    102         49_death_die_comment_someone"
      ]
     },
     "execution_count": 90,
     "metadata": {},
     "output_type": "execute_result"
    }
   ],
   "source": [
    "topic_model.get_topic_info()"
   ]
  },
  {
   "cell_type": "code",
   "execution_count": 118,
   "id": "b4e2ed19-2ec0-40b8-b88e-11c4bc493c7e",
   "metadata": {},
   "outputs": [
    {
     "name": "stdout",
     "output_type": "stream",
     "text": [
      "Topic #: 0\t# lines: 475\tbrother, meet, station, woman, girl, sister, broke, berta, met, killer\n",
      "Topic #: 1\t# lines: 516\tgod, church, prayer, forgive, lord, pray, sin, christ, salvation, mercy\n",
      "Topic #: 2\t# lines: 248\tletter, freedom, write, book, name, read, writer, alphabet, ward, word\n",
      "Topic #: 3\t# lines: 306\tukrainian, translation, kiev, crimea, maidan, cake, crimean, translated, poem, draft\n",
      "Topic #: 4\t# lines: 671\tkyiv, april, january, february, august, march, lviv, kharkiv, june, monday\n",
      "Topic #: 5\t# lines: 199\tsleep, night, morning, sleeping, asleep, wake, humanitarian, refugee, fell, colonel\n",
      "Topic #: 6\t# lines: 439\tmother, mom, door, summer, father, bow, wearing, son, dad, daughter\n",
      "Topic #: 7\t# lines: 7957\tsuitcase, ash, sound, chicken, trace, thunderstorm, sheet, understand, drum, eyelash\n",
      "Topic #: 8\t# lines: 269\twar, teacher, school, student, day, education, teaching, physical, grade, hotel\n",
      "Topic #: 9\t# lines: 371\tfaith, peace, importantly, return, main, returned, belief, retreat, win, peaceful\n",
      "Topic #: 10\t# lines: 585\tlie, mouth, lip, ice, truth, sword, sewing, cold, frost, floe\n",
      "Topic #: 11\t# lines: 318\tdream, bell, laugh, dreamed, fun, laughing, laughed, chest, laughter, joke\n",
      "Topic #: 12\t# lines: 206\tpoem, poet, poetry, wrote, written, century, rhyme, cinema, seventeen, read\n",
      "Topic #: 13\t# lines: 170\tlanguage, talk, deaf, phone, talking, speak, mute, conversation, phoneme, phonetics\n",
      "Topic #: 14\t# lines: 382\tday, garden, expensive, news, tomorrow, hour, zimup, zimupa, time, week\n",
      "Topic #: 15\t# lines: 1380\talive, coffin, dead, fatigue, graf, grave, cemetery, hope, buried, zinc\n",
      "Topic #: 16\t# lines: 341\tfear, afraid, criminal, height, judge, guilty, atb, scared, court, guard\n",
      "Topic #: 17\t# lines: 170\thole, sun, dance, armor, boundary, pit, dancing, katsapchat, ooh, katsapchaths\n",
      "Topic #: 18\t# lines: 519\tsky, star, cloud, beam, closer, close, core, haze, difficult, definition\n",
      "Topic #: 19\t# lines: 291\tpower, time, happiness, weapon, joy, late, infinity, delight, happy, joyful\n",
      "Topic #: 20\t# lines: 170\trussian, moscow, soviet, putin, greatness, comrade, lenin, battleship, military, armada\n",
      "Topic #: 21\t# lines: 125\tbird, bread, pigeon, crumb, raven, feather, crow, dough, rooster, tool\n",
      "Topic #: 22\t# lines: 271\tblood, flow, bandage, wound, visible, wall, viscous, heavenly, motion, rapid\n",
      "Topic #: 23\t# lines: 151\tflag, explosion, hetman, prince, knight, explosive, dragon, cool, breathexplosive, gnan\n",
      "Topic #: 24\t# lines: 178\ttree, christmas, forest, branch, pine, holiday, eve, birch, maple, oak\n",
      "Topic #: 25\t# lines: 94\tsilence, silent, quietly, quiet, hunting, silently, spoken, hear, addition, patriarch\n",
      "Topic #: 26\t# lines: 161\theart, ear, le, heartbeat, rhythm, book, beat, aeneasnoears, dans, burn\n",
      "Topic #: 27\t# lines: 176\tvasily, yuri, vayeny, pachovsky, karabl, oleg, vitaliy, alekseevna, dneprovsky, nevsky\n",
      "Topic #: 28\t# lines: 199\train, drink, drunk, drank, bowl, tea, pouring, pour, vodka, fill\n",
      "Topic #: 29\t# lines: 192\tflower, abyss, cherry, bloom, petal, magnolia, blossom, flowering, tip, leaf\n",
      "Topic #: 30\t# lines: 146\tapple, mouse, fruit, like, ripen, pear, melon, rat, multiply, sparrow\n",
      "Topic #: 31\t# lines: 114\tmoon, horse, goat, horn, horseradish, running, easily, lunar, unicorn, sheep\n",
      "Topic #: 32\t# lines: 121\tsea, ship, island, shore, ocean, boat, mermaid, swim, wave, shipwreck\n",
      "Topic #: 33\t# lines: 912\tgate, shouted, border, sand, photo, cow, shout, beach, shore, golden\n",
      "Topic #: 34\t# lines: 146\twarm, heat, blanket, step, vain, cold, excessive, coordinate, suffocating, thermos\n",
      "Topic #: 35\t# lines: 137\twind, clothing, future, coming, rapist, time, leaning, blow, windy, whirlwind\n",
      "Topic #: 36\t# lines: 288\tfly, crawl, fighter, swallow, bee, flew, plane, flying, protected, rocket\n",
      "Topic #: 37\t# lines: 210\tangel, cross, archangel, devil, wolf, hedgehog, pig, anti, demon, flashed\n",
      "Topic #: 38\t# lines: 195\tcat, dog, ternopil, kitten, hold, terroboron, paw, irradiated, tyson, fritz\n",
      "Topic #: 39\t# lines: 117\tjest, nie, palcami, jak, siedmioma, jeszcze, kiedy, plejady, moe, ktry\n",
      "Topic #: 40\t# lines: 111\tbreath, breathe, gas, air, breathing, stove, boil, inhale, exhalation, exhale\n",
      "Topic #: 41\t# lines: 87\thand, finger, palm, touch, bony, glove, gesture, grasp, rub, distinguish\n",
      "Topic #: 42\t# lines: 131\tburn, burned, flame, fiery, burning, uron, fire, set, middle, mavka\n",
      "Topic #: 43\t# lines: 109\tmemory, remember, forget, remembers, entwined, stem, remembered, forgot, strong, forgotten\n",
      "Topic #: 44\t# lines: 94\teye, eyelid, vision, retina, melt, hunch, prescribed, eyed, seed, mourning\n",
      "Topic #: 45\t# lines: 129\tearth, heaven, paradise, double, planet, colloidal, panorama, thickened, moist, solution\n",
      "Topic #: 46\t# lines: 114\tchild, kid, toy, childrens, parent, woman, book, curiosity, childhood, crusade\n",
      "Topic #: 47\t# lines: 112\tfish, fisherman, fishing, meat, catch, hang, watch, radium, nightfish, glad\n",
      "Topic #: 48\t# lines: 106\tfield, table, sunflower, smiled, gather, start, smile, poppy, sparkled, smiling\n",
      "Topic #: 49\t# lines: 74\tdeath, die, comment, someone, life, merciful, preference, perceive, transport, habit\n"
     ]
    }
   ],
   "source": [
    "# estimates for top\n",
    "topicEstimates = []\n",
    "topicDocCts = dict()\n",
    "for i, doc in enumerate(doc_sample):\n",
    "    topicNum = np.argmax(probs[i,:])\n",
    "    topicDocCts.setdefault(topicNum, 0)\n",
    "    topicDocCts[topicNum] += 1\n",
    "\n",
    "id2keywords = dict()\n",
    "id2keywords[-1] = 'Outliers'\n",
    "for i in range(len(topic_model.get_topic_info())-1):\n",
    "    keys = ', '.join([key for key, prob in topic_model.get_topic(i)])\n",
    "    id2keywords[i] = keys\n",
    "    print(f'Topic #: {i}\\t# lines: {topicDocCts[i]}\\t{keys}')"
   ]
  },
  {
   "cell_type": "code",
   "execution_count": 92,
   "id": "0f7b89ed-583e-4df1-a67e-a6d7127634f7",
   "metadata": {},
   "outputs": [
    {
     "name": "stdout",
     "output_type": "stream",
     "text": [
      "12506 outliers with threshold of 0.01 \n",
      "\n"
     ]
    },
    {
     "data": {
      "text/html": [
       "<div>\n",
       "<style scoped>\n",
       "    .dataframe tbody tr th:only-of-type {\n",
       "        vertical-align: middle;\n",
       "    }\n",
       "\n",
       "    .dataframe tbody tr th {\n",
       "        vertical-align: top;\n",
       "    }\n",
       "\n",
       "    .dataframe thead th {\n",
       "        text-align: right;\n",
       "    }\n",
       "</style>\n",
       "<table border=\"1\" class=\"dataframe\">\n",
       "  <thead>\n",
       "    <tr style=\"text-align: right;\">\n",
       "      <th></th>\n",
       "      <th>text</th>\n",
       "      <th>keys</th>\n",
       "      <th>poemTopicID</th>\n",
       "    </tr>\n",
       "  </thead>\n",
       "  <tbody>\n",
       "    <tr>\n",
       "      <th>0</th>\n",
       "      <td>to tell yourself honestly, as honestly as poss...</td>\n",
       "      <td>brother, meet, station, woman, girl, sister, b...</td>\n",
       "      <td>0</td>\n",
       "    </tr>\n",
       "    <tr>\n",
       "      <th>1</th>\n",
       "      <td>As if there is nothing to lose:</td>\n",
       "      <td>alive, coffin, dead, fatigue, graf, grave, cem...</td>\n",
       "      <td>15</td>\n",
       "    </tr>\n",
       "    <tr>\n",
       "      <th>2</th>\n",
       "      <td>We lived too long by relying on others -</td>\n",
       "      <td>alive, coffin, dead, fatigue, graf, grave, cem...</td>\n",
       "      <td>15</td>\n",
       "    </tr>\n",
       "    <tr>\n",
       "      <th>3</th>\n",
       "      <td>As the book writes that people will say</td>\n",
       "      <td>letter, freedom, write, book, name, read, writ...</td>\n",
       "      <td>2</td>\n",
       "    </tr>\n",
       "    <tr>\n",
       "      <th>4</th>\n",
       "      <td>We are too accustomed to these embroidered tam...</td>\n",
       "      <td>lie, mouth, lip, ice, truth, sword, sewing, co...</td>\n",
       "      <td>10</td>\n",
       "    </tr>\n",
       "  </tbody>\n",
       "</table>\n",
       "</div>"
      ],
      "text/plain": [
       "                                                text  \\\n",
       "0  to tell yourself honestly, as honestly as poss...   \n",
       "1                    As if there is nothing to lose:   \n",
       "2           We lived too long by relying on others -   \n",
       "3            As the book writes that people will say   \n",
       "4  We are too accustomed to these embroidered tam...   \n",
       "\n",
       "                                                keys  poemTopicID  \n",
       "0  brother, meet, station, woman, girl, sister, b...            0  \n",
       "1  alive, coffin, dead, fatigue, graf, grave, cem...           15  \n",
       "2  alive, coffin, dead, fatigue, graf, grave, cem...           15  \n",
       "3  letter, freedom, write, book, name, read, writ...            2  \n",
       "4  lie, mouth, lip, ice, truth, sword, sewing, co...           10  "
      ]
     },
     "execution_count": 92,
     "metadata": {},
     "output_type": "execute_result"
    }
   ],
   "source": [
    "probability_threshold = .01\n",
    "new_topic_recs = [{'keys' : id2keywords[np.argmax(prob)], 'poemTopicID' : np.argmax(prob)} if max(prob) >= probability_threshold else {'poemTopicID' : -1} for prob in probs]\n",
    "print(topics.count(-1), 'outliers with threshold of', probability_threshold,'\\n')\n",
    "PoemDf = pd.DataFrame.from_records([{'text' : doc} for doc in doc_sample])\n",
    "poemRecDf = pd.DataFrame.from_records(new_topic_recs)\n",
    "poemTopicDf = pd.concat([PoemDf, poemRecDf],axis=1)\n",
    "poemTopicDf.head()"
   ]
  },
  {
   "cell_type": "code",
   "execution_count": 121,
   "id": "16010c16-80d3-4e14-bc2f-453e72c270ba",
   "metadata": {},
   "outputs": [
    {
     "data": {
      "text/plain": [
       "['Horseradish screwed to the muzzle',\n",
       " 'Run everyone, because you will fade under the raft! ”',\n",
       " \"... The shoemaker's wife is worried about a strange moon.\",\n",
       " 'And didn’t you run',\n",
       " 'Who will now jump in front of the lord with a goat?',\n",
       " 'And I ran',\n",
       " 'Vaudeville Moon',\n",
       " 'The mule is lifted',\n",
       " 'I will run as a headless coil',\n",
       " 'And I hit all the time',\n",
       " 'The unicorn conceived after,',\n",
       " 'Cut out the fission, the crafts and cycles of the moonshine',\n",
       " \"And I'm small like that\",\n",
       " 'He leads with the moon',\n",
       " '(and a crescent moon)',\n",
       " 'How does the dog wave the evil moon?',\n",
       " 'The lunar -sailing east',\n",
       " 'and as the moon is filled every exhalation,',\n",
       " 'There is where to run and there are reasons to run,',\n",
       " 'In the night in the mouth sparkles the moon tooth, ￼']"
      ]
     },
     "execution_count": 121,
     "metadata": {},
     "output_type": "execute_result"
    }
   ],
   "source": [
    "random.sample(poemTopicDf[poemTopicDf['poemTopicID'] == 31]['text'].tolist(),20)"
   ]
  },
  {
   "cell_type": "markdown",
   "id": "376711f2-050c-41cb-949c-b92653bfccbc",
   "metadata": {},
   "source": [
    "## view hierarchy"
   ]
  },
  {
   "cell_type": "code",
   "execution_count": 94,
   "id": "ebfe25e7-c9ed-4167-a067-98a72d67dcee",
   "metadata": {},
   "outputs": [
    {
     "name": "stderr",
     "output_type": "stream",
     "text": [
      "100%|██████████| 49/49 [00:00<00:00, 165.09it/s]\n"
     ]
    },
    {
     "data": {
      "application/vnd.plotly.v1+json": {
       "config": {
        "plotlyServerURL": "https://plot.ly"
       },
       "data": [
        {
         "hoverinfo": "text",
         "marker": {
          "color": "rgb(0,116,217)"
         },
         "mode": "lines",
         "text": [
          "vasily_yuri_vayeny_pachovsky_karabl",
          "",
          "",
          "russian_moscow_soviet_putin_greatness"
         ],
         "type": "scatter",
         "x": [
          0,
          1.2807574517001457,
          1.2807574517001457,
          0
         ],
         "xaxis": "x",
         "y": [
          -5,
          -5,
          -15,
          -15
         ],
         "yaxis": "y"
        },
        {
         "hoverinfo": "text",
         "marker": {
          "color": "rgb(0,116,217)"
         },
         "mode": "lines",
         "text": [
          "ukrainian_translation_kiev_crimea_maidan",
          "",
          "",
          "poem_poet_poetry_wrote_written"
         ],
         "type": "scatter",
         "x": [
          0,
          1.208677069389571,
          1.208677069389571,
          0
         ],
         "xaxis": "x",
         "y": [
          -25,
          -25,
          -35,
          -35
         ],
         "yaxis": "y"
        },
        {
         "hoverinfo": "text",
         "marker": {
          "color": "rgb(0,116,217)"
         },
         "mode": "lines",
         "text": [
          "russian_moscow_soviet_putin_greatness",
          "",
          "",
          "ukrainian_poem_translation_poet_kiev"
         ],
         "type": "scatter",
         "x": [
          1.2807574517001457,
          1.5024635833235664,
          1.5024635833235664,
          1.208677069389571
         ],
         "xaxis": "x",
         "y": [
          -10,
          -10,
          -30,
          -30
         ],
         "yaxis": "y"
        },
        {
         "hoverinfo": "text",
         "marker": {
          "color": "rgb(0,116,217)"
         },
         "mode": "lines",
         "text": [
          "alive_coffin_dead_fatigue_graf",
          "",
          "",
          "silence_silent_quietly_quiet_hunting"
         ],
         "type": "scatter",
         "x": [
          0,
          1.3426862332277094,
          1.3426862332277094,
          0
         ],
         "xaxis": "x",
         "y": [
          -55,
          -55,
          -65,
          -65
         ],
         "yaxis": "y"
        },
        {
         "hoverinfo": "text",
         "marker": {
          "color": "rgb(0,116,217)"
         },
         "mode": "lines",
         "text": [
          "language_talk_deaf_phone_talking",
          "",
          "",
          "silence_silent_alive_coffin_dead"
         ],
         "type": "scatter",
         "x": [
          0,
          1.3638481936188394,
          1.3638481936188394,
          1.3426862332277094
         ],
         "xaxis": "x",
         "y": [
          -45,
          -45,
          -60,
          -60
         ],
         "yaxis": "y"
        },
        {
         "hoverinfo": "text",
         "marker": {
          "color": "rgb(0,116,217)"
         },
         "mode": "lines",
         "text": [
          "fear_afraid_criminal_height_judge",
          "",
          "",
          "death_die_comment_someone_life"
         ],
         "type": "scatter",
         "x": [
          0,
          1.3552228974992822,
          1.3552228974992822,
          0
         ],
         "xaxis": "x",
         "y": [
          -75,
          -75,
          -85,
          -85
         ],
         "yaxis": "y"
        },
        {
         "hoverinfo": "text",
         "marker": {
          "color": "rgb(0,116,217)"
         },
         "mode": "lines",
         "text": [
          "letter_freedom_write_book_name",
          "",
          "",
          "god_church_prayer_forgive_lord"
         ],
         "type": "scatter",
         "x": [
          0,
          1.346393459093774,
          1.346393459093774,
          0
         ],
         "xaxis": "x",
         "y": [
          -95,
          -95,
          -105,
          -105
         ],
         "yaxis": "y"
        },
        {
         "hoverinfo": "text",
         "marker": {
          "color": "rgb(0,116,217)"
         },
         "mode": "lines",
         "text": [
          "god_letter_freedom_church_prayer",
          "",
          "",
          "faith_peace_importantly_return_main"
         ],
         "type": "scatter",
         "x": [
          1.346393459093774,
          1.3779976310162185,
          1.3779976310162185,
          0
         ],
         "xaxis": "x",
         "y": [
          -100,
          -100,
          -115,
          -115
         ],
         "yaxis": "y"
        },
        {
         "hoverinfo": "text",
         "marker": {
          "color": "rgb(0,116,217)"
         },
         "mode": "lines",
         "text": [
          "death_fear_die_afraid_comment",
          "",
          "",
          "god_letter_freedom_church_prayer"
         ],
         "type": "scatter",
         "x": [
          1.3552228974992822,
          1.4133348672687471,
          1.4133348672687471,
          1.3779976310162185
         ],
         "xaxis": "x",
         "y": [
          -80,
          -80,
          -107.5,
          -107.5
         ],
         "yaxis": "y"
        },
        {
         "hoverinfo": "text",
         "marker": {
          "color": "rgb(0,116,217)"
         },
         "mode": "lines",
         "text": [
          "silence_language_silent_alive_talk",
          "",
          "",
          "god_letter_death_freedom_church"
         ],
         "type": "scatter",
         "x": [
          1.3638481936188394,
          1.44151494742474,
          1.44151494742474,
          1.4133348672687471
         ],
         "xaxis": "x",
         "y": [
          -52.5,
          -52.5,
          -93.75,
          -93.75
         ],
         "yaxis": "y"
        },
        {
         "hoverinfo": "text",
         "marker": {
          "color": "rgb(0,116,217)"
         },
         "mode": "lines",
         "text": [
          "child_kid_toy_childrens_parent",
          "",
          "",
          "memory_remember_forget_remembers_entwined"
         ],
         "type": "scatter",
         "x": [
          0,
          1.3560356669537776,
          1.3560356669537776,
          0
         ],
         "xaxis": "x",
         "y": [
          -135,
          -135,
          -145,
          -145
         ],
         "yaxis": "y"
        },
        {
         "hoverinfo": "text",
         "marker": {
          "color": "rgb(0,116,217)"
         },
         "mode": "lines",
         "text": [
          "eye_eyelid_vision_retina_melt",
          "",
          "",
          "memory_child_remember_kid_toy"
         ],
         "type": "scatter",
         "x": [
          0,
          1.386794114420433,
          1.386794114420433,
          1.3560356669537776
         ],
         "xaxis": "x",
         "y": [
          -125,
          -125,
          -140,
          -140
         ],
         "yaxis": "y"
        },
        {
         "hoverinfo": "text",
         "marker": {
          "color": "rgb(0,116,217)"
         },
         "mode": "lines",
         "text": [
          "hand_finger_palm_touch_bony",
          "",
          "",
          "brother_meet_station_woman_girl"
         ],
         "type": "scatter",
         "x": [
          0,
          1.2957867583833995,
          1.2957867583833995,
          0
         ],
         "xaxis": "x",
         "y": [
          -155,
          -155,
          -165,
          -165
         ],
         "yaxis": "y"
        },
        {
         "hoverinfo": "text",
         "marker": {
          "color": "rgb(0,116,217)"
         },
         "mode": "lines",
         "text": [
          "mother_mom_door_summer_father",
          "",
          "",
          "lie_mouth_lip_ice_truth"
         ],
         "type": "scatter",
         "x": [
          0,
          1.3669206453439555,
          1.3669206453439555,
          0
         ],
         "xaxis": "x",
         "y": [
          -175,
          -175,
          -185,
          -185
         ],
         "yaxis": "y"
        },
        {
         "hoverinfo": "text",
         "marker": {
          "color": "rgb(0,116,217)"
         },
         "mode": "lines",
         "text": [
          "mother_mom_lie_mouth_lip",
          "",
          "",
          "breath_breathe_gas_air_breathing"
         ],
         "type": "scatter",
         "x": [
          1.3669206453439555,
          1.379050370613927,
          1.379050370613927,
          0
         ],
         "xaxis": "x",
         "y": [
          -180,
          -180,
          -195,
          -195
         ],
         "yaxis": "y"
        },
        {
         "hoverinfo": "text",
         "marker": {
          "color": "rgb(0,116,217)"
         },
         "mode": "lines",
         "text": [
          "brother_hand_finger_meet_palm",
          "",
          "",
          "mother_mom_lie_mouth_lip"
         ],
         "type": "scatter",
         "x": [
          1.2957867583833995,
          1.4137510026111382,
          1.4137510026111382,
          1.379050370613927
         ],
         "xaxis": "x",
         "y": [
          -160,
          -160,
          -187.5,
          -187.5
         ],
         "yaxis": "y"
        },
        {
         "hoverinfo": "text",
         "marker": {
          "color": "rgb(0,116,217)"
         },
         "mode": "lines",
         "text": [
          "eye_memory_child_remember_eyelid",
          "",
          "",
          "mother_mom_hand_brother_lie"
         ],
         "type": "scatter",
         "x": [
          1.386794114420433,
          1.4289698007182232,
          1.4289698007182232,
          1.4137510026111382
         ],
         "xaxis": "x",
         "y": [
          -132.5,
          -132.5,
          -173.75,
          -173.75
         ],
         "yaxis": "y"
        },
        {
         "hoverinfo": "text",
         "marker": {
          "color": "rgb(0,116,217)"
         },
         "mode": "lines",
         "text": [
          "wind_clothing_future_coming_rapist",
          "",
          "",
          "power_time_happiness_weapon_joy"
         ],
         "type": "scatter",
         "x": [
          0,
          1.3517778473556363,
          1.3517778473556363,
          0
         ],
         "xaxis": "x",
         "y": [
          -205,
          -205,
          -215,
          -215
         ],
         "yaxis": "y"
        },
        {
         "hoverinfo": "text",
         "marker": {
          "color": "rgb(0,116,217)"
         },
         "mode": "lines",
         "text": [
          "eye_memory_mother_mom_hand",
          "",
          "",
          "wind_time_power_happiness_weapon"
         ],
         "type": "scatter",
         "x": [
          1.4289698007182232,
          1.4298988555989323,
          1.4298988555989323,
          1.3517778473556363
         ],
         "xaxis": "x",
         "y": [
          -153.125,
          -153.125,
          -210,
          -210
         ],
         "yaxis": "y"
        },
        {
         "hoverinfo": "text",
         "marker": {
          "color": "rgb(0,116,217)"
         },
         "mode": "lines",
         "text": [
          "god_silence_letter_language_death",
          "",
          "",
          "eye_wind_memory_mother_mom"
         ],
         "type": "scatter",
         "x": [
          1.44151494742474,
          1.4819725363614273,
          1.4819725363614273,
          1.4298988555989323
         ],
         "xaxis": "x",
         "y": [
          -73.125,
          -73.125,
          -181.5625,
          -181.5625
         ],
         "yaxis": "y"
        },
        {
         "hoverinfo": "text",
         "marker": {
          "color": "rgb(0,116,217)"
         },
         "mode": "lines",
         "text": [
          "blood_flow_bandage_wound_visible",
          "",
          "",
          "rain_drink_drunk_drank_bowl"
         ],
         "type": "scatter",
         "x": [
          0,
          1.3471168625375955,
          1.3471168625375955,
          0
         ],
         "xaxis": "x",
         "y": [
          -225,
          -225,
          -235,
          -235
         ],
         "yaxis": "y"
        },
        {
         "hoverinfo": "text",
         "marker": {
          "color": "rgb(0,116,217)"
         },
         "mode": "lines",
         "text": [
          "flag_explosion_hetman_prince_knight",
          "",
          "",
          "hole_sun_dance_armor_boundary"
         ],
         "type": "scatter",
         "x": [
          0,
          1.3619977579818825,
          1.3619977579818825,
          0
         ],
         "xaxis": "x",
         "y": [
          -245,
          -245,
          -255,
          -255
         ],
         "yaxis": "y"
        },
        {
         "hoverinfo": "text",
         "marker": {
          "color": "rgb(0,116,217)"
         },
         "mode": "lines",
         "text": [
          "blood_rain_drink_flow_drunk",
          "",
          "",
          "flag_hole_sun_dance_explosion"
         ],
         "type": "scatter",
         "x": [
          1.3471168625375955,
          1.413666516114743,
          1.413666516114743,
          1.3619977579818825
         ],
         "xaxis": "x",
         "y": [
          -230,
          -230,
          -250,
          -250
         ],
         "yaxis": "y"
        },
        {
         "hoverinfo": "text",
         "marker": {
          "color": "rgb(0,116,217)"
         },
         "mode": "lines",
         "text": [
          "field_table_sunflower_smiled_gather",
          "",
          "",
          "kyiv_april_january_february_august"
         ],
         "type": "scatter",
         "x": [
          0,
          1.3877962016758645,
          1.3877962016758645,
          0
         ],
         "xaxis": "x",
         "y": [
          -265,
          -265,
          -275,
          -275
         ],
         "yaxis": "y"
        },
        {
         "hoverinfo": "text",
         "marker": {
          "color": "rgb(0,116,217)"
         },
         "mode": "lines",
         "text": [
          "apple_mouse_fruit_like_ripen",
          "",
          "",
          "tree_christmas_forest_branch_pine"
         ],
         "type": "scatter",
         "x": [
          0,
          1.3501079791860855,
          1.3501079791860855,
          0
         ],
         "xaxis": "x",
         "y": [
          -285,
          -285,
          -295,
          -295
         ],
         "yaxis": "y"
        },
        {
         "hoverinfo": "text",
         "marker": {
          "color": "rgb(0,116,217)"
         },
         "mode": "lines",
         "text": [
          "tree_apple_christmas_forest_branch",
          "",
          "",
          "cat_dog_ternopil_kitten_hold"
         ],
         "type": "scatter",
         "x": [
          1.3501079791860855,
          1.3957964803097704,
          1.3957964803097704,
          0
         ],
         "xaxis": "x",
         "y": [
          -290,
          -290,
          -305,
          -305
         ],
         "yaxis": "y"
        },
        {
         "hoverinfo": "text",
         "marker": {
          "color": "rgb(0,116,217)"
         },
         "mode": "lines",
         "text": [
          "kyiv_april_field_january_february",
          "",
          "",
          "tree_cat_dog_apple_forest"
         ],
         "type": "scatter",
         "x": [
          1.3877962016758645,
          1.4166516538693135,
          1.4166516538693135,
          1.3957964803097704
         ],
         "xaxis": "x",
         "y": [
          -270,
          -270,
          -297.5,
          -297.5
         ],
         "yaxis": "y"
        },
        {
         "hoverinfo": "text",
         "marker": {
          "color": "rgb(0,116,217)"
         },
         "mode": "lines",
         "text": [
          "kyiv_tree_cat_dog_april",
          "",
          "",
          "jest_nie_palcami_jak_siedmioma"
         ],
         "type": "scatter",
         "x": [
          1.4166516538693135,
          1.437844754806671,
          1.437844754806671,
          0
         ],
         "xaxis": "x",
         "y": [
          -283.75,
          -283.75,
          -315,
          -315
         ],
         "yaxis": "y"
        },
        {
         "hoverinfo": "text",
         "marker": {
          "color": "rgb(0,116,217)"
         },
         "mode": "lines",
         "text": [
          "blood_rain_flag_drink_hole",
          "",
          "",
          "kyiv_tree_cat_dog_april"
         ],
         "type": "scatter",
         "x": [
          1.413666516114743,
          1.4550730492652237,
          1.4550730492652237,
          1.437844754806671
         ],
         "xaxis": "x",
         "y": [
          -240,
          -240,
          -299.375,
          -299.375
         ],
         "yaxis": "y"
        },
        {
         "hoverinfo": "text",
         "marker": {
          "color": "rgb(0,116,217)"
         },
         "mode": "lines",
         "text": [
          "fly_crawl_fighter_swallow_bee",
          "",
          "",
          "bird_bread_pigeon_crumb_raven"
         ],
         "type": "scatter",
         "x": [
          0,
          1.3465672863380675,
          1.3465672863380675,
          0
         ],
         "xaxis": "x",
         "y": [
          -335,
          -335,
          -345,
          -345
         ],
         "yaxis": "y"
        },
        {
         "hoverinfo": "text",
         "marker": {
          "color": "rgb(0,116,217)"
         },
         "mode": "lines",
         "text": [
          "suitcase_ash_sound_chicken_trace",
          "",
          "",
          "bird_bread_fly_pigeon_crumb"
         ],
         "type": "scatter",
         "x": [
          0,
          1.3818544251965779,
          1.3818544251965779,
          1.3465672863380675
         ],
         "xaxis": "x",
         "y": [
          -325,
          -325,
          -340,
          -340
         ],
         "yaxis": "y"
        },
        {
         "hoverinfo": "text",
         "marker": {
          "color": "rgb(0,116,217)"
         },
         "mode": "lines",
         "text": [
          "sky_star_cloud_beam_closer",
          "",
          "",
          "moon_horse_goat_horn_horseradish"
         ],
         "type": "scatter",
         "x": [
          0,
          1.3272401204378514,
          1.3272401204378514,
          0
         ],
         "xaxis": "x",
         "y": [
          -355,
          -355,
          -365,
          -365
         ],
         "yaxis": "y"
        },
        {
         "hoverinfo": "text",
         "marker": {
          "color": "rgb(0,116,217)"
         },
         "mode": "lines",
         "text": [
          "bird_bread_suitcase_fly_ash",
          "",
          "",
          "moon_sky_star_horse_cloud"
         ],
         "type": "scatter",
         "x": [
          1.3818544251965779,
          1.4273645886380044,
          1.4273645886380044,
          1.3272401204378514
         ],
         "xaxis": "x",
         "y": [
          -332.5,
          -332.5,
          -360,
          -360
         ],
         "yaxis": "y"
        },
        {
         "hoverinfo": "text",
         "marker": {
          "color": "rgb(0,116,217)"
         },
         "mode": "lines",
         "text": [
          "angel_cross_archangel_devil_wolf",
          "",
          "",
          "earth_heaven_paradise_double_planet"
         ],
         "type": "scatter",
         "x": [
          0,
          1.350322199306377,
          1.350322199306377,
          0
         ],
         "xaxis": "x",
         "y": [
          -375,
          -375,
          -385,
          -385
         ],
         "yaxis": "y"
        },
        {
         "hoverinfo": "text",
         "marker": {
          "color": "rgb(0,116,217)"
         },
         "mode": "lines",
         "text": [
          "bird_bread_sky_moon_star",
          "",
          "",
          "angel_heaven_earth_cross_archangel"
         ],
         "type": "scatter",
         "x": [
          1.4273645886380044,
          1.4354395966555231,
          1.4354395966555231,
          1.350322199306377
         ],
         "xaxis": "x",
         "y": [
          -346.25,
          -346.25,
          -380,
          -380
         ],
         "yaxis": "y"
        },
        {
         "hoverinfo": "text",
         "marker": {
          "color": "rgb(0,116,217)"
         },
         "mode": "lines",
         "text": [
          "kyiv_tree_cat_blood_dog",
          "",
          "",
          "bird_bread_sky_moon_angel"
         ],
         "type": "scatter",
         "x": [
          1.4550730492652237,
          1.4770831114002123,
          1.4770831114002123,
          1.4354395966555231
         ],
         "xaxis": "x",
         "y": [
          -269.6875,
          -269.6875,
          -363.125,
          -363.125
         ],
         "yaxis": "y"
        },
        {
         "hoverinfo": "text",
         "marker": {
          "color": "rgb(0,116,217)"
         },
         "mode": "lines",
         "text": [
          "burn_burned_flame_fiery_burning",
          "",
          "",
          "heart_ear_le_heartbeat_rhythm"
         ],
         "type": "scatter",
         "x": [
          0,
          1.3299012696354044,
          1.3299012696354044,
          0
         ],
         "xaxis": "x",
         "y": [
          -395,
          -395,
          -405,
          -405
         ],
         "yaxis": "y"
        },
        {
         "hoverinfo": "text",
         "marker": {
          "color": "rgb(0,116,217)"
         },
         "mode": "lines",
         "text": [
          "warm_heat_blanket_step_vain",
          "",
          "",
          "fish_fisherman_fishing_meat_catch"
         ],
         "type": "scatter",
         "x": [
          0,
          1.3656007223692697,
          1.3656007223692697,
          0
         ],
         "xaxis": "x",
         "y": [
          -415,
          -415,
          -425,
          -425
         ],
         "yaxis": "y"
        },
        {
         "hoverinfo": "text",
         "marker": {
          "color": "rgb(0,116,217)"
         },
         "mode": "lines",
         "text": [
          "heart_burn_ear_burned_flame",
          "",
          "",
          "fish_warm_heat_fisherman_blanket"
         ],
         "type": "scatter",
         "x": [
          1.3299012696354044,
          1.4084012792708034,
          1.4084012792708034,
          1.3656007223692697
         ],
         "xaxis": "x",
         "y": [
          -400,
          -400,
          -420,
          -420
         ],
         "yaxis": "y"
        },
        {
         "hoverinfo": "text",
         "marker": {
          "color": "rgb(0,116,217)"
         },
         "mode": "lines",
         "text": [
          "kyiv_bird_tree_cat_bread",
          "",
          "",
          "heart_fish_warm_burn_heat"
         ],
         "type": "scatter",
         "x": [
          1.4770831114002123,
          1.4828412186396378,
          1.4828412186396378,
          1.4084012792708034
         ],
         "xaxis": "x",
         "y": [
          -316.40625,
          -316.40625,
          -410,
          -410
         ],
         "yaxis": "y"
        },
        {
         "hoverinfo": "text",
         "marker": {
          "color": "rgb(0,116,217)"
         },
         "mode": "lines",
         "text": [
          "sea_ship_island_shore_ocean",
          "",
          "",
          "gate_shouted_border_sand_photo"
         ],
         "type": "scatter",
         "x": [
          0,
          1.327106412380648,
          1.327106412380648,
          0
         ],
         "xaxis": "x",
         "y": [
          -435,
          -435,
          -445,
          -445
         ],
         "yaxis": "y"
        },
        {
         "hoverinfo": "text",
         "marker": {
          "color": "rgb(0,116,217)"
         },
         "mode": "lines",
         "text": [
          "dream_bell_laugh_dreamed_fun",
          "",
          "",
          "sleep_night_morning_sleeping_asleep"
         ],
         "type": "scatter",
         "x": [
          0,
          1.294270395282886,
          1.294270395282886,
          0
         ],
         "xaxis": "x",
         "y": [
          -455,
          -455,
          -465,
          -465
         ],
         "yaxis": "y"
        },
        {
         "hoverinfo": "text",
         "marker": {
          "color": "rgb(0,116,217)"
         },
         "mode": "lines",
         "text": [
          "sea_gate_ship_shore_shouted",
          "",
          "",
          "sleep_dream_night_morning_bell"
         ],
         "type": "scatter",
         "x": [
          1.327106412380648,
          1.441625657693385,
          1.441625657693385,
          1.294270395282886
         ],
         "xaxis": "x",
         "y": [
          -440,
          -440,
          -460,
          -460
         ],
         "yaxis": "y"
        },
        {
         "hoverinfo": "text",
         "marker": {
          "color": "rgb(0,116,217)"
         },
         "mode": "lines",
         "text": [
          "war_teacher_school_student_day",
          "",
          "",
          "day_garden_expensive_news_tomorrow"
         ],
         "type": "scatter",
         "x": [
          0,
          1.3285093364993958,
          1.3285093364993958,
          0
         ],
         "xaxis": "x",
         "y": [
          -475,
          -475,
          -485,
          -485
         ],
         "yaxis": "y"
        },
        {
         "hoverinfo": "text",
         "marker": {
          "color": "rgb(0,116,217)"
         },
         "mode": "lines",
         "text": [
          "war_day_garden_teacher_school",
          "",
          "",
          "flower_abyss_cherry_bloom_petal"
         ],
         "type": "scatter",
         "x": [
          1.3285093364993958,
          1.364736149689955,
          1.364736149689955,
          0
         ],
         "xaxis": "x",
         "y": [
          -480,
          -480,
          -495,
          -495
         ],
         "yaxis": "y"
        },
        {
         "hoverinfo": "text",
         "marker": {
          "color": "rgb(0,116,217)"
         },
         "mode": "lines",
         "text": [
          "sleep_dream_sea_night_morning",
          "",
          "",
          "war_flower_day_garden_abyss"
         ],
         "type": "scatter",
         "x": [
          1.441625657693385,
          1.4601025411850361,
          1.4601025411850361,
          1.364736149689955
         ],
         "xaxis": "x",
         "y": [
          -450,
          -450,
          -487.5,
          -487.5
         ],
         "yaxis": "y"
        },
        {
         "hoverinfo": "text",
         "marker": {
          "color": "rgb(0,116,217)"
         },
         "mode": "lines",
         "text": [
          "heart_kyiv_fish_bird_tree",
          "",
          "",
          "war_sleep_dream_night_sea"
         ],
         "type": "scatter",
         "x": [
          1.4828412186396378,
          1.4990946972175996,
          1.4990946972175996,
          1.4601025411850361
         ],
         "xaxis": "x",
         "y": [
          -363.203125,
          -363.203125,
          -468.75,
          -468.75
         ],
         "yaxis": "y"
        },
        {
         "hoverinfo": "text",
         "marker": {
          "color": "rgb(0,116,217)"
         },
         "mode": "lines",
         "text": [
          "eye_god_wind_memory_silence",
          "",
          "",
          "war_heart_sleep_dream_night"
         ],
         "type": "scatter",
         "x": [
          1.4819725363614273,
          1.523110170617182,
          1.523110170617182,
          1.4990946972175996
         ],
         "xaxis": "x",
         "y": [
          -127.34375,
          -127.34375,
          -415.9765625,
          -415.9765625
         ],
         "yaxis": "y"
        },
        {
         "hoverinfo": "text",
         "marker": {
          "color": "rgb(0,116,217)"
         },
         "mode": "lines",
         "text": [
          "ukrainian_poem_russian_translation_poet",
          "",
          "",
          "war_heart_god_eye_sleep"
         ],
         "type": "scatter",
         "x": [
          1.5024635833235664,
          1.5810435887226648,
          1.5810435887226648,
          1.523110170617182
         ],
         "xaxis": "x",
         "y": [
          -20,
          -20,
          -271.66015625,
          -271.66015625
         ],
         "yaxis": "y"
        },
        {
         "hoverinfo": "text",
         "hovertext": [
          "russian_moscow_soviet_putin_greatness",
          "god_letter_freedom_church_prayer",
          "death_fear_die_afraid_comment",
          "silence_language_silent_alive_talk",
          "mother_mom_lie_mouth_lip",
          "brother_hand_finger_meet_palm",
          "eye_memory_child_remember_eyelid",
          "eye_memory_mother_mom_hand",
          "god_silence_letter_language_death",
          "blood_rain_drink_flow_drunk",
          "tree_apple_christmas_forest_branch",
          "kyiv_april_field_january_february",
          "kyiv_tree_cat_dog_april",
          "blood_rain_flag_drink_hole",
          "bird_bread_suitcase_fly_ash",
          "bird_bread_sky_moon_star",
          "kyiv_tree_cat_blood_dog",
          "heart_burn_ear_burned_flame",
          "kyiv_bird_tree_cat_bread",
          "sea_gate_ship_shore_shouted",
          "war_day_garden_teacher_school",
          "sleep_dream_sea_night_morning",
          "heart_kyiv_fish_bird_tree",
          "eye_god_wind_memory_silence",
          "ukrainian_poem_russian_translation_poet"
         ],
         "marker": {
          "color": "black"
         },
         "mode": "markers",
         "showlegend": false,
         "type": "scatter",
         "x": [
          1.2807574517001457,
          1.346393459093774,
          1.3552228974992822,
          1.3638481936188394,
          1.3669206453439555,
          1.2957867583833995,
          1.386794114420433,
          1.4289698007182232,
          1.44151494742474,
          1.3471168625375955,
          1.3501079791860855,
          1.3877962016758645,
          1.4166516538693135,
          1.413666516114743,
          1.3818544251965779,
          1.4273645886380044,
          1.4550730492652237,
          1.3299012696354044,
          1.4770831114002123,
          1.327106412380648,
          1.3285093364993958,
          1.441625657693385,
          1.4828412186396378,
          1.4819725363614273,
          1.5024635833235664
         ],
         "y": [
          -10,
          -100,
          -80,
          -52.5,
          -180,
          -160,
          -132.5,
          -153.125,
          -73.125,
          -230,
          -290,
          -270,
          -283.75,
          -240,
          -332.5,
          -346.25,
          -269.6875,
          -400,
          -316.40625,
          -440,
          -480,
          -450,
          -363.203125,
          -127.34375,
          -20
         ]
        },
        {
         "hoverinfo": "text",
         "hovertext": [
          "ukrainian_poem_translation_poet_kiev",
          "silence_silent_alive_coffin_dead",
          "god_letter_freedom_church_prayer",
          "god_letter_death_freedom_church",
          "memory_child_remember_kid_toy",
          "mother_mom_lie_mouth_lip",
          "mother_mom_hand_brother_lie",
          "wind_time_power_happiness_weapon",
          "eye_wind_memory_mother_mom",
          "flag_hole_sun_dance_explosion",
          "tree_cat_dog_apple_forest",
          "kyiv_tree_cat_dog_april",
          "bird_bread_fly_pigeon_crumb",
          "moon_sky_star_horse_cloud",
          "angel_heaven_earth_cross_archangel",
          "bird_bread_sky_moon_angel",
          "fish_warm_heat_fisherman_blanket",
          "heart_fish_warm_burn_heat",
          "sleep_dream_night_morning_bell",
          "war_flower_day_garden_abyss",
          "war_sleep_dream_night_sea",
          "war_heart_sleep_dream_night",
          "war_heart_god_eye_sleep"
         ],
         "marker": {
          "color": "black"
         },
         "mode": "markers",
         "showlegend": false,
         "type": "scatter",
         "x": [
          1.208677069389571,
          1.3426862332277094,
          1.3779976310162185,
          1.4133348672687471,
          1.3560356669537776,
          1.379050370613927,
          1.4137510026111382,
          1.3517778473556363,
          1.4298988555989323,
          1.3619977579818825,
          1.3957964803097704,
          1.437844754806671,
          1.3465672863380675,
          1.3272401204378514,
          1.350322199306377,
          1.4354395966555231,
          1.3656007223692697,
          1.4084012792708034,
          1.294270395282886,
          1.364736149689955,
          1.4601025411850361,
          1.4990946972175996,
          1.523110170617182
         ],
         "y": [
          -30,
          -60,
          -107.5,
          -93.75,
          -140,
          -187.5,
          -173.75,
          -210,
          -181.5625,
          -250,
          -297.5,
          -299.375,
          -340,
          -360,
          -380,
          -363.125,
          -420,
          -410,
          -460,
          -487.5,
          -468.75,
          -415.9765625,
          -271.66015625
         ]
        }
       ],
       "layout": {
        "autosize": false,
        "height": 950,
        "hoverlabel": {
         "bgcolor": "white",
         "font": {
          "family": "Rockwell",
          "size": 16
         }
        },
        "hovermode": "closest",
        "plot_bgcolor": "#ECEFF1",
        "showlegend": false,
        "template": {
         "data": {
          "bar": [
           {
            "error_x": {
             "color": "#2a3f5f"
            },
            "error_y": {
             "color": "#2a3f5f"
            },
            "marker": {
             "line": {
              "color": "white",
              "width": 0.5
             },
             "pattern": {
              "fillmode": "overlay",
              "size": 10,
              "solidity": 0.2
             }
            },
            "type": "bar"
           }
          ],
          "barpolar": [
           {
            "marker": {
             "line": {
              "color": "white",
              "width": 0.5
             },
             "pattern": {
              "fillmode": "overlay",
              "size": 10,
              "solidity": 0.2
             }
            },
            "type": "barpolar"
           }
          ],
          "carpet": [
           {
            "aaxis": {
             "endlinecolor": "#2a3f5f",
             "gridcolor": "#C8D4E3",
             "linecolor": "#C8D4E3",
             "minorgridcolor": "#C8D4E3",
             "startlinecolor": "#2a3f5f"
            },
            "baxis": {
             "endlinecolor": "#2a3f5f",
             "gridcolor": "#C8D4E3",
             "linecolor": "#C8D4E3",
             "minorgridcolor": "#C8D4E3",
             "startlinecolor": "#2a3f5f"
            },
            "type": "carpet"
           }
          ],
          "choropleth": [
           {
            "colorbar": {
             "outlinewidth": 0,
             "ticks": ""
            },
            "type": "choropleth"
           }
          ],
          "contour": [
           {
            "colorbar": {
             "outlinewidth": 0,
             "ticks": ""
            },
            "colorscale": [
             [
              0,
              "#0d0887"
             ],
             [
              0.1111111111111111,
              "#46039f"
             ],
             [
              0.2222222222222222,
              "#7201a8"
             ],
             [
              0.3333333333333333,
              "#9c179e"
             ],
             [
              0.4444444444444444,
              "#bd3786"
             ],
             [
              0.5555555555555556,
              "#d8576b"
             ],
             [
              0.6666666666666666,
              "#ed7953"
             ],
             [
              0.7777777777777778,
              "#fb9f3a"
             ],
             [
              0.8888888888888888,
              "#fdca26"
             ],
             [
              1,
              "#f0f921"
             ]
            ],
            "type": "contour"
           }
          ],
          "contourcarpet": [
           {
            "colorbar": {
             "outlinewidth": 0,
             "ticks": ""
            },
            "type": "contourcarpet"
           }
          ],
          "heatmap": [
           {
            "colorbar": {
             "outlinewidth": 0,
             "ticks": ""
            },
            "colorscale": [
             [
              0,
              "#0d0887"
             ],
             [
              0.1111111111111111,
              "#46039f"
             ],
             [
              0.2222222222222222,
              "#7201a8"
             ],
             [
              0.3333333333333333,
              "#9c179e"
             ],
             [
              0.4444444444444444,
              "#bd3786"
             ],
             [
              0.5555555555555556,
              "#d8576b"
             ],
             [
              0.6666666666666666,
              "#ed7953"
             ],
             [
              0.7777777777777778,
              "#fb9f3a"
             ],
             [
              0.8888888888888888,
              "#fdca26"
             ],
             [
              1,
              "#f0f921"
             ]
            ],
            "type": "heatmap"
           }
          ],
          "heatmapgl": [
           {
            "colorbar": {
             "outlinewidth": 0,
             "ticks": ""
            },
            "colorscale": [
             [
              0,
              "#0d0887"
             ],
             [
              0.1111111111111111,
              "#46039f"
             ],
             [
              0.2222222222222222,
              "#7201a8"
             ],
             [
              0.3333333333333333,
              "#9c179e"
             ],
             [
              0.4444444444444444,
              "#bd3786"
             ],
             [
              0.5555555555555556,
              "#d8576b"
             ],
             [
              0.6666666666666666,
              "#ed7953"
             ],
             [
              0.7777777777777778,
              "#fb9f3a"
             ],
             [
              0.8888888888888888,
              "#fdca26"
             ],
             [
              1,
              "#f0f921"
             ]
            ],
            "type": "heatmapgl"
           }
          ],
          "histogram": [
           {
            "marker": {
             "pattern": {
              "fillmode": "overlay",
              "size": 10,
              "solidity": 0.2
             }
            },
            "type": "histogram"
           }
          ],
          "histogram2d": [
           {
            "colorbar": {
             "outlinewidth": 0,
             "ticks": ""
            },
            "colorscale": [
             [
              0,
              "#0d0887"
             ],
             [
              0.1111111111111111,
              "#46039f"
             ],
             [
              0.2222222222222222,
              "#7201a8"
             ],
             [
              0.3333333333333333,
              "#9c179e"
             ],
             [
              0.4444444444444444,
              "#bd3786"
             ],
             [
              0.5555555555555556,
              "#d8576b"
             ],
             [
              0.6666666666666666,
              "#ed7953"
             ],
             [
              0.7777777777777778,
              "#fb9f3a"
             ],
             [
              0.8888888888888888,
              "#fdca26"
             ],
             [
              1,
              "#f0f921"
             ]
            ],
            "type": "histogram2d"
           }
          ],
          "histogram2dcontour": [
           {
            "colorbar": {
             "outlinewidth": 0,
             "ticks": ""
            },
            "colorscale": [
             [
              0,
              "#0d0887"
             ],
             [
              0.1111111111111111,
              "#46039f"
             ],
             [
              0.2222222222222222,
              "#7201a8"
             ],
             [
              0.3333333333333333,
              "#9c179e"
             ],
             [
              0.4444444444444444,
              "#bd3786"
             ],
             [
              0.5555555555555556,
              "#d8576b"
             ],
             [
              0.6666666666666666,
              "#ed7953"
             ],
             [
              0.7777777777777778,
              "#fb9f3a"
             ],
             [
              0.8888888888888888,
              "#fdca26"
             ],
             [
              1,
              "#f0f921"
             ]
            ],
            "type": "histogram2dcontour"
           }
          ],
          "mesh3d": [
           {
            "colorbar": {
             "outlinewidth": 0,
             "ticks": ""
            },
            "type": "mesh3d"
           }
          ],
          "parcoords": [
           {
            "line": {
             "colorbar": {
              "outlinewidth": 0,
              "ticks": ""
             }
            },
            "type": "parcoords"
           }
          ],
          "pie": [
           {
            "automargin": true,
            "type": "pie"
           }
          ],
          "scatter": [
           {
            "fillpattern": {
             "fillmode": "overlay",
             "size": 10,
             "solidity": 0.2
            },
            "type": "scatter"
           }
          ],
          "scatter3d": [
           {
            "line": {
             "colorbar": {
              "outlinewidth": 0,
              "ticks": ""
             }
            },
            "marker": {
             "colorbar": {
              "outlinewidth": 0,
              "ticks": ""
             }
            },
            "type": "scatter3d"
           }
          ],
          "scattercarpet": [
           {
            "marker": {
             "colorbar": {
              "outlinewidth": 0,
              "ticks": ""
             }
            },
            "type": "scattercarpet"
           }
          ],
          "scattergeo": [
           {
            "marker": {
             "colorbar": {
              "outlinewidth": 0,
              "ticks": ""
             }
            },
            "type": "scattergeo"
           }
          ],
          "scattergl": [
           {
            "marker": {
             "colorbar": {
              "outlinewidth": 0,
              "ticks": ""
             }
            },
            "type": "scattergl"
           }
          ],
          "scattermapbox": [
           {
            "marker": {
             "colorbar": {
              "outlinewidth": 0,
              "ticks": ""
             }
            },
            "type": "scattermapbox"
           }
          ],
          "scatterpolar": [
           {
            "marker": {
             "colorbar": {
              "outlinewidth": 0,
              "ticks": ""
             }
            },
            "type": "scatterpolar"
           }
          ],
          "scatterpolargl": [
           {
            "marker": {
             "colorbar": {
              "outlinewidth": 0,
              "ticks": ""
             }
            },
            "type": "scatterpolargl"
           }
          ],
          "scatterternary": [
           {
            "marker": {
             "colorbar": {
              "outlinewidth": 0,
              "ticks": ""
             }
            },
            "type": "scatterternary"
           }
          ],
          "surface": [
           {
            "colorbar": {
             "outlinewidth": 0,
             "ticks": ""
            },
            "colorscale": [
             [
              0,
              "#0d0887"
             ],
             [
              0.1111111111111111,
              "#46039f"
             ],
             [
              0.2222222222222222,
              "#7201a8"
             ],
             [
              0.3333333333333333,
              "#9c179e"
             ],
             [
              0.4444444444444444,
              "#bd3786"
             ],
             [
              0.5555555555555556,
              "#d8576b"
             ],
             [
              0.6666666666666666,
              "#ed7953"
             ],
             [
              0.7777777777777778,
              "#fb9f3a"
             ],
             [
              0.8888888888888888,
              "#fdca26"
             ],
             [
              1,
              "#f0f921"
             ]
            ],
            "type": "surface"
           }
          ],
          "table": [
           {
            "cells": {
             "fill": {
              "color": "#EBF0F8"
             },
             "line": {
              "color": "white"
             }
            },
            "header": {
             "fill": {
              "color": "#C8D4E3"
             },
             "line": {
              "color": "white"
             }
            },
            "type": "table"
           }
          ]
         },
         "layout": {
          "annotationdefaults": {
           "arrowcolor": "#2a3f5f",
           "arrowhead": 0,
           "arrowwidth": 1
          },
          "autotypenumbers": "strict",
          "coloraxis": {
           "colorbar": {
            "outlinewidth": 0,
            "ticks": ""
           }
          },
          "colorscale": {
           "diverging": [
            [
             0,
             "#8e0152"
            ],
            [
             0.1,
             "#c51b7d"
            ],
            [
             0.2,
             "#de77ae"
            ],
            [
             0.3,
             "#f1b6da"
            ],
            [
             0.4,
             "#fde0ef"
            ],
            [
             0.5,
             "#f7f7f7"
            ],
            [
             0.6,
             "#e6f5d0"
            ],
            [
             0.7,
             "#b8e186"
            ],
            [
             0.8,
             "#7fbc41"
            ],
            [
             0.9,
             "#4d9221"
            ],
            [
             1,
             "#276419"
            ]
           ],
           "sequential": [
            [
             0,
             "#0d0887"
            ],
            [
             0.1111111111111111,
             "#46039f"
            ],
            [
             0.2222222222222222,
             "#7201a8"
            ],
            [
             0.3333333333333333,
             "#9c179e"
            ],
            [
             0.4444444444444444,
             "#bd3786"
            ],
            [
             0.5555555555555556,
             "#d8576b"
            ],
            [
             0.6666666666666666,
             "#ed7953"
            ],
            [
             0.7777777777777778,
             "#fb9f3a"
            ],
            [
             0.8888888888888888,
             "#fdca26"
            ],
            [
             1,
             "#f0f921"
            ]
           ],
           "sequentialminus": [
            [
             0,
             "#0d0887"
            ],
            [
             0.1111111111111111,
             "#46039f"
            ],
            [
             0.2222222222222222,
             "#7201a8"
            ],
            [
             0.3333333333333333,
             "#9c179e"
            ],
            [
             0.4444444444444444,
             "#bd3786"
            ],
            [
             0.5555555555555556,
             "#d8576b"
            ],
            [
             0.6666666666666666,
             "#ed7953"
            ],
            [
             0.7777777777777778,
             "#fb9f3a"
            ],
            [
             0.8888888888888888,
             "#fdca26"
            ],
            [
             1,
             "#f0f921"
            ]
           ]
          },
          "colorway": [
           "#636efa",
           "#EF553B",
           "#00cc96",
           "#ab63fa",
           "#FFA15A",
           "#19d3f3",
           "#FF6692",
           "#B6E880",
           "#FF97FF",
           "#FECB52"
          ],
          "font": {
           "color": "#2a3f5f"
          },
          "geo": {
           "bgcolor": "white",
           "lakecolor": "white",
           "landcolor": "white",
           "showlakes": true,
           "showland": true,
           "subunitcolor": "#C8D4E3"
          },
          "hoverlabel": {
           "align": "left"
          },
          "hovermode": "closest",
          "mapbox": {
           "style": "light"
          },
          "paper_bgcolor": "white",
          "plot_bgcolor": "white",
          "polar": {
           "angularaxis": {
            "gridcolor": "#EBF0F8",
            "linecolor": "#EBF0F8",
            "ticks": ""
           },
           "bgcolor": "white",
           "radialaxis": {
            "gridcolor": "#EBF0F8",
            "linecolor": "#EBF0F8",
            "ticks": ""
           }
          },
          "scene": {
           "xaxis": {
            "backgroundcolor": "white",
            "gridcolor": "#DFE8F3",
            "gridwidth": 2,
            "linecolor": "#EBF0F8",
            "showbackground": true,
            "ticks": "",
            "zerolinecolor": "#EBF0F8"
           },
           "yaxis": {
            "backgroundcolor": "white",
            "gridcolor": "#DFE8F3",
            "gridwidth": 2,
            "linecolor": "#EBF0F8",
            "showbackground": true,
            "ticks": "",
            "zerolinecolor": "#EBF0F8"
           },
           "zaxis": {
            "backgroundcolor": "white",
            "gridcolor": "#DFE8F3",
            "gridwidth": 2,
            "linecolor": "#EBF0F8",
            "showbackground": true,
            "ticks": "",
            "zerolinecolor": "#EBF0F8"
           }
          },
          "shapedefaults": {
           "line": {
            "color": "#2a3f5f"
           }
          },
          "ternary": {
           "aaxis": {
            "gridcolor": "#DFE8F3",
            "linecolor": "#A2B1C6",
            "ticks": ""
           },
           "baxis": {
            "gridcolor": "#DFE8F3",
            "linecolor": "#A2B1C6",
            "ticks": ""
           },
           "bgcolor": "white",
           "caxis": {
            "gridcolor": "#DFE8F3",
            "linecolor": "#A2B1C6",
            "ticks": ""
           }
          },
          "title": {
           "x": 0.05
          },
          "xaxis": {
           "automargin": true,
           "gridcolor": "#EBF0F8",
           "linecolor": "#EBF0F8",
           "ticks": "",
           "title": {
            "standoff": 15
           },
           "zerolinecolor": "#EBF0F8",
           "zerolinewidth": 2
          },
          "yaxis": {
           "automargin": true,
           "gridcolor": "#EBF0F8",
           "linecolor": "#EBF0F8",
           "ticks": "",
           "title": {
            "standoff": 15
           },
           "zerolinecolor": "#EBF0F8",
           "zerolinewidth": 2
          }
         }
        },
        "title": {
         "font": {
          "color": "Black",
          "size": 22
         },
         "text": "<b>Hierarchical Clustering",
         "x": 0.5,
         "xanchor": "center",
         "yanchor": "top"
        },
        "width": 1000,
        "xaxis": {
         "autorange": true,
         "mirror": "allticks",
         "range": [
          0,
          1.6122120589897175
         ],
         "rangemode": "tozero",
         "showgrid": false,
         "showline": true,
         "showticklabels": true,
         "ticks": "outside",
         "type": "linear",
         "zeroline": false
        },
        "yaxis": {
         "mirror": "allticks",
         "range": [
          -500,
          0
         ],
         "rangemode": "tozero",
         "showgrid": false,
         "showline": true,
         "showticklabels": true,
         "tickmode": "array",
         "ticks": "outside",
         "ticktext": [
          "27_vasily_yuri_vayeny",
          "20_russian_moscow_soviet",
          "3_ukrainian_translation_kiev",
          "12_poem_poet_poetry",
          "13_language_talk_deaf",
          "15_alive_coffin_dead",
          "25_silence_silent_quietly",
          "16_fear_afraid_criminal",
          "49_death_die_comment",
          "2_letter_freedom_write",
          "1_god_church_prayer",
          "9_faith_peace_importantly",
          "44_eye_eyelid_vision",
          "46_child_kid_toy",
          "43_memory_remember_forget",
          "41_hand_finger_palm",
          "0_brother_meet_station",
          "6_mother_mom_door",
          "10_lie_mouth_lip",
          "40_breath_breathe_gas",
          "35_wind_clothing_future",
          "19_power_time_happiness",
          "22_blood_flow_bandage",
          "28_rain_drink_drunk",
          "23_flag_explosion_hetman",
          "17_hole_sun_dance",
          "48_field_table_sunflower",
          "4_kyiv_april_january",
          "30_apple_mouse_fruit",
          "24_tree_christmas_forest",
          "38_cat_dog_ternopil",
          "39_jest_nie_palcami",
          "7_suitcase_ash_sound",
          "36_fly_crawl_fighter",
          "21_bird_bread_pigeon",
          "18_sky_star_cloud",
          "31_moon_horse_goat",
          "37_angel_cross_archangel",
          "45_earth_heaven_paradise",
          "42_burn_burned_flame",
          "26_heart_ear_le",
          "34_warm_heat_blanket",
          "47_fish_fisherman_fishing",
          "32_sea_ship_island",
          "33_gate_shouted_border",
          "11_dream_bell_laugh",
          "5_sleep_night_morning",
          "8_war_teacher_school",
          "14_day_garden_expensive",
          "29_flower_abyss_cherry"
         ],
         "tickvals": [
          -5,
          -15,
          -25,
          -35,
          -45,
          -55,
          -65,
          -75,
          -85,
          -95,
          -105,
          -115,
          -125,
          -135,
          -145,
          -155,
          -165,
          -175,
          -185,
          -195,
          -205,
          -215,
          -225,
          -235,
          -245,
          -255,
          -265,
          -275,
          -285,
          -295,
          -305,
          -315,
          -325,
          -335,
          -345,
          -355,
          -365,
          -375,
          -385,
          -395,
          -405,
          -415,
          -425,
          -435,
          -445,
          -455,
          -465,
          -475,
          -485,
          -495
         ],
         "type": "linear",
         "zeroline": false
        }
       }
      },
      "image/png": "[encoded data removed]",
      "text/html": [
       "<div>                            <div id=\"8292e935-8c72-4c86-9662-c31267773e8d\" class=\"plotly-graph-div\" style=\"height:950px; width:1000px;\"></div>            <script type=\"text/javascript\">                require([\"plotly\"], function(Plotly) {                    window.PLOTLYENV=window.PLOTLYENV || {};                                    if (document.getElementById(\"8292e935-8c72-4c86-9662-c31267773e8d\")) {                    Plotly.newPlot(                        \"8292e935-8c72-4c86-9662-c31267773e8d\",                        [{\"hoverinfo\":\"text\",\"marker\":{\"color\":\"rgb(0,116,217)\"},\"mode\":\"lines\",\"text\":[\"vasily_yuri_vayeny_pachovsky_karabl\",\"\",\"\",\"russian_moscow_soviet_putin_greatness\"],\"x\":[0.0,1.2807574517001457,1.2807574517001457,0.0],\"xaxis\":\"x\",\"y\":[-5.0,-5.0,-15.0,-15.0],\"yaxis\":\"y\",\"type\":\"scatter\"},{\"hoverinfo\":\"text\",\"marker\":{\"color\":\"rgb(0,116,217)\"},\"mode\":\"lines\",\"text\":[\"ukrainian_translation_kiev_crimea_maidan\",\"\",\"\",\"poem_poet_poetry_wrote_written\"],\"x\":[0.0,1.208677069389571,1.208677069389571,0.0],\"xaxis\":\"x\",\"y\":[-25.0,-25.0,-35.0,-35.0],\"yaxis\":\"y\",\"type\":\"scatter\"},{\"hoverinfo\":\"text\",\"marker\":{\"color\":\"rgb(0,116,217)\"},\"mode\":\"lines\",\"text\":[\"russian_moscow_soviet_putin_greatness\",\"\",\"\",\"ukrainian_poem_translation_poet_kiev\"],\"x\":[1.2807574517001457,1.5024635833235664,1.5024635833235664,1.208677069389571],\"xaxis\":\"x\",\"y\":[-10.0,-10.0,-30.0,-30.0],\"yaxis\":\"y\",\"type\":\"scatter\"},{\"hoverinfo\":\"text\",\"marker\":{\"color\":\"rgb(0,116,217)\"},\"mode\":\"lines\",\"text\":[\"alive_coffin_dead_fatigue_graf\",\"\",\"\",\"silence_silent_quietly_quiet_hunting\"],\"x\":[0.0,1.3426862332277094,1.3426862332277094,0.0],\"xaxis\":\"x\",\"y\":[-55.0,-55.0,-65.0,-65.0],\"yaxis\":\"y\",\"type\":\"scatter\"},{\"hoverinfo\":\"text\",\"marker\":{\"color\":\"rgb(0,116,217)\"},\"mode\":\"lines\",\"text\":[\"language_talk_deaf_phone_talking\",\"\",\"\",\"silence_silent_alive_coffin_dead\"],\"x\":[0.0,1.3638481936188394,1.3638481936188394,1.3426862332277094],\"xaxis\":\"x\",\"y\":[-45.0,-45.0,-60.0,-60.0],\"yaxis\":\"y\",\"type\":\"scatter\"},{\"hoverinfo\":\"text\",\"marker\":{\"color\":\"rgb(0,116,217)\"},\"mode\":\"lines\",\"text\":[\"fear_afraid_criminal_height_judge\",\"\",\"\",\"death_die_comment_someone_life\"],\"x\":[0.0,1.3552228974992822,1.3552228974992822,0.0],\"xaxis\":\"x\",\"y\":[-75.0,-75.0,-85.0,-85.0],\"yaxis\":\"y\",\"type\":\"scatter\"},{\"hoverinfo\":\"text\",\"marker\":{\"color\":\"rgb(0,116,217)\"},\"mode\":\"lines\",\"text\":[\"letter_freedom_write_book_name\",\"\",\"\",\"god_church_prayer_forgive_lord\"],\"x\":[0.0,1.346393459093774,1.346393459093774,0.0],\"xaxis\":\"x\",\"y\":[-95.0,-95.0,-105.0,-105.0],\"yaxis\":\"y\",\"type\":\"scatter\"},{\"hoverinfo\":\"text\",\"marker\":{\"color\":\"rgb(0,116,217)\"},\"mode\":\"lines\",\"text\":[\"god_letter_freedom_church_prayer\",\"\",\"\",\"faith_peace_importantly_return_main\"],\"x\":[1.346393459093774,1.3779976310162185,1.3779976310162185,0.0],\"xaxis\":\"x\",\"y\":[-100.0,-100.0,-115.0,-115.0],\"yaxis\":\"y\",\"type\":\"scatter\"},{\"hoverinfo\":\"text\",\"marker\":{\"color\":\"rgb(0,116,217)\"},\"mode\":\"lines\",\"text\":[\"death_fear_die_afraid_comment\",\"\",\"\",\"god_letter_freedom_church_prayer\"],\"x\":[1.3552228974992822,1.4133348672687471,1.4133348672687471,1.3779976310162185],\"xaxis\":\"x\",\"y\":[-80.0,-80.0,-107.5,-107.5],\"yaxis\":\"y\",\"type\":\"scatter\"},{\"hoverinfo\":\"text\",\"marker\":{\"color\":\"rgb(0,116,217)\"},\"mode\":\"lines\",\"text\":[\"silence_language_silent_alive_talk\",\"\",\"\",\"god_letter_death_freedom_church\"],\"x\":[1.3638481936188394,1.44151494742474,1.44151494742474,1.4133348672687471],\"xaxis\":\"x\",\"y\":[-52.5,-52.5,-93.75,-93.75],\"yaxis\":\"y\",\"type\":\"scatter\"},{\"hoverinfo\":\"text\",\"marker\":{\"color\":\"rgb(0,116,217)\"},\"mode\":\"lines\",\"text\":[\"child_kid_toy_childrens_parent\",\"\",\"\",\"memory_remember_forget_remembers_entwined\"],\"x\":[0.0,1.3560356669537776,1.3560356669537776,0.0],\"xaxis\":\"x\",\"y\":[-135.0,-135.0,-145.0,-145.0],\"yaxis\":\"y\",\"type\":\"scatter\"},{\"hoverinfo\":\"text\",\"marker\":{\"color\":\"rgb(0,116,217)\"},\"mode\":\"lines\",\"text\":[\"eye_eyelid_vision_retina_melt\",\"\",\"\",\"memory_child_remember_kid_toy\"],\"x\":[0.0,1.386794114420433,1.386794114420433,1.3560356669537776],\"xaxis\":\"x\",\"y\":[-125.0,-125.0,-140.0,-140.0],\"yaxis\":\"y\",\"type\":\"scatter\"},{\"hoverinfo\":\"text\",\"marker\":{\"color\":\"rgb(0,116,217)\"},\"mode\":\"lines\",\"text\":[\"hand_finger_palm_touch_bony\",\"\",\"\",\"brother_meet_station_woman_girl\"],\"x\":[0.0,1.2957867583833995,1.2957867583833995,0.0],\"xaxis\":\"x\",\"y\":[-155.0,-155.0,-165.0,-165.0],\"yaxis\":\"y\",\"type\":\"scatter\"},{\"hoverinfo\":\"text\",\"marker\":{\"color\":\"rgb(0,116,217)\"},\"mode\":\"lines\",\"text\":[\"mother_mom_door_summer_father\",\"\",\"\",\"lie_mouth_lip_ice_truth\"],\"x\":[0.0,1.3669206453439555,1.3669206453439555,0.0],\"xaxis\":\"x\",\"y\":[-175.0,-175.0,-185.0,-185.0],\"yaxis\":\"y\",\"type\":\"scatter\"},{\"hoverinfo\":\"text\",\"marker\":{\"color\":\"rgb(0,116,217)\"},\"mode\":\"lines\",\"text\":[\"mother_mom_lie_mouth_lip\",\"\",\"\",\"breath_breathe_gas_air_breathing\"],\"x\":[1.3669206453439555,1.379050370613927,1.379050370613927,0.0],\"xaxis\":\"x\",\"y\":[-180.0,-180.0,-195.0,-195.0],\"yaxis\":\"y\",\"type\":\"scatter\"},{\"hoverinfo\":\"text\",\"marker\":{\"color\":\"rgb(0,116,217)\"},\"mode\":\"lines\",\"text\":[\"brother_hand_finger_meet_palm\",\"\",\"\",\"mother_mom_lie_mouth_lip\"],\"x\":[1.2957867583833995,1.4137510026111382,1.4137510026111382,1.379050370613927],\"xaxis\":\"x\",\"y\":[-160.0,-160.0,-187.5,-187.5],\"yaxis\":\"y\",\"type\":\"scatter\"},{\"hoverinfo\":\"text\",\"marker\":{\"color\":\"rgb(0,116,217)\"},\"mode\":\"lines\",\"text\":[\"eye_memory_child_remember_eyelid\",\"\",\"\",\"mother_mom_hand_brother_lie\"],\"x\":[1.386794114420433,1.4289698007182232,1.4289698007182232,1.4137510026111382],\"xaxis\":\"x\",\"y\":[-132.5,-132.5,-173.75,-173.75],\"yaxis\":\"y\",\"type\":\"scatter\"},{\"hoverinfo\":\"text\",\"marker\":{\"color\":\"rgb(0,116,217)\"},\"mode\":\"lines\",\"text\":[\"wind_clothing_future_coming_rapist\",\"\",\"\",\"power_time_happiness_weapon_joy\"],\"x\":[0.0,1.3517778473556363,1.3517778473556363,0.0],\"xaxis\":\"x\",\"y\":[-205.0,-205.0,-215.0,-215.0],\"yaxis\":\"y\",\"type\":\"scatter\"},{\"hoverinfo\":\"text\",\"marker\":{\"color\":\"rgb(0,116,217)\"},\"mode\":\"lines\",\"text\":[\"eye_memory_mother_mom_hand\",\"\",\"\",\"wind_time_power_happiness_weapon\"],\"x\":[1.4289698007182232,1.4298988555989323,1.4298988555989323,1.3517778473556363],\"xaxis\":\"x\",\"y\":[-153.125,-153.125,-210.0,-210.0],\"yaxis\":\"y\",\"type\":\"scatter\"},{\"hoverinfo\":\"text\",\"marker\":{\"color\":\"rgb(0,116,217)\"},\"mode\":\"lines\",\"text\":[\"god_silence_letter_language_death\",\"\",\"\",\"eye_wind_memory_mother_mom\"],\"x\":[1.44151494742474,1.4819725363614273,1.4819725363614273,1.4298988555989323],\"xaxis\":\"x\",\"y\":[-73.125,-73.125,-181.5625,-181.5625],\"yaxis\":\"y\",\"type\":\"scatter\"},{\"hoverinfo\":\"text\",\"marker\":{\"color\":\"rgb(0,116,217)\"},\"mode\":\"lines\",\"text\":[\"blood_flow_bandage_wound_visible\",\"\",\"\",\"rain_drink_drunk_drank_bowl\"],\"x\":[0.0,1.3471168625375955,1.3471168625375955,0.0],\"xaxis\":\"x\",\"y\":[-225.0,-225.0,-235.0,-235.0],\"yaxis\":\"y\",\"type\":\"scatter\"},{\"hoverinfo\":\"text\",\"marker\":{\"color\":\"rgb(0,116,217)\"},\"mode\":\"lines\",\"text\":[\"flag_explosion_hetman_prince_knight\",\"\",\"\",\"hole_sun_dance_armor_boundary\"],\"x\":[0.0,1.3619977579818825,1.3619977579818825,0.0],\"xaxis\":\"x\",\"y\":[-245.0,-245.0,-255.0,-255.0],\"yaxis\":\"y\",\"type\":\"scatter\"},{\"hoverinfo\":\"text\",\"marker\":{\"color\":\"rgb(0,116,217)\"},\"mode\":\"lines\",\"text\":[\"blood_rain_drink_flow_drunk\",\"\",\"\",\"flag_hole_sun_dance_explosion\"],\"x\":[1.3471168625375955,1.413666516114743,1.413666516114743,1.3619977579818825],\"xaxis\":\"x\",\"y\":[-230.0,-230.0,-250.0,-250.0],\"yaxis\":\"y\",\"type\":\"scatter\"},{\"hoverinfo\":\"text\",\"marker\":{\"color\":\"rgb(0,116,217)\"},\"mode\":\"lines\",\"text\":[\"field_table_sunflower_smiled_gather\",\"\",\"\",\"kyiv_april_january_february_august\"],\"x\":[0.0,1.3877962016758645,1.3877962016758645,0.0],\"xaxis\":\"x\",\"y\":[-265.0,-265.0,-275.0,-275.0],\"yaxis\":\"y\",\"type\":\"scatter\"},{\"hoverinfo\":\"text\",\"marker\":{\"color\":\"rgb(0,116,217)\"},\"mode\":\"lines\",\"text\":[\"apple_mouse_fruit_like_ripen\",\"\",\"\",\"tree_christmas_forest_branch_pine\"],\"x\":[0.0,1.3501079791860855,1.3501079791860855,0.0],\"xaxis\":\"x\",\"y\":[-285.0,-285.0,-295.0,-295.0],\"yaxis\":\"y\",\"type\":\"scatter\"},{\"hoverinfo\":\"text\",\"marker\":{\"color\":\"rgb(0,116,217)\"},\"mode\":\"lines\",\"text\":[\"tree_apple_christmas_forest_branch\",\"\",\"\",\"cat_dog_ternopil_kitten_hold\"],\"x\":[1.3501079791860855,1.3957964803097704,1.3957964803097704,0.0],\"xaxis\":\"x\",\"y\":[-290.0,-290.0,-305.0,-305.0],\"yaxis\":\"y\",\"type\":\"scatter\"},{\"hoverinfo\":\"text\",\"marker\":{\"color\":\"rgb(0,116,217)\"},\"mode\":\"lines\",\"text\":[\"kyiv_april_field_january_february\",\"\",\"\",\"tree_cat_dog_apple_forest\"],\"x\":[1.3877962016758645,1.4166516538693135,1.4166516538693135,1.3957964803097704],\"xaxis\":\"x\",\"y\":[-270.0,-270.0,-297.5,-297.5],\"yaxis\":\"y\",\"type\":\"scatter\"},{\"hoverinfo\":\"text\",\"marker\":{\"color\":\"rgb(0,116,217)\"},\"mode\":\"lines\",\"text\":[\"kyiv_tree_cat_dog_april\",\"\",\"\",\"jest_nie_palcami_jak_siedmioma\"],\"x\":[1.4166516538693135,1.437844754806671,1.437844754806671,0.0],\"xaxis\":\"x\",\"y\":[-283.75,-283.75,-315.0,-315.0],\"yaxis\":\"y\",\"type\":\"scatter\"},{\"hoverinfo\":\"text\",\"marker\":{\"color\":\"rgb(0,116,217)\"},\"mode\":\"lines\",\"text\":[\"blood_rain_flag_drink_hole\",\"\",\"\",\"kyiv_tree_cat_dog_april\"],\"x\":[1.413666516114743,1.4550730492652237,1.4550730492652237,1.437844754806671],\"xaxis\":\"x\",\"y\":[-240.0,-240.0,-299.375,-299.375],\"yaxis\":\"y\",\"type\":\"scatter\"},{\"hoverinfo\":\"text\",\"marker\":{\"color\":\"rgb(0,116,217)\"},\"mode\":\"lines\",\"text\":[\"fly_crawl_fighter_swallow_bee\",\"\",\"\",\"bird_bread_pigeon_crumb_raven\"],\"x\":[0.0,1.3465672863380675,1.3465672863380675,0.0],\"xaxis\":\"x\",\"y\":[-335.0,-335.0,-345.0,-345.0],\"yaxis\":\"y\",\"type\":\"scatter\"},{\"hoverinfo\":\"text\",\"marker\":{\"color\":\"rgb(0,116,217)\"},\"mode\":\"lines\",\"text\":[\"suitcase_ash_sound_chicken_trace\",\"\",\"\",\"bird_bread_fly_pigeon_crumb\"],\"x\":[0.0,1.3818544251965779,1.3818544251965779,1.3465672863380675],\"xaxis\":\"x\",\"y\":[-325.0,-325.0,-340.0,-340.0],\"yaxis\":\"y\",\"type\":\"scatter\"},{\"hoverinfo\":\"text\",\"marker\":{\"color\":\"rgb(0,116,217)\"},\"mode\":\"lines\",\"text\":[\"sky_star_cloud_beam_closer\",\"\",\"\",\"moon_horse_goat_horn_horseradish\"],\"x\":[0.0,1.3272401204378514,1.3272401204378514,0.0],\"xaxis\":\"x\",\"y\":[-355.0,-355.0,-365.0,-365.0],\"yaxis\":\"y\",\"type\":\"scatter\"},{\"hoverinfo\":\"text\",\"marker\":{\"color\":\"rgb(0,116,217)\"},\"mode\":\"lines\",\"text\":[\"bird_bread_suitcase_fly_ash\",\"\",\"\",\"moon_sky_star_horse_cloud\"],\"x\":[1.3818544251965779,1.4273645886380044,1.4273645886380044,1.3272401204378514],\"xaxis\":\"x\",\"y\":[-332.5,-332.5,-360.0,-360.0],\"yaxis\":\"y\",\"type\":\"scatter\"},{\"hoverinfo\":\"text\",\"marker\":{\"color\":\"rgb(0,116,217)\"},\"mode\":\"lines\",\"text\":[\"angel_cross_archangel_devil_wolf\",\"\",\"\",\"earth_heaven_paradise_double_planet\"],\"x\":[0.0,1.350322199306377,1.350322199306377,0.0],\"xaxis\":\"x\",\"y\":[-375.0,-375.0,-385.0,-385.0],\"yaxis\":\"y\",\"type\":\"scatter\"},{\"hoverinfo\":\"text\",\"marker\":{\"color\":\"rgb(0,116,217)\"},\"mode\":\"lines\",\"text\":[\"bird_bread_sky_moon_star\",\"\",\"\",\"angel_heaven_earth_cross_archangel\"],\"x\":[1.4273645886380044,1.4354395966555231,1.4354395966555231,1.350322199306377],\"xaxis\":\"x\",\"y\":[-346.25,-346.25,-380.0,-380.0],\"yaxis\":\"y\",\"type\":\"scatter\"},{\"hoverinfo\":\"text\",\"marker\":{\"color\":\"rgb(0,116,217)\"},\"mode\":\"lines\",\"text\":[\"kyiv_tree_cat_blood_dog\",\"\",\"\",\"bird_bread_sky_moon_angel\"],\"x\":[1.4550730492652237,1.4770831114002123,1.4770831114002123,1.4354395966555231],\"xaxis\":\"x\",\"y\":[-269.6875,-269.6875,-363.125,-363.125],\"yaxis\":\"y\",\"type\":\"scatter\"},{\"hoverinfo\":\"text\",\"marker\":{\"color\":\"rgb(0,116,217)\"},\"mode\":\"lines\",\"text\":[\"burn_burned_flame_fiery_burning\",\"\",\"\",\"heart_ear_le_heartbeat_rhythm\"],\"x\":[0.0,1.3299012696354044,1.3299012696354044,0.0],\"xaxis\":\"x\",\"y\":[-395.0,-395.0,-405.0,-405.0],\"yaxis\":\"y\",\"type\":\"scatter\"},{\"hoverinfo\":\"text\",\"marker\":{\"color\":\"rgb(0,116,217)\"},\"mode\":\"lines\",\"text\":[\"warm_heat_blanket_step_vain\",\"\",\"\",\"fish_fisherman_fishing_meat_catch\"],\"x\":[0.0,1.3656007223692697,1.3656007223692697,0.0],\"xaxis\":\"x\",\"y\":[-415.0,-415.0,-425.0,-425.0],\"yaxis\":\"y\",\"type\":\"scatter\"},{\"hoverinfo\":\"text\",\"marker\":{\"color\":\"rgb(0,116,217)\"},\"mode\":\"lines\",\"text\":[\"heart_burn_ear_burned_flame\",\"\",\"\",\"fish_warm_heat_fisherman_blanket\"],\"x\":[1.3299012696354044,1.4084012792708034,1.4084012792708034,1.3656007223692697],\"xaxis\":\"x\",\"y\":[-400.0,-400.0,-420.0,-420.0],\"yaxis\":\"y\",\"type\":\"scatter\"},{\"hoverinfo\":\"text\",\"marker\":{\"color\":\"rgb(0,116,217)\"},\"mode\":\"lines\",\"text\":[\"kyiv_bird_tree_cat_bread\",\"\",\"\",\"heart_fish_warm_burn_heat\"],\"x\":[1.4770831114002123,1.4828412186396378,1.4828412186396378,1.4084012792708034],\"xaxis\":\"x\",\"y\":[-316.40625,-316.40625,-410.0,-410.0],\"yaxis\":\"y\",\"type\":\"scatter\"},{\"hoverinfo\":\"text\",\"marker\":{\"color\":\"rgb(0,116,217)\"},\"mode\":\"lines\",\"text\":[\"sea_ship_island_shore_ocean\",\"\",\"\",\"gate_shouted_border_sand_photo\"],\"x\":[0.0,1.327106412380648,1.327106412380648,0.0],\"xaxis\":\"x\",\"y\":[-435.0,-435.0,-445.0,-445.0],\"yaxis\":\"y\",\"type\":\"scatter\"},{\"hoverinfo\":\"text\",\"marker\":{\"color\":\"rgb(0,116,217)\"},\"mode\":\"lines\",\"text\":[\"dream_bell_laugh_dreamed_fun\",\"\",\"\",\"sleep_night_morning_sleeping_asleep\"],\"x\":[0.0,1.294270395282886,1.294270395282886,0.0],\"xaxis\":\"x\",\"y\":[-455.0,-455.0,-465.0,-465.0],\"yaxis\":\"y\",\"type\":\"scatter\"},{\"hoverinfo\":\"text\",\"marker\":{\"color\":\"rgb(0,116,217)\"},\"mode\":\"lines\",\"text\":[\"sea_gate_ship_shore_shouted\",\"\",\"\",\"sleep_dream_night_morning_bell\"],\"x\":[1.327106412380648,1.441625657693385,1.441625657693385,1.294270395282886],\"xaxis\":\"x\",\"y\":[-440.0,-440.0,-460.0,-460.0],\"yaxis\":\"y\",\"type\":\"scatter\"},{\"hoverinfo\":\"text\",\"marker\":{\"color\":\"rgb(0,116,217)\"},\"mode\":\"lines\",\"text\":[\"war_teacher_school_student_day\",\"\",\"\",\"day_garden_expensive_news_tomorrow\"],\"x\":[0.0,1.3285093364993958,1.3285093364993958,0.0],\"xaxis\":\"x\",\"y\":[-475.0,-475.0,-485.0,-485.0],\"yaxis\":\"y\",\"type\":\"scatter\"},{\"hoverinfo\":\"text\",\"marker\":{\"color\":\"rgb(0,116,217)\"},\"mode\":\"lines\",\"text\":[\"war_day_garden_teacher_school\",\"\",\"\",\"flower_abyss_cherry_bloom_petal\"],\"x\":[1.3285093364993958,1.364736149689955,1.364736149689955,0.0],\"xaxis\":\"x\",\"y\":[-480.0,-480.0,-495.0,-495.0],\"yaxis\":\"y\",\"type\":\"scatter\"},{\"hoverinfo\":\"text\",\"marker\":{\"color\":\"rgb(0,116,217)\"},\"mode\":\"lines\",\"text\":[\"sleep_dream_sea_night_morning\",\"\",\"\",\"war_flower_day_garden_abyss\"],\"x\":[1.441625657693385,1.4601025411850361,1.4601025411850361,1.364736149689955],\"xaxis\":\"x\",\"y\":[-450.0,-450.0,-487.5,-487.5],\"yaxis\":\"y\",\"type\":\"scatter\"},{\"hoverinfo\":\"text\",\"marker\":{\"color\":\"rgb(0,116,217)\"},\"mode\":\"lines\",\"text\":[\"heart_kyiv_fish_bird_tree\",\"\",\"\",\"war_sleep_dream_night_sea\"],\"x\":[1.4828412186396378,1.4990946972175996,1.4990946972175996,1.4601025411850361],\"xaxis\":\"x\",\"y\":[-363.203125,-363.203125,-468.75,-468.75],\"yaxis\":\"y\",\"type\":\"scatter\"},{\"hoverinfo\":\"text\",\"marker\":{\"color\":\"rgb(0,116,217)\"},\"mode\":\"lines\",\"text\":[\"eye_god_wind_memory_silence\",\"\",\"\",\"war_heart_sleep_dream_night\"],\"x\":[1.4819725363614273,1.523110170617182,1.523110170617182,1.4990946972175996],\"xaxis\":\"x\",\"y\":[-127.34375,-127.34375,-415.9765625,-415.9765625],\"yaxis\":\"y\",\"type\":\"scatter\"},{\"hoverinfo\":\"text\",\"marker\":{\"color\":\"rgb(0,116,217)\"},\"mode\":\"lines\",\"text\":[\"ukrainian_poem_russian_translation_poet\",\"\",\"\",\"war_heart_god_eye_sleep\"],\"x\":[1.5024635833235664,1.5810435887226648,1.5810435887226648,1.523110170617182],\"xaxis\":\"x\",\"y\":[-20.0,-20.0,-271.66015625,-271.66015625],\"yaxis\":\"y\",\"type\":\"scatter\"},{\"hoverinfo\":\"text\",\"hovertext\":[\"russian_moscow_soviet_putin_greatness\",\"god_letter_freedom_church_prayer\",\"death_fear_die_afraid_comment\",\"silence_language_silent_alive_talk\",\"mother_mom_lie_mouth_lip\",\"brother_hand_finger_meet_palm\",\"eye_memory_child_remember_eyelid\",\"eye_memory_mother_mom_hand\",\"god_silence_letter_language_death\",\"blood_rain_drink_flow_drunk\",\"tree_apple_christmas_forest_branch\",\"kyiv_april_field_january_february\",\"kyiv_tree_cat_dog_april\",\"blood_rain_flag_drink_hole\",\"bird_bread_suitcase_fly_ash\",\"bird_bread_sky_moon_star\",\"kyiv_tree_cat_blood_dog\",\"heart_burn_ear_burned_flame\",\"kyiv_bird_tree_cat_bread\",\"sea_gate_ship_shore_shouted\",\"war_day_garden_teacher_school\",\"sleep_dream_sea_night_morning\",\"heart_kyiv_fish_bird_tree\",\"eye_god_wind_memory_silence\",\"ukrainian_poem_russian_translation_poet\"],\"marker\":{\"color\":\"black\"},\"mode\":\"markers\",\"showlegend\":false,\"x\":[1.2807574517001457,1.346393459093774,1.3552228974992822,1.3638481936188394,1.3669206453439555,1.2957867583833995,1.386794114420433,1.4289698007182232,1.44151494742474,1.3471168625375955,1.3501079791860855,1.3877962016758645,1.4166516538693135,1.413666516114743,1.3818544251965779,1.4273645886380044,1.4550730492652237,1.3299012696354044,1.4770831114002123,1.327106412380648,1.3285093364993958,1.441625657693385,1.4828412186396378,1.4819725363614273,1.5024635833235664],\"y\":[-10.0,-100.0,-80.0,-52.5,-180.0,-160.0,-132.5,-153.125,-73.125,-230.0,-290.0,-270.0,-283.75,-240.0,-332.5,-346.25,-269.6875,-400.0,-316.40625,-440.0,-480.0,-450.0,-363.203125,-127.34375,-20.0],\"type\":\"scatter\"},{\"hoverinfo\":\"text\",\"hovertext\":[\"ukrainian_poem_translation_poet_kiev\",\"silence_silent_alive_coffin_dead\",\"god_letter_freedom_church_prayer\",\"god_letter_death_freedom_church\",\"memory_child_remember_kid_toy\",\"mother_mom_lie_mouth_lip\",\"mother_mom_hand_brother_lie\",\"wind_time_power_happiness_weapon\",\"eye_wind_memory_mother_mom\",\"flag_hole_sun_dance_explosion\",\"tree_cat_dog_apple_forest\",\"kyiv_tree_cat_dog_april\",\"bird_bread_fly_pigeon_crumb\",\"moon_sky_star_horse_cloud\",\"angel_heaven_earth_cross_archangel\",\"bird_bread_sky_moon_angel\",\"fish_warm_heat_fisherman_blanket\",\"heart_fish_warm_burn_heat\",\"sleep_dream_night_morning_bell\",\"war_flower_day_garden_abyss\",\"war_sleep_dream_night_sea\",\"war_heart_sleep_dream_night\",\"war_heart_god_eye_sleep\"],\"marker\":{\"color\":\"black\"},\"mode\":\"markers\",\"showlegend\":false,\"x\":[1.208677069389571,1.3426862332277094,1.3779976310162185,1.4133348672687471,1.3560356669537776,1.379050370613927,1.4137510026111382,1.3517778473556363,1.4298988555989323,1.3619977579818825,1.3957964803097704,1.437844754806671,1.3465672863380675,1.3272401204378514,1.350322199306377,1.4354395966555231,1.3656007223692697,1.4084012792708034,1.294270395282886,1.364736149689955,1.4601025411850361,1.4990946972175996,1.523110170617182],\"y\":[-30.0,-60.0,-107.5,-93.75,-140.0,-187.5,-173.75,-210.0,-181.5625,-250.0,-297.5,-299.375,-340.0,-360.0,-380.0,-363.125,-420.0,-410.0,-460.0,-487.5,-468.75,-415.9765625,-271.66015625],\"type\":\"scatter\"}],                        {\"autosize\":false,\"height\":950,\"hovermode\":\"closest\",\"showlegend\":false,\"width\":1000,\"xaxis\":{\"mirror\":\"allticks\",\"rangemode\":\"tozero\",\"showgrid\":false,\"showline\":true,\"showticklabels\":true,\"ticks\":\"outside\",\"type\":\"linear\",\"zeroline\":false},\"yaxis\":{\"mirror\":\"allticks\",\"rangemode\":\"tozero\",\"showgrid\":false,\"showline\":true,\"showticklabels\":true,\"tickmode\":\"array\",\"ticks\":\"outside\",\"ticktext\":[\"27_vasily_yuri_vayeny\",\"20_russian_moscow_soviet\",\"3_ukrainian_translation_kiev\",\"12_poem_poet_poetry\",\"13_language_talk_deaf\",\"15_alive_coffin_dead\",\"25_silence_silent_quietly\",\"16_fear_afraid_criminal\",\"49_death_die_comment\",\"2_letter_freedom_write\",\"1_god_church_prayer\",\"9_faith_peace_importantly\",\"44_eye_eyelid_vision\",\"46_child_kid_toy\",\"43_memory_remember_forget\",\"41_hand_finger_palm\",\"0_brother_meet_station\",\"6_mother_mom_door\",\"10_lie_mouth_lip\",\"40_breath_breathe_gas\",\"35_wind_clothing_future\",\"19_power_time_happiness\",\"22_blood_flow_bandage\",\"28_rain_drink_drunk\",\"23_flag_explosion_hetman\",\"17_hole_sun_dance\",\"48_field_table_sunflower\",\"4_kyiv_april_january\",\"30_apple_mouse_fruit\",\"24_tree_christmas_forest\",\"38_cat_dog_ternopil\",\"39_jest_nie_palcami\",\"7_suitcase_ash_sound\",\"36_fly_crawl_fighter\",\"21_bird_bread_pigeon\",\"18_sky_star_cloud\",\"31_moon_horse_goat\",\"37_angel_cross_archangel\",\"45_earth_heaven_paradise\",\"42_burn_burned_flame\",\"26_heart_ear_le\",\"34_warm_heat_blanket\",\"47_fish_fisherman_fishing\",\"32_sea_ship_island\",\"33_gate_shouted_border\",\"11_dream_bell_laugh\",\"5_sleep_night_morning\",\"8_war_teacher_school\",\"14_day_garden_expensive\",\"29_flower_abyss_cherry\"],\"tickvals\":[-5.0,-15.0,-25.0,-35.0,-45.0,-55.0,-65.0,-75.0,-85.0,-95.0,-105.0,-115.0,-125.0,-135.0,-145.0,-155.0,-165.0,-175.0,-185.0,-195.0,-205.0,-215.0,-225.0,-235.0,-245.0,-255.0,-265.0,-275.0,-285.0,-295.0,-305.0,-315.0,-325.0,-335.0,-345.0,-355.0,-365.0,-375.0,-385.0,-395.0,-405.0,-415.0,-425.0,-435.0,-445.0,-455.0,-465.0,-475.0,-485.0,-495.0],\"type\":\"linear\",\"zeroline\":false,\"range\":[-500.0,0.0]},\"template\":{\"data\":{\"barpolar\":[{\"marker\":{\"line\":{\"color\":\"white\",\"width\":0.5},\"pattern\":{\"fillmode\":\"overlay\",\"size\":10,\"solidity\":0.2}},\"type\":\"barpolar\"}],\"bar\":[{\"error_x\":{\"color\":\"#2a3f5f\"},\"error_y\":{\"color\":\"#2a3f5f\"},\"marker\":{\"line\":{\"color\":\"white\",\"width\":0.5},\"pattern\":{\"fillmode\":\"overlay\",\"size\":10,\"solidity\":0.2}},\"type\":\"bar\"}],\"carpet\":[{\"aaxis\":{\"endlinecolor\":\"#2a3f5f\",\"gridcolor\":\"#C8D4E3\",\"linecolor\":\"#C8D4E3\",\"minorgridcolor\":\"#C8D4E3\",\"startlinecolor\":\"#2a3f5f\"},\"baxis\":{\"endlinecolor\":\"#2a3f5f\",\"gridcolor\":\"#C8D4E3\",\"linecolor\":\"#C8D4E3\",\"minorgridcolor\":\"#C8D4E3\",\"startlinecolor\":\"#2a3f5f\"},\"type\":\"carpet\"}],\"choropleth\":[{\"colorbar\":{\"outlinewidth\":0,\"ticks\":\"\"},\"type\":\"choropleth\"}],\"contourcarpet\":[{\"colorbar\":{\"outlinewidth\":0,\"ticks\":\"\"},\"type\":\"contourcarpet\"}],\"contour\":[{\"colorbar\":{\"outlinewidth\":0,\"ticks\":\"\"},\"colorscale\":[[0.0,\"#0d0887\"],[0.1111111111111111,\"#46039f\"],[0.2222222222222222,\"#7201a8\"],[0.3333333333333333,\"#9c179e\"],[0.4444444444444444,\"#bd3786\"],[0.5555555555555556,\"#d8576b\"],[0.6666666666666666,\"#ed7953\"],[0.7777777777777778,\"#fb9f3a\"],[0.8888888888888888,\"#fdca26\"],[1.0,\"#f0f921\"]],\"type\":\"contour\"}],\"heatmapgl\":[{\"colorbar\":{\"outlinewidth\":0,\"ticks\":\"\"},\"colorscale\":[[0.0,\"#0d0887\"],[0.1111111111111111,\"#46039f\"],[0.2222222222222222,\"#7201a8\"],[0.3333333333333333,\"#9c179e\"],[0.4444444444444444,\"#bd3786\"],[0.5555555555555556,\"#d8576b\"],[0.6666666666666666,\"#ed7953\"],[0.7777777777777778,\"#fb9f3a\"],[0.8888888888888888,\"#fdca26\"],[1.0,\"#f0f921\"]],\"type\":\"heatmapgl\"}],\"heatmap\":[{\"colorbar\":{\"outlinewidth\":0,\"ticks\":\"\"},\"colorscale\":[[0.0,\"#0d0887\"],[0.1111111111111111,\"#46039f\"],[0.2222222222222222,\"#7201a8\"],[0.3333333333333333,\"#9c179e\"],[0.4444444444444444,\"#bd3786\"],[0.5555555555555556,\"#d8576b\"],[0.6666666666666666,\"#ed7953\"],[0.7777777777777778,\"#fb9f3a\"],[0.8888888888888888,\"#fdca26\"],[1.0,\"#f0f921\"]],\"type\":\"heatmap\"}],\"histogram2dcontour\":[{\"colorbar\":{\"outlinewidth\":0,\"ticks\":\"\"},\"colorscale\":[[0.0,\"#0d0887\"],[0.1111111111111111,\"#46039f\"],[0.2222222222222222,\"#7201a8\"],[0.3333333333333333,\"#9c179e\"],[0.4444444444444444,\"#bd3786\"],[0.5555555555555556,\"#d8576b\"],[0.6666666666666666,\"#ed7953\"],[0.7777777777777778,\"#fb9f3a\"],[0.8888888888888888,\"#fdca26\"],[1.0,\"#f0f921\"]],\"type\":\"histogram2dcontour\"}],\"histogram2d\":[{\"colorbar\":{\"outlinewidth\":0,\"ticks\":\"\"},\"colorscale\":[[0.0,\"#0d0887\"],[0.1111111111111111,\"#46039f\"],[0.2222222222222222,\"#7201a8\"],[0.3333333333333333,\"#9c179e\"],[0.4444444444444444,\"#bd3786\"],[0.5555555555555556,\"#d8576b\"],[0.6666666666666666,\"#ed7953\"],[0.7777777777777778,\"#fb9f3a\"],[0.8888888888888888,\"#fdca26\"],[1.0,\"#f0f921\"]],\"type\":\"histogram2d\"}],\"histogram\":[{\"marker\":{\"pattern\":{\"fillmode\":\"overlay\",\"size\":10,\"solidity\":0.2}},\"type\":\"histogram\"}],\"mesh3d\":[{\"colorbar\":{\"outlinewidth\":0,\"ticks\":\"\"},\"type\":\"mesh3d\"}],\"parcoords\":[{\"line\":{\"colorbar\":{\"outlinewidth\":0,\"ticks\":\"\"}},\"type\":\"parcoords\"}],\"pie\":[{\"automargin\":true,\"type\":\"pie\"}],\"scatter3d\":[{\"line\":{\"colorbar\":{\"outlinewidth\":0,\"ticks\":\"\"}},\"marker\":{\"colorbar\":{\"outlinewidth\":0,\"ticks\":\"\"}},\"type\":\"scatter3d\"}],\"scattercarpet\":[{\"marker\":{\"colorbar\":{\"outlinewidth\":0,\"ticks\":\"\"}},\"type\":\"scattercarpet\"}],\"scattergeo\":[{\"marker\":{\"colorbar\":{\"outlinewidth\":0,\"ticks\":\"\"}},\"type\":\"scattergeo\"}],\"scattergl\":[{\"marker\":{\"colorbar\":{\"outlinewidth\":0,\"ticks\":\"\"}},\"type\":\"scattergl\"}],\"scattermapbox\":[{\"marker\":{\"colorbar\":{\"outlinewidth\":0,\"ticks\":\"\"}},\"type\":\"scattermapbox\"}],\"scatterpolargl\":[{\"marker\":{\"colorbar\":{\"outlinewidth\":0,\"ticks\":\"\"}},\"type\":\"scatterpolargl\"}],\"scatterpolar\":[{\"marker\":{\"colorbar\":{\"outlinewidth\":0,\"ticks\":\"\"}},\"type\":\"scatterpolar\"}],\"scatter\":[{\"fillpattern\":{\"fillmode\":\"overlay\",\"size\":10,\"solidity\":0.2},\"type\":\"scatter\"}],\"scatterternary\":[{\"marker\":{\"colorbar\":{\"outlinewidth\":0,\"ticks\":\"\"}},\"type\":\"scatterternary\"}],\"surface\":[{\"colorbar\":{\"outlinewidth\":0,\"ticks\":\"\"},\"colorscale\":[[0.0,\"#0d0887\"],[0.1111111111111111,\"#46039f\"],[0.2222222222222222,\"#7201a8\"],[0.3333333333333333,\"#9c179e\"],[0.4444444444444444,\"#bd3786\"],[0.5555555555555556,\"#d8576b\"],[0.6666666666666666,\"#ed7953\"],[0.7777777777777778,\"#fb9f3a\"],[0.8888888888888888,\"#fdca26\"],[1.0,\"#f0f921\"]],\"type\":\"surface\"}],\"table\":[{\"cells\":{\"fill\":{\"color\":\"#EBF0F8\"},\"line\":{\"color\":\"white\"}},\"header\":{\"fill\":{\"color\":\"#C8D4E3\"},\"line\":{\"color\":\"white\"}},\"type\":\"table\"}]},\"layout\":{\"annotationdefaults\":{\"arrowcolor\":\"#2a3f5f\",\"arrowhead\":0,\"arrowwidth\":1},\"autotypenumbers\":\"strict\",\"coloraxis\":{\"colorbar\":{\"outlinewidth\":0,\"ticks\":\"\"}},\"colorscale\":{\"diverging\":[[0,\"#8e0152\"],[0.1,\"#c51b7d\"],[0.2,\"#de77ae\"],[0.3,\"#f1b6da\"],[0.4,\"#fde0ef\"],[0.5,\"#f7f7f7\"],[0.6,\"#e6f5d0\"],[0.7,\"#b8e186\"],[0.8,\"#7fbc41\"],[0.9,\"#4d9221\"],[1,\"#276419\"]],\"sequential\":[[0.0,\"#0d0887\"],[0.1111111111111111,\"#46039f\"],[0.2222222222222222,\"#7201a8\"],[0.3333333333333333,\"#9c179e\"],[0.4444444444444444,\"#bd3786\"],[0.5555555555555556,\"#d8576b\"],[0.6666666666666666,\"#ed7953\"],[0.7777777777777778,\"#fb9f3a\"],[0.8888888888888888,\"#fdca26\"],[1.0,\"#f0f921\"]],\"sequentialminus\":[[0.0,\"#0d0887\"],[0.1111111111111111,\"#46039f\"],[0.2222222222222222,\"#7201a8\"],[0.3333333333333333,\"#9c179e\"],[0.4444444444444444,\"#bd3786\"],[0.5555555555555556,\"#d8576b\"],[0.6666666666666666,\"#ed7953\"],[0.7777777777777778,\"#fb9f3a\"],[0.8888888888888888,\"#fdca26\"],[1.0,\"#f0f921\"]]},\"colorway\":[\"#636efa\",\"#EF553B\",\"#00cc96\",\"#ab63fa\",\"#FFA15A\",\"#19d3f3\",\"#FF6692\",\"#B6E880\",\"#FF97FF\",\"#FECB52\"],\"font\":{\"color\":\"#2a3f5f\"},\"geo\":{\"bgcolor\":\"white\",\"lakecolor\":\"white\",\"landcolor\":\"white\",\"showlakes\":true,\"showland\":true,\"subunitcolor\":\"#C8D4E3\"},\"hoverlabel\":{\"align\":\"left\"},\"hovermode\":\"closest\",\"mapbox\":{\"style\":\"light\"},\"paper_bgcolor\":\"white\",\"plot_bgcolor\":\"white\",\"polar\":{\"angularaxis\":{\"gridcolor\":\"#EBF0F8\",\"linecolor\":\"#EBF0F8\",\"ticks\":\"\"},\"bgcolor\":\"white\",\"radialaxis\":{\"gridcolor\":\"#EBF0F8\",\"linecolor\":\"#EBF0F8\",\"ticks\":\"\"}},\"scene\":{\"xaxis\":{\"backgroundcolor\":\"white\",\"gridcolor\":\"#DFE8F3\",\"gridwidth\":2,\"linecolor\":\"#EBF0F8\",\"showbackground\":true,\"ticks\":\"\",\"zerolinecolor\":\"#EBF0F8\"},\"yaxis\":{\"backgroundcolor\":\"white\",\"gridcolor\":\"#DFE8F3\",\"gridwidth\":2,\"linecolor\":\"#EBF0F8\",\"showbackground\":true,\"ticks\":\"\",\"zerolinecolor\":\"#EBF0F8\"},\"zaxis\":{\"backgroundcolor\":\"white\",\"gridcolor\":\"#DFE8F3\",\"gridwidth\":2,\"linecolor\":\"#EBF0F8\",\"showbackground\":true,\"ticks\":\"\",\"zerolinecolor\":\"#EBF0F8\"}},\"shapedefaults\":{\"line\":{\"color\":\"#2a3f5f\"}},\"ternary\":{\"aaxis\":{\"gridcolor\":\"#DFE8F3\",\"linecolor\":\"#A2B1C6\",\"ticks\":\"\"},\"baxis\":{\"gridcolor\":\"#DFE8F3\",\"linecolor\":\"#A2B1C6\",\"ticks\":\"\"},\"bgcolor\":\"white\",\"caxis\":{\"gridcolor\":\"#DFE8F3\",\"linecolor\":\"#A2B1C6\",\"ticks\":\"\"}},\"title\":{\"x\":0.05},\"xaxis\":{\"automargin\":true,\"gridcolor\":\"#EBF0F8\",\"linecolor\":\"#EBF0F8\",\"ticks\":\"\",\"title\":{\"standoff\":15},\"zerolinecolor\":\"#EBF0F8\",\"zerolinewidth\":2},\"yaxis\":{\"automargin\":true,\"gridcolor\":\"#EBF0F8\",\"linecolor\":\"#EBF0F8\",\"ticks\":\"\",\"title\":{\"standoff\":15},\"zerolinecolor\":\"#EBF0F8\",\"zerolinewidth\":2}}},\"title\":{\"font\":{\"size\":22,\"color\":\"Black\"},\"text\":\"<b>Hierarchical Clustering\",\"x\":0.5,\"xanchor\":\"center\",\"yanchor\":\"top\"},\"hoverlabel\":{\"font\":{\"size\":16,\"family\":\"Rockwell\"},\"bgcolor\":\"white\"},\"plot_bgcolor\":\"#ECEFF1\"},                        {\"responsive\": true}                    ).then(function(){\n",
       "                            \n",
       "var gd = document.getElementById('8292e935-8c72-4c86-9662-c31267773e8d');\n",
       "var x = new MutationObserver(function (mutations, observer) {{\n",
       "        var display = window.getComputedStyle(gd).display;\n",
       "        if (!display || display === 'none') {{\n",
       "            console.log([gd, 'removed!']);\n",
       "            Plotly.purge(gd);\n",
       "            observer.disconnect();\n",
       "        }}\n",
       "}});\n",
       "\n",
       "// Listen for the removal of the full notebook cells\n",
       "var notebookContainer = gd.closest('#notebook-container');\n",
       "if (notebookContainer) {{\n",
       "    x.observe(notebookContainer, {childList: true});\n",
       "}}\n",
       "\n",
       "// Listen for the clearing of the current output cell\n",
       "var outputEl = gd.closest('.output');\n",
       "if (outputEl) {{\n",
       "    x.observe(outputEl, {childList: true});\n",
       "}}\n",
       "\n",
       "                        })                };                });            </script>        </div>"
      ]
     },
     "metadata": {},
     "output_type": "display_data"
    }
   ],
   "source": [
    "# Extract hierarchical topics and their representations\n",
    "hierarchical_topics = topic_model.hierarchical_topics(doc_sample, topics)\n",
    "\n",
    "# Visualize these representations\n",
    "topic_model.visualize_hierarchy(hierarchical_topics=hierarchical_topics)"
   ]
  },
  {
   "cell_type": "code",
   "execution_count": null,
   "id": "bbf9d628-6b54-42e0-b49d-6f7c6c0da6ef",
   "metadata": {},
   "outputs": [],
   "source": []
  }
 ],
 "metadata": {
  "kernelspec": {
   "display_name": "Python 3 (ipykernel)",
   "language": "python",
   "name": "python3"
  },
  "language_info": {
   "codemirror_mode": {
    "name": "ipython",
    "version": 3
   },
   "file_extension": ".py",
   "mimetype": "text/x-python",
   "name": "python",
   "nbconvert_exporter": "python",
   "pygments_lexer": "ipython3",
   "version": "3.9.7"
  }
 },
 "nbformat": 4,
 "nbformat_minor": 5
}
