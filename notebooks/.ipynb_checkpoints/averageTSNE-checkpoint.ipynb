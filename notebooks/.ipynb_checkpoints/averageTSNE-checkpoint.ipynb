{
 "cells": [
  {
   "cell_type": "code",
   "execution_count": 1,
   "id": "8234dfe8-8741-4f4e-aa53-a9b2712fa110",
   "metadata": {},
   "outputs": [],
   "source": [
    "# - calculate **w_n** samples of 728-D BERT for all **w** words\n",
    "# - find average 728-D BERT by dividing your sample by **w_n**\n",
    "# - now you have **w** 728-D vectors\n",
    "# - take your batch of *w* vectors and project them from 728-D to 2-D using PCA\n",
    "# - plot altogether on PCA"
   ]
  },
  {
   "cell_type": "code",
   "execution_count": 28,
   "id": "ae9a3528-38bc-4fca-8fe8-06eee3902e28",
   "metadata": {},
   "outputs": [],
   "source": [
    "import tqdm\n",
    "from tqdm import tqdm\n",
    "import json\n",
    "import random\n",
    "import numpy as np"
   ]
  },
  {
   "cell_type": "code",
   "execution_count": 37,
   "id": "661ded5f-bc32-473f-ab84-344066181223",
   "metadata": {},
   "outputs": [
    {
     "data": {
      "text/plain": [
       "dict_keys(['автор', 'ад', 'ангел', 'армия', 'бабочка', 'бабушка', 'беда', 'бежать', 'безумный', 'белый', 'берег', 'бить', 'биться', 'блестеть', 'близкий', 'блог', 'бог', 'божий', 'бой', 'боль', 'больно', 'больной', 'больший', 'большой', 'бомба', 'бомбить', 'бояться', 'брат', 'брать', 'бродить', 'бросить', 'будем', 'будет', 'будто', 'будут', 'будущее', 'буква', 'бумага', 'буча', 'бы', 'бывать', 'было', 'важный', 'вам', 'вас', 'ваш', 'вдоль', 'вдох', 'ведь', 'век'])"
      ]
     },
     "execution_count": 37,
     "metadata": {},
     "output_type": "execute_result"
    }
   ],
   "source": [
    "# read file\n",
    "with open('BERT_vecs_0.json', 'r') as myfile:\n",
    "    data=myfile.read()\n",
    "\n",
    "# parse file\n",
    "obj = json.loads(data)\n",
    "obj.keys()"
   ]
  },
  {
   "cell_type": "code",
   "execution_count": 38,
   "id": "1b559f64-bcc8-4e27-a587-9ef82f1078e9",
   "metadata": {},
   "outputs": [
    {
     "name": "stderr",
     "output_type": "stream",
     "text": [
      " 66%|███████████████████████████▋              | 33/50 [00:00<00:00, 106.90it/s]/var/folders/jj/_szc94p56q91q_7c209d1d9w0000gn/T/ipykernel_1069/443717314.py:6: RuntimeWarning: invalid value encountered in double_scalars\n",
      "  vec = (np.sum((arr),axis=0)/arr.shape[0]).tolist()\n",
      "100%|███████████████████████████████████████████| 50/50 [00:00<00:00, 91.60it/s]\n"
     ]
    }
   ],
   "source": [
    "# calculate before and after average vecs\n",
    "jsonData = []\n",
    "for key in tqdm(obj):\n",
    "    for period in ['Before','After']:\n",
    "        try:\n",
    "            arr = np.array(obj[key][period])\n",
    "            vec = (np.sum((arr),axis=0)/arr.shape[0]).tolist()\n",
    "        except:\n",
    "            vec = 'N/A'\n",
    "        jsonData.append({\n",
    "            'word' : key+'_'+period,\n",
    "            'vector' : vec\n",
    "        })"
   ]
  },
  {
   "cell_type": "code",
   "execution_count": 40,
   "id": "20f32e5d-4811-44e5-8a91-ee715358d992",
   "metadata": {},
   "outputs": [],
   "source": [
    "with open(f'../averagePCA/data1.json', 'w', encoding='utf-8') as f:\n",
    "    json.dump(jsonData, f, ensure_ascii=False, indent=4)"
   ]
  },
  {
   "cell_type": "code",
   "execution_count": null,
   "id": "9b931ff9-c34d-48be-a6bc-9d2eee4d1ba2",
   "metadata": {},
   "outputs": [],
   "source": []
  }
 ],
 "metadata": {
  "kernelspec": {
   "display_name": "Python 3 (ipykernel)",
   "language": "python",
   "name": "python3"
  },
  "language_info": {
   "codemirror_mode": {
    "name": "ipython",
    "version": 3
   },
   "file_extension": ".py",
   "mimetype": "text/x-python",
   "name": "python",
   "nbconvert_exporter": "python",
   "pygments_lexer": "ipython3",
   "version": "3.9.7"
  }
 },
 "nbformat": 4,
 "nbformat_minor": 5
}
