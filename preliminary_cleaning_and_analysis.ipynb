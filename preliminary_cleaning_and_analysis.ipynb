{
 "cells": [
  {
   "cell_type": "code",
   "execution_count": 1,
   "id": "731aa71d-67cc-4331-9c8b-6aecd6ae77cb",
   "metadata": {
    "tags": []
   },
   "outputs": [],
   "source": [
    "import pandas as pd\n",
    "import random\n",
    "import json\n",
    "import csv\n",
    "from tqdm import tqdm\n",
    "import matplotlib.pyplot as plt\n",
    "import numpy as np"
   ]
  },
  {
   "cell_type": "code",
   "execution_count": 2,
   "id": "e8ba0cbe-a84b-4d66-9797-ff68f9c93e3e",
   "metadata": {},
   "outputs": [],
   "source": [
    "import spacy\n",
    "# pip install -U spacy\n",
    "# !python -m spacy download ru_core_news_md\n",
    "nlp = spacy.load('ru_core_news_md')"
   ]
  },
  {
   "cell_type": "code",
   "execution_count": 3,
   "id": "f0adf813-4bd6-4dbd-9d0a-e5eee7ba26d0",
   "metadata": {},
   "outputs": [],
   "source": [
    "df = pd.read_excel('Excel_files/Full_Poem_Dataset_9-30_0.xlsx')"
   ]
  },
  {
   "cell_type": "code",
   "execution_count": 6,
   "id": "c94aa4cd-9140-469a-9105-c3628e660875",
   "metadata": {},
   "outputs": [
    {
     "name": "stdout",
     "output_type": "stream",
     "text": [
      "Unknown\n",
      "Unknown\n",
      "Unknown\n",
      "Unknown\n",
      "Unknown\n",
      "Unknown\n",
      "Unknown\n",
      "Unknown\n",
      "Unknown\n",
      "Unknown\n",
      "Unknown\n",
      "Анна Гераскина Фостер\n",
      "Анна Гераскина Фостер\n",
      "Анна Гераскина Фостер\n",
      "Анонимно\n",
      "Д.Г.\n",
      "Д.Г.\n",
      "Д.Г.\n",
      "Екатерина Симонова / Анна Арно\n",
      "Иоанна\n",
      "Катя Герасимова Боски\n",
      "МАКСИМ Д. ШРАЕР\n",
      "Дмитрий Александрович Пригов\n",
      "из книги «За Стиви Смит»\n",
      "Мария Степанова / за Стиви Смит\n",
      "Мария Степанова / за Стиви Смит\n",
      "Перевод Алёши Прокопьева\n",
      "Перевод с украинского: Полина Барскова, Остап Кинь\n"
     ]
    }
   ],
   "source": [
    "for a in df['Author'].to_list():\n",
    "    if len(a.split(' ')) != 2:\n",
    "        print(a)"
   ]
  },
  {
   "cell_type": "code",
   "execution_count": null,
   "id": "4d7c331b-1188-4317-822d-92cefafdc76e",
   "metadata": {},
   "outputs": [],
   "source": []
  },
  {
   "cell_type": "markdown",
   "id": "7eb2537e-ff31-4fcd-b3a2-a846f7c70742",
   "metadata": {},
   "source": [
    "### Read spreadsheets"
   ]
  },
  {
   "cell_type": "code",
   "execution_count": 3,
   "id": "dd779ffa-27c2-478d-a1b1-b0b60b90c24f",
   "metadata": {},
   "outputs": [],
   "source": [
    "xls = pd.ExcelFile('Excel_files/Thesis_Poems_9-18_4.xlsx')\n",
    "roarDf = pd.read_excel(xls, 'ROAR Vol. 3')\n",
    "fbDf = pd.read_excel(xls, 'Facebook and Telegram')\n",
    "mzDf = pd.read_excel(xls, 'Metazhurnal')\n",
    "npwDf = pd.read_excel(xls, 'No War Poetry')"
   ]
  },
  {
   "cell_type": "code",
   "execution_count": 4,
   "id": "c7cf2b15-2b7e-490b-8344-7c3e217d6ac5",
   "metadata": {},
   "outputs": [
    {
     "data": {
      "text/html": [
       "<div>\n",
       "<style scoped>\n",
       "    .dataframe tbody tr th:only-of-type {\n",
       "        vertical-align: middle;\n",
       "    }\n",
       "\n",
       "    .dataframe tbody tr th {\n",
       "        vertical-align: top;\n",
       "    }\n",
       "\n",
       "    .dataframe thead th {\n",
       "        text-align: right;\n",
       "    }\n",
       "</style>\n",
       "<table border=\"1\" class=\"dataframe\">\n",
       "  <thead>\n",
       "    <tr style=\"text-align: right;\">\n",
       "      <th></th>\n",
       "      <th>Text</th>\n",
       "      <th>Author</th>\n",
       "      <th>Before or after</th>\n",
       "      <th>Source</th>\n",
       "    </tr>\n",
       "  </thead>\n",
       "  <tbody>\n",
       "    <tr>\n",
       "      <th>0</th>\n",
       "      <td>Стихи о постсоветском человеке\\n\\n1.\\nДесять з...</td>\n",
       "      <td>Александр Бараш</td>\n",
       "      <td>After</td>\n",
       "      <td>ROAR</td>\n",
       "    </tr>\n",
       "    <tr>\n",
       "      <th>1</th>\n",
       "      <td>2.\\nПо капле выдавливать из себя \\nсоветского ...</td>\n",
       "      <td>Александр Бараш</td>\n",
       "      <td>After</td>\n",
       "      <td>ROAR</td>\n",
       "    </tr>\n",
       "    <tr>\n",
       "      <th>2</th>\n",
       "      <td>Дети\\n\\nСто шесть человек прибыли, тридцать че...</td>\n",
       "      <td>Александр Ланин</td>\n",
       "      <td>After</td>\n",
       "      <td>ROAR</td>\n",
       "    </tr>\n",
       "    <tr>\n",
       "      <th>3</th>\n",
       "      <td>Развод\\n\\nОднажды моя любимая дала пощёчину ре...</td>\n",
       "      <td>Александр Ланин</td>\n",
       "      <td>After</td>\n",
       "      <td>ROAR</td>\n",
       "    </tr>\n",
       "    <tr>\n",
       "      <th>4</th>\n",
       "      <td>Круциатус\\n\\nНевилл Лонгботтом стоит и смотрит...</td>\n",
       "      <td>Александр Ланин</td>\n",
       "      <td>After</td>\n",
       "      <td>ROAR</td>\n",
       "    </tr>\n",
       "  </tbody>\n",
       "</table>\n",
       "</div>"
      ],
      "text/plain": [
       "                                                Text           Author  \\\n",
       "0  Стихи о постсоветском человеке\\n\\n1.\\nДесять з...  Александр Бараш   \n",
       "1  2.\\nПо капле выдавливать из себя \\nсоветского ...  Александр Бараш   \n",
       "2  Дети\\n\\nСто шесть человек прибыли, тридцать че...  Александр Ланин   \n",
       "3  Развод\\n\\nОднажды моя любимая дала пощёчину ре...  Александр Ланин   \n",
       "4  Круциатус\\n\\nНевилл Лонгботтом стоит и смотрит...  Александр Ланин   \n",
       "\n",
       "  Before or after Source  \n",
       "0           After   ROAR  \n",
       "1           After   ROAR  \n",
       "2           After   ROAR  \n",
       "3           After   ROAR  \n",
       "4           After   ROAR  "
      ]
     },
     "execution_count": 4,
     "metadata": {},
     "output_type": "execute_result"
    }
   ],
   "source": [
    "roarDf = roarDf[['Text','Author','Before or after']]\n",
    "roarDf['Source'] = 'ROAR'\n",
    "roarDf.head()"
   ]
  },
  {
   "cell_type": "code",
   "execution_count": 5,
   "id": "a59afc9e-09c9-458c-adea-61e1fcba26ca",
   "metadata": {},
   "outputs": [
    {
     "data": {
      "text/html": [
       "<div>\n",
       "<style scoped>\n",
       "    .dataframe tbody tr th:only-of-type {\n",
       "        vertical-align: middle;\n",
       "    }\n",
       "\n",
       "    .dataframe tbody tr th {\n",
       "        vertical-align: top;\n",
       "    }\n",
       "\n",
       "    .dataframe thead th {\n",
       "        text-align: right;\n",
       "    }\n",
       "</style>\n",
       "<table border=\"1\" class=\"dataframe\">\n",
       "  <thead>\n",
       "    <tr style=\"text-align: right;\">\n",
       "      <th></th>\n",
       "      <th>Text</th>\n",
       "      <th>Author</th>\n",
       "      <th>Before or after</th>\n",
       "      <th>Source</th>\n",
       "    </tr>\n",
       "  </thead>\n",
       "  <tbody>\n",
       "    <tr>\n",
       "      <th>0</th>\n",
       "      <td>БОРИС ХЕРСОНСКИЙ\\n***\\nОпять же холода, окраин...</td>\n",
       "      <td>Boris Khersonsky</td>\n",
       "      <td>Before</td>\n",
       "      <td>Facebook</td>\n",
       "    </tr>\n",
       "    <tr>\n",
       "      <th>1</th>\n",
       "      <td>в переходе\\nс Майдана Незалежности\\nна Площадь...</td>\n",
       "      <td>Dmitry Strotsev</td>\n",
       "      <td>Before</td>\n",
       "      <td>Facebook</td>\n",
       "    </tr>\n",
       "    <tr>\n",
       "      <th>2</th>\n",
       "      <td>Начальник хора достукался \\nДо сердечного прис...</td>\n",
       "      <td>Elena Fanailova</td>\n",
       "      <td>Before</td>\n",
       "      <td>Facebook</td>\n",
       "    </tr>\n",
       "    <tr>\n",
       "      <th>3</th>\n",
       "      <td>Начальник хора достукался \\nДо сердечного прис...</td>\n",
       "      <td>Elena Fanailova</td>\n",
       "      <td>Before</td>\n",
       "      <td>Facebook</td>\n",
       "    </tr>\n",
       "    <tr>\n",
       "      <th>4</th>\n",
       "      <td>Мертвая я, полумертвая я,\\nИ в последнем покое...</td>\n",
       "      <td>Elena Fanailova</td>\n",
       "      <td>Before</td>\n",
       "      <td>Facebook</td>\n",
       "    </tr>\n",
       "  </tbody>\n",
       "</table>\n",
       "</div>"
      ],
      "text/plain": [
       "                                                Text            Author  \\\n",
       "0  БОРИС ХЕРСОНСКИЙ\\n***\\nОпять же холода, окраин...  Boris Khersonsky   \n",
       "1  в переходе\\nс Майдана Незалежности\\nна Площадь...   Dmitry Strotsev   \n",
       "2  Начальник хора достукался \\nДо сердечного прис...   Elena Fanailova   \n",
       "3  Начальник хора достукался \\nДо сердечного прис...   Elena Fanailova   \n",
       "4  Мертвая я, полумертвая я,\\nИ в последнем покое...   Elena Fanailova   \n",
       "\n",
       "  Before or after    Source  \n",
       "0          Before  Facebook  \n",
       "1          Before  Facebook  \n",
       "2          Before  Facebook  \n",
       "3          Before  Facebook  \n",
       "4          Before  Facebook  "
      ]
     },
     "execution_count": 5,
     "metadata": {},
     "output_type": "execute_result"
    }
   ],
   "source": [
    "fbDf = fbDf.rename(columns={\"Poem full text (copy and paste)\": \"Text\", \"Author of poem\": \"Author\"})\n",
    "fbDf = fbDf[['Text','Author','Before or after','Source']]\n",
    "fbDf.head()"
   ]
  },
  {
   "cell_type": "code",
   "execution_count": 6,
   "id": "148a76e7-b493-4b0e-801f-21225bc82803",
   "metadata": {},
   "outputs": [
    {
     "data": {
      "text/plain": [
       "Dmitry Strotsev         89\n",
       "Boris Khersonsky        68\n",
       "Alexander Kabanov       66\n",
       "Elena Fanailova         41\n",
       "Alexander Skidan        27\n",
       "Cтаніслав Перфецький     1\n",
       "Mikhail Eisenberg        1\n",
       "Konstantin Rubakhin      1\n",
       "Name: Author, dtype: int64"
      ]
     },
     "execution_count": 6,
     "metadata": {},
     "output_type": "execute_result"
    }
   ],
   "source": [
    "fbDf['Author'].value_counts()"
   ]
  },
  {
   "cell_type": "code",
   "execution_count": 7,
   "id": "fc273f16-33d9-4282-a4dd-6da38c20f16c",
   "metadata": {},
   "outputs": [],
   "source": [
    "cyrillic = {\n",
    "    'Boris Khersonsky' : 'Борис Херсонский',\n",
    "    'Dmitry Strotsev' : 'Дмитрий Строцев',\n",
    "    'Alexander Kabanov' : 'Александр Кабанов',\n",
    "    'Elena Fanailova' : 'Елена Фанаилова',\n",
    "    'Alexander Skidan' : 'Александр Скидан',\n",
    "    'Cтаніслав Перфецький' : 'Cтаніслав Перфецький',\n",
    "    'Mikhail Eisenberg' : 'Михаил Айсенберг',\n",
    "    'Konstantin Rubakhin' : 'Константин Рубахин'\n",
    "}\n",
    "    \n",
    "fbDf['Author'] = fbDf['Author'].apply(lambda x : cyrillic[x])"
   ]
  },
  {
   "cell_type": "code",
   "execution_count": 8,
   "id": "c4885ba2-7b03-486f-869c-d7456438830f",
   "metadata": {},
   "outputs": [
    {
     "data": {
      "text/html": [
       "<div>\n",
       "<style scoped>\n",
       "    .dataframe tbody tr th:only-of-type {\n",
       "        vertical-align: middle;\n",
       "    }\n",
       "\n",
       "    .dataframe tbody tr th {\n",
       "        vertical-align: top;\n",
       "    }\n",
       "\n",
       "    .dataframe thead th {\n",
       "        text-align: right;\n",
       "    }\n",
       "</style>\n",
       "<table border=\"1\" class=\"dataframe\">\n",
       "  <thead>\n",
       "    <tr style=\"text-align: right;\">\n",
       "      <th></th>\n",
       "      <th>Text</th>\n",
       "      <th>Author</th>\n",
       "      <th>Before or after</th>\n",
       "      <th>Source</th>\n",
       "    </tr>\n",
       "  </thead>\n",
       "  <tbody>\n",
       "    <tr>\n",
       "      <th>0</th>\n",
       "      <td>**2019__ #выбор_роман_осминкин \\n \\n между кар...</td>\n",
       "      <td>Константин Шавловский</td>\n",
       "      <td>Before</td>\n",
       "      <td>metajournal</td>\n",
       "    </tr>\n",
       "    <tr>\n",
       "      <th>1</th>\n",
       "      <td>сидит советский человек\\n и пишет слово барабе...</td>\n",
       "      <td>Игорь Булатовский</td>\n",
       "      <td>Before</td>\n",
       "      <td>metajournal</td>\n",
       "    </tr>\n",
       "    <tr>\n",
       "      <th>2</th>\n",
       "      <td>отговорила проще золотая\\n и начинает сложно г...</td>\n",
       "      <td>Глеб Михалев</td>\n",
       "      <td>Before</td>\n",
       "      <td>metajournal</td>\n",
       "    </tr>\n",
       "    <tr>\n",
       "      <th>3</th>\n",
       "      <td>В театре юного зрителя\\n поставили порнографию...</td>\n",
       "      <td>Игорь Караулов</td>\n",
       "      <td>Before</td>\n",
       "      <td>metajournal</td>\n",
       "    </tr>\n",
       "    <tr>\n",
       "      <th>4</th>\n",
       "      <td>Из-за головы травы\\n Из-за головы травы ясней\\...</td>\n",
       "      <td>Андрей Гришаев</td>\n",
       "      <td>Before</td>\n",
       "      <td>metajournal</td>\n",
       "    </tr>\n",
       "  </tbody>\n",
       "</table>\n",
       "</div>"
      ],
      "text/plain": [
       "                                                Text                 Author  \\\n",
       "0  **2019__ #выбор_роман_осминкин \\n \\n между кар...  Константин Шавловский   \n",
       "1  сидит советский человек\\n и пишет слово барабе...      Игорь Булатовский   \n",
       "2  отговорила проще золотая\\n и начинает сложно г...           Глеб Михалев   \n",
       "3  В театре юного зрителя\\n поставили порнографию...         Игорь Караулов   \n",
       "4  Из-за головы травы\\n Из-за головы травы ясней\\...         Андрей Гришаев   \n",
       "\n",
       "  Before or after       Source  \n",
       "0          Before  metajournal  \n",
       "1          Before  metajournal  \n",
       "2          Before  metajournal  \n",
       "3          Before  metajournal  \n",
       "4          Before  metajournal  "
      ]
     },
     "execution_count": 8,
     "metadata": {},
     "output_type": "execute_result"
    }
   ],
   "source": [
    "mzDf = mzDf.rename(columns={\"text\": \"Text\", \"author\": \"Author\",'sender' : 'Source'})\n",
    "mzDf = mzDf[['Text','Author','Before or after','Source']]\n",
    "mzDf.head()"
   ]
  },
  {
   "cell_type": "code",
   "execution_count": 9,
   "id": "a25ca471-3cc0-4524-aa3f-e3a449bca9de",
   "metadata": {},
   "outputs": [
    {
     "data": {
      "text/html": [
       "<div>\n",
       "<style scoped>\n",
       "    .dataframe tbody tr th:only-of-type {\n",
       "        vertical-align: middle;\n",
       "    }\n",
       "\n",
       "    .dataframe tbody tr th {\n",
       "        vertical-align: top;\n",
       "    }\n",
       "\n",
       "    .dataframe thead th {\n",
       "        text-align: right;\n",
       "    }\n",
       "</style>\n",
       "<table border=\"1\" class=\"dataframe\">\n",
       "  <thead>\n",
       "    <tr style=\"text-align: right;\">\n",
       "      <th></th>\n",
       "      <th>Text</th>\n",
       "      <th>Author</th>\n",
       "      <th>Before or after</th>\n",
       "      <th>Source</th>\n",
       "    </tr>\n",
       "  </thead>\n",
       "  <tbody>\n",
       "    <tr>\n",
       "      <th>0</th>\n",
       "      <td>СОЛДАТСКАЯ ПРОЩАЛЬНАЯ\\n \\n Во сне а будто бы в...</td>\n",
       "      <td>АЛЕКСАНДР АМЧИСЛАВСКИЙ</td>\n",
       "      <td>After</td>\n",
       "      <td>No War Poetry</td>\n",
       "    </tr>\n",
       "    <tr>\n",
       "      <th>1</th>\n",
       "      <td>Серый лёд ни капли света\\n грязная вода\\n отра...</td>\n",
       "      <td>АЛЕКСАНДР АМЧИСЛАВСКИЙ</td>\n",
       "      <td>After</td>\n",
       "      <td>No War Poetry</td>\n",
       "    </tr>\n",
       "    <tr>\n",
       "      <th>2</th>\n",
       "      <td>Боишься, мальчик, сравнивать свой дом\\n с моги...</td>\n",
       "      <td>АЛЕКСАНДР АМЧИСЛАВСКИЙ</td>\n",
       "      <td>After</td>\n",
       "      <td>No War Poetry</td>\n",
       "    </tr>\n",
       "    <tr>\n",
       "      <th>3</th>\n",
       "      <td>Нас тьмы и тьмы. И чёрная зима\\n лежит раскину...</td>\n",
       "      <td>АЛЕКСАНДР АМЧИСЛАВСКИЙ</td>\n",
       "      <td>After</td>\n",
       "      <td>No War Poetry</td>\n",
       "    </tr>\n",
       "    <tr>\n",
       "      <th>4</th>\n",
       "      <td>они не знали что их завтра ждет\\n война ползла...</td>\n",
       "      <td>АНАСТАСИЯ АНДРЕЕВА</td>\n",
       "      <td>After</td>\n",
       "      <td>No War Poetry</td>\n",
       "    </tr>\n",
       "  </tbody>\n",
       "</table>\n",
       "</div>"
      ],
      "text/plain": [
       "                                                Text                  Author  \\\n",
       "0  СОЛДАТСКАЯ ПРОЩАЛЬНАЯ\\n \\n Во сне а будто бы в...  АЛЕКСАНДР АМЧИСЛАВСКИЙ   \n",
       "1  Серый лёд ни капли света\\n грязная вода\\n отра...  АЛЕКСАНДР АМЧИСЛАВСКИЙ   \n",
       "2  Боишься, мальчик, сравнивать свой дом\\n с моги...  АЛЕКСАНДР АМЧИСЛАВСКИЙ   \n",
       "3  Нас тьмы и тьмы. И чёрная зима\\n лежит раскину...  АЛЕКСАНДР АМЧИСЛАВСКИЙ   \n",
       "4  они не знали что их завтра ждет\\n война ползла...      АНАСТАСИЯ АНДРЕЕВА   \n",
       "\n",
       "  Before or after         Source  \n",
       "0           After  No War Poetry  \n",
       "1           After  No War Poetry  \n",
       "2           After  No War Poetry  \n",
       "3           After  No War Poetry  \n",
       "4           After  No War Poetry  "
      ]
     },
     "execution_count": 9,
     "metadata": {},
     "output_type": "execute_result"
    }
   ],
   "source": [
    "npwDf = npwDf[['Text','Author','Before or after']]\n",
    "npwDf['Source'] = 'No War Poetry'\n",
    "npwDf.head()"
   ]
  },
  {
   "cell_type": "code",
   "execution_count": 10,
   "id": "0d578794-1e89-47c8-a12f-e6e6fcaae6e7",
   "metadata": {},
   "outputs": [
    {
     "name": "stdout",
     "output_type": "stream",
     "text": [
      "length df 2158\n"
     ]
    },
    {
     "data": {
      "text/html": [
       "<div>\n",
       "<style scoped>\n",
       "    .dataframe tbody tr th:only-of-type {\n",
       "        vertical-align: middle;\n",
       "    }\n",
       "\n",
       "    .dataframe tbody tr th {\n",
       "        vertical-align: top;\n",
       "    }\n",
       "\n",
       "    .dataframe thead th {\n",
       "        text-align: right;\n",
       "    }\n",
       "</style>\n",
       "<table border=\"1\" class=\"dataframe\">\n",
       "  <thead>\n",
       "    <tr style=\"text-align: right;\">\n",
       "      <th></th>\n",
       "      <th>Text</th>\n",
       "      <th>Author</th>\n",
       "      <th>Before or after</th>\n",
       "      <th>Source</th>\n",
       "    </tr>\n",
       "  </thead>\n",
       "  <tbody>\n",
       "    <tr>\n",
       "      <th>0</th>\n",
       "      <td>Стихи о постсоветском человеке\\n\\n1.\\nДесять з...</td>\n",
       "      <td>Александр Бараш</td>\n",
       "      <td>After</td>\n",
       "      <td>ROAR</td>\n",
       "    </tr>\n",
       "    <tr>\n",
       "      <th>1</th>\n",
       "      <td>2.\\nПо капле выдавливать из себя \\nсоветского ...</td>\n",
       "      <td>Александр Бараш</td>\n",
       "      <td>After</td>\n",
       "      <td>ROAR</td>\n",
       "    </tr>\n",
       "    <tr>\n",
       "      <th>2</th>\n",
       "      <td>Дети\\n\\nСто шесть человек прибыли, тридцать че...</td>\n",
       "      <td>Александр Ланин</td>\n",
       "      <td>After</td>\n",
       "      <td>ROAR</td>\n",
       "    </tr>\n",
       "    <tr>\n",
       "      <th>3</th>\n",
       "      <td>Развод\\n\\nОднажды моя любимая дала пощёчину ре...</td>\n",
       "      <td>Александр Ланин</td>\n",
       "      <td>After</td>\n",
       "      <td>ROAR</td>\n",
       "    </tr>\n",
       "    <tr>\n",
       "      <th>4</th>\n",
       "      <td>Круциатус\\n\\nНевилл Лонгботтом стоит и смотрит...</td>\n",
       "      <td>Александр Ланин</td>\n",
       "      <td>After</td>\n",
       "      <td>ROAR</td>\n",
       "    </tr>\n",
       "  </tbody>\n",
       "</table>\n",
       "</div>"
      ],
      "text/plain": [
       "                                                Text           Author  \\\n",
       "0  Стихи о постсоветском человеке\\n\\n1.\\nДесять з...  Александр Бараш   \n",
       "1  2.\\nПо капле выдавливать из себя \\nсоветского ...  Александр Бараш   \n",
       "2  Дети\\n\\nСто шесть человек прибыли, тридцать че...  Александр Ланин   \n",
       "3  Развод\\n\\nОднажды моя любимая дала пощёчину ре...  Александр Ланин   \n",
       "4  Круциатус\\n\\nНевилл Лонгботтом стоит и смотрит...  Александр Ланин   \n",
       "\n",
       "  Before or after Source  \n",
       "0           After   ROAR  \n",
       "1           After   ROAR  \n",
       "2           After   ROAR  \n",
       "3           After   ROAR  \n",
       "4           After   ROAR  "
      ]
     },
     "execution_count": 10,
     "metadata": {},
     "output_type": "execute_result"
    }
   ],
   "source": [
    "df = pd.concat([roarDf, fbDf, mzDf, npwDf])\n",
    "print('length df',len(df))\n",
    "df.head()"
   ]
  },
  {
   "cell_type": "markdown",
   "id": "cebfb85e-8579-4d1f-a4b2-10ef46d9e3fd",
   "metadata": {},
   "source": [
    "### Which analyses?"
   ]
  },
  {
   "cell_type": "code",
   "execution_count": 11,
   "id": "422802b3-7741-4f16-b090-d7dcc556fa5a",
   "metadata": {},
   "outputs": [],
   "source": [
    "### Fix names"
   ]
  },
  {
   "cell_type": "code",
   "execution_count": 12,
   "id": "9574424a-ff01-4594-a961-dc212bf123ba",
   "metadata": {},
   "outputs": [],
   "source": [
    "def standardizeName(name):\n",
    "    name = name.strip()\n",
    "    if len(name.split(' ')) != 2:\n",
    "        return name\n",
    "    first = name.split(' ')[0]\n",
    "    last = name.split(' ')[1]\n",
    "    first = first[0].upper() + first[1:].lower()\n",
    "    last = last[0].upper() + last[1:].lower()\n",
    "    full = first + ' ' + last\n",
    "    return full"
   ]
  },
  {
   "cell_type": "code",
   "execution_count": 13,
   "id": "b54ea4ba-6563-405d-92cc-c87b66c85ffd",
   "metadata": {},
   "outputs": [],
   "source": [
    "df['Author'] = df['Author'].apply(lambda x : standardizeName(x))"
   ]
  },
  {
   "cell_type": "code",
   "execution_count": 14,
   "id": "0dccc7ba-6513-4f63-8301-351d2b1483fd",
   "metadata": {},
   "outputs": [],
   "source": [
    "### drop NA values\n",
    "df = df.dropna()"
   ]
  },
  {
   "cell_type": "code",
   "execution_count": 19,
   "id": "75028f53-e038-4d74-b1cd-f37c1a82dd29",
   "metadata": {},
   "outputs": [
    {
     "data": {
      "text/plain": [
       "No War Poetry        793\n",
       "metajournal          713\n",
       "ROAR                 356\n",
       "Facebook             228\n",
       "Personal Telegram     66\n",
       "Name: Source, dtype: int64"
      ]
     },
     "execution_count": 19,
     "metadata": {},
     "output_type": "execute_result"
    }
   ],
   "source": [
    "df['Source'].value_counts()"
   ]
  },
  {
   "cell_type": "code",
   "execution_count": 32,
   "id": "7171c100-7198-4220-b53c-b02e9cb8385d",
   "metadata": {},
   "outputs": [],
   "source": [
    "def removeSpace(x):\n",
    "    lines = x.split('\\n')\n",
    "    newLines = []\n",
    "    for line in lines:\n",
    "        if len(line) == 0:\n",
    "            newLines.append(line)\n",
    "        elif line[0] == ' ' and len(line) > 1:\n",
    "            newLines.append(line[1:])\n",
    "        else:\n",
    "            newLines.append(line)\n",
    "    return '\\n'.join(newLines)"
   ]
  },
  {
   "cell_type": "code",
   "execution_count": 33,
   "id": "ad953bd5-9bdf-43fb-ba62-a3dc2a62e7c3",
   "metadata": {},
   "outputs": [
    {
     "name": "stdout",
     "output_type": "stream",
     "text": [
      "Я ЗНАЮ ТО, ЧЕГО ТЫ НЕ ЗНАЕШЬ\n",
      " \n",
      "Лежат рысёнок и зайчик, у них любовь, зайчик обнимает рысёнка. Рысёнку хорошо, мур-мур-мур, и вот зайчик его спрашивает: «Отчего, рысёнок, ты так загадочно улыбаешься, как будто знаешь то, чего я не знаю?» «Я знаю то, чего ты не знаешь, зайчик, - ответил рысёнок, - но не проси меня, я тебе не скажу». «Скажи мне, рысёнок, я тоже хочу это знать», - просит зайчик. «Кое-что я знаю, зайчик, но не проси меня, я тебе не скажу». Тогда зайчик говорит рысёнку: «Если любишь меня, скажи». «Ну ладно, - ответил рысёнок, - если уж ты так этого хочешь, я скажу тебе. Я знаю то, что знают все рыси и не знает ни один зайчик. Я знаю, каковы зайчики на вкус».\n",
      " \n",
      "#выбор_Евгения_Никитина\n"
     ]
    }
   ],
   "source": [
    "txt = ''' Я ЗНАЮ ТО, ЧЕГО ТЫ НЕ ЗНАЕШЬ\n",
    " \n",
    " Лежат рысёнок и зайчик, у них любовь, зайчик обнимает рысёнка. Рысёнку хорошо, мур-мур-мур, и вот зайчик его спрашивает: «Отчего, рысёнок, ты так загадочно улыбаешься, как будто знаешь то, чего я не знаю?» «Я знаю то, чего ты не знаешь, зайчик, - ответил рысёнок, - но не проси меня, я тебе не скажу». «Скажи мне, рысёнок, я тоже хочу это знать», - просит зайчик. «Кое-что я знаю, зайчик, но не проси меня, я тебе не скажу». Тогда зайчик говорит рысёнку: «Если любишь меня, скажи». «Ну ладно, - ответил рысёнок, - если уж ты так этого хочешь, я скажу тебе. Я знаю то, что знают все рыси и не знает ни один зайчик. Я знаю, каковы зайчики на вкус».\n",
    " \n",
    " #выбор_Евгения_Никитина'''\n",
    "\n",
    "print(removeSpace(txt))"
   ]
  },
  {
   "cell_type": "code",
   "execution_count": 35,
   "id": "dcad777d-f5f5-4e4b-b797-6db0d0e1809c",
   "metadata": {},
   "outputs": [],
   "source": [
    "df['Text'] = df['Text'].apply(lambda x : removeSpace(x))"
   ]
  },
  {
   "cell_type": "code",
   "execution_count": 40,
   "id": "abcedddb-bccc-46b2-b026-5bf42fc9f755",
   "metadata": {},
   "outputs": [],
   "source": [
    "df.to_excel('Full_Poem_Dataset_9-22_0.xlsx')"
   ]
  },
  {
   "cell_type": "markdown",
   "id": "ad31e61f-5c33-4e12-bb0a-88d86bd2772b",
   "metadata": {},
   "source": [
    "## Stats on dataset"
   ]
  },
  {
   "cell_type": "code",
   "execution_count": 49,
   "id": "ab5c1c49-d8e1-4bb8-aefa-4396043ef4ff",
   "metadata": {},
   "outputs": [
    {
     "data": {
      "text/plain": [
       "After     1328\n",
       "Before     828\n",
       "Name: Before or after, dtype: int64"
      ]
     },
     "execution_count": 49,
     "metadata": {},
     "output_type": "execute_result"
    }
   ],
   "source": [
    "df['Before or after'].value_counts()"
   ]
  },
  {
   "cell_type": "code",
   "execution_count": 53,
   "id": "7a1248ee-1b73-429e-860d-abd50a259d8a",
   "metadata": {},
   "outputs": [
    {
     "data": {
      "text/plain": [
       "No War Poetry        793\n",
       "ROAR                 327\n",
       "Facebook             113\n",
       "metajournal           84\n",
       "Personal Telegram     11\n",
       "Name: Source, dtype: int64"
      ]
     },
     "execution_count": 53,
     "metadata": {},
     "output_type": "execute_result"
    }
   ],
   "source": [
    "df[df['Before or after'] == 'After']['Source'].value_counts()"
   ]
  },
  {
   "cell_type": "code",
   "execution_count": 54,
   "id": "6f2de8e5-733f-49b9-9481-4f46ff0da303",
   "metadata": {},
   "outputs": [
    {
     "data": {
      "text/plain": [
       "metajournal          629\n",
       "Facebook             115\n",
       "Personal Telegram     55\n",
       "ROAR                  29\n",
       "Name: Source, dtype: int64"
      ]
     },
     "execution_count": 54,
     "metadata": {},
     "output_type": "execute_result"
    }
   ],
   "source": [
    "df[df['Before or after'] == 'Before']['Source'].value_counts()"
   ]
  },
  {
   "cell_type": "code",
   "execution_count": 57,
   "id": "7189a2f9-5dbf-40bb-806b-f922bb895071",
   "metadata": {},
   "outputs": [
    {
     "data": {
      "text/plain": [
       "[{'Text': '* * *\\n молодым писателем-вампиром считается писатель до 400 лет. \\n молодой писатель-вампир намного терпеливей, \\n чем обычный писатель, который требует и вечно куда-то торопится. \\n молодой писатель-вампир, после подачи рукописи \\n в толстый журнал, обычно, переживает пять, \\n а то и десять главредов, пока его издадут.\\n может пройти двести лет, и он робко о себе напомнит. \\n он не переживает, что его не издают \\n и эксмо не платит гонораров, \\n басинский, юзефович и быков не скажут о нём \\n ни слова, плевать. \\n главное для него - это признание в фейсбуке, \\n бережно, он распечатывает каждый лайк, \\n а по ночам навещает всех своих читателей.\\n \\n (Авторский блог)',\n",
       "  'Author': 'Максим Матковский',\n",
       "  'Before or after': 'Before',\n",
       "  'Source': 'metajournal'},\n",
       " {'Text': '***\\n \\n ну\\n вот еще\\n \\n но это\\n еще\\n не все\\n \\n \\n https://www.sreda1.org/n13-a-m-krotkov?fbclid=IwAR1aKaGEuwzKbUhO1vuRpUuG7GdwacjfUhnqnAtMPaxgYM7ZqpReOrBMePY\\n \\n #выбор_ивана_полторацкого',\n",
       "  'Author': 'Александр Макаров-кротков',\n",
       "  'Before or after': 'Before',\n",
       "  'Source': 'metajournal'}]"
      ]
     },
     "execution_count": 57,
     "metadata": {},
     "output_type": "execute_result"
    }
   ],
   "source": [
    "random.sample(df[df['Before or after'] == 'Before'].to_dict('records'),2)"
   ]
  },
  {
   "cell_type": "code",
   "execution_count": 64,
   "id": "9d6ee778-05fd-4596-96e2-763c45886abd",
   "metadata": {},
   "outputs": [],
   "source": [
    "for period in ['Before','After']:\n",
    "    with open(f'{period}_sample_9-23-22.txt','w') as f:\n",
    "        poemList = random.sample(df[df['Before or after'] == period].to_dict('records'),25)\n",
    "        for p in poemList:\n",
    "            f.write(f\"New Poem\\t{p['Author']}\\t{p['Source']}\\n\\n{p['Text']}\\n\\n\\n\\n\")"
   ]
  },
  {
   "cell_type": "markdown",
   "id": "51956b6d-87de-4461-9ed5-4c9b267684cc",
   "metadata": {
    "tags": []
   },
   "source": [
    "## Named entities in the poems"
   ]
  },
  {
   "cell_type": "code",
   "execution_count": 11,
   "id": "8d38c56f-7797-4b90-bb64-c7863c1d473a",
   "metadata": {},
   "outputs": [
    {
     "name": "stdout",
     "output_type": "stream",
     "text": [
      "CPU times: user 1min 2s, sys: 2.07 s, total: 1min 4s\n",
      "Wall time: 1min 9s\n"
     ]
    }
   ],
   "source": [
    "%%time\n",
    "records = df.to_dict('records')\n",
    "\n",
    "NERcounter = dict()\n",
    "for rec in records:\n",
    "    lines = rec['Text'].split('\\n')\n",
    "    for txt in lines:\n",
    "        doc = nlp(txt)\n",
    "        for ent in doc.ents:\n",
    "            lemma = ent.lemma_\n",
    "            entType = ent.label_\n",
    "            NERcounter.setdefault(entType, dict())\n",
    "            NERcounter[entType].setdefault(lemma, 0)\n",
    "            NERcounter[entType][lemma] += 1\n",
    "            \n",
    "lst = []\n",
    "for key in NERcounter['LOC']:\n",
    "    lst.append((NERcounter['LOC'][key], key))\n",
    "sortedlst = sorted(lst, reverse=True)\n",
    "sortedlst[:20]"
   ]
  },
  {
   "cell_type": "markdown",
   "id": "30d6503c-2fda-4794-9da7-b4c7fb939a09",
   "metadata": {
    "jp-MarkdownHeadingCollapsed": true,
    "tags": []
   },
   "source": [
    "## Parsing records"
   ]
  },
  {
   "cell_type": "code",
   "execution_count": 101,
   "id": "4a23952c-57fe-46aa-a8cf-ec90ec018045",
   "metadata": {},
   "outputs": [
    {
     "name": "stdout",
     "output_type": "stream",
     "text": [
      "CPU times: user 1min 6s, sys: 3.22 s, total: 1min 9s\n",
      "Wall time: 1min 19s\n"
     ]
    }
   ],
   "source": [
    "%%time\n",
    "for rec in records:\n",
    "    lines = rec['Text'].split('\\n')\n",
    "    tokens = []\n",
    "    rec['Entities'] = []\n",
    "    rec['Docs'] = []\n",
    "    for txt in lines:\n",
    "        doc = nlp(txt)\n",
    "        for ent in doc.ents:\n",
    "            rec['Entities'].append(ent)\n",
    "        rec['Docs'].append(doc)"
   ]
  },
  {
   "cell_type": "markdown",
   "id": "1ded42f6-cf58-4f7a-81d8-7ed3c2e23898",
   "metadata": {
    "jp-MarkdownHeadingCollapsed": true,
    "tags": []
   },
   "source": [
    "## Searching for long N-gram repetitions"
   ]
  },
  {
   "cell_type": "code",
   "execution_count": 98,
   "id": "cb01e4c6-fd2a-4f3f-a36e-2b29b9d465d7",
   "metadata": {},
   "outputs": [
    {
     "name": "stdout",
     "output_type": "stream",
     "text": [
      "CPU times: user 3min 15s, sys: 10.2 s, total: 3min 25s\n",
      "Wall time: 4min 18s\n"
     ]
    }
   ],
   "source": [
    "%%time\n",
    "\n",
    "ngramCounter = dict()\n",
    "for n in [3,4,5]:\n",
    "    for rec in records:\n",
    "        lines = rec['Text'].split('\\n')\n",
    "        tokens = []\n",
    "        for txt in lines:\n",
    "            doc = nlp(txt)\n",
    "            for token in doc:\n",
    "                tokens.append(token)\n",
    "        for i in range(len(tokens)-n+1):\n",
    "            span = tuple([t.text for t in tokens[i:i+n]])\n",
    "            ngramCounter.setdefault(span, {'count' : 0, 'poems' : []})\n",
    "            ngramCounter[span]['count']+= 1\n",
    "            ngramCounter[span]['poems'].append(rec['Text'])"
   ]
  },
  {
   "cell_type": "code",
   "execution_count": 99,
   "id": "f9b25fe5-b894-413b-b812-ae39ad324a5a",
   "metadata": {},
   "outputs": [],
   "source": [
    "lst = []\n",
    "for span in ngramCounter:\n",
    "    lst.append((ngramCounter[span]['count'],span))\n",
    "sortedlst = sorted(lst, reverse=True)"
   ]
  },
  {
   "cell_type": "markdown",
   "id": "4282e4cd-8fc5-441e-b30f-b975af163312",
   "metadata": {},
   "source": [
    "### Orthographic stats"
   ]
  },
  {
   "cell_type": "code",
   "execution_count": 69,
   "id": "bac3ae54-b050-4e59-a594-d04aa7f509be",
   "metadata": {
    "tags": []
   },
   "outputs": [],
   "source": [
    "# word count\n",
    "\n",
    "wordCts = dict()\n",
    "lineCts = dict()\n",
    "lineLengths = dict()\n",
    "wordLengths = dict()\n",
    "\n",
    "for rec in records:\n",
    "    lines = rec['Text'].split('\\n')\n",
    "    boa = rec['Before or after']\n",
    "    \n",
    "    wordCts.setdefault(boa, [])\n",
    "    wordLengths.setdefault(boa, [])\n",
    "    lineCts.setdefault(boa, [])\n",
    "    lineLengths.setdefault(boa, [])\n",
    "    \n",
    "    wordCt = 0\n",
    "    for doc in rec['Docs']:\n",
    "        for token in doc:\n",
    "            wordCt += 1\n",
    "            wordLengths[boa].append(len(token))\n",
    "        lineLengths[boa].append(len(doc))\n",
    "    lineCts[boa].append(len(rec['Docs']))\n",
    "    wordCts[boa].append(wordCt)"
   ]
  },
  {
   "cell_type": "markdown",
   "id": "007d2335-bfbf-408a-b8cf-5d528178f7c4",
   "metadata": {
    "jp-MarkdownHeadingCollapsed": true,
    "tags": []
   },
   "source": [
    "## Word co-occurrence"
   ]
  },
  {
   "cell_type": "code",
   "execution_count": null,
   "id": "9fae346d-4de6-483f-a5fd-f0321d484791",
   "metadata": {},
   "outputs": [],
   "source": [
    "keywords = 'язык русский россисский украинский страна граница '"
   ]
  },
  {
   "cell_type": "markdown",
   "id": "ea376930-36dc-48e9-8584-0f570739e6ac",
   "metadata": {
    "tags": []
   },
   "source": [
    "## Embeddings and tokenizer"
   ]
  },
  {
   "cell_type": "code",
   "execution_count": 9,
   "id": "39aa6119-dec3-436a-b9d1-b4e01f162242",
   "metadata": {},
   "outputs": [],
   "source": [
    "import stopwordsiso as stopwords\n",
    "import string\n",
    "# russian, ukrainian, and english\n",
    "iso_stopwords = list(stopwords.stopwords([\"ru\",\"uk\",\"en\"]))\n",
    "ukstops = ['а', 'аби', 'абиде', 'абиким', 'абикого', 'абиколи', 'абикому', 'абикуди', 'абихто', 'абичий', 'абичийого', 'абичийому', 'абичим', 'абичию', 'абичия', 'абичиє', 'абичиєму', 'абичиєю', 'абичиєї', 'абичиї', 'абичиїй', 'абичиїм', 'абичиїми', 'абичиїх', 'абичого', 'абичому', 'абищо', 'абияка', 'абияке', 'абиякий', 'абияким', 'абиякими', 'абияких', 'абиякого', 'абиякому', 'абиякою', 'абиякої', 'абияку', 'абиякі', 'абиякій', 'абиякім', 'або', 'абощо', 'авжеж', 'авось', 'ага', 'ад', 'адже', 'аж', 'ажень', 'аз', 'ай', 'але', 'ало', 'амінь', 'ант', 'ану', 'ані', 'аніде', 'аніж', 'анізащо', 'аніким', 'анікого', 'анікогісінько', 'аніколи', 'анікому', 'аніскільки', 'аніхто', 'анічим', 'анічого', 'анічогісінько', 'анічому', 'аніщо', 'аніяка', 'аніяке', 'аніякий', 'аніяким', 'аніякими', 'аніяких', 'аніякого', 'аніякому', 'аніякою', 'аніякої', 'аніяку', 'аніякі', 'аніякій', 'аніякім', 'аніякісенька', 'аніякісеньке', 'аніякісенький', 'аніякісеньким', 'аніякісенькими', 'аніякісеньких', 'аніякісенького', 'аніякісенькому', 'аніякісенькою', 'аніякісенької', 'аніякісеньку', 'аніякісенькі', 'аніякісенькій', 'аніякісенькім', 'аніякісінька', 'аніякісіньке', 'аніякісінький', 'аніякісіньким', 'аніякісінькими', 'аніякісіньких', 'аніякісінького', 'аніякісінькому', 'аніякісінькою', 'аніякісінької', 'аніякісіньку', 'аніякісінькі', 'аніякісінькій', 'аніякісінькім', 'ат', 'ато', 'атож', 'ау', 'ах', 'ач', 'ачей', 'аякже', 'б', 'ба', 'багато', 'багатьма', 'багатьом', 'багатьох', 'баз', 'бай', 'бат', 'бах', 'бац', 'баш', 'бе', 'беж', 'без', 'безперервно', 'бел', 'бер', 'би', 'бир', 'бич', 'близько', 'близько від', 'бо', 'бов', 'бод', 'бодай', 'боз', 'бош', 'був', 'буває', 'буде', 'будем', 'будемо', 'будете', 'будеш', 'буду', 'будуть', 'будь', 'будь ласка', 'будьмо', 'будьте', 'була', 'були', 'було', 'бути', 'бух', 'буц', 'буцім', 'буцімто', 'бі', 'біб', 'більш', 'більше', 'біля', 'в', 'в бік', 'в залежності від', 'в міру', 'в напрямі до', 'в порівнянні з', 'в процесі', 'в результаті', 'в ролі', 'в силу', 'в сторону', 'в супроводі', 'в ході', \"в ім'я\", 'в інтересах', 'вад', 'важлива', 'важливе', 'важливий', 'важливі', 'вак', 'вам', 'вами', 'ван', 'вас', 'ват', 'ваш', 'ваша', 'ваше', 'вашим', 'вашими', 'ваших', 'вашого', 'вашому', 'вашою', 'вашої', 'вашу', 'ваші', 'вашій', 'вашім', 'ввесь', 'вві', 'вгору', 'вдалині', 'вед', 'верх', 'весь', 'вех', 'вже', 'вздовж', 'ви', 'виз', 'вис', 'височині', 'вище ', 'вйо', 'власне', 'властиво', 'вміти', 'внаслідок', 'вниз', 'внизу', 'во', 'вон', 'вона', 'вони', 'воно', 'восьмий', 'вперед', 'вподовж', 'впоперек', 'впритиск', 'впритул', 'впродовж', 'впрост', 'все', 'всередині', 'всею', 'вслід', 'всупереч', 'всього', 'всьому', 'всю', 'всюди', 'вся', 'всяк', 'всяка', 'всяке', 'всякий', 'всяким', 'всякими', 'всяких', 'всякого', 'всякому', 'всякою', 'всякої', 'всяку', 'всякі', 'всякій', 'всякім', 'всі', 'всій', 'всіляка', 'всіляке', 'всілякий', 'всіляким', 'всілякими', 'всіляких', 'всілякого', 'всілякому', 'всілякою', 'всілякої', 'всіляку', 'всілякі', 'всілякій', 'всілякім', 'всім', 'всіма', 'всіх', 'всією', 'всієї', 'втім', 'ві', 'віг', 'від', 'від імені', 'віддалік від', 'відколи', 'відносно', 'відповідно', 'відповідно до', 'відсотків', 'відтепер', 'відтоді', 'він', 'вісім', 'вісімнадцятий', 'вісімнадцять', 'віт', 'віф', 'віх', 'віц', 'віщо', 'віщось', 'г', 'га', 'гав', 'гаразд', 'ге', 'гез', 'гем', 'геп', 'гет', 'геть', 'гех', 'ги', 'гик', 'гир', 'гич', 'гм', 'го', 'говорив', 'гог', 'гоп', 'гоц', 'гу', 'гуп', 'д', 'да', 'давай', 'давати', 'давно', 'далеко', 'далеко від', 'далі', 'даром', 'два', 'двадцятий', 'двадцять', 'дванадцятий', 'дванадцять', 'двох', 'дві', 'де', \"дев'ятий\", \"дев'ятнадцятий\", \"дев'ятнадцять\", \"дев'ять\", 'дедалі', 'деким', 'декого', 'деколи', 'декому', 'декотра', 'декотре', 'декотрий', 'декотрим', 'декотрими', 'декотрих', 'декотрого', 'декотрому', 'декотрою', 'декотрої', 'декотру', 'декотрі', 'декотрій', 'декотрім', 'декілька', 'декільком', 'декількома', 'декількох', 'декім', 'десь', 'десятий', 'десять', 'дехто', 'дечий', 'дечийого', 'дечийому', 'дечим', 'дечию', 'дечия', 'дечиє', 'дечиєму', 'дечиєю', 'дечиєї', 'дечиї', 'дечиїй', 'дечиїм', 'дечиїми', 'дечиїх', 'дечого', 'дечому', 'дечім', 'дещо', 'деяка', 'деяке', 'деякий', 'деяким', 'деякими', 'деяких', 'деякого', 'деякому', 'деякою', 'деякої', 'деяку', 'деякі', 'деякій', 'деякім', 'деінде', 'для', 'до', 'добре', 'довго', 'довкола', 'довкіл', 'дог', 'доки', 'допоки', 'допіру', 'досить', 'досі', 'дотепер', 'доти', 'другий', 'друго', 'дуже', 'дякую', 'дійсно', 'діл', 'е', 'еге', 'еж', 'ей', 'ерг', 'ест', 'ет', 'ех', 'еч', 'ж', 'же', 'жоден', 'жодна', 'жодне', 'жодний', 'жодним', 'жодними', 'жодних', 'жодного', 'жодному', 'жодною', 'жодної', 'жодну', 'жодні', 'жодній', 'жоднім', 'жоднісінька', 'жоднісіньке', 'жоднісінький', 'жоднісіньким', 'жоднісінькими', 'жоднісіньких', 'жоднісінького', 'жоднісінькому', 'жоднісінькою', 'жоднісінької', 'жоднісіньку', 'жоднісінькі', 'жоднісінькій', 'жоднісінькім', 'жуз', 'з', 'з метою', 'з нагоди', 'з приводу', 'з розрахунку на', 'з-за', 'з-над', 'з-перед', 'з-поза', 'з-поміж', 'з-понад', 'з-поперед', 'з-посеред', 'з-проміж', 'з-під', 'з-серед', 'за', 'за винятком', 'за допомогою', 'за посередництвом', 'за рахунок', 'завгодно', 'завдяки', 'завжди', 'завше', 'задля', 'зазвичай', 'зайнята', 'зайнятий', 'зайнято', 'зайняті', 'залежно', 'залежно від', 'замість', 'занадто', 'заради', 'зараз', 'зас', 'зате', 'збоку', 'збоку від', 'зважаючи на', 'зверх ', 'зверху', 'звичайно', 'звиш', 'звідки', 'звідкилясь', 'звідкись', 'звідкіль', 'звідкіля', 'звідкілясь', 'звідси', 'звідсіль', 'звідсіля', 'звідти', 'звідтіль', 'звідтіля', 'звідусюди', 'звідусіль', 'звідціля', 'згідно з', 'здається', 'здовж', 'зем', 'зет', 'ззаду', 'зиз', 'зик', 'значить', 'знову', 'зо', 'зовсім', 'зсередини', 'зух', 'зі', 'зіс', 'и', 'ич', 'й', 'ймовірно', 'йно', 'йо', 'його', 'йой', 'йол', 'йому', 'йор', 'йот', 'йох', 'к', 'каже', 'каз', 'кар', 'каф', 'ках', 'ке', 'кед', 'кет', 'кеш', 'кив', 'кий', 'кил', 'ким', 'кимось', 'кимсь', 'ких', 'киш', 'коб', 'коби', 'кого', 'когось', 'кожен', 'кожна', 'кожне', 'кожний', 'кожним', 'кожними', 'кожних', 'кожного', 'кожному', 'кожною', 'кожної', 'кожну', 'кожні', 'кожній', 'кожнім', 'кожнісінька', 'кожнісіньке', 'кожнісінький', 'кожнісіньким', 'кожнісінькими', 'кожнісіньких', 'кожнісінького', 'кожнісінькому', 'кожнісінькою', 'кожнісінької', 'кожнісіньку', 'кожнісінькі', 'кожнісінькій', 'кожнісінькім', 'коли', 'колись', 'коло', 'кому', 'комусь', 'котра', 'котрась', 'котре', 'котресь', 'котрий', 'котрийсь', 'котрим', 'котрими', 'котримись', 'котримось', 'котримсь', 'котрих', 'котрихось', 'котрихсь', 'котрого', 'котрогось', 'котрому', 'котромусь', 'котрою', 'котроюсь', 'котрої', 'котроїсь', 'котру', 'котрусь', 'котрі', 'котрій', 'котрійсь', 'котрім', 'котрімсь', 'котрісь', 'коц', 'коч', 'коштом', 'край', 'краще', 'кру', 'круг', 'кругом', 'крю', 'кря', 'крізь', 'крім', 'куди', 'кудись', 'кудою', 'кілька', 'кільком', 'кількома', 'кількох', 'кім', 'кімось', 'кімсь', 'кінець', 'л', 'лаж', 'лап', 'лас', 'лат', 'ле', 'ледве', 'ледь', 'лет', 'лиш', 'лише', 'лишень', 'лум', 'луп', 'лут', 'льє', 'люди', 'людина', 'ля', 'лі', 'ліворуч від', 'лік', 'лім', 'м', 'мабуть', 'майже', 'мало', 'мати', 'мац', 'ме', 'меж', 'мене', 'менше', 'мені', 'мерсі', 'мет', 'мжа', 'ми', 'мимо ', 'миру', 'мит', 'мною', 'мо', 'мов', 'мовби', 'мовбито', 'могла', 'могли', 'могло', 'мого', 'могти', 'мож', 'може', 'можем', 'можемо', 'можете', 'можеш', 'можна', 'можу', 'можуть', 'можіть', 'мой', 'мол', 'мою', 'моя', 'моє', 'моєму', 'моєю', 'моєї', 'мої', 'моїй', 'моїм', 'моїми', 'моїх', 'му', 'мі', 'міг', 'між', 'мій', 'мільйонів', 'н', 'на', 'на адресу', 'на базі', 'на благо', 'на випадок', 'на відміну від', 'на засадах', 'на знак', 'на зразок', 'на користь', 'на кшталт', 'на межі', 'на основі', 'на противагу', 'на підставі', 'на честь', 'на чолі', 'на ґрунті', 'навколо', 'навкруг', 'навкруги ', 'навкіл', 'навпаки', 'навперейми', 'навпроти', 'навіть', 'навіщо', 'навіщось', 'нагорі', 'над', 'надо', 'надовкола', 'надокола', 'наді', 'назавжди', 'назад', 'назустріч', 'най', 'найбільш', 'нам', 'нами', 'наоколо ', 'наокруг ', 'наокруги ', 'наокіл', 'наперед', 'напередодні', 'напереді', 'наперекір', 'напереріз', 'наприкінці', 'напроти', 'нарешті', 'нарівні з', 'нас', 'насеред', 'насподі', 'наспід', 'настрічу', 'насупроти', 'насупротив ', 'нате', 'наче', 'начеб', 'начебто', 'наш', 'наша', 'наше', 'нашим', 'нашими', 'наших', 'нашого', 'нашому', 'нашою', 'нашої', 'нашу', 'наші', 'нашій', 'нашім', 'не', 'не до', 'не можна', 'неабичим', 'неабичого', 'неабичому', 'неабищо', 'небагато', 'небагатьма', 'небагатьом', 'небагатьох', 'небудь', 'невважаючи', 'невже', 'недалеко', 'недалеко від', 'неж', 'незалежно від', 'незважаючи', 'незважаючи на', 'ней', 'немає', 'немов', 'немовби', 'немовбито', 'неначе', 'неначебто', 'неподалеку', 'неподалеку від', 'неподалечку', 'неподалечку від', 'неподалік', 'неподалік від', 'нерідко', 'нех', 'нехай', 'нещодавно', 'нею', 'неї', 'нижче', 'низько', 'ник', 'ним', 'ними', 'них', 'нич', 'но', 'ну', 'нуг', 'нуд', 'нум', 'нумо', 'нумте', 'ньо', 'нього', 'ньому', 'ню', 'нюх', 'ня', 'няв', 'ні', 'ніби', 'ніби-то', 'нібито', 'ніде', 'ніж', 'нізащо', 'нізвідки', 'нізвідкіля', 'ній', 'ніким', 'нікого', 'нікогісінько', 'ніколи', 'нікому', 'нікотра', 'нікотре', 'нікотрий', 'нікотрим', 'нікотрими', 'нікотрих', 'нікотрого', 'нікотрому', 'нікотрою', 'нікотрої', 'нікотру', 'нікотрі', 'нікотрій', 'нікотрім', 'нікуди', 'нім', 'нінащо', 'ніскільки', 'ніт', 'ніхто', 'нічий', 'нічийна', 'нічийне', 'нічийний', 'нічийним', 'нічийними', 'нічийних', 'нічийного', 'нічийному', 'нічийною', 'нічийної', 'нічийну', 'нічийні', 'нічийній', 'нічийнім', 'нічийого', 'нічийому', 'нічим', 'нічию', 'нічия', 'нічиє', 'нічиєму', 'нічиєю', 'нічиєї', 'нічиї', 'нічиїй', 'нічиїм', 'нічиїми', 'нічиїх', 'нічого', 'нічому', 'ніщо', 'ніяк', 'ніяка', 'ніяке', 'ніякий', 'ніяким', 'ніякими', 'ніяких', 'ніякого', 'ніякому', 'ніякою', 'ніякої', 'ніяку', 'ніякі', 'ніякій', 'ніякім', 'ніякісінька', 'ніякісіньке', 'ніякісінький', 'ніякісіньким', 'ніякісінькими', 'ніякісіньких', 'ніякісінького', 'ніякісінькому', 'ніякісінькою', 'ніякісінької', 'ніякісіньку', 'ніякісінькі', 'ніякісінькій', 'ніякісінькім', 'о', 'об', 'обабіч', 'обаполи', 'обидва', 'обр', 'обік', 'обіруч', 'обіч', 'ов', 'од', 'один', 'одинадцятий', 'одинадцять', 'одна', 'однак', 'одначе', 'одне', 'одним', 'одними', 'одних', 'одно', 'одного', 'одного разу', 'одному', 'одною', 'одної', 'одну', 'одні', 'одній', 'однім', 'однією', 'однієї', 'ож', 'ой', 'окрай', 'окроме', 'округ', 'округи', 'окрім', 'окіл', 'ом', 'он', 'онде', 'онно', 'оно', 'оподаль', 'оподаль від', 'оподалік', 'оподалік від', 'опостін', 'опостінь', 'опроче', 'опріч', 'опріче', 'опісля', 'осе', 'оскільки', 'особливо', 'осторонь', 'ось', 'осісьо', 'от', 'ота', 'отак', 'отака', 'отаке', 'отакий', 'отаким', 'отакими', 'отаких', 'отакого', 'отакому', 'отакою', 'отакої', 'отаку', 'отакі', 'отакій', 'отакім', 'отакісінька', 'отакісіньке', 'отакісінький', 'отакісіньким', 'отакісінькими', 'отакісіньких', 'отакісінького', 'отакісінькому', 'отакісінькою', 'отакісінької', 'отакісіньку', 'отакісінькі', 'отакісінькій', 'отакісінькім', 'отам', 'оте', 'отже', 'отим', 'отими', 'отих', 'ото', 'отого', 'отож', 'отой', 'отому', 'отою', 'отої', 'отсе', 'оттак', 'отто', 'оту', 'отут', 'оті', 'отій', 'отім', 'отією', 'отієї', 'ох', 'оце', 'оцей', 'оцим', 'оцими', 'оцих', 'оцього', 'оцьому', 'оцю', 'оця', 'оці', 'оцій', 'оцім', 'оцією', 'оцієї', 'п', \"п'я\", \"п'ятий\", \"п'ятнадцятий\", \"п'ятнадцять\", \"п'ять\", 'па', 'пад', 'пак', 'пек', 'перед', 'передо', 'переді', 'перетака', 'перетаке', 'перетакий', 'перетаким', 'перетакими', 'перетаких', 'перетакого', 'перетакому', 'перетакою', 'перетакої', 'перетаку', 'перетакі', 'перетакій', 'перетакім', 'перший', 'пиж', 'плі', 'по', 'поблизу', 'побік', 'побіля', 'побіч', 'поверх', 'повз', 'повздовж', 'повинно', 'повище', 'повсюди', 'повсюдно', 'подаль від', 'подалі від', 'подекуди', 'подеяка', 'подеяке', 'подеякий', 'подеяким', 'подеякими', 'подеяких', 'подеякого', 'подеякому', 'подеякою', 'подеякої', 'подеяку', 'подеякі', 'подеякій', 'подеякім', 'подовж', 'подібно до', 'поз', 'поза', 'позад', 'позаду', 'позата', 'позате', 'позатим', 'позатими', 'позатих', 'позатого', 'позатой', 'позатому', 'позатою', 'позатої', 'позату', 'позаті', 'позатій', 'позатім', 'позатією', 'позатієї', 'позаяк', 'поздовж', 'поки', 'покрай', 'покіль', 'помежи', 'помимо', 'поміж', 'помість', 'понад', 'понадо', 'понаді', 'понижче', 'пообіч', 'поодаль від', 'поодалік від', 'поперед', 'попереду', 'поперек', 'попліч', 'попри', 'попросту', 'попід', 'пора', 'поруч', 'поряд', 'поряд з', 'порівняно з', 'посеред', 'посередині', 'потрібно', 'потім', 'поуз', 'початку', 'почерез', 'праворуч від', 'пред', 'предо', 'преді', 'прекрасно', 'прецінь', 'при', 'притому', 'причому', 'причім', 'про', 'проз', 'промеж', 'проміж', 'просто', 'проте', 'проти', 'против', 'противно', 'протягом', 'пря', 'пріч', 'пхе', 'пху', 'пі', 'пів', 'півперек', 'під', 'під знаком', 'під приводом', 'під час', 'підо', 'пізніше', 'пім', 'пір', 'після', 'р', 'ради', 'раз', 'разом з', 'разу', 'рано', 'раніш', 'раніш від', 'раніше', 'раніше від', 'раптом', 'ре', 'рет', 'риж', 'рим', 'рип', 'роб', 'року', 'років', 'рос', 'рох', 'році', 'рус', 'рух', 'руч', 'рік', 'с', 'саж', 'саз', 'сак', 'сам', 'сама', 'саме', 'сами', 'самий', 'самим', 'самими', 'самих', 'само', 'самого', 'самому', 'самою', 'самої', 'саму', 'самі', 'самій', 'самім', 'сап', 'сас', 'свого', 'свою', 'своя', 'своє', 'своєму', 'своєю', 'своєї', 'свої', 'своїй', 'своїм', 'своїми', 'своїх', 'свій', 'се', 'себе', 'себто', 'сей', 'сен', 'серед', 'середи', 'середу', 'сеч', 'си', 'сив', 'сиг', 'сиз', 'сик', 'сиріч', 'сих', 'сказав', 'сказала', 'сказати', 'скрізь', 'скільки', 'скільки-то', 'скількись', 'скільком', 'скількома', 'скількомась', 'скількомось', 'скількомсь', 'скількох', 'скількохось', 'скількохсь', 'сли', 'слідом за', 'соб', 'собою', 'собі', 'соп', 'спасибі', 'спереду', 'спочатку', 'справ', 'справді', 'став', 'стосовно', 'стільки', 'стільком', 'стількома', 'стількох', 'су', 'судячи з', 'супроти', 'супротив', 'суть', 'суч', 'суш', 'сьогодні', 'сьомий', 'сюди', 'ся', 'сяг', 'сяк', 'сяка', 'сяке', 'сякий', 'сяким', 'сякими', 'сяких', 'сякого', 'сякому', 'сякою', 'сякої', 'сяку', 'сякі', 'сякій', 'сякім', 'сям', 'сі', 'сім', 'сімнадцятий', 'сімнадцять', 'сіп', 'т', 'та', 'таж', 'так', 'така', 'таке', 'такенна', 'такенне', 'такенний', 'такенним', 'такенними', 'такенних', 'такенного', 'такенному', 'такенною', 'такенної', 'такенну', 'такенні', 'такенній', 'такеннім', 'таки', 'такий', 'таким', 'такими', 'таких', 'такого', 'також', 'такому', 'такою', 'такої', 'таку', 'такі', 'такій', 'такім', 'такісінька', 'такісіньке', 'такісінький', 'такісіньким', 'такісінькими', 'такісіньких', 'такісінького', 'такісінькому', 'такісінькою', 'такісінької', 'такісіньку', 'такісінькі', 'такісінькій', 'такісінькім', 'тал', 'там', 'тамки', 'тамта', 'тамте', 'тамтим', 'тамтими', 'тамтих', 'тамтого', 'тамтой', 'тамтому', 'тамтою', 'тамтої', 'тамту', 'тамті', 'тамтій', 'тамтім', 'тамтією', 'тамтієї', 'тар', 'тат', 'таш', 'тва', 'твого', 'твою', 'твоя', 'твоє', 'твоєму', 'твоєю', 'твоєї', 'твої', 'твоїй', 'твоїм', 'твоїми', 'твоїх', 'твій', 'те', 'тебе', 'тег', 'теж', 'тем', 'тепер', 'теперечки', 'тес', 'теф', 'теє', 'ти', 'тик', 'тил', 'тим', 'тими', 'тисяч', 'тих', 'то', 'тобою', 'тобто', 'тобі', 'того', 'тоді', 'тож', 'той', 'тол', 'тому', 'тому що', 'тот', 'тощо', 'тою', 'тої', 'тра', 'тре', 'треба', 'третій', 'три', 'тринадцятий', 'тринадцять', 'трохи', 'тс', 'тсс', 'ту', 'туди', 'тудою', 'туп', 'тут', 'тутеньки', 'тутечки', 'тутки', 'туф', 'туц', 'тю', 'тюг', 'тюп', 'тяг', 'тяж', 'тям', 'тяп', 'ті', 'тій', 'тільки', 'тім', 'тією', 'у', 'у бік', 'у вигляді', 'у випадку', 'у відповідності до', 'у відповідь на', 'у залежності від', \"у зв'язку з\", 'у міру', 'у напрямі до', 'у порівнянні з', 'у процесі', 'у результаті', 'у ролі', 'у силу', 'у сторону', 'у супроводі', 'у ході', 'ув', 'увесь', 'уві', 'угу', 'уже', 'узбіч', 'уздовж', 'укр', 'ум', 'унаслідок', 'униз', 'унизу', 'унт', 'уперед', 'уподовж', 'упоперек', 'упритиск до', 'упритул до', 'упродовж', 'упрост', 'ус', 'усе', 'усередині', 'услід', 'услід за', 'усупереч', 'усього', 'усьому', 'усю', 'усюди', 'уся', 'усяк', 'усяка', 'усяке', 'усякий', 'усяким', 'усякими', 'усяких', 'усякого', 'усякому', 'усякою', 'усякої', 'усяку', 'усякі', 'усякій', 'усякім', 'усі', 'усій', 'усіляка', 'усіляке', 'усілякий', 'усіляким', 'усілякими', 'усіляких', 'усілякого', 'усілякому', 'усілякою', 'усілякої', 'усіляку', 'усілякі', 'усілякій', 'усілякім', 'усім', 'усіма', 'усіх', 'усією', 'усієї', 'утім', 'ух', 'ф', \"ф'ю\", 'фа', 'фаг', 'фай', 'фат', 'фе', 'фед', 'фез', 'фес', 'фет', 'фзн', 'фоб', 'фот', 'фра', 'фру', 'фу', 'фук', 'фур', 'фус', 'фіш', 'х', 'ха', 'хаз', 'хай', 'хап', 'хат', 'хащ', 'хе', 'хет', 'хи', 'хиб', 'хм', 'хо', 'хов', 'хол', 'хон', 'хоп', 'хор', 'хотіти', 'хоч', 'хоча', 'хочеш', 'хро', 'хрю', 'хто', 'хтось', 'ху', 'хуз', 'хук', 'хух', 'хху', 'хіба', 'ц', 'це', 'цебто', 'цей', 'цеп', 'ци', 'цим', 'цими', 'цир', 'цих', 'цло', 'цоб', 'цок', 'цоп', 'цор', 'цс', 'цсс', 'цуг', 'цур', 'цуц', 'цього', 'цьому', 'цю', 'цюк', 'ця', 'цяв', 'цяп', 'ці', 'цід', 'цій', 'цім', 'ціною', 'цією', 'цієї', 'ч', 'чал', 'чар', 'час', 'часто', 'частіше', 'часу', 'чах', 'чей', 'чень', 'через', 'четвертий', 'чи', 'чий', 'чийого', 'чийогось', 'чийому', 'чийомусь', 'чийсь', 'чик', 'чим', 'чимось', 'чимсь', 'чир', 'численна', 'численне', 'численний', 'численним', 'численними', 'численних', 'численні', 'чию', 'чиюсь', 'чия', 'чиясь', 'чиє', 'чиєму', 'чиємусь', 'чиєсь', 'чиєю', 'чиєюсь', 'чиєї', 'чиєїсь', 'чиї', 'чиїй', 'чиїйсь', 'чиїм', 'чиїми', 'чиїмись', 'чиїмось', 'чиїмсь', 'чиїсь', 'чиїх', 'чиїхось', 'чиїхсь', 'чля', 'чого', 'чогось', 'чом', 'чому', 'чомусь', 'чон', 'чоп', 'чортзна', 'чос', 'чотири', 'чотирнадцятий', 'чотирнадцять', 'чу', 'чум', 'чур', 'чш', 'чім', 'чімось', 'чімсь', 'чіт', 'ш', 'ша', 'шаг', 'шал', 'шам', 'шво', 'шед', 'шен', 'шиз', 'шир', 'шляхом', 'шостий', 'шістнадцятий', 'шістнадцять', 'шість', 'щ', 'ще', 'щем', 'щеп', 'щип', 'щир', 'що', 'щоб', 'щоби', 'щодо', 'щойно', 'щоправда', 'щось', 'щі', 'ь', 'ю', 'юз', 'юн', 'юнь', 'юс', 'ют', 'юхт', 'я', 'яв', 'яд', 'яз', 'язь', 'як', 'яка', 'якась', 'якби', 'яке', 'якесь', 'який', 'якийсь', 'яким', 'якими', 'якимись', 'якимось', 'якимсь', 'яких', 'якихось', 'якихсь', 'якого', 'якогось', 'якому', 'якомусь', 'якось', 'якою', 'якоюсь', 'якої', 'якоїсь', 'якраз', 'яку', 'якусь', 'якщо', 'які', 'якій', 'якійсь', 'якім', 'якімсь', 'якісь', 'ял', 'ям', 'ян', 'янь', 'яо', 'яп', 'ярл', 'ясь', 'ять', 'є', 'єр', 'єси', 'і', 'ібн', 'ід', 'із', 'із-за', 'із-під', 'іззаду', 'ізм', 'ізсередини', 'ік', 'ікс', 'ікт', \"ім'я\", 'імовірно', 'інакша', 'інакше', 'інакший', 'інакшим', 'інакшими', 'інакших', 'інакшого', 'інакшому', 'інакшою', 'інакшої', 'інакшу', 'інакші', 'інакшій', 'інакшім', 'інколи', 'іноді', 'інша', 'інше', 'інший', 'іншим', 'іншими', 'інших', 'іншого', 'іншому', 'іншою', 'іншої', 'іншу', 'інші', 'іншій', 'іншім', 'інь', 'іч', 'іще', 'ї', 'їдь', 'їй', 'їм', 'їх', 'їхнього', 'їхньому', 'їхньою', 'їхньої', 'їхню', 'їхня', 'їхнє', 'їхні', 'їхній', 'їхнім', 'їхніми', 'їхніх', 'її', 'ґ']\n",
    "all_stops = iso_stopwords + ukstops\n",
    "stops_and_punct = list(string.punctuation) + all_stops"
   ]
  },
  {
   "cell_type": "code",
   "execution_count": 10,
   "id": "93df45ea-728c-4102-8052-8830ae455c1d",
   "metadata": {},
   "outputs": [],
   "source": [
    "def poemTokenizer(poem):\n",
    "    lines = poem.split('\\n')\n",
    "    tokens = []\n",
    "    for line in lines:\n",
    "        doc = nlp(line)\n",
    "        for token in doc:\n",
    "            if token.has_vector and token.text not in stops_and_punct:\n",
    "                tokens.append(token.lemma_)\n",
    "    return tokens"
   ]
  },
  {
   "cell_type": "markdown",
   "id": "5a8fd94a-7c6e-4c35-bebd-61d49254af56",
   "metadata": {},
   "source": [
    "### Convert lines to document vectors"
   ]
  },
  {
   "cell_type": "code",
   "execution_count": 11,
   "id": "e564dc1a-020a-4fd8-bd50-07a1747dd1e0",
   "metadata": {},
   "outputs": [],
   "source": [
    "from sentence_transformers import SentenceTransformer\n",
    "from sklearn.feature_extraction.text import CountVectorizer"
   ]
  },
  {
   "cell_type": "code",
   "execution_count": 12,
   "id": "20c27f32-2019-46b6-a4f7-b656d7389515",
   "metadata": {},
   "outputs": [],
   "source": [
    "# vectorizer_model = CountVectorizer(ngram_range=(1, 1),lowercase=False,tokenizer=tokenizer)\n",
    "# X = vectorizer_model.fit_transform(sample)"
   ]
  },
  {
   "cell_type": "markdown",
   "id": "72687d21-6603-48a7-87a2-fd15c9c5540f",
   "metadata": {},
   "source": [
    "### Document sample"
   ]
  },
  {
   "cell_type": "code",
   "execution_count": 18,
   "id": "8de31d96-44ed-4b8c-b648-d3214bdf5ebd",
   "metadata": {},
   "outputs": [],
   "source": [
    "authorsOfInterest = ['Elena Fanailova','Boris Khersonsky','Dmitry Strotsev']\n",
    "recsOfInterest = [r for r in records if r['Author'] in authorsOfInterest]\n",
    "sample = [r['Text'] for r in recsOfInterest]\n",
    "labels = [authorsOfInterest.index(r['Author']) for r in recsOfInterest]"
   ]
  },
  {
   "cell_type": "code",
   "execution_count": 20,
   "id": "887f4c3b-9215-4367-b71e-fb57cffcc078",
   "metadata": {},
   "outputs": [
    {
     "data": {
      "text/plain": [
       "198"
      ]
     },
     "execution_count": 20,
     "metadata": {},
     "output_type": "execute_result"
    }
   ],
   "source": [
    "len(sample)"
   ]
  },
  {
   "cell_type": "code",
   "execution_count": 15,
   "id": "6d465df9-717c-451b-a812-c5d7cbb8c528",
   "metadata": {},
   "outputs": [
    {
     "data": {
      "application/vnd.jupyter.widget-view+json": {
       "model_id": "deadf10f181548ab82dec3e4a3f3f59f",
       "version_major": 2,
       "version_minor": 0
      },
      "text/plain": [
       "Batches:   0%|          | 0/7 [00:00<?, ?it/s]"
      ]
     },
     "metadata": {},
     "output_type": "display_data"
    },
    {
     "name": "stdout",
     "output_type": "stream",
     "text": [
      "CPU times: user 53.7 s, sys: 5.93 s, total: 59.6 s\n",
      "Wall time: 1min 19s\n"
     ]
    }
   ],
   "source": [
    "%%time\n",
    "\n",
    "sentence_model = SentenceTransformer(\"all-MiniLM-L6-v2\")\n",
    "embeddings = sentence_model.encode(sample, show_progress_bar=True)"
   ]
  },
  {
   "cell_type": "code",
   "execution_count": 16,
   "id": "c035414d-1da0-4896-ad8d-68b6095f9eca",
   "metadata": {},
   "outputs": [
    {
     "data": {
      "text/plain": [
       "(198, 384)"
      ]
     },
     "execution_count": 16,
     "metadata": {},
     "output_type": "execute_result"
    }
   ],
   "source": [
    "embeddings.shape"
   ]
  },
  {
   "cell_type": "markdown",
   "id": "4565a458-df29-43fe-b634-b58eebe026f6",
   "metadata": {},
   "source": [
    "### Crashes every time on TSNE and UMAP"
   ]
  },
  {
   "cell_type": "code",
   "execution_count": 22,
   "id": "06e2a1b9-440c-4af8-ad68-eacd61181263",
   "metadata": {},
   "outputs": [],
   "source": [
    "from sklearn.manifold import TSNE\n",
    "from sklearn.datasets import load_iris\n",
    "from numpy import reshape\n",
    "import seaborn as sns\n",
    "import pandas as pd  "
   ]
  },
  {
   "cell_type": "code",
   "execution_count": null,
   "id": "adbe885e-3fed-4a88-a5d4-e06eb9fed931",
   "metadata": {},
   "outputs": [
    {
     "name": "stdout",
     "output_type": "stream",
     "text": [
      "[t-SNE] Computing 91 nearest neighbors...\n",
      "[t-SNE] Indexed 198 samples in 0.003s...\n",
      "[t-SNE] Computed neighbors for 198 samples in 0.056s...\n",
      "[t-SNE] Computed conditional probabilities for sample 198 / 198\n",
      "[t-SNE] Mean sigma: 0.212411\n"
     ]
    }
   ],
   "source": [
    "tsne = TSNE(n_components=2, verbose=1, random_state=123)\n",
    "z = tsne.fit_transform(embeddings) "
   ]
  },
  {
   "cell_type": "code",
   "execution_count": null,
   "id": "d8638844-b732-4ec2-b365-d40f38c52f4f",
   "metadata": {},
   "outputs": [],
   "source": []
  }
 ],
 "metadata": {
  "kernelspec": {
   "display_name": "Python 3 (ipykernel)",
   "language": "python",
   "name": "python3"
  },
  "language_info": {
   "codemirror_mode": {
    "name": "ipython",
    "version": 3
   },
   "file_extension": ".py",
   "mimetype": "text/x-python",
   "name": "python",
   "nbconvert_exporter": "python",
   "pygments_lexer": "ipython3",
   "version": "3.9.7"
  }
 },
 "nbformat": 4,
 "nbformat_minor": 5
}
